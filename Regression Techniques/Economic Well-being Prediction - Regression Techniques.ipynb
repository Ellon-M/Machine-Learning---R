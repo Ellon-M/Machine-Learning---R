{
    "cells": [
        {
            "cell_type": "markdown",
            "metadata": {},
            "source": [
                "## Economic Wellbeing Prediction - Regression Techniques\n",
                "\n",
                "Predicting the measure of wealth across various regions in Africa\n",
                "\n",
                "\n",
                "## Libraries used\n"
            ]
        },
        {
            "cell_type": "code",
            "execution_count": null,
            "metadata": {},
            "outputs": [],
            "source": [
                "# libraries----\n",
                "library(dplyr)\n",
                "library(caret)\n",
                "library(ggplot2)\n",
                "library(reshape2)\n",
                "library(glmnet)\n",
                "library(MASS)\n",
                "library(leaps)\n"
            ]
        },
        {
            "cell_type": "markdown",
            "metadata": {},
            "source": [
                "\n",
                "## Dataset\n"
            ]
        },
        {
            "cell_type": "code",
            "execution_count": null,
            "metadata": {},
            "outputs": [],
            "source": [
                "econ_wb <- read.csv(\"data/Train.csv\")\n",
                "\n"
            ]
        },
        {
            "cell_type": "markdown",
            "metadata": {},
            "source": [
                "## Conducting hypothesis tests and observing the correlation between different predictor variables\n",
                "\n",
                "\n",
                "An analysis of variance test on the variable country. \n",
                "Looking at its statistical significance\n"
            ]
        },
        {
            "cell_type": "code",
            "execution_count": null,
            "metadata": {},
            "outputs": [],
            "source": [
                "# ANOVA test  - country\n",
                "oneway.test(Target~country, data = econ_wb)\n",
                "\n",
                "ftest_country <- aov(Target~country, data = econ_wb)\n",
                "summary(ftest_country)\n"
            ]
        },
        {
            "cell_type": "markdown",
            "metadata": {},
            "source": [
                "High correlation. High test(f) statistic.\n",
                "p value is less than the significance level. Null hypothesis is rejected. \n",
                "\n",
                "\n",
                "Correlation of the predictor variables\n"
            ]
        },
        {
            "cell_type": "code",
            "execution_count": null,
            "metadata": {},
            "outputs": [],
            "source": [
                "# correlation - rest\n",
                "cor_econ <- econ_wb[, c(5:19)]\n",
                "cormat_econ <- round(cor(cor_econ),3)\n",
                "cormat_econ_df <- as.data.frame(cormat_econ)\n",
                "cormat_econ_df\n"
            ]
        },
        {
            "cell_type": "markdown",
            "metadata": {},
            "source": [
                "Plot\n",
                "\n"
            ]
        },
        {
            "cell_type": "code",
            "execution_count": null,
            "metadata": {},
            "outputs": [],
            "source": [
                "cor_t <- cormat_econ_df[, c(1,15)]\n",
                "\n",
                "\n",
                "melt_cormat_econ <- melt(cormat_econ)\n",
                "\n",
                "ggplot(melt_cormat_econ, aes(x=Var1, y=Var2, fill=value))+\n",
                "  geom_tile()\n"
            ]
        },
        {
            "cell_type": "markdown",
            "metadata": {},
            "source": [
                "Changing data types to factor. Changing binary level variable to numbers 1 and 0.\n",
                "\n"
            ]
        },
        {
            "cell_type": "code",
            "execution_count": null,
            "metadata": {},
            "outputs": [],
            "source": [
                "econ_wb$country <- as.factor(econ_wb$country)\n",
                "econ_wb$urban_or_rural <- ifelse(econ_wb$urban_or_rural == \"U\", 1, 0)\n",
                "econ_wb$urban_or_rural <- as.factor(econ_wb$urban_or_rural)\n",
                "econ_wb$year <- as.factor(econ_wb$year)\n"
            ]
        },
        {
            "cell_type": "markdown",
            "metadata": {},
            "source": [
                "Drop ID column\n",
                "\n"
            ]
        },
        {
            "cell_type": "code",
            "execution_count": null,
            "metadata": {},
            "outputs": [],
            "source": [
                "ec_data <- econ_wb[,-1]\n",
                "colnames(ec_data)\n"
            ]
        },
        {
            "cell_type": "markdown",
            "metadata": {},
            "source": [
                "Train-test split\n",
                "\n"
            ]
        },
        {
            "cell_type": "code",
            "execution_count": null,
            "metadata": {},
            "outputs": [],
            "source": [
                "random <- sample(1:nrow(ec_data))\n",
                "ec_data <- ec_data[random,]\n",
                "\n",
                "split <- c(1: (nrow(ec_data) * 0.7)) \n",
                "train <- ec_data[split,]\n",
                "test <- ec_data[-split,]\n"
            ]
        },
        {
            "cell_type": "markdown",
            "metadata": {},
            "source": [
                "## Data pre-processing\n",
                "\n",
                "Dummy variables\n"
            ]
        },
        {
            "cell_type": "code",
            "execution_count": null,
            "metadata": {},
            "outputs": [],
            "source": [
                "dmy <- dummyVars(\"~.\", data = train)\n",
                "train_dmy <- data.frame(predict(dmy, newdata = train))\n",
                "\n",
                "colnames(train_dmy)\n"
            ]
        },
        {
            "cell_type": "markdown",
            "metadata": {},
            "source": [
                "Dropping unneeded columns\n",
                "\n"
            ]
        },
        {
            "cell_type": "code",
            "execution_count": null,
            "metadata": {},
            "outputs": [],
            "source": [
                "train_dmy <- train_dmy[, -c(19:21,24,25,29)]\n",
                "train_dmy <- train_dmy[, -c(1:18)]\n",
                "colnames(train_dmy)\n"
            ]
        },
        {
            "cell_type": "markdown",
            "metadata": {},
            "source": [
                "Same thing- but for the test data\n",
                "\n"
            ]
        },
        {
            "cell_type": "code",
            "execution_count": null,
            "metadata": {},
            "outputs": [],
            "source": [
                "dmy <- dummyVars(\"~.\", data = test)\n",
                "test_dmy <- data.frame(predict(dmy, newdata = test))\n",
                "\n",
                "\n",
                "test_dmy <- test_dmy[, -c(19:21,24,25,29)]\n",
                "test_dmy <- test_dmy[, -c(1:18)]\n",
                "\n",
                "colnames(test_dmy)\n"
            ]
        },
        {
            "cell_type": "markdown",
            "metadata": {},
            "source": [
                "## Regression models\n",
                "\n",
                "## Polynomial\n",
                "\n",
                "First fit:\n"
            ]
        },
        {
            "cell_type": "code",
            "execution_count": null,
            "metadata": {},
            "outputs": [],
            "source": [
                "pm1 <- lm(Target ~ poly(landcover_urban_fraction, 3) + poly(nighttime_lights, 3) + poly(ghsl_pop_density, 3) + poly(ghsl_built_1975_to_1990, 3) +  poly(ghsl_built_pre_1975, 3) +  poly(ghsl_built_2000_to_2014, 3) +  poly(ghsl_built_1990_to_2000, 3) +  poly(ghsl_not_built_up, 3) + poly(landcover_crops_fraction, 3) + poly(dist_to_shoreline, 3) + year.1998 + year.1999 + year.2005 + year.2006 + year.2007 + year.2010 + year.2011 + year.2012 + year.2013 + year.2014 + year.2015 + year.2016 + urban_or_rural.0 + urban_or_rural.1 , data = train_dmy)\n",
                "summary(pm1)\n"
            ]
        },
        {
            "cell_type": "markdown",
            "metadata": {},
            "source": [
                "Second fit- after altering some of the coefficients that were not statistically significant in the first\n",
                "\n"
            ]
        },
        {
            "cell_type": "code",
            "execution_count": null,
            "metadata": {},
            "outputs": [],
            "source": [
                "pm2 <- lm(Target ~ poly(landcover_urban_fraction, 3) + poly(nighttime_lights, 3) + poly(ghsl_pop_density, 3) + poly(ghsl_built_1975_to_1990, 2) +  poly(ghsl_built_pre_1975, 1) + poly(ghsl_built_2000_to_2014, 3) +  poly(ghsl_not_built_up, 2) + poly(dist_to_shoreline, 1) +  poly(ghsl_built_1990_to_2000, 1) + year.1998 + year.1999 + year.2005 + year.2006 + year.2007 + year.2010 + year.2011 + year.2012 + year.2013 + year.2014 + year.2015 + year.2016 + urban_or_rural.0 + urban_or_rural.1, data = train_dmy)\n",
                "summary(pm2)\n"
            ]
        },
        {
            "cell_type": "markdown",
            "metadata": {},
            "source": [
                "Not much of a difference is observed\n",
                "\n",
                "\n",
                "## Linear\n"
            ]
        },
        {
            "cell_type": "code",
            "execution_count": null,
            "metadata": {},
            "outputs": [],
            "source": [
                "lm1 <- lm(Target ~ . , data = train_dmy)\n",
                "summary(lm1)\n"
            ]
        },
        {
            "cell_type": "markdown",
            "metadata": {},
            "source": [
                "The polynomial model is a better fit compared to the linear as per the adjusted r-squared values\n",
                "\n",
                "\n",
                "## Ridge \n",
                "\n",
                "\n",
                "Looking at the optimal lambda value\n"
            ]
        },
        {
            "cell_type": "code",
            "execution_count": null,
            "metadata": {},
            "outputs": [],
            "source": [
                "ridge_cv <- cv.glmnet(as.matrix(train_dmy[,-30]), train$Target, alpha = 0)\n",
                "ridge_cv$lambda.min\n"
            ]
        },
        {
            "cell_type": "markdown",
            "metadata": {},
            "source": [
                "Fitting the model at the optimal lambda value - observing the coefficients\n",
                "\n"
            ]
        },
        {
            "cell_type": "code",
            "execution_count": null,
            "metadata": {},
            "outputs": [],
            "source": [
                "rm2 <- glmnet(as.matrix(train_dmy[,-30]), train_dmy$Target, alpha = 0, lambda = ridge_cv$lambda.min)\n",
                "coef(rm2)\n"
            ]
        },
        {
            "cell_type": "markdown",
            "metadata": {},
            "source": [
                "Predictions on the test dataset\n",
                "\n"
            ]
        },
        {
            "cell_type": "code",
            "execution_count": null,
            "metadata": {},
            "outputs": [],
            "source": [
                "pred <- predict(rm2, s=ridge_cv$lambda.min, newx=as.matrix(test_dmy[,-30]))\n",
                "\n"
            ]
        },
        {
            "cell_type": "markdown",
            "metadata": {},
            "source": [
                "Calculating R2 and RMSE for the ridge model\n",
                "\n"
            ]
        },
        {
            "cell_type": "code",
            "execution_count": null,
            "metadata": {},
            "outputs": [],
            "source": [
                "R2(pred, test_dmy$Target)\n",
                "RMSE(pred, test_dmy$Target)\n"
            ]
        },
        {
            "cell_type": "markdown",
            "metadata": {},
            "source": [
                "## Lasso\n",
                "\n",
                "Optimal lambda value:\n"
            ]
        },
        {
            "cell_type": "code",
            "execution_count": null,
            "metadata": {},
            "outputs": [],
            "source": [
                "lasso_cv <- cv.glmnet(as.matrix(train_dmy[,-30]), train$Target, alpha = 1)\n",
                "lasso_cv$lambda.min\n"
            ]
        },
        {
            "cell_type": "markdown",
            "metadata": {},
            "source": [
                "Fitting the model at the optimal lambda value - observing the coefficients\n",
                "\n"
            ]
        },
        {
            "cell_type": "code",
            "execution_count": null,
            "metadata": {},
            "outputs": [],
            "source": [
                "lsm1 <-  glmnet(as.matrix(train_dmy[,-30]), train_dmy$Target, alpha = 1, lambda = lasso_cv$lambda.min)\n",
                "coef(lsm1)\n"
            ]
        },
        {
            "cell_type": "markdown",
            "metadata": {},
            "source": [
                "Predictions on the test data\n",
                "\n"
            ]
        },
        {
            "cell_type": "code",
            "execution_count": null,
            "metadata": {},
            "outputs": [],
            "source": [
                "pred2 <- predict(lsm1, s=lasso_cv$lambda.min, newx=as.matrix(test_dmy[,-30]))\n",
                "\n"
            ]
        },
        {
            "cell_type": "markdown",
            "metadata": {},
            "source": [
                "Calculating R2 and RMSE\n",
                "\n"
            ]
        },
        {
            "cell_type": "code",
            "execution_count": null,
            "metadata": {},
            "outputs": [],
            "source": [
                "R2(pred2, test_dmy$Target)\n",
                "RMSE(pred2, test_dmy$Target)\n"
            ]
        },
        {
            "cell_type": "markdown",
            "metadata": {},
            "source": [
                "## Stepwise\n",
                "\n",
                "10 fold cross validation to estimate the average prediction error (RMSE)\n"
            ]
        },
        {
            "cell_type": "code",
            "execution_count": null,
            "metadata": {},
            "outputs": [],
            "source": [
                "train_control <- trainControl(method = \"cv\", number = 10)\n",
                "\n"
            ]
        },
        {
            "cell_type": "markdown",
            "metadata": {},
            "source": [
                "Fitting the model via backward elimination - removing the least significant values in each step\n",
                "Specifying the tuning parameter nvmax, which corresponds to the maximum number of predictors to be incorporated in the model(5)\n",
                "Model automatically chooses the best RMSE value that minimizes the error (lowest)\n"
            ]
        },
        {
            "cell_type": "code",
            "execution_count": null,
            "metadata": {},
            "outputs": [],
            "source": [
                "stm1 <- train(\n",
                "       Target~., data = train_dmy,\n",
                "       method = \"leapBackward\", \n",
                "       tuneGrid = data.frame(nvmax = 1:5),\n",
                "       trControl = train_control\n",
                ")\n"
            ]
        },
        {
            "cell_type": "markdown",
            "metadata": {},
            "source": [
                "Results:\n",
                "\n"
            ]
        },
        {
            "cell_type": "code",
            "execution_count": null,
            "metadata": {},
            "outputs": [],
            "source": [
                "stm1$results\n",
                "stm1$bestTune\n",
                "summary(stm1$finalModel)\n",
                "coef(stm1$finalModel, 5)\n"
            ]
        },
        {
            "cell_type": "markdown",
            "metadata": {},
            "source": [
                "## Elastic Net\n",
                "\n",
                "The caret package automatically selects the best alpha and lambda valuesa as tuning parameters for the model\n",
                "\n",
                "Testing 10 different combinations of alpha and lambda\n"
            ]
        },
        {
            "cell_type": "code",
            "execution_count": null,
            "metadata": {},
            "outputs": [],
            "source": [
                "elm2 <- train(\n",
                "  Target ~., data = train_dmy, method = \"glmnet\",\n",
                "  trControl = trainControl(\"cv\", number = 10),\n",
                "  tuneLength = 10\n",
                ")\n"
            ]
        },
        {
            "cell_type": "markdown",
            "metadata": {},
            "source": [
                "Best tune:\n",
                "\n"
            ]
        },
        {
            "cell_type": "code",
            "execution_count": null,
            "metadata": {},
            "outputs": [],
            "source": [
                "elm2$bestTune\n",
                "\n"
            ]
        },
        {
            "cell_type": "markdown",
            "metadata": {},
            "source": [
                "Coefficients of the best tune:\n",
                "\n"
            ]
        },
        {
            "cell_type": "code",
            "execution_count": null,
            "metadata": {},
            "outputs": [],
            "source": [
                "coef(elm2$finalModel, elm2$bestTune$lambda)\n",
                "\n"
            ]
        },
        {
            "cell_type": "markdown",
            "metadata": {},
            "source": [
                "Predictions on the test data\n",
                "\n"
            ]
        },
        {
            "cell_type": "code",
            "execution_count": null,
            "metadata": {},
            "outputs": [],
            "source": [
                "pred <- elm2 %>% \n",
                "  predict(as.matrix(test_dmy[,-30]))\n"
            ]
        },
        {
            "cell_type": "markdown",
            "metadata": {},
            "source": [
                "Calculating R2 and RMSE\n",
                "\n"
            ]
        },
        {
            "cell_type": "code",
            "execution_count": null,
            "metadata": {},
            "outputs": [],
            "source": [
                "R2(pred, test_dmy$Target)\n",
                "RMSE(pred, test_dmy$Target)\n"
            ]
        },
        {
            "cell_type": "markdown",
            "metadata": {},
            "source": [
                "The R2 and RMSE values for all the regression models fit were almost the same value, with the polynomial model showing the best fit for the data, as per the test data\n",
                "\n",
                "\n",
                "The various models were tested on the validation set, and the polynomial model sit had the best fit, with an RMSE of about 0.1203\n"
            ]
        }
    ],
    "metadata": {
        "anaconda-cloud": "",
        "kernelspec": {
            "display_name": "R",
            "langauge": "R",
            "name": "ir"
        },
        "language_info": {
            "codemirror_mode": "r",
            "file_extension": ".r",
            "mimetype": "text/x-r-source",
            "name": "R",
            "pygments_lexer": "r",
            "version": "3.4.1"
        }
    },
    "nbformat": 4,
    "nbformat_minor": 1
}
