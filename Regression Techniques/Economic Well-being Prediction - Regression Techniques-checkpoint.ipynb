{
 "cells": [
  {
   "cell_type": "markdown",
   "metadata": {},
   "source": [
    "## Economic Wellbeing Prediction - Regression Techniques\n",
    "\n",
    "Predicting the measure of wealth across various regions in Africa\n",
    "\n",
    "\n",
    "## Libraries used\n"
   ]
  },
  {
   "cell_type": "code",
   "execution_count": 32,
   "metadata": {},
   "outputs": [
    {
     "name": "stderr",
     "output_type": "stream",
     "text": [
      "Warning message:\n",
      "\"package 'leaps' is in use and will not be installed\""
     ]
    }
   ],
   "source": [
    "# libraries----\n",
    "library(dplyr)\n",
    "library(caret)\n",
    "library(ggplot2)\n",
    "library(reshape2)\n",
    "library(glmnet)\n",
    "library(MASS)\n",
    "install.packages(\"leaps\")\n",
    "library(leaps)\n"
   ]
  },
  {
   "cell_type": "markdown",
   "metadata": {},
   "source": [
    "\n",
    "## Dataset\n"
   ]
  },
  {
   "cell_type": "code",
   "execution_count": 7,
   "metadata": {},
   "outputs": [],
   "source": [
    "econ_wb <- read.csv(\"C:/Users/morde/Desktop/CDS/data/Train.csv\")\n",
    "\n"
   ]
  },
  {
   "cell_type": "markdown",
   "metadata": {},
   "source": [
    "## Conducting hypothesis tests and observing the correlation between different predictor variables\n",
    "\n",
    "\n",
    "An analysis of variance test on the variable country. \n",
    "Looking at its statistical significance\n"
   ]
  },
  {
   "cell_type": "code",
   "execution_count": 8,
   "metadata": {},
   "outputs": [
    {
     "data": {
      "text/plain": [
       "\n",
       "\tOne-way analysis of means (not assuming equal variances)\n",
       "\n",
       "data:  Target and country\n",
       "F = 268.89, num df = 17.0, denom df = 4561.6, p-value < 2.2e-16\n"
      ]
     },
     "metadata": {},
     "output_type": "display_data"
    },
    {
     "data": {
      "text/plain": [
       "               Df Sum Sq Mean Sq F value Pr(>F)    \n",
       "country        17  135.0   7.941     252 <2e-16 ***\n",
       "Residuals   21436  675.5   0.032                   \n",
       "---\n",
       "Signif. codes:  0 '***' 0.001 '**' 0.01 '*' 0.05 '.' 0.1 ' ' 1"
      ]
     },
     "metadata": {},
     "output_type": "display_data"
    }
   ],
   "source": [
    "# ANOVA test  - country\n",
    "oneway.test(Target~country, data = econ_wb)\n",
    "\n",
    "ftest_country <- aov(Target~country, data = econ_wb)\n",
    "summary(ftest_country)\n"
   ]
  },
  {
   "cell_type": "markdown",
   "metadata": {},
   "source": [
    "High correlation. High test(f) statistic.\n",
    "p value is less than the significance level. Null hypothesis is rejected. \n",
    "\n",
    "\n",
    "Correlation of the predictor variables\n"
   ]
  },
  {
   "cell_type": "code",
   "execution_count": 9,
   "metadata": {},
   "outputs": [
    {
     "data": {
      "text/html": [
       "<table>\n",
       "<thead><tr><th></th><th scope=col>ghsl_water_surface</th><th scope=col>ghsl_built_pre_1975</th><th scope=col>ghsl_built_1975_to_1990</th><th scope=col>ghsl_built_1990_to_2000</th><th scope=col>ghsl_built_2000_to_2014</th><th scope=col>ghsl_not_built_up</th><th scope=col>ghsl_pop_density</th><th scope=col>landcover_crops_fraction</th><th scope=col>landcover_urban_fraction</th><th scope=col>landcover_water_permanent_10km_fraction</th><th scope=col>landcover_water_seasonal_10km_fraction</th><th scope=col>nighttime_lights</th><th scope=col>dist_to_capital</th><th scope=col>dist_to_shoreline</th><th scope=col>Target</th></tr></thead>\n",
       "<tbody>\n",
       "\t<tr><th scope=row>ghsl_water_surface</th><td> 1.000</td><td> 0.193</td><td> 0.119</td><td> 0.043</td><td> 0.043</td><td>-0.551</td><td> 0.131</td><td>-0.214</td><td> 0.260</td><td> 0.590</td><td> 0.206</td><td> 0.154</td><td>-0.028</td><td>-0.156</td><td> 0.183</td></tr>\n",
       "\t<tr><th scope=row>ghsl_built_pre_1975</th><td> 0.193</td><td> 1.000</td><td> 0.458</td><td> 0.421</td><td> 0.232</td><td>-0.798</td><td> 0.799</td><td>-0.323</td><td> 0.778</td><td> 0.016</td><td> 0.048</td><td> 0.754</td><td>-0.116</td><td>-0.243</td><td> 0.450</td></tr>\n",
       "\t<tr><th scope=row>ghsl_built_1975_to_1990</th><td> 0.119</td><td> 0.458</td><td> 1.000</td><td> 0.398</td><td> 0.435</td><td>-0.717</td><td> 0.679</td><td>-0.295</td><td> 0.756</td><td> 0.030</td><td> 0.071</td><td> 0.729</td><td>-0.200</td><td>-0.145</td><td> 0.501</td></tr>\n",
       "\t<tr><th scope=row>ghsl_built_1990_to_2000</th><td> 0.043</td><td> 0.421</td><td> 0.398</td><td> 1.000</td><td> 0.538</td><td>-0.574</td><td> 0.484</td><td>-0.244</td><td> 0.597</td><td> 0.005</td><td> 0.004</td><td> 0.439</td><td>-0.129</td><td>-0.180</td><td> 0.425</td></tr>\n",
       "\t<tr><th scope=row>ghsl_built_2000_to_2014</th><td> 0.043</td><td> 0.232</td><td> 0.435</td><td> 0.538</td><td> 1.000</td><td>-0.511</td><td> 0.397</td><td>-0.221</td><td> 0.565</td><td> 0.001</td><td> 0.018</td><td> 0.361</td><td>-0.176</td><td>-0.090</td><td> 0.429</td></tr>\n",
       "\t<tr><th scope=row>ghsl_not_built_up</th><td>-0.551</td><td>-0.798</td><td>-0.717</td><td>-0.574</td><td>-0.511</td><td> 1.000</td><td>-0.786</td><td> 0.407</td><td>-0.897</td><td>-0.258</td><td>-0.134</td><td>-0.778</td><td> 0.179</td><td> 0.266</td><td>-0.581</td></tr>\n",
       "\t<tr><th scope=row>ghsl_pop_density</th><td> 0.131</td><td> 0.799</td><td> 0.679</td><td> 0.484</td><td> 0.397</td><td>-0.786</td><td> 1.000</td><td>-0.314</td><td> 0.863</td><td> 0.010</td><td> 0.041</td><td> 0.815</td><td>-0.166</td><td>-0.172</td><td> 0.525</td></tr>\n",
       "\t<tr><th scope=row>landcover_crops_fraction</th><td>-0.214</td><td>-0.323</td><td>-0.295</td><td>-0.244</td><td>-0.221</td><td> 0.407</td><td>-0.314</td><td> 1.000</td><td>-0.369</td><td>-0.082</td><td>-0.088</td><td>-0.328</td><td>-0.013</td><td> 0.379</td><td>-0.254</td></tr>\n",
       "\t<tr><th scope=row>landcover_urban_fraction</th><td> 0.260</td><td> 0.778</td><td> 0.756</td><td> 0.597</td><td> 0.565</td><td>-0.897</td><td> 0.863</td><td>-0.369</td><td> 1.000</td><td> 0.020</td><td> 0.060</td><td> 0.835</td><td>-0.208</td><td>-0.244</td><td> 0.667</td></tr>\n",
       "\t<tr><th scope=row>landcover_water_permanent_10km_fraction</th><td> 0.590</td><td> 0.016</td><td> 0.030</td><td> 0.005</td><td> 0.001</td><td>-0.258</td><td> 0.010</td><td>-0.082</td><td> 0.020</td><td> 1.000</td><td> 0.102</td><td> 0.017</td><td> 0.018</td><td> 0.100</td><td> 0.017</td></tr>\n",
       "\t<tr><th scope=row>landcover_water_seasonal_10km_fraction</th><td> 0.206</td><td> 0.048</td><td> 0.071</td><td> 0.004</td><td> 0.018</td><td>-0.134</td><td> 0.041</td><td>-0.088</td><td> 0.060</td><td> 0.102</td><td> 1.000</td><td> 0.055</td><td> 0.068</td><td>-0.014</td><td> 0.066</td></tr>\n",
       "\t<tr><th scope=row>nighttime_lights</th><td> 0.154</td><td> 0.754</td><td> 0.729</td><td> 0.439</td><td> 0.361</td><td>-0.778</td><td> 0.815</td><td>-0.328</td><td> 0.835</td><td> 0.017</td><td> 0.055</td><td> 1.000</td><td>-0.187</td><td>-0.220</td><td> 0.551</td></tr>\n",
       "\t<tr><th scope=row>dist_to_capital</th><td>-0.028</td><td>-0.116</td><td>-0.200</td><td>-0.129</td><td>-0.176</td><td> 0.179</td><td>-0.166</td><td>-0.013</td><td>-0.208</td><td> 0.018</td><td> 0.068</td><td>-0.187</td><td> 1.000</td><td> 0.052</td><td>-0.236</td></tr>\n",
       "\t<tr><th scope=row>dist_to_shoreline</th><td>-0.156</td><td>-0.243</td><td>-0.145</td><td>-0.180</td><td>-0.090</td><td> 0.266</td><td>-0.172</td><td> 0.379</td><td>-0.244</td><td> 0.100</td><td>-0.014</td><td>-0.220</td><td> 0.052</td><td> 1.000</td><td>-0.322</td></tr>\n",
       "\t<tr><th scope=row>Target</th><td> 0.183</td><td> 0.450</td><td> 0.501</td><td> 0.425</td><td> 0.429</td><td>-0.581</td><td> 0.525</td><td>-0.254</td><td> 0.667</td><td> 0.017</td><td> 0.066</td><td> 0.551</td><td>-0.236</td><td>-0.322</td><td> 1.000</td></tr>\n",
       "</tbody>\n",
       "</table>\n"
      ],
      "text/latex": [
       "\\begin{tabular}{r|lllllllllllllll}\n",
       "  & ghsl\\_water\\_surface & ghsl\\_built\\_pre\\_1975 & ghsl\\_built\\_1975\\_to\\_1990 & ghsl\\_built\\_1990\\_to\\_2000 & ghsl\\_built\\_2000\\_to\\_2014 & ghsl\\_not\\_built\\_up & ghsl\\_pop\\_density & landcover\\_crops\\_fraction & landcover\\_urban\\_fraction & landcover\\_water\\_permanent\\_10km\\_fraction & landcover\\_water\\_seasonal\\_10km\\_fraction & nighttime\\_lights & dist\\_to\\_capital & dist\\_to\\_shoreline & Target\\\\\n",
       "\\hline\n",
       "\tghsl\\_water\\_surface &  1.000 &  0.193 &  0.119 &  0.043 &  0.043 & -0.551 &  0.131 & -0.214 &  0.260 &  0.590 &  0.206 &  0.154 & -0.028 & -0.156 &  0.183\\\\\n",
       "\tghsl\\_built\\_pre\\_1975 &  0.193 &  1.000 &  0.458 &  0.421 &  0.232 & -0.798 &  0.799 & -0.323 &  0.778 &  0.016 &  0.048 &  0.754 & -0.116 & -0.243 &  0.450\\\\\n",
       "\tghsl\\_built\\_1975\\_to\\_1990 &  0.119 &  0.458 &  1.000 &  0.398 &  0.435 & -0.717 &  0.679 & -0.295 &  0.756 &  0.030 &  0.071 &  0.729 & -0.200 & -0.145 &  0.501\\\\\n",
       "\tghsl\\_built\\_1990\\_to\\_2000 &  0.043 &  0.421 &  0.398 &  1.000 &  0.538 & -0.574 &  0.484 & -0.244 &  0.597 &  0.005 &  0.004 &  0.439 & -0.129 & -0.180 &  0.425\\\\\n",
       "\tghsl\\_built\\_2000\\_to\\_2014 &  0.043 &  0.232 &  0.435 &  0.538 &  1.000 & -0.511 &  0.397 & -0.221 &  0.565 &  0.001 &  0.018 &  0.361 & -0.176 & -0.090 &  0.429\\\\\n",
       "\tghsl\\_not\\_built\\_up & -0.551 & -0.798 & -0.717 & -0.574 & -0.511 &  1.000 & -0.786 &  0.407 & -0.897 & -0.258 & -0.134 & -0.778 &  0.179 &  0.266 & -0.581\\\\\n",
       "\tghsl\\_pop\\_density &  0.131 &  0.799 &  0.679 &  0.484 &  0.397 & -0.786 &  1.000 & -0.314 &  0.863 &  0.010 &  0.041 &  0.815 & -0.166 & -0.172 &  0.525\\\\\n",
       "\tlandcover\\_crops\\_fraction & -0.214 & -0.323 & -0.295 & -0.244 & -0.221 &  0.407 & -0.314 &  1.000 & -0.369 & -0.082 & -0.088 & -0.328 & -0.013 &  0.379 & -0.254\\\\\n",
       "\tlandcover\\_urban\\_fraction &  0.260 &  0.778 &  0.756 &  0.597 &  0.565 & -0.897 &  0.863 & -0.369 &  1.000 &  0.020 &  0.060 &  0.835 & -0.208 & -0.244 &  0.667\\\\\n",
       "\tlandcover\\_water\\_permanent\\_10km\\_fraction &  0.590 &  0.016 &  0.030 &  0.005 &  0.001 & -0.258 &  0.010 & -0.082 &  0.020 &  1.000 &  0.102 &  0.017 &  0.018 &  0.100 &  0.017\\\\\n",
       "\tlandcover\\_water\\_seasonal\\_10km\\_fraction &  0.206 &  0.048 &  0.071 &  0.004 &  0.018 & -0.134 &  0.041 & -0.088 &  0.060 &  0.102 &  1.000 &  0.055 &  0.068 & -0.014 &  0.066\\\\\n",
       "\tnighttime\\_lights &  0.154 &  0.754 &  0.729 &  0.439 &  0.361 & -0.778 &  0.815 & -0.328 &  0.835 &  0.017 &  0.055 &  1.000 & -0.187 & -0.220 &  0.551\\\\\n",
       "\tdist\\_to\\_capital & -0.028 & -0.116 & -0.200 & -0.129 & -0.176 &  0.179 & -0.166 & -0.013 & -0.208 &  0.018 &  0.068 & -0.187 &  1.000 &  0.052 & -0.236\\\\\n",
       "\tdist\\_to\\_shoreline & -0.156 & -0.243 & -0.145 & -0.180 & -0.090 &  0.266 & -0.172 &  0.379 & -0.244 &  0.100 & -0.014 & -0.220 &  0.052 &  1.000 & -0.322\\\\\n",
       "\tTarget &  0.183 &  0.450 &  0.501 &  0.425 &  0.429 & -0.581 &  0.525 & -0.254 &  0.667 &  0.017 &  0.066 &  0.551 & -0.236 & -0.322 &  1.000\\\\\n",
       "\\end{tabular}\n"
      ],
      "text/markdown": [
       "\n",
       "| <!--/--> | ghsl_water_surface | ghsl_built_pre_1975 | ghsl_built_1975_to_1990 | ghsl_built_1990_to_2000 | ghsl_built_2000_to_2014 | ghsl_not_built_up | ghsl_pop_density | landcover_crops_fraction | landcover_urban_fraction | landcover_water_permanent_10km_fraction | landcover_water_seasonal_10km_fraction | nighttime_lights | dist_to_capital | dist_to_shoreline | Target |\n",
       "|---|---|---|---|---|---|---|---|---|---|---|---|---|---|---|---|\n",
       "| ghsl_water_surface |  1.000 |  0.193 |  0.119 |  0.043 |  0.043 | -0.551 |  0.131 | -0.214 |  0.260 |  0.590 |  0.206 |  0.154 | -0.028 | -0.156 |  0.183 |\n",
       "| ghsl_built_pre_1975 |  0.193 |  1.000 |  0.458 |  0.421 |  0.232 | -0.798 |  0.799 | -0.323 |  0.778 |  0.016 |  0.048 |  0.754 | -0.116 | -0.243 |  0.450 |\n",
       "| ghsl_built_1975_to_1990 |  0.119 |  0.458 |  1.000 |  0.398 |  0.435 | -0.717 |  0.679 | -0.295 |  0.756 |  0.030 |  0.071 |  0.729 | -0.200 | -0.145 |  0.501 |\n",
       "| ghsl_built_1990_to_2000 |  0.043 |  0.421 |  0.398 |  1.000 |  0.538 | -0.574 |  0.484 | -0.244 |  0.597 |  0.005 |  0.004 |  0.439 | -0.129 | -0.180 |  0.425 |\n",
       "| ghsl_built_2000_to_2014 |  0.043 |  0.232 |  0.435 |  0.538 |  1.000 | -0.511 |  0.397 | -0.221 |  0.565 |  0.001 |  0.018 |  0.361 | -0.176 | -0.090 |  0.429 |\n",
       "| ghsl_not_built_up | -0.551 | -0.798 | -0.717 | -0.574 | -0.511 |  1.000 | -0.786 |  0.407 | -0.897 | -0.258 | -0.134 | -0.778 |  0.179 |  0.266 | -0.581 |\n",
       "| ghsl_pop_density |  0.131 |  0.799 |  0.679 |  0.484 |  0.397 | -0.786 |  1.000 | -0.314 |  0.863 |  0.010 |  0.041 |  0.815 | -0.166 | -0.172 |  0.525 |\n",
       "| landcover_crops_fraction | -0.214 | -0.323 | -0.295 | -0.244 | -0.221 |  0.407 | -0.314 |  1.000 | -0.369 | -0.082 | -0.088 | -0.328 | -0.013 |  0.379 | -0.254 |\n",
       "| landcover_urban_fraction |  0.260 |  0.778 |  0.756 |  0.597 |  0.565 | -0.897 |  0.863 | -0.369 |  1.000 |  0.020 |  0.060 |  0.835 | -0.208 | -0.244 |  0.667 |\n",
       "| landcover_water_permanent_10km_fraction |  0.590 |  0.016 |  0.030 |  0.005 |  0.001 | -0.258 |  0.010 | -0.082 |  0.020 |  1.000 |  0.102 |  0.017 |  0.018 |  0.100 |  0.017 |\n",
       "| landcover_water_seasonal_10km_fraction |  0.206 |  0.048 |  0.071 |  0.004 |  0.018 | -0.134 |  0.041 | -0.088 |  0.060 |  0.102 |  1.000 |  0.055 |  0.068 | -0.014 |  0.066 |\n",
       "| nighttime_lights |  0.154 |  0.754 |  0.729 |  0.439 |  0.361 | -0.778 |  0.815 | -0.328 |  0.835 |  0.017 |  0.055 |  1.000 | -0.187 | -0.220 |  0.551 |\n",
       "| dist_to_capital | -0.028 | -0.116 | -0.200 | -0.129 | -0.176 |  0.179 | -0.166 | -0.013 | -0.208 |  0.018 |  0.068 | -0.187 |  1.000 |  0.052 | -0.236 |\n",
       "| dist_to_shoreline | -0.156 | -0.243 | -0.145 | -0.180 | -0.090 |  0.266 | -0.172 |  0.379 | -0.244 |  0.100 | -0.014 | -0.220 |  0.052 |  1.000 | -0.322 |\n",
       "| Target |  0.183 |  0.450 |  0.501 |  0.425 |  0.429 | -0.581 |  0.525 | -0.254 |  0.667 |  0.017 |  0.066 |  0.551 | -0.236 | -0.322 |  1.000 |\n",
       "\n"
      ],
      "text/plain": [
       "                                        ghsl_water_surface ghsl_built_pre_1975\n",
       "ghsl_water_surface                       1.000              0.193             \n",
       "ghsl_built_pre_1975                      0.193              1.000             \n",
       "ghsl_built_1975_to_1990                  0.119              0.458             \n",
       "ghsl_built_1990_to_2000                  0.043              0.421             \n",
       "ghsl_built_2000_to_2014                  0.043              0.232             \n",
       "ghsl_not_built_up                       -0.551             -0.798             \n",
       "ghsl_pop_density                         0.131              0.799             \n",
       "landcover_crops_fraction                -0.214             -0.323             \n",
       "landcover_urban_fraction                 0.260              0.778             \n",
       "landcover_water_permanent_10km_fraction  0.590              0.016             \n",
       "landcover_water_seasonal_10km_fraction   0.206              0.048             \n",
       "nighttime_lights                         0.154              0.754             \n",
       "dist_to_capital                         -0.028             -0.116             \n",
       "dist_to_shoreline                       -0.156             -0.243             \n",
       "Target                                   0.183              0.450             \n",
       "                                        ghsl_built_1975_to_1990\n",
       "ghsl_water_surface                       0.119                 \n",
       "ghsl_built_pre_1975                      0.458                 \n",
       "ghsl_built_1975_to_1990                  1.000                 \n",
       "ghsl_built_1990_to_2000                  0.398                 \n",
       "ghsl_built_2000_to_2014                  0.435                 \n",
       "ghsl_not_built_up                       -0.717                 \n",
       "ghsl_pop_density                         0.679                 \n",
       "landcover_crops_fraction                -0.295                 \n",
       "landcover_urban_fraction                 0.756                 \n",
       "landcover_water_permanent_10km_fraction  0.030                 \n",
       "landcover_water_seasonal_10km_fraction   0.071                 \n",
       "nighttime_lights                         0.729                 \n",
       "dist_to_capital                         -0.200                 \n",
       "dist_to_shoreline                       -0.145                 \n",
       "Target                                   0.501                 \n",
       "                                        ghsl_built_1990_to_2000\n",
       "ghsl_water_surface                       0.043                 \n",
       "ghsl_built_pre_1975                      0.421                 \n",
       "ghsl_built_1975_to_1990                  0.398                 \n",
       "ghsl_built_1990_to_2000                  1.000                 \n",
       "ghsl_built_2000_to_2014                  0.538                 \n",
       "ghsl_not_built_up                       -0.574                 \n",
       "ghsl_pop_density                         0.484                 \n",
       "landcover_crops_fraction                -0.244                 \n",
       "landcover_urban_fraction                 0.597                 \n",
       "landcover_water_permanent_10km_fraction  0.005                 \n",
       "landcover_water_seasonal_10km_fraction   0.004                 \n",
       "nighttime_lights                         0.439                 \n",
       "dist_to_capital                         -0.129                 \n",
       "dist_to_shoreline                       -0.180                 \n",
       "Target                                   0.425                 \n",
       "                                        ghsl_built_2000_to_2014\n",
       "ghsl_water_surface                       0.043                 \n",
       "ghsl_built_pre_1975                      0.232                 \n",
       "ghsl_built_1975_to_1990                  0.435                 \n",
       "ghsl_built_1990_to_2000                  0.538                 \n",
       "ghsl_built_2000_to_2014                  1.000                 \n",
       "ghsl_not_built_up                       -0.511                 \n",
       "ghsl_pop_density                         0.397                 \n",
       "landcover_crops_fraction                -0.221                 \n",
       "landcover_urban_fraction                 0.565                 \n",
       "landcover_water_permanent_10km_fraction  0.001                 \n",
       "landcover_water_seasonal_10km_fraction   0.018                 \n",
       "nighttime_lights                         0.361                 \n",
       "dist_to_capital                         -0.176                 \n",
       "dist_to_shoreline                       -0.090                 \n",
       "Target                                   0.429                 \n",
       "                                        ghsl_not_built_up ghsl_pop_density\n",
       "ghsl_water_surface                      -0.551             0.131          \n",
       "ghsl_built_pre_1975                     -0.798             0.799          \n",
       "ghsl_built_1975_to_1990                 -0.717             0.679          \n",
       "ghsl_built_1990_to_2000                 -0.574             0.484          \n",
       "ghsl_built_2000_to_2014                 -0.511             0.397          \n",
       "ghsl_not_built_up                        1.000            -0.786          \n",
       "ghsl_pop_density                        -0.786             1.000          \n",
       "landcover_crops_fraction                 0.407            -0.314          \n",
       "landcover_urban_fraction                -0.897             0.863          \n",
       "landcover_water_permanent_10km_fraction -0.258             0.010          \n",
       "landcover_water_seasonal_10km_fraction  -0.134             0.041          \n",
       "nighttime_lights                        -0.778             0.815          \n",
       "dist_to_capital                          0.179            -0.166          \n",
       "dist_to_shoreline                        0.266            -0.172          \n",
       "Target                                  -0.581             0.525          \n",
       "                                        landcover_crops_fraction\n",
       "ghsl_water_surface                      -0.214                  \n",
       "ghsl_built_pre_1975                     -0.323                  \n",
       "ghsl_built_1975_to_1990                 -0.295                  \n",
       "ghsl_built_1990_to_2000                 -0.244                  \n",
       "ghsl_built_2000_to_2014                 -0.221                  \n",
       "ghsl_not_built_up                        0.407                  \n",
       "ghsl_pop_density                        -0.314                  \n",
       "landcover_crops_fraction                 1.000                  \n",
       "landcover_urban_fraction                -0.369                  \n",
       "landcover_water_permanent_10km_fraction -0.082                  \n",
       "landcover_water_seasonal_10km_fraction  -0.088                  \n",
       "nighttime_lights                        -0.328                  \n",
       "dist_to_capital                         -0.013                  \n",
       "dist_to_shoreline                        0.379                  \n",
       "Target                                  -0.254                  \n",
       "                                        landcover_urban_fraction\n",
       "ghsl_water_surface                       0.260                  \n",
       "ghsl_built_pre_1975                      0.778                  \n",
       "ghsl_built_1975_to_1990                  0.756                  \n",
       "ghsl_built_1990_to_2000                  0.597                  \n",
       "ghsl_built_2000_to_2014                  0.565                  \n",
       "ghsl_not_built_up                       -0.897                  \n",
       "ghsl_pop_density                         0.863                  \n",
       "landcover_crops_fraction                -0.369                  \n",
       "landcover_urban_fraction                 1.000                  \n",
       "landcover_water_permanent_10km_fraction  0.020                  \n",
       "landcover_water_seasonal_10km_fraction   0.060                  \n",
       "nighttime_lights                         0.835                  \n",
       "dist_to_capital                         -0.208                  \n",
       "dist_to_shoreline                       -0.244                  \n",
       "Target                                   0.667                  \n",
       "                                        landcover_water_permanent_10km_fraction\n",
       "ghsl_water_surface                       0.590                                 \n",
       "ghsl_built_pre_1975                      0.016                                 \n",
       "ghsl_built_1975_to_1990                  0.030                                 \n",
       "ghsl_built_1990_to_2000                  0.005                                 \n",
       "ghsl_built_2000_to_2014                  0.001                                 \n",
       "ghsl_not_built_up                       -0.258                                 \n",
       "ghsl_pop_density                         0.010                                 \n",
       "landcover_crops_fraction                -0.082                                 \n",
       "landcover_urban_fraction                 0.020                                 \n",
       "landcover_water_permanent_10km_fraction  1.000                                 \n",
       "landcover_water_seasonal_10km_fraction   0.102                                 \n",
       "nighttime_lights                         0.017                                 \n",
       "dist_to_capital                          0.018                                 \n",
       "dist_to_shoreline                        0.100                                 \n",
       "Target                                   0.017                                 \n",
       "                                        landcover_water_seasonal_10km_fraction\n",
       "ghsl_water_surface                       0.206                                \n",
       "ghsl_built_pre_1975                      0.048                                \n",
       "ghsl_built_1975_to_1990                  0.071                                \n",
       "ghsl_built_1990_to_2000                  0.004                                \n",
       "ghsl_built_2000_to_2014                  0.018                                \n",
       "ghsl_not_built_up                       -0.134                                \n",
       "ghsl_pop_density                         0.041                                \n",
       "landcover_crops_fraction                -0.088                                \n",
       "landcover_urban_fraction                 0.060                                \n",
       "landcover_water_permanent_10km_fraction  0.102                                \n",
       "landcover_water_seasonal_10km_fraction   1.000                                \n",
       "nighttime_lights                         0.055                                \n",
       "dist_to_capital                          0.068                                \n",
       "dist_to_shoreline                       -0.014                                \n",
       "Target                                   0.066                                \n",
       "                                        nighttime_lights dist_to_capital\n",
       "ghsl_water_surface                       0.154           -0.028         \n",
       "ghsl_built_pre_1975                      0.754           -0.116         \n",
       "ghsl_built_1975_to_1990                  0.729           -0.200         \n",
       "ghsl_built_1990_to_2000                  0.439           -0.129         \n",
       "ghsl_built_2000_to_2014                  0.361           -0.176         \n",
       "ghsl_not_built_up                       -0.778            0.179         \n",
       "ghsl_pop_density                         0.815           -0.166         \n",
       "landcover_crops_fraction                -0.328           -0.013         \n",
       "landcover_urban_fraction                 0.835           -0.208         \n",
       "landcover_water_permanent_10km_fraction  0.017            0.018         \n",
       "landcover_water_seasonal_10km_fraction   0.055            0.068         \n",
       "nighttime_lights                         1.000           -0.187         \n",
       "dist_to_capital                         -0.187            1.000         \n",
       "dist_to_shoreline                       -0.220            0.052         \n",
       "Target                                   0.551           -0.236         \n",
       "                                        dist_to_shoreline Target\n",
       "ghsl_water_surface                      -0.156             0.183\n",
       "ghsl_built_pre_1975                     -0.243             0.450\n",
       "ghsl_built_1975_to_1990                 -0.145             0.501\n",
       "ghsl_built_1990_to_2000                 -0.180             0.425\n",
       "ghsl_built_2000_to_2014                 -0.090             0.429\n",
       "ghsl_not_built_up                        0.266            -0.581\n",
       "ghsl_pop_density                        -0.172             0.525\n",
       "landcover_crops_fraction                 0.379            -0.254\n",
       "landcover_urban_fraction                -0.244             0.667\n",
       "landcover_water_permanent_10km_fraction  0.100             0.017\n",
       "landcover_water_seasonal_10km_fraction  -0.014             0.066\n",
       "nighttime_lights                        -0.220             0.551\n",
       "dist_to_capital                          0.052            -0.236\n",
       "dist_to_shoreline                        1.000            -0.322\n",
       "Target                                  -0.322             1.000"
      ]
     },
     "metadata": {},
     "output_type": "display_data"
    }
   ],
   "source": [
    "# correlation - rest\n",
    "cor_econ <- econ_wb[, c(5:19)]\n",
    "cormat_econ <- round(cor(cor_econ),3)\n",
    "cormat_econ_df <- as.data.frame(cormat_econ)\n",
    "cormat_econ_df\n"
   ]
  },
  {
   "cell_type": "markdown",
   "metadata": {},
   "source": [
    "Plot\n",
    "\n"
   ]
  },
  {
   "cell_type": "code",
   "execution_count": 10,
   "metadata": {},
   "outputs": [
    {
     "data": {
      "image/png": "[encoded data removed]",
      "text/plain": [
       "plot without title"
      ]
     },
     "metadata": {},
     "output_type": "display_data"
    }
   ],
   "source": [
    "cor_t <- cormat_econ_df[, c(1,15)]\n",
    "\n",
    "\n",
    "melt_cormat_econ <- melt(cormat_econ)\n",
    "\n",
    "ggplot(melt_cormat_econ, aes(x=Var1, y=Var2, fill=value))+\n",
    "  geom_tile()\n"
   ]
  },
  {
   "cell_type": "markdown",
   "metadata": {},
   "source": [
    "Changing data types to factor. Changing binary level variable to numbers 1 and 0.\n",
    "\n"
   ]
  },
  {
   "cell_type": "code",
   "execution_count": 11,
   "metadata": {},
   "outputs": [],
   "source": [
    "econ_wb$country <- as.factor(econ_wb$country)\n",
    "econ_wb$urban_or_rural <- ifelse(econ_wb$urban_or_rural == \"U\", 1, 0)\n",
    "econ_wb$urban_or_rural <- as.factor(econ_wb$urban_or_rural)\n",
    "econ_wb$year <- as.factor(econ_wb$year)\n"
   ]
  },
  {
   "cell_type": "markdown",
   "metadata": {},
   "source": [
    "Drop ID column\n",
    "\n"
   ]
  },
  {
   "cell_type": "code",
   "execution_count": 12,
   "metadata": {},
   "outputs": [
    {
     "data": {
      "text/html": [
       "<ol class=list-inline>\n",
       "\t<li>'country'</li>\n",
       "\t<li>'year'</li>\n",
       "\t<li>'urban_or_rural'</li>\n",
       "\t<li>'ghsl_water_surface'</li>\n",
       "\t<li>'ghsl_built_pre_1975'</li>\n",
       "\t<li>'ghsl_built_1975_to_1990'</li>\n",
       "\t<li>'ghsl_built_1990_to_2000'</li>\n",
       "\t<li>'ghsl_built_2000_to_2014'</li>\n",
       "\t<li>'ghsl_not_built_up'</li>\n",
       "\t<li>'ghsl_pop_density'</li>\n",
       "\t<li>'landcover_crops_fraction'</li>\n",
       "\t<li>'landcover_urban_fraction'</li>\n",
       "\t<li>'landcover_water_permanent_10km_fraction'</li>\n",
       "\t<li>'landcover_water_seasonal_10km_fraction'</li>\n",
       "\t<li>'nighttime_lights'</li>\n",
       "\t<li>'dist_to_capital'</li>\n",
       "\t<li>'dist_to_shoreline'</li>\n",
       "\t<li>'Target'</li>\n",
       "</ol>\n"
      ],
      "text/latex": [
       "\\begin{enumerate*}\n",
       "\\item 'country'\n",
       "\\item 'year'\n",
       "\\item 'urban\\_or\\_rural'\n",
       "\\item 'ghsl\\_water\\_surface'\n",
       "\\item 'ghsl\\_built\\_pre\\_1975'\n",
       "\\item 'ghsl\\_built\\_1975\\_to\\_1990'\n",
       "\\item 'ghsl\\_built\\_1990\\_to\\_2000'\n",
       "\\item 'ghsl\\_built\\_2000\\_to\\_2014'\n",
       "\\item 'ghsl\\_not\\_built\\_up'\n",
       "\\item 'ghsl\\_pop\\_density'\n",
       "\\item 'landcover\\_crops\\_fraction'\n",
       "\\item 'landcover\\_urban\\_fraction'\n",
       "\\item 'landcover\\_water\\_permanent\\_10km\\_fraction'\n",
       "\\item 'landcover\\_water\\_seasonal\\_10km\\_fraction'\n",
       "\\item 'nighttime\\_lights'\n",
       "\\item 'dist\\_to\\_capital'\n",
       "\\item 'dist\\_to\\_shoreline'\n",
       "\\item 'Target'\n",
       "\\end{enumerate*}\n"
      ],
      "text/markdown": [
       "1. 'country'\n",
       "2. 'year'\n",
       "3. 'urban_or_rural'\n",
       "4. 'ghsl_water_surface'\n",
       "5. 'ghsl_built_pre_1975'\n",
       "6. 'ghsl_built_1975_to_1990'\n",
       "7. 'ghsl_built_1990_to_2000'\n",
       "8. 'ghsl_built_2000_to_2014'\n",
       "9. 'ghsl_not_built_up'\n",
       "10. 'ghsl_pop_density'\n",
       "11. 'landcover_crops_fraction'\n",
       "12. 'landcover_urban_fraction'\n",
       "13. 'landcover_water_permanent_10km_fraction'\n",
       "14. 'landcover_water_seasonal_10km_fraction'\n",
       "15. 'nighttime_lights'\n",
       "16. 'dist_to_capital'\n",
       "17. 'dist_to_shoreline'\n",
       "18. 'Target'\n",
       "\n",
       "\n"
      ],
      "text/plain": [
       " [1] \"country\"                                \n",
       " [2] \"year\"                                   \n",
       " [3] \"urban_or_rural\"                         \n",
       " [4] \"ghsl_water_surface\"                     \n",
       " [5] \"ghsl_built_pre_1975\"                    \n",
       " [6] \"ghsl_built_1975_to_1990\"                \n",
       " [7] \"ghsl_built_1990_to_2000\"                \n",
       " [8] \"ghsl_built_2000_to_2014\"                \n",
       " [9] \"ghsl_not_built_up\"                      \n",
       "[10] \"ghsl_pop_density\"                       \n",
       "[11] \"landcover_crops_fraction\"               \n",
       "[12] \"landcover_urban_fraction\"               \n",
       "[13] \"landcover_water_permanent_10km_fraction\"\n",
       "[14] \"landcover_water_seasonal_10km_fraction\" \n",
       "[15] \"nighttime_lights\"                       \n",
       "[16] \"dist_to_capital\"                        \n",
       "[17] \"dist_to_shoreline\"                      \n",
       "[18] \"Target\"                                 "
      ]
     },
     "metadata": {},
     "output_type": "display_data"
    }
   ],
   "source": [
    "ec_data <- econ_wb[,-1]\n",
    "colnames(ec_data)\n"
   ]
  },
  {
   "cell_type": "markdown",
   "metadata": {},
   "source": [
    "Train-test split\n",
    "\n"
   ]
  },
  {
   "cell_type": "code",
   "execution_count": 13,
   "metadata": {},
   "outputs": [],
   "source": [
    "random <- sample(1:nrow(ec_data))\n",
    "ec_data <- ec_data[random,]\n",
    "\n",
    "split <- c(1: (nrow(ec_data) * 0.7)) \n",
    "train <- ec_data[split,]\n",
    "test <- ec_data[-split,]\n"
   ]
  },
  {
   "cell_type": "markdown",
   "metadata": {},
   "source": [
    "## Data pre-processing\n",
    "\n",
    "Dummy variables\n"
   ]
  },
  {
   "cell_type": "code",
   "execution_count": 14,
   "metadata": {},
   "outputs": [
    {
     "data": {
      "text/html": [
       "<ol class=list-inline>\n",
       "\t<li>'country.Cameroon'</li>\n",
       "\t<li>'country.Central.African.Republic'</li>\n",
       "\t<li>'country.Cote.d.Ivoire'</li>\n",
       "\t<li>'country.Ethiopia'</li>\n",
       "\t<li>'country.Ghana'</li>\n",
       "\t<li>'country.Guinea'</li>\n",
       "\t<li>'country.Kenya'</li>\n",
       "\t<li>'country.Lesotho'</li>\n",
       "\t<li>'country.Malawi'</li>\n",
       "\t<li>'country.Mali'</li>\n",
       "\t<li>'country.Mozambique'</li>\n",
       "\t<li>'country.Nigeria'</li>\n",
       "\t<li>'country.Rwanda'</li>\n",
       "\t<li>'country.Senegal'</li>\n",
       "\t<li>'country.Sierra.Leone'</li>\n",
       "\t<li>'country.Swaziland'</li>\n",
       "\t<li>'country.Tanzania'</li>\n",
       "\t<li>'country.Togo'</li>\n",
       "\t<li>'year.1994'</li>\n",
       "\t<li>'year.1995'</li>\n",
       "\t<li>'year.1996'</li>\n",
       "\t<li>'year.1998'</li>\n",
       "\t<li>'year.1999'</li>\n",
       "\t<li>'year.2003'</li>\n",
       "\t<li>'year.2004'</li>\n",
       "\t<li>'year.2005'</li>\n",
       "\t<li>'year.2006'</li>\n",
       "\t<li>'year.2007'</li>\n",
       "\t<li>'year.2008'</li>\n",
       "\t<li>'year.2009'</li>\n",
       "\t<li>'year.2010'</li>\n",
       "\t<li>'year.2011'</li>\n",
       "\t<li>'year.2012'</li>\n",
       "\t<li>'year.2013'</li>\n",
       "\t<li>'year.2014'</li>\n",
       "\t<li>'year.2015'</li>\n",
       "\t<li>'year.2016'</li>\n",
       "\t<li>'urban_or_rural.0'</li>\n",
       "\t<li>'urban_or_rural.1'</li>\n",
       "\t<li>'ghsl_water_surface'</li>\n",
       "\t<li>'ghsl_built_pre_1975'</li>\n",
       "\t<li>'ghsl_built_1975_to_1990'</li>\n",
       "\t<li>'ghsl_built_1990_to_2000'</li>\n",
       "\t<li>'ghsl_built_2000_to_2014'</li>\n",
       "\t<li>'ghsl_not_built_up'</li>\n",
       "\t<li>'ghsl_pop_density'</li>\n",
       "\t<li>'landcover_crops_fraction'</li>\n",
       "\t<li>'landcover_urban_fraction'</li>\n",
       "\t<li>'landcover_water_permanent_10km_fraction'</li>\n",
       "\t<li>'landcover_water_seasonal_10km_fraction'</li>\n",
       "\t<li>'nighttime_lights'</li>\n",
       "\t<li>'dist_to_capital'</li>\n",
       "\t<li>'dist_to_shoreline'</li>\n",
       "\t<li>'Target'</li>\n",
       "</ol>\n"
      ],
      "text/latex": [
       "\\begin{enumerate*}\n",
       "\\item 'country.Cameroon'\n",
       "\\item 'country.Central.African.Republic'\n",
       "\\item 'country.Cote.d.Ivoire'\n",
       "\\item 'country.Ethiopia'\n",
       "\\item 'country.Ghana'\n",
       "\\item 'country.Guinea'\n",
       "\\item 'country.Kenya'\n",
       "\\item 'country.Lesotho'\n",
       "\\item 'country.Malawi'\n",
       "\\item 'country.Mali'\n",
       "\\item 'country.Mozambique'\n",
       "\\item 'country.Nigeria'\n",
       "\\item 'country.Rwanda'\n",
       "\\item 'country.Senegal'\n",
       "\\item 'country.Sierra.Leone'\n",
       "\\item 'country.Swaziland'\n",
       "\\item 'country.Tanzania'\n",
       "\\item 'country.Togo'\n",
       "\\item 'year.1994'\n",
       "\\item 'year.1995'\n",
       "\\item 'year.1996'\n",
       "\\item 'year.1998'\n",
       "\\item 'year.1999'\n",
       "\\item 'year.2003'\n",
       "\\item 'year.2004'\n",
       "\\item 'year.2005'\n",
       "\\item 'year.2006'\n",
       "\\item 'year.2007'\n",
       "\\item 'year.2008'\n",
       "\\item 'year.2009'\n",
       "\\item 'year.2010'\n",
       "\\item 'year.2011'\n",
       "\\item 'year.2012'\n",
       "\\item 'year.2013'\n",
       "\\item 'year.2014'\n",
       "\\item 'year.2015'\n",
       "\\item 'year.2016'\n",
       "\\item 'urban\\_or\\_rural.0'\n",
       "\\item 'urban\\_or\\_rural.1'\n",
       "\\item 'ghsl\\_water\\_surface'\n",
       "\\item 'ghsl\\_built\\_pre\\_1975'\n",
       "\\item 'ghsl\\_built\\_1975\\_to\\_1990'\n",
       "\\item 'ghsl\\_built\\_1990\\_to\\_2000'\n",
       "\\item 'ghsl\\_built\\_2000\\_to\\_2014'\n",
       "\\item 'ghsl\\_not\\_built\\_up'\n",
       "\\item 'ghsl\\_pop\\_density'\n",
       "\\item 'landcover\\_crops\\_fraction'\n",
       "\\item 'landcover\\_urban\\_fraction'\n",
       "\\item 'landcover\\_water\\_permanent\\_10km\\_fraction'\n",
       "\\item 'landcover\\_water\\_seasonal\\_10km\\_fraction'\n",
       "\\item 'nighttime\\_lights'\n",
       "\\item 'dist\\_to\\_capital'\n",
       "\\item 'dist\\_to\\_shoreline'\n",
       "\\item 'Target'\n",
       "\\end{enumerate*}\n"
      ],
      "text/markdown": [
       "1. 'country.Cameroon'\n",
       "2. 'country.Central.African.Republic'\n",
       "3. 'country.Cote.d.Ivoire'\n",
       "4. 'country.Ethiopia'\n",
       "5. 'country.Ghana'\n",
       "6. 'country.Guinea'\n",
       "7. 'country.Kenya'\n",
       "8. 'country.Lesotho'\n",
       "9. 'country.Malawi'\n",
       "10. 'country.Mali'\n",
       "11. 'country.Mozambique'\n",
       "12. 'country.Nigeria'\n",
       "13. 'country.Rwanda'\n",
       "14. 'country.Senegal'\n",
       "15. 'country.Sierra.Leone'\n",
       "16. 'country.Swaziland'\n",
       "17. 'country.Tanzania'\n",
       "18. 'country.Togo'\n",
       "19. 'year.1994'\n",
       "20. 'year.1995'\n",
       "21. 'year.1996'\n",
       "22. 'year.1998'\n",
       "23. 'year.1999'\n",
       "24. 'year.2003'\n",
       "25. 'year.2004'\n",
       "26. 'year.2005'\n",
       "27. 'year.2006'\n",
       "28. 'year.2007'\n",
       "29. 'year.2008'\n",
       "30. 'year.2009'\n",
       "31. 'year.2010'\n",
       "32. 'year.2011'\n",
       "33. 'year.2012'\n",
       "34. 'year.2013'\n",
       "35. 'year.2014'\n",
       "36. 'year.2015'\n",
       "37. 'year.2016'\n",
       "38. 'urban_or_rural.0'\n",
       "39. 'urban_or_rural.1'\n",
       "40. 'ghsl_water_surface'\n",
       "41. 'ghsl_built_pre_1975'\n",
       "42. 'ghsl_built_1975_to_1990'\n",
       "43. 'ghsl_built_1990_to_2000'\n",
       "44. 'ghsl_built_2000_to_2014'\n",
       "45. 'ghsl_not_built_up'\n",
       "46. 'ghsl_pop_density'\n",
       "47. 'landcover_crops_fraction'\n",
       "48. 'landcover_urban_fraction'\n",
       "49. 'landcover_water_permanent_10km_fraction'\n",
       "50. 'landcover_water_seasonal_10km_fraction'\n",
       "51. 'nighttime_lights'\n",
       "52. 'dist_to_capital'\n",
       "53. 'dist_to_shoreline'\n",
       "54. 'Target'\n",
       "\n",
       "\n"
      ],
      "text/plain": [
       " [1] \"country.Cameroon\"                       \n",
       " [2] \"country.Central.African.Republic\"       \n",
       " [3] \"country.Cote.d.Ivoire\"                  \n",
       " [4] \"country.Ethiopia\"                       \n",
       " [5] \"country.Ghana\"                          \n",
       " [6] \"country.Guinea\"                         \n",
       " [7] \"country.Kenya\"                          \n",
       " [8] \"country.Lesotho\"                        \n",
       " [9] \"country.Malawi\"                         \n",
       "[10] \"country.Mali\"                           \n",
       "[11] \"country.Mozambique\"                     \n",
       "[12] \"country.Nigeria\"                        \n",
       "[13] \"country.Rwanda\"                         \n",
       "[14] \"country.Senegal\"                        \n",
       "[15] \"country.Sierra.Leone\"                   \n",
       "[16] \"country.Swaziland\"                      \n",
       "[17] \"country.Tanzania\"                       \n",
       "[18] \"country.Togo\"                           \n",
       "[19] \"year.1994\"                              \n",
       "[20] \"year.1995\"                              \n",
       "[21] \"year.1996\"                              \n",
       "[22] \"year.1998\"                              \n",
       "[23] \"year.1999\"                              \n",
       "[24] \"year.2003\"                              \n",
       "[25] \"year.2004\"                              \n",
       "[26] \"year.2005\"                              \n",
       "[27] \"year.2006\"                              \n",
       "[28] \"year.2007\"                              \n",
       "[29] \"year.2008\"                              \n",
       "[30] \"year.2009\"                              \n",
       "[31] \"year.2010\"                              \n",
       "[32] \"year.2011\"                              \n",
       "[33] \"year.2012\"                              \n",
       "[34] \"year.2013\"                              \n",
       "[35] \"year.2014\"                              \n",
       "[36] \"year.2015\"                              \n",
       "[37] \"year.2016\"                              \n",
       "[38] \"urban_or_rural.0\"                       \n",
       "[39] \"urban_or_rural.1\"                       \n",
       "[40] \"ghsl_water_surface\"                     \n",
       "[41] \"ghsl_built_pre_1975\"                    \n",
       "[42] \"ghsl_built_1975_to_1990\"                \n",
       "[43] \"ghsl_built_1990_to_2000\"                \n",
       "[44] \"ghsl_built_2000_to_2014\"                \n",
       "[45] \"ghsl_not_built_up\"                      \n",
       "[46] \"ghsl_pop_density\"                       \n",
       "[47] \"landcover_crops_fraction\"               \n",
       "[48] \"landcover_urban_fraction\"               \n",
       "[49] \"landcover_water_permanent_10km_fraction\"\n",
       "[50] \"landcover_water_seasonal_10km_fraction\" \n",
       "[51] \"nighttime_lights\"                       \n",
       "[52] \"dist_to_capital\"                        \n",
       "[53] \"dist_to_shoreline\"                      \n",
       "[54] \"Target\"                                 "
      ]
     },
     "metadata": {},
     "output_type": "display_data"
    }
   ],
   "source": [
    "dmy <- dummyVars(\"~.\", data = train)\n",
    "train_dmy <- data.frame(predict(dmy, newdata = train))\n",
    "\n",
    "colnames(train_dmy)\n"
   ]
  },
  {
   "cell_type": "markdown",
   "metadata": {},
   "source": [
    "Dropping unneeded columns\n",
    "\n"
   ]
  },
  {
   "cell_type": "code",
   "execution_count": 15,
   "metadata": {},
   "outputs": [
    {
     "data": {
      "text/html": [
       "<ol class=list-inline>\n",
       "\t<li>'year.1998'</li>\n",
       "\t<li>'year.1999'</li>\n",
       "\t<li>'year.2005'</li>\n",
       "\t<li>'year.2006'</li>\n",
       "\t<li>'year.2007'</li>\n",
       "\t<li>'year.2009'</li>\n",
       "\t<li>'year.2010'</li>\n",
       "\t<li>'year.2011'</li>\n",
       "\t<li>'year.2012'</li>\n",
       "\t<li>'year.2013'</li>\n",
       "\t<li>'year.2014'</li>\n",
       "\t<li>'year.2015'</li>\n",
       "\t<li>'year.2016'</li>\n",
       "\t<li>'urban_or_rural.0'</li>\n",
       "\t<li>'urban_or_rural.1'</li>\n",
       "\t<li>'ghsl_water_surface'</li>\n",
       "\t<li>'ghsl_built_pre_1975'</li>\n",
       "\t<li>'ghsl_built_1975_to_1990'</li>\n",
       "\t<li>'ghsl_built_1990_to_2000'</li>\n",
       "\t<li>'ghsl_built_2000_to_2014'</li>\n",
       "\t<li>'ghsl_not_built_up'</li>\n",
       "\t<li>'ghsl_pop_density'</li>\n",
       "\t<li>'landcover_crops_fraction'</li>\n",
       "\t<li>'landcover_urban_fraction'</li>\n",
       "\t<li>'landcover_water_permanent_10km_fraction'</li>\n",
       "\t<li>'landcover_water_seasonal_10km_fraction'</li>\n",
       "\t<li>'nighttime_lights'</li>\n",
       "\t<li>'dist_to_capital'</li>\n",
       "\t<li>'dist_to_shoreline'</li>\n",
       "\t<li>'Target'</li>\n",
       "</ol>\n"
      ],
      "text/latex": [
       "\\begin{enumerate*}\n",
       "\\item 'year.1998'\n",
       "\\item 'year.1999'\n",
       "\\item 'year.2005'\n",
       "\\item 'year.2006'\n",
       "\\item 'year.2007'\n",
       "\\item 'year.2009'\n",
       "\\item 'year.2010'\n",
       "\\item 'year.2011'\n",
       "\\item 'year.2012'\n",
       "\\item 'year.2013'\n",
       "\\item 'year.2014'\n",
       "\\item 'year.2015'\n",
       "\\item 'year.2016'\n",
       "\\item 'urban\\_or\\_rural.0'\n",
       "\\item 'urban\\_or\\_rural.1'\n",
       "\\item 'ghsl\\_water\\_surface'\n",
       "\\item 'ghsl\\_built\\_pre\\_1975'\n",
       "\\item 'ghsl\\_built\\_1975\\_to\\_1990'\n",
       "\\item 'ghsl\\_built\\_1990\\_to\\_2000'\n",
       "\\item 'ghsl\\_built\\_2000\\_to\\_2014'\n",
       "\\item 'ghsl\\_not\\_built\\_up'\n",
       "\\item 'ghsl\\_pop\\_density'\n",
       "\\item 'landcover\\_crops\\_fraction'\n",
       "\\item 'landcover\\_urban\\_fraction'\n",
       "\\item 'landcover\\_water\\_permanent\\_10km\\_fraction'\n",
       "\\item 'landcover\\_water\\_seasonal\\_10km\\_fraction'\n",
       "\\item 'nighttime\\_lights'\n",
       "\\item 'dist\\_to\\_capital'\n",
       "\\item 'dist\\_to\\_shoreline'\n",
       "\\item 'Target'\n",
       "\\end{enumerate*}\n"
      ],
      "text/markdown": [
       "1. 'year.1998'\n",
       "2. 'year.1999'\n",
       "3. 'year.2005'\n",
       "4. 'year.2006'\n",
       "5. 'year.2007'\n",
       "6. 'year.2009'\n",
       "7. 'year.2010'\n",
       "8. 'year.2011'\n",
       "9. 'year.2012'\n",
       "10. 'year.2013'\n",
       "11. 'year.2014'\n",
       "12. 'year.2015'\n",
       "13. 'year.2016'\n",
       "14. 'urban_or_rural.0'\n",
       "15. 'urban_or_rural.1'\n",
       "16. 'ghsl_water_surface'\n",
       "17. 'ghsl_built_pre_1975'\n",
       "18. 'ghsl_built_1975_to_1990'\n",
       "19. 'ghsl_built_1990_to_2000'\n",
       "20. 'ghsl_built_2000_to_2014'\n",
       "21. 'ghsl_not_built_up'\n",
       "22. 'ghsl_pop_density'\n",
       "23. 'landcover_crops_fraction'\n",
       "24. 'landcover_urban_fraction'\n",
       "25. 'landcover_water_permanent_10km_fraction'\n",
       "26. 'landcover_water_seasonal_10km_fraction'\n",
       "27. 'nighttime_lights'\n",
       "28. 'dist_to_capital'\n",
       "29. 'dist_to_shoreline'\n",
       "30. 'Target'\n",
       "\n",
       "\n"
      ],
      "text/plain": [
       " [1] \"year.1998\"                              \n",
       " [2] \"year.1999\"                              \n",
       " [3] \"year.2005\"                              \n",
       " [4] \"year.2006\"                              \n",
       " [5] \"year.2007\"                              \n",
       " [6] \"year.2009\"                              \n",
       " [7] \"year.2010\"                              \n",
       " [8] \"year.2011\"                              \n",
       " [9] \"year.2012\"                              \n",
       "[10] \"year.2013\"                              \n",
       "[11] \"year.2014\"                              \n",
       "[12] \"year.2015\"                              \n",
       "[13] \"year.2016\"                              \n",
       "[14] \"urban_or_rural.0\"                       \n",
       "[15] \"urban_or_rural.1\"                       \n",
       "[16] \"ghsl_water_surface\"                     \n",
       "[17] \"ghsl_built_pre_1975\"                    \n",
       "[18] \"ghsl_built_1975_to_1990\"                \n",
       "[19] \"ghsl_built_1990_to_2000\"                \n",
       "[20] \"ghsl_built_2000_to_2014\"                \n",
       "[21] \"ghsl_not_built_up\"                      \n",
       "[22] \"ghsl_pop_density\"                       \n",
       "[23] \"landcover_crops_fraction\"               \n",
       "[24] \"landcover_urban_fraction\"               \n",
       "[25] \"landcover_water_permanent_10km_fraction\"\n",
       "[26] \"landcover_water_seasonal_10km_fraction\" \n",
       "[27] \"nighttime_lights\"                       \n",
       "[28] \"dist_to_capital\"                        \n",
       "[29] \"dist_to_shoreline\"                      \n",
       "[30] \"Target\"                                 "
      ]
     },
     "metadata": {},
     "output_type": "display_data"
    }
   ],
   "source": [
    "train_dmy <- train_dmy[, -c(19:21,24,25,29)]\n",
    "train_dmy <- train_dmy[, -c(1:18)]\n",
    "colnames(train_dmy)\n"
   ]
  },
  {
   "cell_type": "markdown",
   "metadata": {},
   "source": [
    "Same thing- but for the test data\n",
    "\n"
   ]
  },
  {
   "cell_type": "code",
   "execution_count": 16,
   "metadata": {},
   "outputs": [
    {
     "data": {
      "text/html": [
       "<ol class=list-inline>\n",
       "\t<li>'year.1998'</li>\n",
       "\t<li>'year.1999'</li>\n",
       "\t<li>'year.2005'</li>\n",
       "\t<li>'year.2006'</li>\n",
       "\t<li>'year.2007'</li>\n",
       "\t<li>'year.2009'</li>\n",
       "\t<li>'year.2010'</li>\n",
       "\t<li>'year.2011'</li>\n",
       "\t<li>'year.2012'</li>\n",
       "\t<li>'year.2013'</li>\n",
       "\t<li>'year.2014'</li>\n",
       "\t<li>'year.2015'</li>\n",
       "\t<li>'year.2016'</li>\n",
       "\t<li>'urban_or_rural.0'</li>\n",
       "\t<li>'urban_or_rural.1'</li>\n",
       "\t<li>'ghsl_water_surface'</li>\n",
       "\t<li>'ghsl_built_pre_1975'</li>\n",
       "\t<li>'ghsl_built_1975_to_1990'</li>\n",
       "\t<li>'ghsl_built_1990_to_2000'</li>\n",
       "\t<li>'ghsl_built_2000_to_2014'</li>\n",
       "\t<li>'ghsl_not_built_up'</li>\n",
       "\t<li>'ghsl_pop_density'</li>\n",
       "\t<li>'landcover_crops_fraction'</li>\n",
       "\t<li>'landcover_urban_fraction'</li>\n",
       "\t<li>'landcover_water_permanent_10km_fraction'</li>\n",
       "\t<li>'landcover_water_seasonal_10km_fraction'</li>\n",
       "\t<li>'nighttime_lights'</li>\n",
       "\t<li>'dist_to_capital'</li>\n",
       "\t<li>'dist_to_shoreline'</li>\n",
       "\t<li>'Target'</li>\n",
       "</ol>\n"
      ],
      "text/latex": [
       "\\begin{enumerate*}\n",
       "\\item 'year.1998'\n",
       "\\item 'year.1999'\n",
       "\\item 'year.2005'\n",
       "\\item 'year.2006'\n",
       "\\item 'year.2007'\n",
       "\\item 'year.2009'\n",
       "\\item 'year.2010'\n",
       "\\item 'year.2011'\n",
       "\\item 'year.2012'\n",
       "\\item 'year.2013'\n",
       "\\item 'year.2014'\n",
       "\\item 'year.2015'\n",
       "\\item 'year.2016'\n",
       "\\item 'urban\\_or\\_rural.0'\n",
       "\\item 'urban\\_or\\_rural.1'\n",
       "\\item 'ghsl\\_water\\_surface'\n",
       "\\item 'ghsl\\_built\\_pre\\_1975'\n",
       "\\item 'ghsl\\_built\\_1975\\_to\\_1990'\n",
       "\\item 'ghsl\\_built\\_1990\\_to\\_2000'\n",
       "\\item 'ghsl\\_built\\_2000\\_to\\_2014'\n",
       "\\item 'ghsl\\_not\\_built\\_up'\n",
       "\\item 'ghsl\\_pop\\_density'\n",
       "\\item 'landcover\\_crops\\_fraction'\n",
       "\\item 'landcover\\_urban\\_fraction'\n",
       "\\item 'landcover\\_water\\_permanent\\_10km\\_fraction'\n",
       "\\item 'landcover\\_water\\_seasonal\\_10km\\_fraction'\n",
       "\\item 'nighttime\\_lights'\n",
       "\\item 'dist\\_to\\_capital'\n",
       "\\item 'dist\\_to\\_shoreline'\n",
       "\\item 'Target'\n",
       "\\end{enumerate*}\n"
      ],
      "text/markdown": [
       "1. 'year.1998'\n",
       "2. 'year.1999'\n",
       "3. 'year.2005'\n",
       "4. 'year.2006'\n",
       "5. 'year.2007'\n",
       "6. 'year.2009'\n",
       "7. 'year.2010'\n",
       "8. 'year.2011'\n",
       "9. 'year.2012'\n",
       "10. 'year.2013'\n",
       "11. 'year.2014'\n",
       "12. 'year.2015'\n",
       "13. 'year.2016'\n",
       "14. 'urban_or_rural.0'\n",
       "15. 'urban_or_rural.1'\n",
       "16. 'ghsl_water_surface'\n",
       "17. 'ghsl_built_pre_1975'\n",
       "18. 'ghsl_built_1975_to_1990'\n",
       "19. 'ghsl_built_1990_to_2000'\n",
       "20. 'ghsl_built_2000_to_2014'\n",
       "21. 'ghsl_not_built_up'\n",
       "22. 'ghsl_pop_density'\n",
       "23. 'landcover_crops_fraction'\n",
       "24. 'landcover_urban_fraction'\n",
       "25. 'landcover_water_permanent_10km_fraction'\n",
       "26. 'landcover_water_seasonal_10km_fraction'\n",
       "27. 'nighttime_lights'\n",
       "28. 'dist_to_capital'\n",
       "29. 'dist_to_shoreline'\n",
       "30. 'Target'\n",
       "\n",
       "\n"
      ],
      "text/plain": [
       " [1] \"year.1998\"                              \n",
       " [2] \"year.1999\"                              \n",
       " [3] \"year.2005\"                              \n",
       " [4] \"year.2006\"                              \n",
       " [5] \"year.2007\"                              \n",
       " [6] \"year.2009\"                              \n",
       " [7] \"year.2010\"                              \n",
       " [8] \"year.2011\"                              \n",
       " [9] \"year.2012\"                              \n",
       "[10] \"year.2013\"                              \n",
       "[11] \"year.2014\"                              \n",
       "[12] \"year.2015\"                              \n",
       "[13] \"year.2016\"                              \n",
       "[14] \"urban_or_rural.0\"                       \n",
       "[15] \"urban_or_rural.1\"                       \n",
       "[16] \"ghsl_water_surface\"                     \n",
       "[17] \"ghsl_built_pre_1975\"                    \n",
       "[18] \"ghsl_built_1975_to_1990\"                \n",
       "[19] \"ghsl_built_1990_to_2000\"                \n",
       "[20] \"ghsl_built_2000_to_2014\"                \n",
       "[21] \"ghsl_not_built_up\"                      \n",
       "[22] \"ghsl_pop_density\"                       \n",
       "[23] \"landcover_crops_fraction\"               \n",
       "[24] \"landcover_urban_fraction\"               \n",
       "[25] \"landcover_water_permanent_10km_fraction\"\n",
       "[26] \"landcover_water_seasonal_10km_fraction\" \n",
       "[27] \"nighttime_lights\"                       \n",
       "[28] \"dist_to_capital\"                        \n",
       "[29] \"dist_to_shoreline\"                      \n",
       "[30] \"Target\"                                 "
      ]
     },
     "metadata": {},
     "output_type": "display_data"
    }
   ],
   "source": [
    "dmy <- dummyVars(\"~.\", data = test)\n",
    "test_dmy <- data.frame(predict(dmy, newdata = test))\n",
    "\n",
    "\n",
    "test_dmy <- test_dmy[, -c(19:21,24,25,29)]\n",
    "test_dmy <- test_dmy[, -c(1:18)]\n",
    "\n",
    "colnames(test_dmy)\n"
   ]
  },
  {
   "cell_type": "markdown",
   "metadata": {},
   "source": [
    "## Regression models\n",
    "\n",
    "## Polynomial\n",
    "\n",
    "First fit:\n"
   ]
  },
  {
   "cell_type": "code",
   "execution_count": 17,
   "metadata": {},
   "outputs": [
    {
     "data": {
      "text/plain": [
       "\n",
       "Call:\n",
       "lm(formula = Target ~ poly(landcover_urban_fraction, 3) + poly(nighttime_lights, \n",
       "    3) + poly(ghsl_pop_density, 3) + poly(ghsl_built_1975_to_1990, \n",
       "    3) + poly(ghsl_built_pre_1975, 3) + poly(ghsl_built_2000_to_2014, \n",
       "    3) + poly(ghsl_built_1990_to_2000, 3) + poly(ghsl_not_built_up, \n",
       "    3) + poly(landcover_crops_fraction, 3) + poly(dist_to_shoreline, \n",
       "    3) + year.1998 + year.1999 + year.2005 + year.2006 + year.2007 + \n",
       "    year.2010 + year.2011 + year.2012 + year.2013 + year.2014 + \n",
       "    year.2015 + year.2016 + urban_or_rural.0 + urban_or_rural.1, \n",
       "    data = train_dmy)\n",
       "\n",
       "Residuals:\n",
       "     Min       1Q   Median       3Q      Max \n",
       "-0.48564 -0.07099 -0.00907  0.06141  0.71164 \n",
       "\n",
       "Coefficients: (1 not defined because of singularities)\n",
       "                                    Estimate Std. Error t value Pr(>|t|)    \n",
       "(Intercept)                         0.401126   0.002642 151.841  < 2e-16 ***\n",
       "poly(landcover_urban_fraction, 3)1  3.749141   0.511313   7.332 2.38e-13 ***\n",
       "poly(landcover_urban_fraction, 3)2 -3.047616   0.215555 -14.138  < 2e-16 ***\n",
       "poly(landcover_urban_fraction, 3)3  2.440045   0.150987  16.161  < 2e-16 ***\n",
       "poly(nighttime_lights, 3)1          6.957230   0.313142  22.218  < 2e-16 ***\n",
       "poly(nighttime_lights, 3)2         -3.086820   0.187619 -16.453  < 2e-16 ***\n",
       "poly(nighttime_lights, 3)3          1.968819   0.144841  13.593  < 2e-16 ***\n",
       "poly(ghsl_pop_density, 3)1          0.239860   0.348227   0.689 0.490956    \n",
       "poly(ghsl_pop_density, 3)2         -0.552121   0.197030  -2.802 0.005082 ** \n",
       "poly(ghsl_pop_density, 3)3          0.382627   0.148812   2.571 0.010144 *  \n",
       "poly(ghsl_built_1975_to_1990, 3)1   1.189950   0.250968   4.741 2.14e-06 ***\n",
       "poly(ghsl_built_1975_to_1990, 3)2  -1.312821   0.154270  -8.510  < 2e-16 ***\n",
       "poly(ghsl_built_1975_to_1990, 3)3   0.535453   0.134428   3.983 6.83e-05 ***\n",
       "poly(ghsl_built_pre_1975, 3)1      -1.693430   0.301433  -5.618 1.97e-08 ***\n",
       "poly(ghsl_built_pre_1975, 3)2      -0.247940   0.160468  -1.545 0.122341    \n",
       "poly(ghsl_built_pre_1975, 3)3      -0.126254   0.134538  -0.938 0.348040    \n",
       "poly(ghsl_built_2000_to_2014, 3)1  -0.403848   0.191157  -2.113 0.034647 *  \n",
       "poly(ghsl_built_2000_to_2014, 3)2   0.157989   0.137811   1.146 0.251639    \n",
       "poly(ghsl_built_2000_to_2014, 3)3   0.267662   0.124339   2.153 0.031359 *  \n",
       "poly(ghsl_built_1990_to_2000, 3)1  -0.540628   0.183038  -2.954 0.003145 ** \n",
       "poly(ghsl_built_1990_to_2000, 3)2   0.516793   0.149204   3.464 0.000534 ***\n",
       "poly(ghsl_built_1990_to_2000, 3)3  -0.271214   0.131011  -2.070 0.038455 *  \n",
       "poly(ghsl_not_built_up, 3)1        -0.415909   0.326012  -1.276 0.202065    \n",
       "poly(ghsl_not_built_up, 3)2         0.361189   0.211559   1.707 0.087793 .  \n",
       "poly(ghsl_not_built_up, 3)3        -0.097338   0.150330  -0.647 0.517319    \n",
       "poly(landcover_crops_fraction, 3)1  0.701122   0.139798   5.015 5.36e-07 ***\n",
       "poly(landcover_crops_fraction, 3)2  0.513022   0.120722   4.250 2.15e-05 ***\n",
       "poly(landcover_crops_fraction, 3)3 -0.053591   0.115602  -0.464 0.642955    \n",
       "poly(dist_to_shoreline, 3)1        -4.133410   0.131865 -31.346  < 2e-16 ***\n",
       "poly(dist_to_shoreline, 3)2         0.200917   0.123803   1.623 0.104636    \n",
       "poly(dist_to_shoreline, 3)3        -0.198056   0.118193  -1.676 0.093819 .  \n",
       "year.1998                           0.017613   0.007758   2.270 0.023198 *  \n",
       "year.1999                          -0.043669   0.006171  -7.077 1.54e-12 ***\n",
       "year.2005                          -0.115909   0.005556 -20.864  < 2e-16 ***\n",
       "year.2006                           0.062242   0.005868  10.607  < 2e-16 ***\n",
       "year.2007                          -0.016447   0.007316  -2.248 0.024581 *  \n",
       "year.2010                          -0.010193   0.003572  -2.854 0.004328 ** \n",
       "year.2011                          -0.006500   0.003326  -1.954 0.050719 .  \n",
       "year.2012                           0.040726   0.003819  10.665  < 2e-16 ***\n",
       "year.2013                           0.067381   0.003733  18.049  < 2e-16 ***\n",
       "year.2014                           0.067373   0.003131  21.521  < 2e-16 ***\n",
       "year.2015                           0.074657   0.003505  21.302  < 2e-16 ***\n",
       "year.2016                           0.016690   0.004241   3.935 8.35e-05 ***\n",
       "urban_or_rural.0                   -0.109522   0.002822 -38.810  < 2e-16 ***\n",
       "urban_or_rural.1                          NA         NA      NA       NA    \n",
       "---\n",
       "Signif. codes:  0 '***' 0.001 '**' 0.01 '*' 0.05 '.' 0.1 ' ' 1\n",
       "\n",
       "Residual standard error: 0.1103 on 14973 degrees of freedom\n",
       "Multiple R-squared:  0.6817,\tAdjusted R-squared:  0.6808 \n",
       "F-statistic: 745.7 on 43 and 14973 DF,  p-value: < 2.2e-16\n"
      ]
     },
     "metadata": {},
     "output_type": "display_data"
    }
   ],
   "source": [
    "pm1 <- lm(Target ~ poly(landcover_urban_fraction, 3) + poly(nighttime_lights, 3) + poly(ghsl_pop_density, 3) + poly(ghsl_built_1975_to_1990, 3) +  poly(ghsl_built_pre_1975, 3) +  poly(ghsl_built_2000_to_2014, 3) +  poly(ghsl_built_1990_to_2000, 3) +  poly(ghsl_not_built_up, 3) + poly(landcover_crops_fraction, 3) + poly(dist_to_shoreline, 3) + year.1998 + year.1999 + year.2005 + year.2006 + year.2007 + year.2010 + year.2011 + year.2012 + year.2013 + year.2014 + year.2015 + year.2016 + urban_or_rural.0 + urban_or_rural.1 , data = train_dmy)\n",
    "summary(pm1)\n"
   ]
  },
  {
   "cell_type": "markdown",
   "metadata": {},
   "source": [
    "Second fit- after altering some of the coefficients that were not statistically significant in the first\n",
    "\n"
   ]
  },
  {
   "cell_type": "code",
   "execution_count": 18,
   "metadata": {},
   "outputs": [
    {
     "data": {
      "text/plain": [
       "\n",
       "Call:\n",
       "lm(formula = Target ~ poly(landcover_urban_fraction, 3) + poly(nighttime_lights, \n",
       "    3) + poly(ghsl_pop_density, 3) + poly(ghsl_built_1975_to_1990, \n",
       "    2) + poly(ghsl_built_pre_1975, 1) + poly(ghsl_built_2000_to_2014, \n",
       "    3) + poly(ghsl_not_built_up, 2) + poly(dist_to_shoreline, \n",
       "    1) + poly(ghsl_built_1990_to_2000, 1) + year.1998 + year.1999 + \n",
       "    year.2005 + year.2006 + year.2007 + year.2010 + year.2011 + \n",
       "    year.2012 + year.2013 + year.2014 + year.2015 + year.2016 + \n",
       "    urban_or_rural.0 + urban_or_rural.1, data = train_dmy)\n",
       "\n",
       "Residuals:\n",
       "     Min       1Q   Median       3Q      Max \n",
       "-0.47989 -0.07103 -0.00876  0.06176  0.70278 \n",
       "\n",
       "Coefficients: (1 not defined because of singularities)\n",
       "                                    Estimate Std. Error t value Pr(>|t|)    \n",
       "(Intercept)                         0.401150   0.002629 152.564  < 2e-16 ***\n",
       "poly(landcover_urban_fraction, 3)1  3.624221   0.501244   7.230 5.05e-13 ***\n",
       "poly(landcover_urban_fraction, 3)2 -3.026808   0.212633 -14.235  < 2e-16 ***\n",
       "poly(landcover_urban_fraction, 3)3  2.558935   0.127772  20.027  < 2e-16 ***\n",
       "poly(nighttime_lights, 3)1          6.753801   0.307421  21.969  < 2e-16 ***\n",
       "poly(nighttime_lights, 3)2         -3.113994   0.185944 -16.747  < 2e-16 ***\n",
       "poly(nighttime_lights, 3)3          2.011140   0.143722  13.993  < 2e-16 ***\n",
       "poly(ghsl_pop_density, 3)1          0.434257   0.344231   1.262 0.207137    \n",
       "poly(ghsl_pop_density, 3)2         -0.833508   0.191870  -4.344 1.41e-05 ***\n",
       "poly(ghsl_pop_density, 3)3          0.448977   0.144804   3.101 0.001935 ** \n",
       "poly(ghsl_built_1975_to_1990, 2)1   0.965623   0.234165   4.124 3.75e-05 ***\n",
       "poly(ghsl_built_1975_to_1990, 2)2  -1.121934   0.143514  -7.818 5.74e-15 ***\n",
       "poly(ghsl_built_pre_1975, 1)       -1.908433   0.288569  -6.613 3.88e-11 ***\n",
       "poly(ghsl_built_2000_to_2014, 3)1  -0.577208   0.185414  -3.113 0.001855 ** \n",
       "poly(ghsl_built_2000_to_2014, 3)2   0.209625   0.134077   1.563 0.117964    \n",
       "poly(ghsl_built_2000_to_2014, 3)3   0.232295   0.121661   1.909 0.056234 .  \n",
       "poly(ghsl_not_built_up, 2)1        -0.659038   0.306201  -2.152 0.031389 *  \n",
       "poly(ghsl_not_built_up, 2)2         0.646311   0.196448   3.290 0.001004 ** \n",
       "poly(dist_to_shoreline, 1)         -3.966422   0.122586 -32.356  < 2e-16 ***\n",
       "poly(ghsl_built_1990_to_2000, 1)   -0.194141   0.154301  -1.258 0.208341    \n",
       "year.1998                           0.016341   0.007761   2.106 0.035252 *  \n",
       "year.1999                          -0.046349   0.006137  -7.553 4.52e-14 ***\n",
       "year.2005                          -0.116234   0.005540 -20.980  < 2e-16 ***\n",
       "year.2006                           0.060625   0.005849  10.366  < 2e-16 ***\n",
       "year.2007                          -0.017909   0.007296  -2.455 0.014105 *  \n",
       "year.2010                          -0.012280   0.003535  -3.474 0.000515 ***\n",
       "year.2011                          -0.007623   0.003313  -2.301 0.021420 *  \n",
       "year.2012                           0.038688   0.003813  10.147  < 2e-16 ***\n",
       "year.2013                           0.068943   0.003725  18.508  < 2e-16 ***\n",
       "year.2014                           0.066679   0.003094  21.552  < 2e-16 ***\n",
       "year.2015                           0.072875   0.003475  20.973  < 2e-16 ***\n",
       "year.2016                           0.015415   0.004218   3.654 0.000259 ***\n",
       "urban_or_rural.0                   -0.108259   0.002818 -38.423  < 2e-16 ***\n",
       "urban_or_rural.1                          NA         NA      NA       NA    \n",
       "---\n",
       "Signif. codes:  0 '***' 0.001 '**' 0.01 '*' 0.05 '.' 0.1 ' ' 1\n",
       "\n",
       "Residual standard error: 0.1106 on 14984 degrees of freedom\n",
       "Multiple R-squared:  0.6798,\tAdjusted R-squared:  0.6791 \n",
       "F-statistic: 994.1 on 32 and 14984 DF,  p-value: < 2.2e-16\n"
      ]
     },
     "metadata": {},
     "output_type": "display_data"
    }
   ],
   "source": [
    "pm2 <- lm(Target ~ poly(landcover_urban_fraction, 3) + poly(nighttime_lights, 3) + poly(ghsl_pop_density, 3) + poly(ghsl_built_1975_to_1990, 2) +  poly(ghsl_built_pre_1975, 1) + poly(ghsl_built_2000_to_2014, 3) +  poly(ghsl_not_built_up, 2) + poly(dist_to_shoreline, 1) +  poly(ghsl_built_1990_to_2000, 1) + year.1998 + year.1999 + year.2005 + year.2006 + year.2007 + year.2010 + year.2011 + year.2012 + year.2013 + year.2014 + year.2015 + year.2016 + urban_or_rural.0 + urban_or_rural.1, data = train_dmy)\n",
    "summary(pm2)\n"
   ]
  },
  {
   "cell_type": "markdown",
   "metadata": {},
   "source": [
    "Not much of a difference is observed\n",
    "\n",
    "\n",
    "## Linear\n"
   ]
  },
  {
   "cell_type": "code",
   "execution_count": 19,
   "metadata": {},
   "outputs": [
    {
     "data": {
      "text/plain": [
       "\n",
       "Call:\n",
       "lm(formula = Target ~ ., data = train_dmy)\n",
       "\n",
       "Residuals:\n",
       "     Min       1Q   Median       3Q      Max \n",
       "-0.56459 -0.07493 -0.01177  0.06485  0.67136 \n",
       "\n",
       "Coefficients: (2 not defined because of singularities)\n",
       "                                          Estimate Std. Error t value Pr(>|t|)\n",
       "(Intercept)                              4.540e-01  3.923e-03 115.710  < 2e-16\n",
       "year.1998                                2.186e-02  8.141e-03   2.685 0.007263\n",
       "year.1999                               -5.437e-02  6.486e-03  -8.383  < 2e-16\n",
       "year.2005                               -1.308e-01  5.857e-03 -22.335  < 2e-16\n",
       "year.2006                                5.132e-02  6.148e-03   8.348  < 2e-16\n",
       "year.2007                               -2.600e-02  7.673e-03  -3.388 0.000705\n",
       "year.2009                               -3.494e-02  4.935e-03  -7.079 1.52e-12\n",
       "year.2010                               -2.154e-02  3.818e-03  -5.642 1.71e-08\n",
       "year.2011                               -1.163e-02  3.613e-03  -3.219 0.001288\n",
       "year.2012                                2.831e-02  4.081e-03   6.937 4.17e-12\n",
       "year.2013                                5.907e-02  3.997e-03  14.778  < 2e-16\n",
       "year.2014                                4.854e-02  3.397e-03  14.289  < 2e-16\n",
       "year.2015                                6.386e-02  3.757e-03  16.998  < 2e-16\n",
       "year.2016                                5.491e-03  4.498e-03   1.221 0.222197\n",
       "urban_or_rural.0                        -1.614e-01  2.588e-03 -62.365  < 2e-16\n",
       "urban_or_rural.1                                NA         NA      NA       NA\n",
       "ghsl_water_surface                      -6.034e-02  1.409e-02  -4.284 1.85e-05\n",
       "ghsl_built_pre_1975                     -2.432e-01  1.813e-02 -13.413  < 2e-16\n",
       "ghsl_built_1975_to_1990                 -1.027e-01  2.279e-02  -4.507 6.62e-06\n",
       "ghsl_built_1990_to_2000                  6.851e-02  4.034e-02   1.698 0.089463\n",
       "ghsl_built_2000_to_2014                 -8.377e-03  3.272e-02  -0.256 0.797952\n",
       "ghsl_not_built_up                               NA         NA      NA       NA\n",
       "ghsl_pop_density                        -6.580e-05  1.062e-05  -6.197 5.91e-10\n",
       "landcover_crops_fraction                 4.902e-04  6.649e-05   7.372 1.76e-13\n",
       "landcover_urban_fraction                 3.962e-03  1.417e-04  27.960  < 2e-16\n",
       "landcover_water_permanent_10km_fraction  1.054e-03  1.906e-04   5.531 3.24e-08\n",
       "landcover_water_seasonal_10km_fraction   1.810e-03  4.110e-04   4.404 1.07e-05\n",
       "nighttime_lights                         1.044e-03  1.011e-04  10.334  < 2e-16\n",
       "dist_to_capital                         -6.380e-05  4.249e-06 -15.016  < 2e-16\n",
       "dist_to_shoreline                       -1.219e-04  3.429e-06 -35.553  < 2e-16\n",
       "                                           \n",
       "(Intercept)                             ***\n",
       "year.1998                               ** \n",
       "year.1999                               ***\n",
       "year.2005                               ***\n",
       "year.2006                               ***\n",
       "year.2007                               ***\n",
       "year.2009                               ***\n",
       "year.2010                               ***\n",
       "year.2011                               ** \n",
       "year.2012                               ***\n",
       "year.2013                               ***\n",
       "year.2014                               ***\n",
       "year.2015                               ***\n",
       "year.2016                                  \n",
       "urban_or_rural.0                        ***\n",
       "urban_or_rural.1                           \n",
       "ghsl_water_surface                      ***\n",
       "ghsl_built_pre_1975                     ***\n",
       "ghsl_built_1975_to_1990                 ***\n",
       "ghsl_built_1990_to_2000                 .  \n",
       "ghsl_built_2000_to_2014                    \n",
       "ghsl_not_built_up                          \n",
       "ghsl_pop_density                        ***\n",
       "landcover_crops_fraction                ***\n",
       "landcover_urban_fraction                ***\n",
       "landcover_water_permanent_10km_fraction ***\n",
       "landcover_water_seasonal_10km_fraction  ***\n",
       "nighttime_lights                        ***\n",
       "dist_to_capital                         ***\n",
       "dist_to_shoreline                       ***\n",
       "---\n",
       "Signif. codes:  0 '***' 0.001 '**' 0.01 '*' 0.05 '.' 0.1 ' ' 1\n",
       "\n",
       "Residual standard error: 0.1155 on 14989 degrees of freedom\n",
       "Multiple R-squared:  0.6505,\tAdjusted R-squared:  0.6499 \n",
       "F-statistic:  1033 on 27 and 14989 DF,  p-value: < 2.2e-16\n"
      ]
     },
     "metadata": {},
     "output_type": "display_data"
    }
   ],
   "source": [
    "lm1 <- lm(Target ~ . , data = train_dmy)\n",
    "summary(lm1)\n"
   ]
  },
  {
   "cell_type": "markdown",
   "metadata": {},
   "source": [
    "The polynomial model is a better fit compared to the linear as per the adjusted r-squared values\n",
    "\n",
    "\n",
    "## Ridge \n",
    "\n",
    "\n",
    "Looking at the optimal lambda value\n"
   ]
  },
  {
   "cell_type": "code",
   "execution_count": 20,
   "metadata": {},
   "outputs": [
    {
     "data": {
      "text/html": [
       "0.0144967892990774"
      ],
      "text/latex": [
       "0.0144967892990774"
      ],
      "text/markdown": [
       "0.0144967892990774"
      ],
      "text/plain": [
       "[1] 0.01449679"
      ]
     },
     "metadata": {},
     "output_type": "display_data"
    }
   ],
   "source": [
    "ridge_cv <- cv.glmnet(as.matrix(train_dmy[,-30]), train$Target, alpha = 0)\n",
    "ridge_cv$lambda.min\n"
   ]
  },
  {
   "cell_type": "markdown",
   "metadata": {},
   "source": [
    "Fitting the model at the optimal lambda value - observing the coefficients\n",
    "\n"
   ]
  },
  {
   "cell_type": "code",
   "execution_count": 21,
   "metadata": {},
   "outputs": [
    {
     "data": {
      "text/plain": [
       "30 x 1 sparse Matrix of class \"dgCMatrix\"\n",
       "                                                   s0\n",
       "(Intercept)                              3.753833e-01\n",
       "year.1998                                1.642763e-02\n",
       "year.1999                               -5.192223e-02\n",
       "year.2005                               -1.267052e-01\n",
       "year.2006                                4.284594e-02\n",
       "year.2007                               -2.475578e-02\n",
       "year.2009                               -3.183823e-02\n",
       "year.2010                               -2.374582e-02\n",
       "year.2011                               -1.371403e-02\n",
       "year.2012                                2.310320e-02\n",
       "year.2013                                5.299292e-02\n",
       "year.2014                                4.306808e-02\n",
       "year.2015                                5.664339e-02\n",
       "year.2016                                1.593499e-03\n",
       "urban_or_rural.0                        -8.250391e-02\n",
       "urban_or_rural.1                         8.198380e-02\n",
       "ghsl_water_surface                       2.600696e-02\n",
       "ghsl_built_pre_1975                     -9.675308e-02\n",
       "ghsl_built_1975_to_1990                  6.171143e-02\n",
       "ghsl_built_1990_to_2000                  1.937638e-01\n",
       "ghsl_built_2000_to_2014                  1.891359e-01\n",
       "ghsl_not_built_up                        4.173794e-03\n",
       "ghsl_pop_density                        -1.676885e-05\n",
       "landcover_crops_fraction                 3.904265e-04\n",
       "landcover_urban_fraction                 2.173561e-03\n",
       "landcover_water_permanent_10km_fraction  2.850120e-04\n",
       "landcover_water_seasonal_10km_fraction   1.360854e-03\n",
       "nighttime_lights                         9.500088e-04\n",
       "dist_to_capital                         -6.388478e-05\n",
       "dist_to_shoreline                       -1.101839e-04"
      ]
     },
     "metadata": {},
     "output_type": "display_data"
    }
   ],
   "source": [
    "rm2 <- glmnet(as.matrix(train_dmy[,-30]), train_dmy$Target, alpha = 0, lambda = ridge_cv$lambda.min)\n",
    "coef(rm2)\n"
   ]
  },
  {
   "cell_type": "markdown",
   "metadata": {},
   "source": [
    "Predictions on the test dataset\n",
    "\n"
   ]
  },
  {
   "cell_type": "code",
   "execution_count": 22,
   "metadata": {},
   "outputs": [],
   "source": [
    "pred <- predict(rm2, s=ridge_cv$lambda.min, newx=as.matrix(test_dmy[,-30]))\n",
    "\n"
   ]
  },
  {
   "cell_type": "markdown",
   "metadata": {},
   "source": [
    "Calculating R2 and RMSE for the ridge model\n",
    "\n"
   ]
  },
  {
   "cell_type": "code",
   "execution_count": 23,
   "metadata": {},
   "outputs": [
    {
     "data": {
      "text/html": [
       "<table>\n",
       "<thead><tr><th scope=col>1</th></tr></thead>\n",
       "<tbody>\n",
       "\t<tr><td>0.647861</td></tr>\n",
       "</tbody>\n",
       "</table>\n"
      ],
      "text/latex": [
       "\\begin{tabular}{l}\n",
       " 1\\\\\n",
       "\\hline\n",
       "\t 0.647861\\\\\n",
       "\\end{tabular}\n"
      ],
      "text/markdown": [
       "\n",
       "| 1 |\n",
       "|---|\n",
       "| 0.647861 |\n",
       "\n"
      ],
      "text/plain": [
       "     1       \n",
       "[1,] 0.647861"
      ]
     },
     "metadata": {},
     "output_type": "display_data"
    },
    {
     "data": {
      "text/html": [
       "0.114361074424365"
      ],
      "text/latex": [
       "0.114361074424365"
      ],
      "text/markdown": [
       "0.114361074424365"
      ],
      "text/plain": [
       "[1] 0.1143611"
      ]
     },
     "metadata": {},
     "output_type": "display_data"
    }
   ],
   "source": [
    "R2(pred, test_dmy$Target)\n",
    "RMSE(pred, test_dmy$Target)\n"
   ]
  },
  {
   "cell_type": "markdown",
   "metadata": {},
   "source": [
    "## Lasso\n",
    "\n",
    "Optimal lambda value:\n"
   ]
  },
  {
   "cell_type": "code",
   "execution_count": 24,
   "metadata": {},
   "outputs": [
    {
     "data": {
      "text/html": [
       "0.000178723193779357"
      ],
      "text/latex": [
       "0.000178723193779357"
      ],
      "text/markdown": [
       "0.000178723193779357"
      ],
      "text/plain": [
       "[1] 0.0001787232"
      ]
     },
     "metadata": {},
     "output_type": "display_data"
    }
   ],
   "source": [
    "lasso_cv <- cv.glmnet(as.matrix(train_dmy[,-30]), train$Target, alpha = 1)\n",
    "lasso_cv$lambda.min\n"
   ]
  },
  {
   "cell_type": "markdown",
   "metadata": {},
   "source": [
    "Fitting the model at the optimal lambda value - observing the coefficients\n",
    "\n"
   ]
  },
  {
   "cell_type": "code",
   "execution_count": 25,
   "metadata": {},
   "outputs": [
    {
     "data": {
      "text/plain": [
       "30 x 1 sparse Matrix of class \"dgCMatrix\"\n",
       "                                                   s0\n",
       "(Intercept)                              4.519760e-01\n",
       "year.1998                                1.983215e-02\n",
       "year.1999                               -5.379398e-02\n",
       "year.2005                               -1.302187e-01\n",
       "year.2006                                4.986318e-02\n",
       "year.2007                               -2.460428e-02\n",
       "year.2009                               -3.398397e-02\n",
       "year.2010                               -2.129976e-02\n",
       "year.2011                               -1.154193e-02\n",
       "year.2012                                2.715283e-02\n",
       "year.2013                                5.801185e-02\n",
       "year.2014                                4.789923e-02\n",
       "year.2015                                6.301519e-02\n",
       "year.2016                                4.470252e-03\n",
       "urban_or_rural.0                        -1.617221e-01\n",
       "urban_or_rural.1                         3.220700e-12\n",
       "ghsl_water_surface                      -4.561973e-02\n",
       "ghsl_built_pre_1975                     -2.229178e-01\n",
       "ghsl_built_1975_to_1990                 -7.456758e-02\n",
       "ghsl_built_1990_to_2000                  7.502502e-02\n",
       "ghsl_built_2000_to_2014                  8.006337e-03\n",
       "ghsl_not_built_up                        2.763242e-03\n",
       "ghsl_pop_density                        -6.075720e-05\n",
       "landcover_crops_fraction                 4.734539e-04\n",
       "landcover_urban_fraction                 3.807171e-03\n",
       "landcover_water_permanent_10km_fraction  9.167222e-04\n",
       "landcover_water_seasonal_10km_fraction   1.669260e-03\n",
       "nighttime_lights                         9.772942e-04\n",
       "dist_to_capital                         -6.351262e-05\n",
       "dist_to_shoreline                       -1.204945e-04"
      ]
     },
     "metadata": {},
     "output_type": "display_data"
    }
   ],
   "source": [
    "lsm1 <-  glmnet(as.matrix(train_dmy[,-30]), train_dmy$Target, alpha = 1, lambda = lasso_cv$lambda.min)\n",
    "coef(lsm1)\n"
   ]
  },
  {
   "cell_type": "markdown",
   "metadata": {},
   "source": [
    "Predictions on the test data\n",
    "\n"
   ]
  },
  {
   "cell_type": "code",
   "execution_count": 26,
   "metadata": {},
   "outputs": [],
   "source": [
    "pred2 <- predict(lsm1, s=lasso_cv$lambda.min, newx=as.matrix(test_dmy[,-30]))\n",
    "\n"
   ]
  },
  {
   "cell_type": "markdown",
   "metadata": {},
   "source": [
    "Calculating R2 and RMSE\n",
    "\n"
   ]
  },
  {
   "cell_type": "code",
   "execution_count": 27,
   "metadata": {},
   "outputs": [
    {
     "data": {
      "text/html": [
       "<table>\n",
       "<thead><tr><th scope=col>1</th></tr></thead>\n",
       "<tbody>\n",
       "\t<tr><td>0.6506553</td></tr>\n",
       "</tbody>\n",
       "</table>\n"
      ],
      "text/latex": [
       "\\begin{tabular}{l}\n",
       " 1\\\\\n",
       "\\hline\n",
       "\t 0.6506553\\\\\n",
       "\\end{tabular}\n"
      ],
      "text/markdown": [
       "\n",
       "| 1 |\n",
       "|---|\n",
       "| 0.6506553 |\n",
       "\n"
      ],
      "text/plain": [
       "     1        \n",
       "[1,] 0.6506553"
      ]
     },
     "metadata": {},
     "output_type": "display_data"
    },
    {
     "data": {
      "text/html": [
       "0.113821855244441"
      ],
      "text/latex": [
       "0.113821855244441"
      ],
      "text/markdown": [
       "0.113821855244441"
      ],
      "text/plain": [
       "[1] 0.1138219"
      ]
     },
     "metadata": {},
     "output_type": "display_data"
    }
   ],
   "source": [
    "R2(pred2, test_dmy$Target)\n",
    "RMSE(pred2, test_dmy$Target)\n"
   ]
  },
  {
   "cell_type": "markdown",
   "metadata": {},
   "source": [
    "## Stepwise\n",
    "\n",
    "10 fold cross validation to estimate the average prediction error (RMSE)\n"
   ]
  },
  {
   "cell_type": "code",
   "execution_count": 28,
   "metadata": {},
   "outputs": [],
   "source": [
    "train_control <- trainControl(method = \"cv\", number = 10)\n",
    "\n"
   ]
  },
  {
   "cell_type": "markdown",
   "metadata": {},
   "source": [
    "Fitting the model via backward elimination - removing the least significant values in each step\n",
    "Specifying the tuning parameter nvmax, which corresponds to the maximum number of predictors to be incorporated in the model(5)\n",
    "Model automatically chooses the best RMSE value that minimizes the error (lowest)\n"
   ]
  },
  {
   "cell_type": "code",
   "execution_count": 33,
   "metadata": {},
   "outputs": [
    {
     "name": "stderr",
     "output_type": "stream",
     "text": [
      "Warning message in leaps.setup(x, y, wt = weights, nbest = nbest, nvmax = nvmax, :\n",
      "\"2  linear dependencies found\""
     ]
    },
    {
     "name": "stdout",
     "output_type": "stream",
     "text": [
      "Reordering variables and trying again:\n"
     ]
    },
    {
     "name": "stderr",
     "output_type": "stream",
     "text": [
      "Warning message in leaps.setup(x, y, wt = weights, nbest = nbest, nvmax = nvmax, :\n",
      "\"2  linear dependencies found\""
     ]
    },
    {
     "name": "stdout",
     "output_type": "stream",
     "text": [
      "Reordering variables and trying again:\n"
     ]
    },
    {
     "name": "stderr",
     "output_type": "stream",
     "text": [
      "Warning message in leaps.setup(x, y, wt = weights, nbest = nbest, nvmax = nvmax, :\n",
      "\"2  linear dependencies found\""
     ]
    },
    {
     "name": "stdout",
     "output_type": "stream",
     "text": [
      "Reordering variables and trying again:\n"
     ]
    },
    {
     "name": "stderr",
     "output_type": "stream",
     "text": [
      "Warning message in leaps.setup(x, y, wt = weights, nbest = nbest, nvmax = nvmax, :\n",
      "\"2  linear dependencies found\""
     ]
    },
    {
     "name": "stdout",
     "output_type": "stream",
     "text": [
      "Reordering variables and trying again:\n"
     ]
    },
    {
     "name": "stderr",
     "output_type": "stream",
     "text": [
      "Warning message in leaps.setup(x, y, wt = weights, nbest = nbest, nvmax = nvmax, :\n",
      "\"2  linear dependencies found\""
     ]
    },
    {
     "name": "stdout",
     "output_type": "stream",
     "text": [
      "Reordering variables and trying again:\n"
     ]
    },
    {
     "name": "stderr",
     "output_type": "stream",
     "text": [
      "Warning message in leaps.setup(x, y, wt = weights, nbest = nbest, nvmax = nvmax, :\n",
      "\"2  linear dependencies found\""
     ]
    },
    {
     "name": "stdout",
     "output_type": "stream",
     "text": [
      "Reordering variables and trying again:\n"
     ]
    },
    {
     "name": "stderr",
     "output_type": "stream",
     "text": [
      "Warning message in leaps.setup(x, y, wt = weights, nbest = nbest, nvmax = nvmax, :\n",
      "\"2  linear dependencies found\""
     ]
    },
    {
     "name": "stdout",
     "output_type": "stream",
     "text": [
      "Reordering variables and trying again:\n"
     ]
    },
    {
     "name": "stderr",
     "output_type": "stream",
     "text": [
      "Warning message in leaps.setup(x, y, wt = weights, nbest = nbest, nvmax = nvmax, :\n",
      "\"2  linear dependencies found\""
     ]
    },
    {
     "name": "stdout",
     "output_type": "stream",
     "text": [
      "Reordering variables and trying again:\n"
     ]
    },
    {
     "name": "stderr",
     "output_type": "stream",
     "text": [
      "Warning message in leaps.setup(x, y, wt = weights, nbest = nbest, nvmax = nvmax, :\n",
      "\"2  linear dependencies found\""
     ]
    },
    {
     "name": "stdout",
     "output_type": "stream",
     "text": [
      "Reordering variables and trying again:\n"
     ]
    },
    {
     "name": "stderr",
     "output_type": "stream",
     "text": [
      "Warning message in leaps.setup(x, y, wt = weights, nbest = nbest, nvmax = nvmax, :\n",
      "\"2  linear dependencies found\""
     ]
    },
    {
     "name": "stdout",
     "output_type": "stream",
     "text": [
      "Reordering variables and trying again:\n"
     ]
    },
    {
     "name": "stderr",
     "output_type": "stream",
     "text": [
      "Warning message in leaps.setup(x, y, wt = weights, nbest = nbest, nvmax = nvmax, :\n",
      "\"2  linear dependencies found\""
     ]
    },
    {
     "name": "stdout",
     "output_type": "stream",
     "text": [
      "Reordering variables and trying again:\n"
     ]
    }
   ],
   "source": [
    "stm1 <- train(\n",
    "       Target~., data = train_dmy,\n",
    "       method = \"leapBackward\", \n",
    "       tuneGrid = data.frame(nvmax = 1:5),\n",
    "       trControl = train_control\n",
    ")\n"
   ]
  },
  {
   "cell_type": "markdown",
   "metadata": {},
   "source": [
    "Results:\n",
    "\n"
   ]
  },
  {
   "cell_type": "code",
   "execution_count": 34,
   "metadata": {},
   "outputs": [
    {
     "data": {
      "text/html": [
       "<table>\n",
       "<thead><tr><th scope=col>nvmax</th><th scope=col>RMSE</th><th scope=col>Rsquared</th><th scope=col>MAE</th><th scope=col>RMSESD</th><th scope=col>RsquaredSD</th><th scope=col>MAESD</th></tr></thead>\n",
       "<tbody>\n",
       "\t<tr><td>1          </td><td>0.1436451  </td><td>0.4584257  </td><td>0.1106971  </td><td>0.002972797</td><td>0.02011425 </td><td>0.002275921</td></tr>\n",
       "\t<tr><td>2          </td><td>0.1436001  </td><td>0.4587691  </td><td>0.1106303  </td><td>0.002989877</td><td>0.02026673 </td><td>0.002271297</td></tr>\n",
       "\t<tr><td>3          </td><td>0.1341428  </td><td>0.5278065  </td><td>0.1035106  </td><td>0.002694744</td><td>0.01833887 </td><td>0.002101829</td></tr>\n",
       "\t<tr><td>4          </td><td>0.1315786  </td><td>0.5456465  </td><td>0.1013320  </td><td>0.002942150</td><td>0.01986902 </td><td>0.002380816</td></tr>\n",
       "\t<tr><td>5          </td><td>0.1308629  </td><td>0.5505588  </td><td>0.1008785  </td><td>0.002794719</td><td>0.01916328 </td><td>0.002236299</td></tr>\n",
       "</tbody>\n",
       "</table>\n"
      ],
      "text/latex": [
       "\\begin{tabular}{r|lllllll}\n",
       " nvmax & RMSE & Rsquared & MAE & RMSESD & RsquaredSD & MAESD\\\\\n",
       "\\hline\n",
       "\t 1           & 0.1436451   & 0.4584257   & 0.1106971   & 0.002972797 & 0.02011425  & 0.002275921\\\\\n",
       "\t 2           & 0.1436001   & 0.4587691   & 0.1106303   & 0.002989877 & 0.02026673  & 0.002271297\\\\\n",
       "\t 3           & 0.1341428   & 0.5278065   & 0.1035106   & 0.002694744 & 0.01833887  & 0.002101829\\\\\n",
       "\t 4           & 0.1315786   & 0.5456465   & 0.1013320   & 0.002942150 & 0.01986902  & 0.002380816\\\\\n",
       "\t 5           & 0.1308629   & 0.5505588   & 0.1008785   & 0.002794719 & 0.01916328  & 0.002236299\\\\\n",
       "\\end{tabular}\n"
      ],
      "text/markdown": [
       "\n",
       "| nvmax | RMSE | Rsquared | MAE | RMSESD | RsquaredSD | MAESD |\n",
       "|---|---|---|---|---|---|---|\n",
       "| 1           | 0.1436451   | 0.4584257   | 0.1106971   | 0.002972797 | 0.02011425  | 0.002275921 |\n",
       "| 2           | 0.1436001   | 0.4587691   | 0.1106303   | 0.002989877 | 0.02026673  | 0.002271297 |\n",
       "| 3           | 0.1341428   | 0.5278065   | 0.1035106   | 0.002694744 | 0.01833887  | 0.002101829 |\n",
       "| 4           | 0.1315786   | 0.5456465   | 0.1013320   | 0.002942150 | 0.01986902  | 0.002380816 |\n",
       "| 5           | 0.1308629   | 0.5505588   | 0.1008785   | 0.002794719 | 0.01916328  | 0.002236299 |\n",
       "\n"
      ],
      "text/plain": [
       "  nvmax RMSE      Rsquared  MAE       RMSESD      RsquaredSD MAESD      \n",
       "1 1     0.1436451 0.4584257 0.1106971 0.002972797 0.02011425 0.002275921\n",
       "2 2     0.1436001 0.4587691 0.1106303 0.002989877 0.02026673 0.002271297\n",
       "3 3     0.1341428 0.5278065 0.1035106 0.002694744 0.01833887 0.002101829\n",
       "4 4     0.1315786 0.5456465 0.1013320 0.002942150 0.01986902 0.002380816\n",
       "5 5     0.1308629 0.5505588 0.1008785 0.002794719 0.01916328 0.002236299"
      ]
     },
     "metadata": {},
     "output_type": "display_data"
    },
    {
     "data": {
      "text/html": [
       "<table>\n",
       "<thead><tr><th></th><th scope=col>nvmax</th></tr></thead>\n",
       "<tbody>\n",
       "\t<tr><th scope=row>5</th><td>5</td></tr>\n",
       "</tbody>\n",
       "</table>\n"
      ],
      "text/latex": [
       "\\begin{tabular}{r|l}\n",
       "  & nvmax\\\\\n",
       "\\hline\n",
       "\t5 & 5\\\\\n",
       "\\end{tabular}\n"
      ],
      "text/markdown": [
       "\n",
       "| <!--/--> | nvmax |\n",
       "|---|---|\n",
       "| 5 | 5 |\n",
       "\n"
      ],
      "text/plain": [
       "  nvmax\n",
       "5 5    "
      ]
     },
     "metadata": {},
     "output_type": "display_data"
    },
    {
     "data": {
      "text/plain": [
       "Subset selection object\n",
       "29 Variables  (and intercept)\n",
       "                                        Forced in Forced out\n",
       "year.1998                                   FALSE      FALSE\n",
       "year.1999                                   FALSE      FALSE\n",
       "year.2005                                   FALSE      FALSE\n",
       "year.2006                                   FALSE      FALSE\n",
       "year.2007                                   FALSE      FALSE\n",
       "year.2009                                   FALSE      FALSE\n",
       "year.2010                                   FALSE      FALSE\n",
       "year.2011                                   FALSE      FALSE\n",
       "year.2012                                   FALSE      FALSE\n",
       "year.2013                                   FALSE      FALSE\n",
       "year.2014                                   FALSE      FALSE\n",
       "year.2015                                   FALSE      FALSE\n",
       "year.2016                                   FALSE      FALSE\n",
       "urban_or_rural.0                            FALSE      FALSE\n",
       "ghsl_water_surface                          FALSE      FALSE\n",
       "ghsl_built_pre_1975                         FALSE      FALSE\n",
       "ghsl_built_1975_to_1990                     FALSE      FALSE\n",
       "ghsl_built_1990_to_2000                     FALSE      FALSE\n",
       "ghsl_built_2000_to_2014                     FALSE      FALSE\n",
       "ghsl_pop_density                            FALSE      FALSE\n",
       "landcover_crops_fraction                    FALSE      FALSE\n",
       "landcover_urban_fraction                    FALSE      FALSE\n",
       "landcover_water_permanent_10km_fraction     FALSE      FALSE\n",
       "landcover_water_seasonal_10km_fraction      FALSE      FALSE\n",
       "nighttime_lights                            FALSE      FALSE\n",
       "dist_to_capital                             FALSE      FALSE\n",
       "dist_to_shoreline                           FALSE      FALSE\n",
       "urban_or_rural.1                            FALSE      FALSE\n",
       "ghsl_not_built_up                           FALSE      FALSE\n",
       "1 subsets of each size up to 6\n",
       "Selection Algorithm: backward\n",
       "         year.1998 year.1999 year.2005 year.2006 year.2007 year.2009 year.2010\n",
       "1  ( 1 ) \" \"       \" \"       \" \"       \" \"       \" \"       \" \"       \" \"      \n",
       "2  ( 1 ) \" \"       \" \"       \" \"       \" \"       \" \"       \" \"       \" \"      \n",
       "3  ( 1 ) \" \"       \" \"       \" \"       \" \"       \" \"       \" \"       \" \"      \n",
       "4  ( 1 ) \" \"       \" \"       \"*\"       \" \"       \" \"       \" \"       \" \"      \n",
       "5  ( 1 ) \" \"       \" \"       \"*\"       \" \"       \" \"       \" \"       \" \"      \n",
       "6  ( 1 ) \" \"       \" \"       \"*\"       \" \"       \" \"       \" \"       \" \"      \n",
       "         year.2011 year.2012 year.2013 year.2014 year.2015 year.2016\n",
       "1  ( 1 ) \" \"       \" \"       \" \"       \" \"       \" \"       \" \"      \n",
       "2  ( 1 ) \" \"       \" \"       \" \"       \" \"       \" \"       \" \"      \n",
       "3  ( 1 ) \" \"       \" \"       \" \"       \" \"       \" \"       \" \"      \n",
       "4  ( 1 ) \" \"       \" \"       \" \"       \" \"       \" \"       \" \"      \n",
       "5  ( 1 ) \" \"       \" \"       \" \"       \" \"       \" \"       \" \"      \n",
       "6  ( 1 ) \" \"       \" \"       \" \"       \" \"       \"*\"       \" \"      \n",
       "         urban_or_rural.0 urban_or_rural.1 ghsl_water_surface\n",
       "1  ( 1 ) \"*\"              \" \"              \" \"               \n",
       "2  ( 1 ) \"*\"              \" \"              \" \"               \n",
       "3  ( 1 ) \"*\"              \" \"              \" \"               \n",
       "4  ( 1 ) \"*\"              \" \"              \" \"               \n",
       "5  ( 1 ) \"*\"              \" \"              \" \"               \n",
       "6  ( 1 ) \"*\"              \" \"              \" \"               \n",
       "         ghsl_built_pre_1975 ghsl_built_1975_to_1990 ghsl_built_1990_to_2000\n",
       "1  ( 1 ) \" \"                 \" \"                     \" \"                    \n",
       "2  ( 1 ) \" \"                 \" \"                     \" \"                    \n",
       "3  ( 1 ) \" \"                 \" \"                     \" \"                    \n",
       "4  ( 1 ) \" \"                 \" \"                     \" \"                    \n",
       "5  ( 1 ) \" \"                 \" \"                     \" \"                    \n",
       "6  ( 1 ) \" \"                 \" \"                     \" \"                    \n",
       "         ghsl_built_2000_to_2014 ghsl_not_built_up ghsl_pop_density\n",
       "1  ( 1 ) \" \"                     \" \"               \" \"             \n",
       "2  ( 1 ) \" \"                     \" \"               \" \"             \n",
       "3  ( 1 ) \" \"                     \" \"               \" \"             \n",
       "4  ( 1 ) \" \"                     \" \"               \" \"             \n",
       "5  ( 1 ) \" \"                     \" \"               \" \"             \n",
       "6  ( 1 ) \" \"                     \" \"               \" \"             \n",
       "         landcover_crops_fraction landcover_urban_fraction\n",
       "1  ( 1 ) \" \"                      \" \"                     \n",
       "2  ( 1 ) \" \"                      \"*\"                     \n",
       "3  ( 1 ) \" \"                      \"*\"                     \n",
       "4  ( 1 ) \" \"                      \"*\"                     \n",
       "5  ( 1 ) \" \"                      \"*\"                     \n",
       "6  ( 1 ) \" \"                      \"*\"                     \n",
       "         landcover_water_permanent_10km_fraction\n",
       "1  ( 1 ) \" \"                                    \n",
       "2  ( 1 ) \" \"                                    \n",
       "3  ( 1 ) \" \"                                    \n",
       "4  ( 1 ) \" \"                                    \n",
       "5  ( 1 ) \" \"                                    \n",
       "6  ( 1 ) \" \"                                    \n",
       "         landcover_water_seasonal_10km_fraction nighttime_lights\n",
       "1  ( 1 ) \" \"                                    \" \"             \n",
       "2  ( 1 ) \" \"                                    \" \"             \n",
       "3  ( 1 ) \" \"                                    \" \"             \n",
       "4  ( 1 ) \" \"                                    \" \"             \n",
       "5  ( 1 ) \" \"                                    \" \"             \n",
       "6  ( 1 ) \" \"                                    \" \"             \n",
       "         dist_to_capital dist_to_shoreline\n",
       "1  ( 1 ) \" \"             \" \"              \n",
       "2  ( 1 ) \" \"             \" \"              \n",
       "3  ( 1 ) \" \"             \"*\"              \n",
       "4  ( 1 ) \" \"             \"*\"              \n",
       "5  ( 1 ) \"*\"             \"*\"              \n",
       "6  ( 1 ) \"*\"             \"*\"              "
      ]
     },
     "metadata": {},
     "output_type": "display_data"
    },
    {
     "data": {
      "text/html": [
       "<dl class=dl-horizontal>\n",
       "\t<dt>(Intercept)</dt>\n",
       "\t\t<dd>0.710107413106978</dd>\n",
       "\t<dt>year.2005</dt>\n",
       "\t\t<dd>-0.15210063953379</dd>\n",
       "\t<dt>urban_or_rural.0</dt>\n",
       "\t\t<dd>-0.209263375789393</dd>\n",
       "\t<dt>landcover_water_seasonal_10km_fraction</dt>\n",
       "\t\t<dd>-0.00127858347541479</dd>\n",
       "\t<dt>urban_or_rural.1</dt>\n",
       "\t\t<dd>0</dd>\n",
       "\t<dt>ghsl_not_built_up</dt>\n",
       "\t\t<dd>-0.249402383985978</dd>\n",
       "</dl>\n"
      ],
      "text/latex": [
       "\\begin{description*}\n",
       "\\item[(Intercept)] 0.710107413106978\n",
       "\\item[year.2005] -0.15210063953379\n",
       "\\item[urban\\textbackslash{}\\_or\\textbackslash{}\\_rural.0] -0.209263375789393\n",
       "\\item[landcover\\textbackslash{}\\_water\\textbackslash{}\\_seasonal\\textbackslash{}\\_10km\\textbackslash{}\\_fraction] -0.00127858347541479\n",
       "\\item[urban\\textbackslash{}\\_or\\textbackslash{}\\_rural.1] 0\n",
       "\\item[ghsl\\textbackslash{}\\_not\\textbackslash{}\\_built\\textbackslash{}\\_up] -0.249402383985978\n",
       "\\end{description*}\n"
      ],
      "text/markdown": [
       "(Intercept)\n",
       ":   0.710107413106978year.2005\n",
       ":   -0.15210063953379urban_or_rural.0\n",
       ":   -0.209263375789393landcover_water_seasonal_10km_fraction\n",
       ":   -0.00127858347541479urban_or_rural.1\n",
       ":   0ghsl_not_built_up\n",
       ":   -0.249402383985978\n",
       "\n"
      ],
      "text/plain": [
       "                           (Intercept)                              year.2005 \n",
       "                           0.710107413                           -0.152100640 \n",
       "                      urban_or_rural.0 landcover_water_seasonal_10km_fraction \n",
       "                          -0.209263376                           -0.001278583 \n",
       "                      urban_or_rural.1                      ghsl_not_built_up \n",
       "                           0.000000000                           -0.249402384 "
      ]
     },
     "metadata": {},
     "output_type": "display_data"
    }
   ],
   "source": [
    "stm1$results\n",
    "stm1$bestTune\n",
    "summary(stm1$finalModel)\n",
    "coef(stm1$finalModel, 5)\n"
   ]
  },
  {
   "cell_type": "markdown",
   "metadata": {},
   "source": [
    "## Elastic Net\n",
    "\n",
    "The caret package automatically selects the best alpha and lambda valuesa as tuning parameters for the model\n",
    "\n",
    "Testing 10 different combinations of alpha and lambda\n"
   ]
  },
  {
   "cell_type": "code",
   "execution_count": 38,
   "metadata": {},
   "outputs": [],
   "source": [
    "elm2 <- train(\n",
    "  Target ~., data = train_dmy, method = \"glmnet\",\n",
    "  trControl = trainControl(\"cv\", number = 10),\n",
    "  tuneLength = 10\n",
    ")\n"
   ]
  },
  {
   "cell_type": "markdown",
   "metadata": {},
   "source": [
    "Best tune:\n",
    "\n"
   ]
  },
  {
   "cell_type": "code",
   "execution_count": 39,
   "metadata": {},
   "outputs": [
    {
     "data": {
      "text/html": [
       "<table>\n",
       "<thead><tr><th></th><th scope=col>alpha</th><th scope=col>lambda</th></tr></thead>\n",
       "<tbody>\n",
       "\t<tr><th scope=row>62</th><td>0.7         </td><td>0.0001409842</td></tr>\n",
       "</tbody>\n",
       "</table>\n"
      ],
      "text/latex": [
       "\\begin{tabular}{r|ll}\n",
       "  & alpha & lambda\\\\\n",
       "\\hline\n",
       "\t62 & 0.7          & 0.0001409842\\\\\n",
       "\\end{tabular}\n"
      ],
      "text/markdown": [
       "\n",
       "| <!--/--> | alpha | lambda |\n",
       "|---|---|---|\n",
       "| 62 | 0.7          | 0.0001409842 |\n",
       "\n"
      ],
      "text/plain": [
       "   alpha lambda      \n",
       "62 0.7   0.0001409842"
      ]
     },
     "metadata": {},
     "output_type": "display_data"
    }
   ],
   "source": [
    "elm2$bestTune\n",
    "\n"
   ]
  },
  {
   "cell_type": "markdown",
   "metadata": {},
   "source": [
    "Coefficients of the best tune:\n",
    "\n"
   ]
  },
  {
   "cell_type": "code",
   "execution_count": 40,
   "metadata": {},
   "outputs": [
    {
     "data": {
      "text/plain": [
       "30 x 1 sparse Matrix of class \"dgCMatrix\"\n",
       "                                                    1\n",
       "(Intercept)                              3.733115e-01\n",
       "year.1998                                2.031572e-02\n",
       "year.1999                               -5.378236e-02\n",
       "year.2005                               -1.304366e-01\n",
       "year.2006                                5.003161e-02\n",
       "year.2007                               -2.488133e-02\n",
       "year.2009                               -3.412307e-02\n",
       "year.2010                               -2.138941e-02\n",
       "year.2011                               -1.160037e-02\n",
       "year.2012                                2.731482e-02\n",
       "year.2013                                5.818477e-02\n",
       "year.2014                                4.794081e-02\n",
       "year.2015                                6.309708e-02\n",
       "year.2016                                4.570633e-03\n",
       "urban_or_rural.0                        -8.032290e-02\n",
       "urban_or_rural.1                         8.157769e-02\n",
       "ghsl_water_surface                      -4.889906e-02\n",
       "ghsl_built_pre_1975                     -2.282438e-01\n",
       "ghsl_built_1975_to_1990                 -8.051792e-02\n",
       "ghsl_built_1990_to_2000                  7.284970e-02\n",
       "ghsl_built_2000_to_2014                  4.772960e-03\n",
       "ghsl_not_built_up                        .           \n",
       "ghsl_pop_density                        -5.947172e-05\n",
       "landcover_crops_fraction                 4.742159e-04\n",
       "landcover_urban_fraction                 3.806773e-03\n",
       "landcover_water_permanent_10km_fraction  9.267374e-04\n",
       "landcover_water_seasonal_10km_fraction   1.684854e-03\n",
       "nighttime_lights                         9.851689e-04\n",
       "dist_to_capital                         -6.359066e-05\n",
       "dist_to_shoreline                       -1.206347e-04"
      ]
     },
     "metadata": {},
     "output_type": "display_data"
    }
   ],
   "source": [
    "coef(elm2$finalModel, elm2$bestTune$lambda)\n",
    "\n"
   ]
  },
  {
   "cell_type": "markdown",
   "metadata": {},
   "source": [
    "Predictions on the test data\n",
    "\n"
   ]
  },
  {
   "cell_type": "code",
   "execution_count": 41,
   "metadata": {},
   "outputs": [],
   "source": [
    "pred <- elm2 %>% \n",
    "  predict(as.matrix(test_dmy[,-30]))\n"
   ]
  },
  {
   "cell_type": "markdown",
   "metadata": {},
   "source": [
    "Calculating R2 and RMSE\n",
    "\n"
   ]
  },
  {
   "cell_type": "code",
   "execution_count": 42,
   "metadata": {},
   "outputs": [
    {
     "data": {
      "text/html": [
       "0.650695117744217"
      ],
      "text/latex": [
       "0.650695117744217"
      ],
      "text/markdown": [
       "0.650695117744217"
      ],
      "text/plain": [
       "[1] 0.6506951"
      ]
     },
     "metadata": {},
     "output_type": "display_data"
    },
    {
     "data": {
      "text/html": [
       "0.113815088234866"
      ],
      "text/latex": [
       "0.113815088234866"
      ],
      "text/markdown": [
       "0.113815088234866"
      ],
      "text/plain": [
       "[1] 0.1138151"
      ]
     },
     "metadata": {},
     "output_type": "display_data"
    }
   ],
   "source": [
    "R2(pred, test_dmy$Target)\n",
    "RMSE(pred, test_dmy$Target)\n"
   ]
  },
  {
   "cell_type": "markdown",
   "metadata": {},
   "source": [
    "The R2 and RMSE values for all the regression models fit were almost the same value, with the polynomial model showing the best fit for the data, as per the test data\n",
    "\n",
    "\n",
    "The various models were tested on the validation set, and the polynomial model sit had the best fit, with an RMSE of about 0.1203\n"
   ]
  }
 ],
 "metadata": {
  "anaconda-cloud": "",
  "kernelspec": {
   "display_name": "R",
   "language": "R",
   "name": "ir"
  },
  "language_info": {
   "codemirror_mode": "r",
   "file_extension": ".r",
   "mimetype": "text/x-r-source",
   "name": "R",
   "pygments_lexer": "r",
   "version": "3.6.1"
  }
 },
 "nbformat": 4,
 "nbformat_minor": 1
}
