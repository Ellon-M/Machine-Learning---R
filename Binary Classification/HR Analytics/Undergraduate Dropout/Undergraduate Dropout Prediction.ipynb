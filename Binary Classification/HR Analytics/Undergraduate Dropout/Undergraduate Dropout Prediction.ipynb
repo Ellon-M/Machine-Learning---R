{
 "cells": [
  {
   "cell_type": "markdown",
   "metadata": {},
   "source": [
    "## Undegrad Dropout Prediction\n",
    "\n",
    "\n",
    "\n",
    "\n",
    "Libraries\n"
   ]
  },
  {
   "cell_type": "code",
   "execution_count": 47,
   "metadata": {},
   "outputs": [
    {
     "name": "stderr",
     "output_type": "stream",
     "text": [
      "Warning message:\n",
      "\"package 'ROSE' is in use and will not be installed\""
     ]
    }
   ],
   "source": [
    "# loading the needed packages----\n",
    "library(dplyr)\n",
    "library(ggplot2)\n",
    "library(readr)\n",
    "library(rpart)\n",
    "library(caret)\n",
    "library(rpart.plot)\n",
    "library(caTools)\n",
    "library(party)\n",
    "library(tidyr)\n",
    "install.packages(\"ROSE\")\n",
    "library(ROSE)\n",
    "library(e1071)\n",
    "library(randomForest)\n"
   ]
  },
  {
   "cell_type": "markdown",
   "metadata": {},
   "source": [
    "\n",
    "\n"
   ]
  },
  {
   "cell_type": "code",
   "execution_count": 4,
   "metadata": {},
   "outputs": [],
   "source": [
    "# data\n",
    "undergrad_dropout <- read.csv(\"Downloads/undergrad_dropout.csv\")\n"
   ]
  },
  {
   "cell_type": "markdown",
   "metadata": {},
   "source": [
    "## Data Pre-Processing\n",
    "\n"
   ]
  },
  {
   "cell_type": "code",
   "execution_count": 5,
   "metadata": {},
   "outputs": [
    {
     "data": {
      "text/html": [
       "<dl class=dl-horizontal>\n",
       "\t<dt>X</dt>\n",
       "\t\t<dd>0</dd>\n",
       "\t<dt>gender</dt>\n",
       "\t\t<dd>0</dd>\n",
       "\t<dt>entrance_grade</dt>\n",
       "\t\t<dd>0</dd>\n",
       "\t<dt>final_hs_grade</dt>\n",
       "\t\t<dd>0</dd>\n",
       "\t<dt>age</dt>\n",
       "\t\t<dd>0</dd>\n",
       "\t<dt>economic_level</dt>\n",
       "\t\t<dd>0</dd>\n",
       "\t<dt>perc_absent_1</dt>\n",
       "\t\t<dd>0</dd>\n",
       "\t<dt>perc_absent_2</dt>\n",
       "\t\t<dd>0</dd>\n",
       "\t<dt>average_grade_1</dt>\n",
       "\t\t<dd>0</dd>\n",
       "\t<dt>average_grade_2</dt>\n",
       "\t\t<dd>0</dd>\n",
       "\t<dt>library_usage_1</dt>\n",
       "\t\t<dd>0</dd>\n",
       "\t<dt>library_usage_2</dt>\n",
       "\t\t<dd>0</dd>\n",
       "\t<dt>scholarship</dt>\n",
       "\t\t<dd>0</dd>\n",
       "\t<dt>payment_delay</dt>\n",
       "\t\t<dd>0</dd>\n",
       "\t<dt>career_change</dt>\n",
       "\t\t<dd>0</dd>\n",
       "\t<dt>dropout</dt>\n",
       "\t\t<dd>0</dd>\n",
       "</dl>\n"
      ],
      "text/latex": [
       "\\begin{description*}\n",
       "\\item[X] 0\n",
       "\\item[gender] 0\n",
       "\\item[entrance\\textbackslash{}\\_grade] 0\n",
       "\\item[final\\textbackslash{}\\_hs\\textbackslash{}\\_grade] 0\n",
       "\\item[age] 0\n",
       "\\item[economic\\textbackslash{}\\_level] 0\n",
       "\\item[perc\\textbackslash{}\\_absent\\textbackslash{}\\_1] 0\n",
       "\\item[perc\\textbackslash{}\\_absent\\textbackslash{}\\_2] 0\n",
       "\\item[average\\textbackslash{}\\_grade\\textbackslash{}\\_1] 0\n",
       "\\item[average\\textbackslash{}\\_grade\\textbackslash{}\\_2] 0\n",
       "\\item[library\\textbackslash{}\\_usage\\textbackslash{}\\_1] 0\n",
       "\\item[library\\textbackslash{}\\_usage\\textbackslash{}\\_2] 0\n",
       "\\item[scholarship] 0\n",
       "\\item[payment\\textbackslash{}\\_delay] 0\n",
       "\\item[career\\textbackslash{}\\_change] 0\n",
       "\\item[dropout] 0\n",
       "\\end{description*}\n"
      ],
      "text/markdown": [
       "X\n",
       ":   0gender\n",
       ":   0entrance_grade\n",
       ":   0final_hs_grade\n",
       ":   0age\n",
       ":   0economic_level\n",
       ":   0perc_absent_1\n",
       ":   0perc_absent_2\n",
       ":   0average_grade_1\n",
       ":   0average_grade_2\n",
       ":   0library_usage_1\n",
       ":   0library_usage_2\n",
       ":   0scholarship\n",
       ":   0payment_delay\n",
       ":   0career_change\n",
       ":   0dropout\n",
       ":   0\n",
       "\n"
      ],
      "text/plain": [
       "              X          gender  entrance_grade  final_hs_grade             age \n",
       "              0               0               0               0               0 \n",
       " economic_level   perc_absent_1   perc_absent_2 average_grade_1 average_grade_2 \n",
       "              0               0               0               0               0 \n",
       "library_usage_1 library_usage_2     scholarship   payment_delay   career_change \n",
       "              0               0               0               0               0 \n",
       "        dropout \n",
       "              0 "
      ]
     },
     "metadata": {},
     "output_type": "display_data"
    }
   ],
   "source": [
    "# data changes----\n",
    "\n",
    "### missing values----\n",
    "colSums(is.na(undergrad_dropout))\n"
   ]
  },
  {
   "cell_type": "markdown",
   "metadata": {},
   "source": [
    "\n",
    "Changing the data types to categorical - factors\n"
   ]
  },
  {
   "cell_type": "code",
   "execution_count": 6,
   "metadata": {},
   "outputs": [],
   "source": [
    "### changing data types----\n",
    "undergrad_dropout$gender <- factor(undergrad_dropout$gender)\n",
    "undergrad_dropout$economic_level <- factor(undergrad_dropout$economic_level)\n",
    "undergrad_dropout$scholarship <- factor(undergrad_dropout$scholarship)\n",
    "undergrad_dropout$payment_delay <- factor(undergrad_dropout$payment_delay)\n",
    "undergrad_dropout$career_change <- factor(undergrad_dropout$career_change)\n",
    "undergrad_dropout$dropout <- factor(undergrad_dropout$dropout)\n"
   ]
  },
  {
   "cell_type": "markdown",
   "metadata": {},
   "source": [
    "\n",
    "\n"
   ]
  },
  {
   "cell_type": "code",
   "execution_count": 7,
   "metadata": {},
   "outputs": [
    {
     "name": "stdout",
     "output_type": "stream",
     "text": [
      "Observations: 908\n",
      "Variables: 16\n",
      "$ X               <int> 1, 2, 4, 5, 6, 7, 8, 10, 11, 12, 13, 14, 15, 16, 17...\n",
      "$ gender          <fct> Male, Male, Female, Male, Male, Male, Male, Male, F...\n",
      "$ entrance_grade  <dbl> 35.18746, 33.15747, 29.00832, 37.94545, 38.89794, 2...\n",
      "$ final_hs_grade  <dbl> 70.28119, 67.23621, 61.01248, 74.41818, 75.84691, 6...\n",
      "$ age             <int> 18, 17, 17, 18, 18, 17, 17, 17, 20, 19, 17, 19, 19,...\n",
      "$ economic_level  <fct> 4, 4, 4, 4, 4, 4, 4, 4, 4, 4, 4, 4, 4, 4, 4, 4, 3, ...\n",
      "$ perc_absent_1   <int> 7, 10, 3, 10, 11, 1, 2, 1, 5, 5, 4, 9, 9, 3, 9, 8, ...\n",
      "$ perc_absent_2   <int> 8, 9, 5, 9, 3, 3, 11, 3, 5, 12, 5, 3, 4, 5, 4, 16, ...\n",
      "$ average_grade_1 <int> 14, 14, 15, 13, 14, 15, 15, 15, 12, 13, 16, 13, 16,...\n",
      "$ average_grade_2 <int> 11, 13, 14, 12, 13, 16, 12, 14, 13, 12, 11, 12, 12,...\n",
      "$ library_usage_1 <int> 2, 2, 4, 1, 3, 5, 4, 4, 0, 1, 5, 1, 4, 4, 0, 0, 4, ...\n",
      "$ library_usage_2 <int> 0, 1, 3, 1, 2, 6, 2, 3, 1, 0, 1, 1, 2, 3, 0, 0, 4, ...\n",
      "$ scholarship     <fct> 0, 0, 0, 0, 0, 0, 0, 0, 0, 0, 0, 0, 0, 0, 0, 0, 0, ...\n",
      "$ payment_delay   <fct> 1, 0, 1, 1, 0, 0, 1, 1, 1, 0, 1, 1, 1, 1, 1, 1, 0, ...\n",
      "$ career_change   <fct> 0, 0, 0, 0, 0, 0, 0, 0, 0, 0, 0, 0, 0, 0, 0, 0, 0, ...\n",
      "$ dropout         <fct> 1, 0, 0, 1, 1, 0, 0, 0, 0, 1, 0, 1, 0, 1, 0, 1, 1, ...\n"
     ]
    }
   ],
   "source": [
    "glimpse(undergrad_dropout)\n",
    "\n"
   ]
  },
  {
   "cell_type": "markdown",
   "metadata": {},
   "source": [
    "## Dependant Variable\n",
    "\n",
    "\n",
    "Dropout \n"
   ]
  },
  {
   "cell_type": "code",
   "execution_count": 8,
   "metadata": {},
   "outputs": [
    {
     "data": {
      "text/html": [
       "<table>\n",
       "<thead><tr><th scope=col>dropout</th><th scope=col>count</th></tr></thead>\n",
       "<tbody>\n",
       "\t<tr><td>0  </td><td>657</td></tr>\n",
       "\t<tr><td>1  </td><td>251</td></tr>\n",
       "</tbody>\n",
       "</table>\n"
      ],
      "text/latex": [
       "\\begin{tabular}{r|ll}\n",
       " dropout & count\\\\\n",
       "\\hline\n",
       "\t 0   & 657\\\\\n",
       "\t 1   & 251\\\\\n",
       "\\end{tabular}\n"
      ],
      "text/markdown": [
       "\n",
       "| dropout | count |\n",
       "|---|---|\n",
       "| 0   | 657 |\n",
       "| 1   | 251 |\n",
       "\n"
      ],
      "text/plain": [
       "  dropout count\n",
       "1 0       657  \n",
       "2 1       251  "
      ]
     },
     "metadata": {},
     "output_type": "display_data"
    }
   ],
   "source": [
    "# response/dependant variable analysis----\n",
    "dropout_count <- undergrad_dropout %>% \n",
    "  group_by(dropout) %>% \n",
    "   summarise(count=n())\n",
    "\n",
    "dropout_count\n"
   ]
  },
  {
   "cell_type": "markdown",
   "metadata": {},
   "source": [
    "The dataset is imbalanced.\n",
    "Those not likely to dropout are more than those who are likely to drop out\n"
   ]
  },
  {
   "cell_type": "code",
   "execution_count": 9,
   "metadata": {},
   "outputs": [
    {
     "data": {
      "image/png": "[encoded data removed]",
      "text/plain": [
       "plot without title"
      ]
     },
     "metadata": {},
     "output_type": "display_data"
    }
   ],
   "source": [
    "ggplot(dropout_count, aes(x=dropout, y=count, fill=dropout))+\n",
    "  geom_col()+\n",
    "  theme_dark()\n"
   ]
  },
  {
   "cell_type": "markdown",
   "metadata": {},
   "source": [
    "Independent Variables\n",
    "\n",
    "\n",
    "## Age\n"
   ]
  },
  {
   "cell_type": "code",
   "execution_count": 10,
   "metadata": {},
   "outputs": [
    {
     "data": {
      "image/png": "[encoded data removed]",
      "text/plain": [
       "plot without title"
      ]
     },
     "metadata": {},
     "output_type": "display_data"
    }
   ],
   "source": [
    "# predictor variable analysis----\n",
    "### Age----\n",
    "\n",
    "\n",
    "# visual\n",
    "ggplot(undergrad_dropout, aes(x=age, fill=dropout))+\n",
    "  geom_density()+\n",
    "  theme_dark()\n"
   ]
  },
  {
   "cell_type": "markdown",
   "metadata": {},
   "source": [
    "Students that are between 18 and 19 years old are the likliest to dropout. (middle age)\n",
    "For students less than 18 years, and above 20 years, the majority are the ones who are not likely to dropout\n",
    "\n",
    "\n",
    "\n",
    "\n",
    "\n",
    "## Gender\n"
   ]
  },
  {
   "cell_type": "code",
   "execution_count": 11,
   "metadata": {},
   "outputs": [
    {
     "data": {
      "image/png": "[encoded data removed]",
      "text/plain": [
       "plot without title"
      ]
     },
     "metadata": {},
     "output_type": "display_data"
    }
   ],
   "source": [
    "### Gender----\n",
    "\n",
    "\n",
    "# visual\n",
    "ggplot(undergrad_dropout, aes(x=gender, fill=dropout))+\n",
    "  geom_bar(position = \"stack\")+\n",
    "  theme_dark()\n"
   ]
  },
  {
   "cell_type": "markdown",
   "metadata": {},
   "source": [
    "## Entrance Grade\n",
    "\n"
   ]
  },
  {
   "cell_type": "code",
   "execution_count": 12,
   "metadata": {},
   "outputs": [
    {
     "data": {
      "image/png": "[encoded data removed]",
      "text/plain": [
       "plot without title"
      ]
     },
     "metadata": {},
     "output_type": "display_data"
    }
   ],
   "source": [
    "### entrance grade----\n",
    "# visual\n",
    "ggplot(undergrad_dropout, aes(x=entrance_grade, fill=dropout))+\n",
    "  geom_density()+\n",
    "  theme_dark()\n"
   ]
  },
  {
   "cell_type": "markdown",
   "metadata": {},
   "source": [
    "Low entrance grades from students indicate a higher likelihood of dropping out\n",
    "\n",
    "\n",
    "\n",
    "## Final high school grade\n"
   ]
  },
  {
   "cell_type": "code",
   "execution_count": 13,
   "metadata": {},
   "outputs": [
    {
     "data": {
      "image/png": "[encoded data removed]",
      "text/plain": [
       "plot without title"
      ]
     },
     "metadata": {},
     "output_type": "display_data"
    }
   ],
   "source": [
    "### final high school grade----\n",
    "\n",
    "\n",
    "# visual\n",
    "ggplot(undergrad_dropout, aes(x=final_hs_grade, fill=dropout))+\n",
    "  geom_density()+\n",
    "  theme_dark()\n"
   ]
  },
  {
   "cell_type": "markdown",
   "metadata": {},
   "source": [
    "Low final high school grades from students indicate a higher likelihood of dropping out\n",
    "\n",
    "\n",
    "\n",
    "\n",
    "## Economic Level\n"
   ]
  },
  {
   "cell_type": "code",
   "execution_count": 14,
   "metadata": {},
   "outputs": [
    {
     "data": {
      "text/html": [
       "<table>\n",
       "<thead><tr><th scope=col>economic_level</th><th scope=col>count</th></tr></thead>\n",
       "<tbody>\n",
       "\t<tr><td>1  </td><td>  8</td></tr>\n",
       "\t<tr><td>2  </td><td> 26</td></tr>\n",
       "\t<tr><td>3  </td><td> 42</td></tr>\n",
       "\t<tr><td>4  </td><td>175</td></tr>\n",
       "</tbody>\n",
       "</table>\n"
      ],
      "text/latex": [
       "\\begin{tabular}{r|ll}\n",
       " economic\\_level & count\\\\\n",
       "\\hline\n",
       "\t 1   &   8\\\\\n",
       "\t 2   &  26\\\\\n",
       "\t 3   &  42\\\\\n",
       "\t 4   & 175\\\\\n",
       "\\end{tabular}\n"
      ],
      "text/markdown": [
       "\n",
       "| economic_level | count |\n",
       "|---|---|\n",
       "| 1   |   8 |\n",
       "| 2   |  26 |\n",
       "| 3   |  42 |\n",
       "| 4   | 175 |\n",
       "\n"
      ],
      "text/plain": [
       "  economic_level count\n",
       "1 1                8  \n",
       "2 2               26  \n",
       "3 3               42  \n",
       "4 4              175  "
      ]
     },
     "metadata": {},
     "output_type": "display_data"
    }
   ],
   "source": [
    "### economic level----\n",
    "\n",
    "# descriptive\n",
    "econ_dropout <- undergrad_dropout %>% \n",
    "                  group_by(economic_level) %>% \n",
    "                  filter(dropout == 1) %>% \n",
    "                   summarise(count=n())\n",
    "\n",
    "econ_dropout\n"
   ]
  },
  {
   "cell_type": "markdown",
   "metadata": {},
   "source": [
    "Most students likely to dropout are in the lowest economic level category\n",
    "\n"
   ]
  },
  {
   "cell_type": "code",
   "execution_count": 15,
   "metadata": {},
   "outputs": [
    {
     "data": {
      "text/html": [
       "<table>\n",
       "<thead><tr><th scope=col>economic_level</th><th scope=col>count</th></tr></thead>\n",
       "<tbody>\n",
       "\t<tr><td>1  </td><td> 53</td></tr>\n",
       "\t<tr><td>2  </td><td> 98</td></tr>\n",
       "\t<tr><td>3  </td><td>131</td></tr>\n",
       "\t<tr><td>4  </td><td>626</td></tr>\n",
       "</tbody>\n",
       "</table>\n"
      ],
      "text/latex": [
       "\\begin{tabular}{r|ll}\n",
       " economic\\_level & count\\\\\n",
       "\\hline\n",
       "\t 1   &  53\\\\\n",
       "\t 2   &  98\\\\\n",
       "\t 3   & 131\\\\\n",
       "\t 4   & 626\\\\\n",
       "\\end{tabular}\n"
      ],
      "text/markdown": [
       "\n",
       "| economic_level | count |\n",
       "|---|---|\n",
       "| 1   |  53 |\n",
       "| 2   |  98 |\n",
       "| 3   | 131 |\n",
       "| 4   | 626 |\n",
       "\n"
      ],
      "text/plain": [
       "  economic_level count\n",
       "1 1               53  \n",
       "2 2               98  \n",
       "3 3              131  \n",
       "4 4              626  "
      ]
     },
     "metadata": {},
     "output_type": "display_data"
    }
   ],
   "source": [
    "econ_count <- undergrad_dropout %>% \n",
    "                  group_by(economic_level) %>% \n",
    "                  summarise(count=n())\n",
    "\n",
    "econ_count\n"
   ]
  },
  {
   "cell_type": "markdown",
   "metadata": {},
   "source": [
    "The dropout rate ratios in each economic level\n",
    "\n"
   ]
  },
  {
   "cell_type": "code",
   "execution_count": 16,
   "metadata": {},
   "outputs": [
    {
     "data": {
      "text/html": [
       "<table>\n",
       "<thead><tr><th scope=col>economic_level</th><th scope=col>count</th><th scope=col>total</th><th scope=col>ratio</th></tr></thead>\n",
       "<tbody>\n",
       "\t<tr><td>1    </td><td>  8  </td><td> 53  </td><td>15.09</td></tr>\n",
       "\t<tr><td>2    </td><td> 26  </td><td> 98  </td><td>26.53</td></tr>\n",
       "\t<tr><td>3    </td><td> 42  </td><td>131  </td><td>32.06</td></tr>\n",
       "\t<tr><td>4    </td><td>175  </td><td>626  </td><td>27.96</td></tr>\n",
       "</tbody>\n",
       "</table>\n"
      ],
      "text/latex": [
       "\\begin{tabular}{r|llll}\n",
       " economic\\_level & count & total & ratio\\\\\n",
       "\\hline\n",
       "\t 1     &   8   &  53   & 15.09\\\\\n",
       "\t 2     &  26   &  98   & 26.53\\\\\n",
       "\t 3     &  42   & 131   & 32.06\\\\\n",
       "\t 4     & 175   & 626   & 27.96\\\\\n",
       "\\end{tabular}\n"
      ],
      "text/markdown": [
       "\n",
       "| economic_level | count | total | ratio |\n",
       "|---|---|---|---|\n",
       "| 1     |   8   |  53   | 15.09 |\n",
       "| 2     |  26   |  98   | 26.53 |\n",
       "| 3     |  42   | 131   | 32.06 |\n",
       "| 4     | 175   | 626   | 27.96 |\n",
       "\n"
      ],
      "text/plain": [
       "  economic_level count total ratio\n",
       "1 1                8    53   15.09\n",
       "2 2               26    98   26.53\n",
       "3 3               42   131   32.06\n",
       "4 4              175   626   27.96"
      ]
     },
     "metadata": {},
     "output_type": "display_data"
    }
   ],
   "source": [
    "econ_dropout$total <- \"\"\n",
    "econ_dropout$total <- econ_count$count\n",
    "econ_dropout$ratio <- \"\"\n",
    "econ_dropout$ratio <- round((econ_dropout$count/econ_dropout$total) * 100,2)\n",
    "\n",
    "econ_dropout\n"
   ]
  },
  {
   "cell_type": "markdown",
   "metadata": {},
   "source": [
    "\n"
   ]
  },
  {
   "cell_type": "code",
   "execution_count": 17,
   "metadata": {},
   "outputs": [
    {
     "data": {
      "image/png": "[encoded data removed]",
      "text/plain": [
       "plot without title"
      ]
     },
     "metadata": {},
     "output_type": "display_data"
    }
   ],
   "source": [
    "# visual\n",
    "ggplot(econ_dropout, aes(x=economic_level, y=ratio, fill=economic_level))+\n",
    "  geom_col()+\n",
    "  theme_dark()\n",
    "  \n"
   ]
  },
  {
   "cell_type": "markdown",
   "metadata": {},
   "source": [
    "## Percent Absent\n",
    "\n",
    "\n",
    "First semester\n"
   ]
  },
  {
   "cell_type": "code",
   "execution_count": 18,
   "metadata": {},
   "outputs": [
    {
     "data": {
      "image/png": "[encoded data removed]",
      "text/plain": [
       "plot without title"
      ]
     },
     "metadata": {},
     "output_type": "display_data"
    }
   ],
   "source": [
    "### percentage absent----\n",
    "\n",
    "# (descriptive analysis)\n",
    "\n",
    "#sem 1\n",
    "\n",
    "# visual\n",
    "ggplot(undergrad_dropout, aes(x=perc_absent_1, fill=dropout))+\n",
    "  geom_density(alpha=0.4)+\n",
    "  theme_minimal()\n"
   ]
  },
  {
   "cell_type": "markdown",
   "metadata": {},
   "source": [
    "Second semester\n",
    "\n"
   ]
  },
  {
   "cell_type": "code",
   "execution_count": 19,
   "metadata": {},
   "outputs": [
    {
     "data": {
      "image/png": "[encoded data removed]",
      "text/plain": [
       "plot without title"
      ]
     },
     "metadata": {},
     "output_type": "display_data"
    }
   ],
   "source": [
    "#sem 2\n",
    "\n",
    "# visual\n",
    "ggplot(undergrad_dropout, aes(x=perc_absent_2, fill=dropout))+\n",
    "  geom_density(alpha=0.4)+\n",
    "  theme_minimal()\n"
   ]
  },
  {
   "cell_type": "markdown",
   "metadata": {},
   "source": [
    "Higher absence in class indicates a higher tendancy towards dropping out, in both semesters\n",
    "\n",
    "\n",
    "## Average grade\n",
    "\n",
    "First semester\n"
   ]
  },
  {
   "cell_type": "code",
   "execution_count": 20,
   "metadata": {},
   "outputs": [
    {
     "data": {
      "image/png": "[encoded data removed]",
      "text/plain": [
       "plot without title"
      ]
     },
     "metadata": {},
     "output_type": "display_data"
    }
   ],
   "source": [
    "### average grade----\n",
    "\n",
    "# sem 1\n",
    "\n",
    "# visuals\n",
    "ggplot(undergrad_dropout, aes(x=dropout, y=average_grade_1, fill=dropout))+\n",
    "  geom_boxplot()+\n",
    "  theme_dark()\n"
   ]
  },
  {
   "cell_type": "markdown",
   "metadata": {},
   "source": [
    "\n",
    "\n"
   ]
  },
  {
   "cell_type": "code",
   "execution_count": 21,
   "metadata": {},
   "outputs": [
    {
     "data": {
      "image/png": "[encoded data removed]",
      "text/plain": [
       "plot without title"
      ]
     },
     "metadata": {},
     "output_type": "display_data"
    }
   ],
   "source": [
    "ggplot(undergrad_dropout, aes(x=average_grade_1, fill=dropout))+\n",
    "  geom_density(alpha=0.4)+\n",
    "  theme_minimal()\n"
   ]
  },
  {
   "cell_type": "markdown",
   "metadata": {},
   "source": [
    "Dropout rates are higher amongst students with low grades, and rapidly decline as the grades rise\n",
    "\n",
    "\n",
    "Second semester\n"
   ]
  },
  {
   "cell_type": "code",
   "execution_count": 22,
   "metadata": {},
   "outputs": [
    {
     "data": {
      "image/png": "[encoded data removed]",
      "text/plain": [
       "plot without title"
      ]
     },
     "metadata": {},
     "output_type": "display_data"
    }
   ],
   "source": [
    "# sem 2\n",
    "\n",
    "# visuals\n",
    "ggplot(undergrad_dropout, aes(x=dropout, y=average_grade_2, fill=dropout))+\n",
    "  geom_boxplot()+\n",
    "  theme_dark()\n"
   ]
  },
  {
   "cell_type": "markdown",
   "metadata": {},
   "source": [
    "\n",
    "\n"
   ]
  },
  {
   "cell_type": "code",
   "execution_count": 23,
   "metadata": {},
   "outputs": [
    {
     "data": {
      "image/png": "[encoded data removed]",
      "text/plain": [
       "plot without title"
      ]
     },
     "metadata": {},
     "output_type": "display_data"
    }
   ],
   "source": [
    "ggplot(undergrad_dropout, aes(x=average_grade_2, fill=dropout))+\n",
    "  geom_density(alpha=0.4)+\n",
    "  theme_minimal()\n"
   ]
  },
  {
   "cell_type": "markdown",
   "metadata": {},
   "source": [
    "Grades are generally higher in the secon semester than the first, although, the students that are more likely to dropout are those with lower grades\n",
    "\n",
    "\n",
    "\n",
    "## Library usage\n",
    "\n",
    "\n",
    "First semester\n"
   ]
  },
  {
   "cell_type": "code",
   "execution_count": 24,
   "metadata": {},
   "outputs": [
    {
     "data": {
      "image/png": "[encoded data removed]",
      "text/plain": [
       "plot without title"
      ]
     },
     "metadata": {},
     "output_type": "display_data"
    }
   ],
   "source": [
    "### library usage ----\n",
    "\n",
    "#(descriptive analysis)\n",
    "\n",
    "# sem 1\n",
    "\n",
    "# visuals\n",
    "ggplot(undergrad_dropout, aes(x=dropout, y=library_usage_1, fill=dropout))+\n",
    "           geom_boxplot()+\n",
    "           theme_dark()\n"
   ]
  },
  {
   "cell_type": "markdown",
   "metadata": {},
   "source": [
    "\n",
    "\n"
   ]
  },
  {
   "cell_type": "code",
   "execution_count": 25,
   "metadata": {},
   "outputs": [
    {
     "data": {
      "image/png": "[encoded data removed]",
      "text/plain": [
       "plot without title"
      ]
     },
     "metadata": {},
     "output_type": "display_data"
    }
   ],
   "source": [
    "ggplot(undergrad_dropout, aes(x=library_usage_1, fill=dropout))+\n",
    "  geom_density(alpha=0.4)+\n",
    "  theme_minimal()\n"
   ]
  },
  {
   "cell_type": "markdown",
   "metadata": {},
   "source": [
    "We observe a low usage rate of the library in the first semester from those likely to dropout\n",
    "\n",
    "\n",
    "\n",
    "Second semester\n"
   ]
  },
  {
   "cell_type": "code",
   "execution_count": 26,
   "metadata": {},
   "outputs": [
    {
     "data": {
      "image/png": "[encoded data removed]",
      "text/plain": [
       "plot without title"
      ]
     },
     "metadata": {},
     "output_type": "display_data"
    }
   ],
   "source": [
    "# sem 2\n",
    "\n",
    "# visuals\n",
    "ggplot(undergrad_dropout, aes(x=dropout, y=library_usage_2, fill=dropout))+\n",
    "           geom_boxplot()+\n",
    "           theme_dark()\n"
   ]
  },
  {
   "cell_type": "markdown",
   "metadata": {},
   "source": [
    "\n",
    "\n"
   ]
  },
  {
   "cell_type": "code",
   "execution_count": 27,
   "metadata": {},
   "outputs": [
    {
     "data": {
      "image/png": "[encoded data removed]",
      "text/plain": [
       "plot without title"
      ]
     },
     "metadata": {},
     "output_type": "display_data"
    }
   ],
   "source": [
    "ggplot(undergrad_dropout, aes(x=library_usage_2, fill=dropout))+\n",
    "  geom_density(alpha=0.4)+\n",
    "  theme_minimal()\n",
    "\n",
    "#(inferences)\n"
   ]
  },
  {
   "cell_type": "markdown",
   "metadata": {},
   "source": [
    "Just as in the first semester, the students likely to dropout use less of the library than those who are unlikely to dropout\n",
    "\n",
    "\n",
    "## Scholarship\n"
   ]
  },
  {
   "cell_type": "code",
   "execution_count": 28,
   "metadata": {},
   "outputs": [
    {
     "data": {
      "image/png": "[encoded data removed]",
      "text/plain": [
       "plot without title"
      ]
     },
     "metadata": {},
     "output_type": "display_data"
    }
   ],
   "source": [
    "### scholarship ----\n",
    "\n",
    "\n",
    "# visual\n",
    "ggplot(undergrad_dropout, aes(x=scholarship, fill=dropout))+\n",
    "  geom_bar(position = \"stack\")+\n",
    "  theme_bw()\n"
   ]
  },
  {
   "cell_type": "markdown",
   "metadata": {},
   "source": [
    "## Payment delay\n",
    "\n"
   ]
  },
  {
   "cell_type": "code",
   "execution_count": 29,
   "metadata": {},
   "outputs": [
    {
     "data": {
      "image/png": "[encoded data removed]",
      "text/plain": [
       "plot without title"
      ]
     },
     "metadata": {},
     "output_type": "display_data"
    }
   ],
   "source": [
    "### payment delay ----\n",
    "\n",
    "\n",
    "# visual\n",
    "ggplot(undergrad_dropout, aes(x=payment_delay, fill=dropout))+\n",
    "  geom_bar(position = \"stack\")+\n",
    "  theme_bw()\n"
   ]
  },
  {
   "cell_type": "markdown",
   "metadata": {},
   "source": [
    "## Career change\n",
    "\n"
   ]
  },
  {
   "cell_type": "code",
   "execution_count": 30,
   "metadata": {},
   "outputs": [
    {
     "data": {
      "image/png": "[encoded data removed]",
      "text/plain": [
       "plot without title"
      ]
     },
     "metadata": {},
     "output_type": "display_data"
    }
   ],
   "source": [
    "### career change----\n",
    "\n",
    "\n",
    "# visual\n",
    "ggplot(undergrad_dropout, aes(x=career_change, fill=dropout))+\n",
    "  geom_bar(position = \"stack\")+\n",
    "  theme_bw()\n"
   ]
  },
  {
   "cell_type": "markdown",
   "metadata": {},
   "source": [
    "## Model Building\n",
    "\n",
    "\n",
    "# Prepare the train data and test data\n"
   ]
  },
  {
   "cell_type": "code",
   "execution_count": 31,
   "metadata": {},
   "outputs": [],
   "source": [
    "# model ----\n",
    "\n",
    "# randomize\n",
    "random <- sample(1:(nrow(undergrad_dropout)))\n",
    "undergrad_dropout <- undergrad_dropout[random,]\n",
    "\n",
    "# split\n",
    "split <- c(1: (nrow(undergrad_dropout) * 0.7))\n",
    "\n",
    "dropout_train <- undergrad_dropout[split,]\n",
    "dropout_test <- undergrad_dropout[-split,]\n"
   ]
  },
  {
   "cell_type": "markdown",
   "metadata": {},
   "source": [
    "## Logistic Model\n",
    "\n"
   ]
  },
  {
   "cell_type": "code",
   "execution_count": 32,
   "metadata": {},
   "outputs": [
    {
     "name": "stdout",
     "output_type": "stream",
     "text": [
      "Observations: 635\n",
      "Variables: 16\n",
      "$ X               <int> 443, 921, 358, 576, 80, 33, 721, 69, 355, 593, 622,...\n",
      "$ gender          <fct> Male, Male, Female, Female, Male, Male, Female, Mal...\n",
      "$ entrance_grade  <dbl> 45.06793, 40.68105, 45.31690, 34.37221, 50.22586, 4...\n",
      "$ final_hs_grade  <dbl> 85.10189, 78.52158, 85.47535, 69.05832, 92.83880, 8...\n",
      "$ age             <int> 20, 19, 20, 17, 21, 19, 17, 19, 22, 18, 18, 18, 17,...\n",
      "$ economic_level  <fct> 4, 4, 3, 3, 4, 4, 2, 4, 4, 2, 4, 4, 4, 4, 4, 4, 3, ...\n",
      "$ perc_absent_1   <int> 1, 3, 1, 1, 2, 8, 15, 9, 7, 1, 4, 7, 6, 17, 10, 1, ...\n",
      "$ perc_absent_2   <int> 9, 3, 3, 3, 3, 3, 11, 5, 4, 3, 11, 8, 15, 4, 3, 8, ...\n",
      "$ average_grade_1 <int> 13, 15, 15, 13, 14, 13, 12, 12, 14, 17, 12, 14, 14,...\n",
      "$ average_grade_2 <int> 15, 12, 15, 14, 14, 13, 12, 14, 12, 13, 13, 11, 14,...\n",
      "$ library_usage_1 <int> 1, 4, 5, 3, 3, 3, 0, 1, 2, 6, 0, 2, 3, 4, 5, 2, 0, ...\n",
      "$ library_usage_2 <int> 3, 3, 5, 4, 4, 1, 0, 4, 0, 4, 1, 0, 4, 1, 4, 2, 2, ...\n",
      "$ scholarship     <fct> 0, 0, 0, 0, 0, 0, 1, 0, 0, 1, 0, 0, 0, 0, 0, 0, 0, ...\n",
      "$ payment_delay   <fct> 1, 0, 0, 0, 1, 1, 1, 1, 1, 0, 1, 1, 1, 0, 0, 1, 1, ...\n",
      "$ career_change   <fct> 0, 0, 0, 0, 0, 0, 0, 0, 0, 0, 0, 0, 0, 0, 0, 0, 0, ...\n",
      "$ dropout         <fct> 0, 0, 0, 0, 0, 0, 0, 0, 0, 1, 1, 1, 1, 0, 0, 0, 1, ...\n"
     ]
    },
    {
     "data": {
      "text/html": [
       "<ol class=list-inline>\n",
       "\t<li>'entrance_grade'</li>\n",
       "\t<li>'final_hs_grade'</li>\n",
       "\t<li>'economic_level'</li>\n",
       "\t<li>'perc_absent_1'</li>\n",
       "\t<li>'perc_absent_2'</li>\n",
       "\t<li>'average_grade_1'</li>\n",
       "\t<li>'average_grade_2'</li>\n",
       "\t<li>'library_usage_1'</li>\n",
       "\t<li>'library_usage_2'</li>\n",
       "\t<li>'scholarship'</li>\n",
       "\t<li>'payment_delay'</li>\n",
       "\t<li>'dropout'</li>\n",
       "</ol>\n"
      ],
      "text/latex": [
       "\\begin{enumerate*}\n",
       "\\item 'entrance\\_grade'\n",
       "\\item 'final\\_hs\\_grade'\n",
       "\\item 'economic\\_level'\n",
       "\\item 'perc\\_absent\\_1'\n",
       "\\item 'perc\\_absent\\_2'\n",
       "\\item 'average\\_grade\\_1'\n",
       "\\item 'average\\_grade\\_2'\n",
       "\\item 'library\\_usage\\_1'\n",
       "\\item 'library\\_usage\\_2'\n",
       "\\item 'scholarship'\n",
       "\\item 'payment\\_delay'\n",
       "\\item 'dropout'\n",
       "\\end{enumerate*}\n"
      ],
      "text/markdown": [
       "1. 'entrance_grade'\n",
       "2. 'final_hs_grade'\n",
       "3. 'economic_level'\n",
       "4. 'perc_absent_1'\n",
       "5. 'perc_absent_2'\n",
       "6. 'average_grade_1'\n",
       "7. 'average_grade_2'\n",
       "8. 'library_usage_1'\n",
       "9. 'library_usage_2'\n",
       "10. 'scholarship'\n",
       "11. 'payment_delay'\n",
       "12. 'dropout'\n",
       "\n",
       "\n"
      ],
      "text/plain": [
       " [1] \"entrance_grade\"  \"final_hs_grade\"  \"economic_level\"  \"perc_absent_1\"  \n",
       " [5] \"perc_absent_2\"   \"average_grade_1\" \"average_grade_2\" \"library_usage_1\"\n",
       " [9] \"library_usage_2\" \"scholarship\"     \"payment_delay\"   \"dropout\"        "
      ]
     },
     "metadata": {},
     "output_type": "display_data"
    },
    {
     "data": {
      "text/plain": [
       "\n",
       "Call:\n",
       "glm(formula = dropout ~ ., family = \"binomial\", data = dropout_train)\n",
       "\n",
       "Deviance Residuals: \n",
       "    Min       1Q   Median       3Q      Max  \n",
       "-2.0583  -0.7888  -0.5737   0.9509   2.4148  \n",
       "\n",
       "Coefficients: (1 not defined because of singularities)\n",
       "                Estimate Std. Error z value Pr(>|z|)    \n",
       "(Intercept)     -8.66834    2.98537  -2.904 0.003689 ** \n",
       "entrance_grade  -0.10997    0.02975  -3.697 0.000219 ***\n",
       "final_hs_grade   0.11939    0.02629   4.541  5.6e-06 ***\n",
       "economic_level2  1.15652    0.58398   1.980 0.047657 *  \n",
       "economic_level3  0.89414    0.57410   1.557 0.119362    \n",
       "economic_level4  1.01494    0.52102   1.948 0.051415 .  \n",
       "perc_absent_1    0.05419    0.02262   2.396 0.016570 *  \n",
       "perc_absent_2    0.10570    0.02799   3.777 0.000159 ***\n",
       "average_grade_1  0.29646    0.18383   1.613 0.106805    \n",
       "average_grade_2 -0.21314    0.15352  -1.388 0.165019    \n",
       "library_usage_1 -0.29050    0.17149  -1.694 0.090269 .  \n",
       "library_usage_2  0.15572    0.13980   1.114 0.265326    \n",
       "scholarship1          NA         NA      NA       NA    \n",
       "payment_delay1   0.03640    0.23065   0.158 0.874601    \n",
       "---\n",
       "Signif. codes:  0 '***' 0.001 '**' 0.01 '*' 0.05 '.' 0.1 ' ' 1\n",
       "\n",
       "(Dispersion parameter for binomial family taken to be 1)\n",
       "\n",
       "    Null deviance: 751.53  on 634  degrees of freedom\n",
       "Residual deviance: 668.20  on 622  degrees of freedom\n",
       "AIC: 694.2\n",
       "\n",
       "Number of Fisher Scoring iterations: 4\n"
      ]
     },
     "metadata": {},
     "output_type": "display_data"
    }
   ],
   "source": [
    "### logistic----\n",
    "glimpse(dropout_train)\n",
    "\n",
    "# drop\n",
    "\n",
    "dropout_train <- dropout_train[,-c(1,2,5,15)]\n",
    "\n",
    "colnames(dropout_train)\n",
    "\n",
    "# fit model\n",
    "dropout_log_fit <- glm(dropout~., data = dropout_train, family = \"binomial\")\n",
    "summary(dropout_log_fit)\n"
   ]
  },
  {
   "cell_type": "markdown",
   "metadata": {},
   "source": [
    "# Testing the model on the test data\n",
    "\n"
   ]
  },
  {
   "cell_type": "code",
   "execution_count": 33,
   "metadata": {},
   "outputs": [
    {
     "name": "stderr",
     "output_type": "stream",
     "text": [
      "Warning message in predict.lm(object, newdata, se.fit, scale = 1, type = if (type == :\n",
      "\"prediction from a rank-deficient fit may be misleading\""
     ]
    }
   ],
   "source": [
    "# test on test data\n",
    "dropout_test$predict_log <- \"\"\n",
    "dropout_test$predict_log <- predict(dropout_log_fit, dropout_test, type = \"response\")\n",
    "\n",
    "dropout_test$predict_log <- ifelse(dropout_test$predict_log >= 0.5, \"Dropout\", \"No dropout\")\n",
    "dropout_test$dropout <- ifelse(dropout_test$dropout == 1, \"Dropout\", \"No dropout\")\n"
   ]
  },
  {
   "cell_type": "markdown",
   "metadata": {},
   "source": [
    "Confusion matrix\n",
    "\n"
   ]
  },
  {
   "cell_type": "code",
   "execution_count": 34,
   "metadata": {},
   "outputs": [
    {
     "data": {
      "text/plain": [
       "\n",
       "   Dropout No dropout \n",
       "        74        199 "
      ]
     },
     "metadata": {},
     "output_type": "display_data"
    }
   ],
   "source": [
    "table(dropout_test$dropout)\n",
    "\n"
   ]
  },
  {
   "cell_type": "markdown",
   "metadata": {},
   "source": [
    "\n",
    "\n"
   ]
  },
  {
   "cell_type": "code",
   "execution_count": 35,
   "metadata": {},
   "outputs": [
    {
     "data": {
      "text/plain": [
       "            predict_log\n",
       "dropout      Dropout No dropout\n",
       "  Dropout         20         54\n",
       "  No dropout      11        188"
      ]
     },
     "metadata": {},
     "output_type": "display_data"
    }
   ],
   "source": [
    "xtabs(~dropout+predict_log, data = dropout_test)\n",
    "\n"
   ]
  },
  {
   "cell_type": "markdown",
   "metadata": {},
   "source": [
    "Due to the imbalanced data set the logistic model is highly biased, and therefore has poor predicting power\n",
    "\n",
    "\n",
    "\n",
    "## Decision Tree\n",
    "\n",
    "\n",
    "Fitting the model\n"
   ]
  },
  {
   "cell_type": "code",
   "execution_count": 36,
   "metadata": {},
   "outputs": [
    {
     "data": {
      "image/png": "[encoded data removed]",
      "text/plain": [
       "plot without title"
      ]
     },
     "metadata": {},
     "output_type": "display_data"
    }
   ],
   "source": [
    "### decision tree ----\n",
    "dropout_train_tree <- dropout_train\n",
    "\n",
    "dropout_train$dropout <- factor(ifelse(dropout_train$dropout == 1, \"Dropout\", \"No dropout\"), levels = c(\"Dropout\", \"No dropout\"))\n",
    "\n",
    "dropout_fit <- rpart(dropout ~ . , method = \"class\", data = dropout_train_tree)\n",
    "\n",
    "rpart.plot(dropout_fit)\n"
   ]
  },
  {
   "cell_type": "markdown",
   "metadata": {},
   "source": [
    "Predictions on test data\n",
    "\n"
   ]
  },
  {
   "cell_type": "code",
   "execution_count": 37,
   "metadata": {},
   "outputs": [],
   "source": [
    "dropout_test$predict_tree <- \"\"\n",
    "dropout_test$predict_tree <- predict(dropout_fit, dropout_test, type = \"class\")\n",
    "\n",
    "dropout_test$predict_tree <- ifelse(dropout_test$predict_tree == 1, \"Dropout\", \"No dropout\")\n"
   ]
  },
  {
   "cell_type": "markdown",
   "metadata": {},
   "source": [
    "\n",
    "\n"
   ]
  },
  {
   "cell_type": "code",
   "execution_count": 38,
   "metadata": {},
   "outputs": [
    {
     "data": {
      "text/plain": [
       "\n",
       "   Dropout No dropout \n",
       "        68        205 "
      ]
     },
     "metadata": {},
     "output_type": "display_data"
    }
   ],
   "source": [
    "table(dropout_test$predict_tree)\n",
    "\n"
   ]
  },
  {
   "cell_type": "markdown",
   "metadata": {},
   "source": [
    "Confusion matrix\n",
    "\n"
   ]
  },
  {
   "cell_type": "code",
   "execution_count": 39,
   "metadata": {},
   "outputs": [
    {
     "data": {
      "text/plain": [
       "            predict_tree\n",
       "dropout      Dropout No dropout\n",
       "  Dropout         64         10\n",
       "  No dropout       4        195"
      ]
     },
     "metadata": {},
     "output_type": "display_data"
    }
   ],
   "source": [
    "xtabs(~dropout+predict_tree, data = dropout_test)\n",
    "\n"
   ]
  },
  {
   "cell_type": "markdown",
   "metadata": {},
   "source": [
    "The low bias property of the decision tree makes it able to predict the dropout rates with a high level of accuracy. Its variance is high however, and this could lead to overfitting.\n",
    "\n",
    "\n",
    "Pruning the tree\n",
    "\n",
    "Pre-prunning\n"
   ]
  },
  {
   "cell_type": "code",
   "execution_count": 40,
   "metadata": {},
   "outputs": [
    {
     "data": {
      "image/png": "[encoded data removed]",
      "text/plain": [
       "plot without title"
      ]
     },
     "metadata": {},
     "output_type": "display_data"
    }
   ],
   "source": [
    "# prun the tree- reduce overfitting - pre prunning\n",
    "\n",
    "dropout_fit_preprun <- rpart(dropout ~ . , method = \"class\", data = dropout_train_tree, control = rpart.control(cp = 0, maxdepth = 3, minsplit = 200))\n",
    "\n",
    "rpart.plot(dropout_fit_preprun)\n"
   ]
  },
  {
   "cell_type": "markdown",
   "metadata": {},
   "source": [
    "Predictions\n",
    "\n"
   ]
  },
  {
   "cell_type": "code",
   "execution_count": 41,
   "metadata": {},
   "outputs": [],
   "source": [
    "dropout_test$predict_tree_prun <- \"\"\n",
    "dropout_test$predict_tree_prun <- predict(dropout_fit_preprun, dropout_test, type = \"class\")\n",
    "\n",
    "dropout_test$predict_tree_prun <- ifelse(dropout_test$predict_tree_prun == 1, \"Dropout\", \"No dropout\")\n"
   ]
  },
  {
   "cell_type": "markdown",
   "metadata": {},
   "source": [
    "Confusion matrix\n",
    "\n"
   ]
  },
  {
   "cell_type": "code",
   "execution_count": 42,
   "metadata": {},
   "outputs": [
    {
     "data": {
      "text/plain": [
       "\n",
       "   Dropout No dropout \n",
       "        59        214 "
      ]
     },
     "metadata": {},
     "output_type": "display_data"
    },
    {
     "data": {
      "text/plain": [
       "            predict_tree_prun\n",
       "dropout      Dropout No dropout\n",
       "  Dropout         53         21\n",
       "  No dropout       6        193"
      ]
     },
     "metadata": {},
     "output_type": "display_data"
    }
   ],
   "source": [
    "table(dropout_test$predict_tree_prun)\n",
    "xtabs(~dropout+predict_tree_prun, data = dropout_test)\n"
   ]
  },
  {
   "cell_type": "markdown",
   "metadata": {},
   "source": [
    "## Random Forest\n",
    "\n",
    "\n",
    "Balancing the imbalanced data\n"
   ]
  },
  {
   "cell_type": "code",
   "execution_count": 49,
   "metadata": {},
   "outputs": [
    {
     "data": {
      "text/html": [
       "<table>\n",
       "<thead><tr><th scope=col>dropout</th><th scope=col>count</th></tr></thead>\n",
       "<tbody>\n",
       "\t<tr><td>Dropout   </td><td>177       </td></tr>\n",
       "\t<tr><td>No dropout</td><td>458       </td></tr>\n",
       "</tbody>\n",
       "</table>\n"
      ],
      "text/latex": [
       "\\begin{tabular}{r|ll}\n",
       " dropout & count\\\\\n",
       "\\hline\n",
       "\t Dropout    & 177       \\\\\n",
       "\t No dropout & 458       \\\\\n",
       "\\end{tabular}\n"
      ],
      "text/markdown": [
       "\n",
       "| dropout | count |\n",
       "|---|---|\n",
       "| Dropout    | 177        |\n",
       "| No dropout | 458        |\n",
       "\n"
      ],
      "text/plain": [
       "  dropout    count\n",
       "1 Dropout    177  \n",
       "2 No dropout 458  "
      ]
     },
     "metadata": {},
     "output_type": "display_data"
    },
    {
     "data": {
      "text/plain": [
       "\n",
       "No dropout    Dropout \n",
       "       458        462 "
      ]
     },
     "metadata": {},
     "output_type": "display_data"
    }
   ],
   "source": [
    "dropout_train_for <- dropout_train\n",
    "\n",
    "dropout_train_for %>% \n",
    "  group_by(dropout) %>% \n",
    "    summarise(count=n())\n",
    "\n",
    "balanced_dropout <- ovun.sample(dropout ~ ., data = dropout_train_for, method = \"over\",N = 920)$data\n",
    "\n",
    "table(balanced_dropout$dropout)\n"
   ]
  },
  {
   "cell_type": "markdown",
   "metadata": {},
   "source": [
    "Re-shuffling the observations and tuning the model \n",
    "\n"
   ]
  },
  {
   "cell_type": "code",
   "execution_count": 50,
   "metadata": {},
   "outputs": [
    {
     "name": "stdout",
     "output_type": "stream",
     "text": [
      "mtry = 3  OOB error = 2.39% \n",
      "Searching left ...\n",
      "mtry = 2 \tOOB error = 2.61% \n",
      "-0.09090909 0.01 \n",
      "Searching right ...\n",
      "mtry = 4 \tOOB error = 2.17% \n",
      "0.09090909 0.01 \n",
      "mtry = 6 \tOOB error = 2.17% \n",
      "0 0.01 \n",
      "      mtry   OOBError\n",
      "2.OOB    2 0.02608696\n",
      "3.OOB    3 0.02391304\n",
      "4.OOB    4 0.02173913\n",
      "6.OOB    6 0.02173913\n",
      "4.OOB 6.OOB \n",
      "    4     6 \n"
     ]
    },
    {
     "data": {
      "image/png": "[encoded data removed]",
      "text/plain": [
       "plot without title"
      ]
     },
     "metadata": {},
     "output_type": "display_data"
    }
   ],
   "source": [
    "random <- sample(1:(nrow(balanced_dropout)))\n",
    "balanced_dropout <- balanced_dropout[random,]\n",
    "\n",
    "mtry <- tuneRF(balanced_dropout[-12],balanced_dropout$dropout, ntreeTry=1000,\n",
    "               stepFactor=1.5,improve=0.01, trace=TRUE)\n",
    "\n",
    "\n",
    "best.m <- mtry[mtry[, 2] == min(mtry[, 2]), 1]\n",
    "print(mtry)\n",
    "print(best.m)\n"
   ]
  },
  {
   "cell_type": "markdown",
   "metadata": {},
   "source": [
    "Fitting the random forest\n",
    "\n"
   ]
  },
  {
   "cell_type": "code",
   "execution_count": 51,
   "metadata": {},
   "outputs": [
    {
     "data": {
      "text/plain": [
       "\n",
       "Call:\n",
       " randomForest(formula = dropout ~ ., data = balanced_dropout,      ntree = 1000, mtry = 4, importance = TRUE) \n",
       "               Type of random forest: classification\n",
       "                     Number of trees: 1000\n",
       "No. of variables tried at each split: 4\n",
       "\n",
       "        OOB estimate of  error rate: 2.39%\n",
       "Confusion matrix:\n",
       "           No dropout Dropout class.error\n",
       "No dropout        441      17  0.03711790\n",
       "Dropout             5     457  0.01082251"
      ]
     },
     "metadata": {},
     "output_type": "display_data"
    }
   ],
   "source": [
    "dropout_fit_for <- randomForest(dropout~., data = balanced_dropout, ntree = 1000, mtry = 4, importance = TRUE)\n",
    "\n",
    "dropout_fit_for\n"
   ]
  },
  {
   "cell_type": "markdown",
   "metadata": {},
   "source": [
    "Very high accuracy.\n",
    "Extremely high sensitivity.\n",
    "\n",
    "\n",
    "\n",
    "Testing the model on the original test data, observing the results\n"
   ]
  },
  {
   "cell_type": "code",
   "execution_count": 52,
   "metadata": {},
   "outputs": [
    {
     "data": {
      "text/plain": [
       "            predict_for\n",
       "dropout      No dropout Dropout\n",
       "  Dropout             5      69\n",
       "  No dropout        194       5"
      ]
     },
     "metadata": {},
     "output_type": "display_data"
    }
   ],
   "source": [
    "dropout_test$predict_for <- \"\"\n",
    "dropout_test$predict_for <- predict(dropout_fit_for, dropout_test, type = \"class\")\n",
    "\n",
    "xtabs(~dropout+predict_for, data = dropout_test)\n"
   ]
  },
  {
   "cell_type": "markdown",
   "metadata": {},
   "source": [
    "\n"
   ]
  }
 ],
 "metadata": {
  "anaconda-cloud": "",
  "kernelspec": {
   "display_name": "R",
   "language": "R",
   "name": "ir"
  },
  "language_info": {
   "codemirror_mode": "r",
   "file_extension": ".r",
   "mimetype": "text/x-r-source",
   "name": "R",
   "pygments_lexer": "r",
   "version": "3.6.1"
  }
 },
 "nbformat": 4,
 "nbformat_minor": 1
}
