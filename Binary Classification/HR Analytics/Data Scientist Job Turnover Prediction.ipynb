{
 "cells": [
  {
   "cell_type": "markdown",
   "metadata": {},
   "source": [
    "Packages used: \n",
    "\n"
   ]
  },
  {
   "cell_type": "code",
   "execution_count": 229,
   "metadata": {},
   "outputs": [],
   "source": [
    "library(dplyr)\n",
    "library(ggplot2)\n",
    "library(readr)\n",
    "library(rpart)\n",
    "library(caret)\n",
    "library(rpart.plot)\n",
    "library(caTools)\n",
    "library(party)\n",
    "library(Amelia)\n",
    "library(tidyr)\n",
    "library(randomForest)\n",
    "library(e1071)\n",
    "library(ROSE)\n"
   ]
  },
  {
   "cell_type": "markdown",
   "metadata": {},
   "source": [
    "**Loading the dataset**\n",
    "\n"
   ]
  },
  {
   "cell_type": "code",
   "execution_count": 252,
   "metadata": {},
   "outputs": [],
   "source": [
    "HR_data <- read.csv(\"C:/Users/morde/Desktop/CDS/data/HR_data.csv\", na.strings=c(\"\"), stringsAsFactors = FALSE)\n",
    "\n"
   ]
  },
  {
   "cell_type": "markdown",
   "metadata": {},
   "source": [
    "Brief peek into the dataset\n",
    "\n"
   ]
  },
  {
   "cell_type": "code",
   "execution_count": 253,
   "metadata": {},
   "outputs": [
    {
     "data": {
      "text/html": [
       "<table>\n",
       "<thead><tr><th scope=col>enrollee_id</th><th scope=col>city</th><th scope=col>city_development_index</th><th scope=col>gender</th><th scope=col>relevent_experience</th><th scope=col>enrolled_university</th><th scope=col>education_level</th><th scope=col>major_discipline</th><th scope=col>experience</th><th scope=col>company_size</th><th scope=col>company_type</th><th scope=col>last_new_job</th><th scope=col>training_hours</th><th scope=col>target</th></tr></thead>\n",
       "<tbody>\n",
       "\t<tr><td> 8949                                                   </td><td>city_103                                                </td><td>0.920                                                   </td><td>Male                                                    </td><td>Has relevent experience                                 </td><td><span style=white-space:pre-wrap>no_enrollment   </span></td><td>Graduate                                                </td><td><span style=white-space:pre-wrap>STEM           </span> </td><td>&gt;20                                                  </td><td><span style=white-space:pre-wrap>NA   </span>           </td><td><span style=white-space:pre-wrap>NA            </span>  </td><td><span style=white-space:pre-wrap>1    </span>           </td><td>36                                                      </td><td>1                                                       </td></tr>\n",
       "\t<tr><td>29725                                                   </td><td>city_40                                                 </td><td>0.776                                                   </td><td>Male                                                    </td><td>No relevent experience                                  </td><td><span style=white-space:pre-wrap>no_enrollment   </span></td><td>Graduate                                                </td><td><span style=white-space:pre-wrap>STEM           </span> </td><td>15                                                      </td><td>50-99                                                   </td><td><span style=white-space:pre-wrap>Pvt Ltd       </span>  </td><td><span style=white-space:pre-wrap>&gt;4   </span>        </td><td>47                                                      </td><td>0                                                       </td></tr>\n",
       "\t<tr><td>11561                  </td><td>city_21                </td><td>0.624                  </td><td>NA                     </td><td>No relevent experience </td><td>Full time course       </td><td>Graduate               </td><td>STEM                   </td><td>5                      </td><td>NA                     </td><td>NA                     </td><td>never                  </td><td>83                     </td><td>0                      </td></tr>\n",
       "\t<tr><td>33241                                                   </td><td>city_115                                                </td><td>0.789                                                   </td><td><span style=white-space:pre-wrap>NA  </span>            </td><td>No relevent experience                                  </td><td><span style=white-space:pre-wrap>NA              </span></td><td>Graduate                                                </td><td>Business Degree                                         </td><td>&lt;1                                                   </td><td><span style=white-space:pre-wrap>NA   </span>           </td><td><span style=white-space:pre-wrap>Pvt Ltd       </span>  </td><td>never                                                   </td><td>52                                                      </td><td>1                                                       </td></tr>\n",
       "\t<tr><td><span style=white-space:pre-wrap>  666</span>           </td><td>city_162                                                </td><td>0.767                                                   </td><td>Male                                                    </td><td>Has relevent experience                                 </td><td><span style=white-space:pre-wrap>no_enrollment   </span></td><td>Masters                                                 </td><td><span style=white-space:pre-wrap>STEM           </span> </td><td>&gt;20                                                  </td><td>50-99                                                   </td><td>Funded Startup                                          </td><td><span style=white-space:pre-wrap>4    </span>           </td><td> 8                                                      </td><td>0                                                       </td></tr>\n",
       "\t<tr><td>21651                  </td><td>city_176               </td><td>0.764                  </td><td>NA                     </td><td>Has relevent experience</td><td>Part time course       </td><td>Graduate               </td><td>STEM                   </td><td>11                     </td><td>NA                     </td><td>NA                     </td><td>1                      </td><td>24                     </td><td>1                      </td></tr>\n",
       "</tbody>\n",
       "</table>\n"
      ],
      "text/latex": [
       "\\begin{tabular}{r|llllllllllllll}\n",
       " enrollee\\_id & city & city\\_development\\_index & gender & relevent\\_experience & enrolled\\_university & education\\_level & major\\_discipline & experience & company\\_size & company\\_type & last\\_new\\_job & training\\_hours & target\\\\\n",
       "\\hline\n",
       "\t  8949                   & city\\_103              & 0.920                   & Male                    & Has relevent experience & no\\_enrollment         & Graduate                & STEM                    & >20                     & NA                      & NA                      & 1                       & 36                      & 1                      \\\\\n",
       "\t 29725                   & city\\_40               & 0.776                   & Male                    & No relevent experience  & no\\_enrollment         & Graduate                & STEM                    & 15                      & 50-99                   & Pvt Ltd                 & >4                      & 47                      & 0                      \\\\\n",
       "\t 11561                   & city\\_21               & 0.624                   & NA                      & No relevent experience  & Full time course        & Graduate                & STEM                    & 5                       & NA                      & NA                      & never                   & 83                      & 0                      \\\\\n",
       "\t 33241                   & city\\_115              & 0.789                   & NA                      & No relevent experience  & NA                      & Graduate                & Business Degree         & <1                      & NA                      & Pvt Ltd                 & never                   & 52                      & 1                      \\\\\n",
       "\t   666                   & city\\_162              & 0.767                   & Male                    & Has relevent experience & no\\_enrollment         & Masters                 & STEM                    & >20                     & 50-99                   & Funded Startup          & 4                       &  8                      & 0                      \\\\\n",
       "\t 21651                   & city\\_176              & 0.764                   & NA                      & Has relevent experience & Part time course        & Graduate                & STEM                    & 11                      & NA                      & NA                      & 1                       & 24                      & 1                      \\\\\n",
       "\\end{tabular}\n"
      ],
      "text/markdown": [
       "\n",
       "| enrollee_id | city | city_development_index | gender | relevent_experience | enrolled_university | education_level | major_discipline | experience | company_size | company_type | last_new_job | training_hours | target |\n",
       "|---|---|---|---|---|---|---|---|---|---|---|---|---|---|\n",
       "|  8949                   | city_103                | 0.920                   | Male                    | Has relevent experience | no_enrollment           | Graduate                | STEM                    | >20                     | NA                      | NA                      | 1                       | 36                      | 1                       |\n",
       "| 29725                   | city_40                 | 0.776                   | Male                    | No relevent experience  | no_enrollment           | Graduate                | STEM                    | 15                      | 50-99                   | Pvt Ltd                 | >4                      | 47                      | 0                       |\n",
       "| 11561                   | city_21                 | 0.624                   | NA                      | No relevent experience  | Full time course        | Graduate                | STEM                    | 5                       | NA                      | NA                      | never                   | 83                      | 0                       |\n",
       "| 33241                   | city_115                | 0.789                   | NA                      | No relevent experience  | NA                      | Graduate                | Business Degree         | <1                      | NA                      | Pvt Ltd                 | never                   | 52                      | 1                       |\n",
       "|   666                   | city_162                | 0.767                   | Male                    | Has relevent experience | no_enrollment           | Masters                 | STEM                    | >20                     | 50-99                   | Funded Startup          | 4                       |  8                      | 0                       |\n",
       "| 21651                   | city_176                | 0.764                   | NA                      | Has relevent experience | Part time course        | Graduate                | STEM                    | 11                      | NA                      | NA                      | 1                       | 24                      | 1                       |\n",
       "\n"
      ],
      "text/plain": [
       "  enrollee_id city     city_development_index gender relevent_experience    \n",
       "1  8949       city_103 0.920                  Male   Has relevent experience\n",
       "2 29725       city_40  0.776                  Male   No relevent experience \n",
       "3 11561       city_21  0.624                  NA     No relevent experience \n",
       "4 33241       city_115 0.789                  NA     No relevent experience \n",
       "5   666       city_162 0.767                  Male   Has relevent experience\n",
       "6 21651       city_176 0.764                  NA     Has relevent experience\n",
       "  enrolled_university education_level major_discipline experience company_size\n",
       "1 no_enrollment       Graduate        STEM             >20        NA          \n",
       "2 no_enrollment       Graduate        STEM             15         50-99       \n",
       "3 Full time course    Graduate        STEM             5          NA          \n",
       "4 NA                  Graduate        Business Degree  <1         NA          \n",
       "5 no_enrollment       Masters         STEM             >20        50-99       \n",
       "6 Part time course    Graduate        STEM             11         NA          \n",
       "  company_type   last_new_job training_hours target\n",
       "1 NA             1            36             1     \n",
       "2 Pvt Ltd        >4           47             0     \n",
       "3 NA             never        83             0     \n",
       "4 Pvt Ltd        never        52             1     \n",
       "5 Funded Startup 4             8             0     \n",
       "6 NA             1            24             1     "
      ]
     },
     "metadata": {},
     "output_type": "display_data"
    }
   ],
   "source": [
    "head(HR_data)\n",
    "\n"
   ]
  },
  {
   "cell_type": "markdown",
   "metadata": {},
   "source": [
    "\n",
    "\n"
   ]
  },
  {
   "cell_type": "code",
   "execution_count": 254,
   "metadata": {},
   "outputs": [
    {
     "name": "stdout",
     "output_type": "stream",
     "text": [
      "Observations: 19,158\n",
      "Variables: 14\n",
      "$ enrollee_id            <int> 8949, 29725, 11561, 33241, 666, 21651, 28806...\n",
      "$ city                   <chr> \"city_103\", \"city_40\", \"city_21\", \"city_115\"...\n",
      "$ city_development_index <dbl> 0.920, 0.776, 0.624, 0.789, 0.767, 0.764, 0....\n",
      "$ gender                 <chr> \"Male\", \"Male\", NA, NA, \"Male\", NA, \"Male\", ...\n",
      "$ relevent_experience    <chr> \"Has relevent experience\", \"No relevent expe...\n",
      "$ enrolled_university    <chr> \"no_enrollment\", \"no_enrollment\", \"Full time...\n",
      "$ education_level        <chr> \"Graduate\", \"Graduate\", \"Graduate\", \"Graduat...\n",
      "$ major_discipline       <chr> \"STEM\", \"STEM\", \"STEM\", \"Business Degree\", \"...\n",
      "$ experience             <chr> \">20\", \"15\", \"5\", \"<1\", \">20\", \"11\", \"5\", \"1...\n",
      "$ company_size           <chr> NA, \"50-99\", NA, NA, \"50-99\", NA, \"50-99\", \"...\n",
      "$ company_type           <chr> NA, \"Pvt Ltd\", NA, \"Pvt Ltd\", \"Funded Startu...\n",
      "$ last_new_job           <chr> \"1\", \">4\", \"never\", \"never\", \"4\", \"1\", \"1\", ...\n",
      "$ training_hours         <int> 36, 47, 83, 52, 8, 24, 24, 18, 46, 123, 32, ...\n",
      "$ target                 <dbl> 1, 0, 0, 1, 0, 1, 0, 1, 1, 0, 1, 0, 0, 0, 0,...\n"
     ]
    }
   ],
   "source": [
    "glimpse(HR_data)\n",
    "\n"
   ]
  },
  {
   "cell_type": "markdown",
   "metadata": {},
   "source": [
    "**Data Pre-Processing**\n",
    "\n"
   ]
  },
  {
   "cell_type": "code",
   "execution_count": 255,
   "metadata": {},
   "outputs": [
    {
     "data": {
      "text/html": [
       "<ol class=list-inline>\n",
       "\t<li>'enrollee_id'</li>\n",
       "\t<li>'city'</li>\n",
       "\t<li>'city_development_index'</li>\n",
       "\t<li>'gender'</li>\n",
       "\t<li>'relevent_experience'</li>\n",
       "\t<li>'enrolled_university'</li>\n",
       "\t<li>'education_level'</li>\n",
       "\t<li>'major_discipline'</li>\n",
       "\t<li>'experience'</li>\n",
       "\t<li>'company_size'</li>\n",
       "\t<li>'company_type'</li>\n",
       "\t<li>'last_new_job'</li>\n",
       "\t<li>'training_hours'</li>\n",
       "\t<li>'target'</li>\n",
       "</ol>\n"
      ],
      "text/latex": [
       "\\begin{enumerate*}\n",
       "\\item 'enrollee\\_id'\n",
       "\\item 'city'\n",
       "\\item 'city\\_development\\_index'\n",
       "\\item 'gender'\n",
       "\\item 'relevent\\_experience'\n",
       "\\item 'enrolled\\_university'\n",
       "\\item 'education\\_level'\n",
       "\\item 'major\\_discipline'\n",
       "\\item 'experience'\n",
       "\\item 'company\\_size'\n",
       "\\item 'company\\_type'\n",
       "\\item 'last\\_new\\_job'\n",
       "\\item 'training\\_hours'\n",
       "\\item 'target'\n",
       "\\end{enumerate*}\n"
      ],
      "text/markdown": [
       "1. 'enrollee_id'\n",
       "2. 'city'\n",
       "3. 'city_development_index'\n",
       "4. 'gender'\n",
       "5. 'relevent_experience'\n",
       "6. 'enrolled_university'\n",
       "7. 'education_level'\n",
       "8. 'major_discipline'\n",
       "9. 'experience'\n",
       "10. 'company_size'\n",
       "11. 'company_type'\n",
       "12. 'last_new_job'\n",
       "13. 'training_hours'\n",
       "14. 'target'\n",
       "\n",
       "\n"
      ],
      "text/plain": [
       " [1] \"enrollee_id\"            \"city\"                   \"city_development_index\"\n",
       " [4] \"gender\"                 \"relevent_experience\"    \"enrolled_university\"   \n",
       " [7] \"education_level\"        \"major_discipline\"       \"experience\"            \n",
       "[10] \"company_size\"           \"company_type\"           \"last_new_job\"          \n",
       "[13] \"training_hours\"         \"target\"                "
      ]
     },
     "metadata": {},
     "output_type": "display_data"
    }
   ],
   "source": [
    "colnames(HR_data)\n",
    "\n"
   ]
  },
  {
   "cell_type": "markdown",
   "metadata": {},
   "source": [
    "*Dropping unneeded columns*\n",
    "\n",
    "Columns **enrollee_id** and **city** are dropped since they are inconsequential to our analysis and prediction\n"
   ]
  },
  {
   "cell_type": "code",
   "execution_count": 256,
   "metadata": {},
   "outputs": [],
   "source": [
    "HR_data <- HR_data[,-c(1,2)]\n",
    "\n"
   ]
  },
  {
   "cell_type": "markdown",
   "metadata": {},
   "source": [
    "\n",
    "\n"
   ]
  },
  {
   "cell_type": "code",
   "execution_count": 257,
   "metadata": {},
   "outputs": [
    {
     "data": {
      "text/html": [
       "<ol class=list-inline>\n",
       "\t<li>'city_development_index'</li>\n",
       "\t<li>'gender'</li>\n",
       "\t<li>'relevent_experience'</li>\n",
       "\t<li>'enrolled_university'</li>\n",
       "\t<li>'education_level'</li>\n",
       "\t<li>'major_discipline'</li>\n",
       "\t<li>'experience'</li>\n",
       "\t<li>'company_size'</li>\n",
       "\t<li>'company_type'</li>\n",
       "\t<li>'last_new_job'</li>\n",
       "\t<li>'training_hours'</li>\n",
       "\t<li>'target'</li>\n",
       "</ol>\n"
      ],
      "text/latex": [
       "\\begin{enumerate*}\n",
       "\\item 'city\\_development\\_index'\n",
       "\\item 'gender'\n",
       "\\item 'relevent\\_experience'\n",
       "\\item 'enrolled\\_university'\n",
       "\\item 'education\\_level'\n",
       "\\item 'major\\_discipline'\n",
       "\\item 'experience'\n",
       "\\item 'company\\_size'\n",
       "\\item 'company\\_type'\n",
       "\\item 'last\\_new\\_job'\n",
       "\\item 'training\\_hours'\n",
       "\\item 'target'\n",
       "\\end{enumerate*}\n"
      ],
      "text/markdown": [
       "1. 'city_development_index'\n",
       "2. 'gender'\n",
       "3. 'relevent_experience'\n",
       "4. 'enrolled_university'\n",
       "5. 'education_level'\n",
       "6. 'major_discipline'\n",
       "7. 'experience'\n",
       "8. 'company_size'\n",
       "9. 'company_type'\n",
       "10. 'last_new_job'\n",
       "11. 'training_hours'\n",
       "12. 'target'\n",
       "\n",
       "\n"
      ],
      "text/plain": [
       " [1] \"city_development_index\" \"gender\"                 \"relevent_experience\"   \n",
       " [4] \"enrolled_university\"    \"education_level\"        \"major_discipline\"      \n",
       " [7] \"experience\"             \"company_size\"           \"company_type\"          \n",
       "[10] \"last_new_job\"           \"training_hours\"         \"target\"                "
      ]
     },
     "metadata": {},
     "output_type": "display_data"
    }
   ],
   "source": [
    "colnames(HR_data)\n",
    "\n"
   ]
  },
  {
   "cell_type": "markdown",
   "metadata": {},
   "source": [
    "**Missing values**\n",
    "\n"
   ]
  },
  {
   "cell_type": "code",
   "execution_count": 258,
   "metadata": {},
   "outputs": [
    {
     "data": {
      "text/html": [
       "<dl class=dl-horizontal>\n",
       "\t<dt>city_development_index</dt>\n",
       "\t\t<dd>0</dd>\n",
       "\t<dt>gender</dt>\n",
       "\t\t<dd>4508</dd>\n",
       "\t<dt>relevent_experience</dt>\n",
       "\t\t<dd>0</dd>\n",
       "\t<dt>enrolled_university</dt>\n",
       "\t\t<dd>386</dd>\n",
       "\t<dt>education_level</dt>\n",
       "\t\t<dd>460</dd>\n",
       "\t<dt>major_discipline</dt>\n",
       "\t\t<dd>2813</dd>\n",
       "\t<dt>experience</dt>\n",
       "\t\t<dd>65</dd>\n",
       "\t<dt>company_size</dt>\n",
       "\t\t<dd>5938</dd>\n",
       "\t<dt>company_type</dt>\n",
       "\t\t<dd>6140</dd>\n",
       "\t<dt>last_new_job</dt>\n",
       "\t\t<dd>423</dd>\n",
       "\t<dt>training_hours</dt>\n",
       "\t\t<dd>0</dd>\n",
       "\t<dt>target</dt>\n",
       "\t\t<dd>0</dd>\n",
       "</dl>\n"
      ],
      "text/latex": [
       "\\begin{description*}\n",
       "\\item[city\\textbackslash{}\\_development\\textbackslash{}\\_index] 0\n",
       "\\item[gender] 4508\n",
       "\\item[relevent\\textbackslash{}\\_experience] 0\n",
       "\\item[enrolled\\textbackslash{}\\_university] 386\n",
       "\\item[education\\textbackslash{}\\_level] 460\n",
       "\\item[major\\textbackslash{}\\_discipline] 2813\n",
       "\\item[experience] 65\n",
       "\\item[company\\textbackslash{}\\_size] 5938\n",
       "\\item[company\\textbackslash{}\\_type] 6140\n",
       "\\item[last\\textbackslash{}\\_new\\textbackslash{}\\_job] 423\n",
       "\\item[training\\textbackslash{}\\_hours] 0\n",
       "\\item[target] 0\n",
       "\\end{description*}\n"
      ],
      "text/markdown": [
       "city_development_index\n",
       ":   0gender\n",
       ":   4508relevent_experience\n",
       ":   0enrolled_university\n",
       ":   386education_level\n",
       ":   460major_discipline\n",
       ":   2813experience\n",
       ":   65company_size\n",
       ":   5938company_type\n",
       ":   6140last_new_job\n",
       ":   423training_hours\n",
       ":   0target\n",
       ":   0\n",
       "\n"
      ],
      "text/plain": [
       "city_development_index                 gender    relevent_experience \n",
       "                     0                   4508                      0 \n",
       "   enrolled_university        education_level       major_discipline \n",
       "                   386                    460                   2813 \n",
       "            experience           company_size           company_type \n",
       "                    65                   5938                   6140 \n",
       "          last_new_job         training_hours                 target \n",
       "                   423                      0                      0 "
      ]
     },
     "metadata": {},
     "output_type": "display_data"
    }
   ],
   "source": [
    "colSums(is.na(HR_data))\n",
    "\n"
   ]
  },
  {
   "cell_type": "markdown",
   "metadata": {},
   "source": [
    "Missing values present in **8** out of **12** columns\n",
    "\n",
    "\n",
    "Visualization of the missing data concentration in each column\n"
   ]
  },
  {
   "cell_type": "code",
   "execution_count": 259,
   "metadata": {},
   "outputs": [
    {
     "data": {
      "image/png": "[encoded data removed]",
      "text/plain": [
       "Plot with title \"Missing Values\""
      ]
     },
     "metadata": {},
     "output_type": "display_data"
    }
   ],
   "source": [
    "missmap(HR_data, main = 'Missing Values', col = c('purple', 'black'))\n",
    "\n"
   ]
  },
  {
   "cell_type": "markdown",
   "metadata": {},
   "source": [
    "Looking at the percentage of the missing values in their respective groups\n",
    "\n"
   ]
  },
  {
   "cell_type": "code",
   "execution_count": 260,
   "metadata": {},
   "outputs": [
    {
     "data": {
      "text/html": [
       "<dl class=dl-horizontal>\n",
       "\t<dt>city_development_index</dt>\n",
       "\t\t<dd>0</dd>\n",
       "\t<dt>gender</dt>\n",
       "\t\t<dd>23.531</dd>\n",
       "\t<dt>relevent_experience</dt>\n",
       "\t\t<dd>0</dd>\n",
       "\t<dt>enrolled_university</dt>\n",
       "\t\t<dd>2.015</dd>\n",
       "\t<dt>education_level</dt>\n",
       "\t\t<dd>2.401</dd>\n",
       "\t<dt>major_discipline</dt>\n",
       "\t\t<dd>14.683</dd>\n",
       "\t<dt>experience</dt>\n",
       "\t\t<dd>0.339</dd>\n",
       "\t<dt>company_size</dt>\n",
       "\t\t<dd>30.995</dd>\n",
       "\t<dt>company_type</dt>\n",
       "\t\t<dd>32.049</dd>\n",
       "\t<dt>last_new_job</dt>\n",
       "\t\t<dd>2.208</dd>\n",
       "\t<dt>training_hours</dt>\n",
       "\t\t<dd>0</dd>\n",
       "\t<dt>target</dt>\n",
       "\t\t<dd>0</dd>\n",
       "</dl>\n"
      ],
      "text/latex": [
       "\\begin{description*}\n",
       "\\item[city\\textbackslash{}\\_development\\textbackslash{}\\_index] 0\n",
       "\\item[gender] 23.531\n",
       "\\item[relevent\\textbackslash{}\\_experience] 0\n",
       "\\item[enrolled\\textbackslash{}\\_university] 2.015\n",
       "\\item[education\\textbackslash{}\\_level] 2.401\n",
       "\\item[major\\textbackslash{}\\_discipline] 14.683\n",
       "\\item[experience] 0.339\n",
       "\\item[company\\textbackslash{}\\_size] 30.995\n",
       "\\item[company\\textbackslash{}\\_type] 32.049\n",
       "\\item[last\\textbackslash{}\\_new\\textbackslash{}\\_job] 2.208\n",
       "\\item[training\\textbackslash{}\\_hours] 0\n",
       "\\item[target] 0\n",
       "\\end{description*}\n"
      ],
      "text/markdown": [
       "city_development_index\n",
       ":   0gender\n",
       ":   23.531relevent_experience\n",
       ":   0enrolled_university\n",
       ":   2.015education_level\n",
       ":   2.401major_discipline\n",
       ":   14.683experience\n",
       ":   0.339company_size\n",
       ":   30.995company_type\n",
       ":   32.049last_new_job\n",
       ":   2.208training_hours\n",
       ":   0target\n",
       ":   0\n",
       "\n"
      ],
      "text/plain": [
       "city_development_index                 gender    relevent_experience \n",
       "                 0.000                 23.531                  0.000 \n",
       "   enrolled_university        education_level       major_discipline \n",
       "                 2.015                  2.401                 14.683 \n",
       "            experience           company_size           company_type \n",
       "                 0.339                 30.995                 32.049 \n",
       "          last_new_job         training_hours                 target \n",
       "                 2.208                  0.000                  0.000 "
      ]
     },
     "metadata": {},
     "output_type": "display_data"
    }
   ],
   "source": [
    "round(colMeans(is.na(HR_data)) * 100,3)\n",
    "\n"
   ]
  },
  {
   "cell_type": "markdown",
   "metadata": {},
   "source": [
    "The column with the largest number of missing data is **company_type(32.049%)**, while the column with the smallest is **experience(0.339%)**\n",
    "\n",
    "\n",
    "\n",
    "For the groups with few missing values, we shall drop the rows with the missing data, since the data loss is close to insignificant.\n",
    "The columns are **education_level, experience, last_new_job and enrolled_university**\n"
   ]
  },
  {
   "cell_type": "code",
   "execution_count": 261,
   "metadata": {},
   "outputs": [],
   "source": [
    "HR_data <- HR_data %>% \n",
    "  filter(complete.cases(education_level,experience,last_new_job,enrolled_university))\n"
   ]
  },
  {
   "cell_type": "markdown",
   "metadata": {},
   "source": [
    "\n"
   ]
  },
  {
   "cell_type": "code",
   "execution_count": 262,
   "metadata": {},
   "outputs": [
    {
     "data": {
      "text/html": [
       "<dl class=dl-horizontal>\n",
       "\t<dt>city_development_index</dt>\n",
       "\t\t<dd>0</dd>\n",
       "\t<dt>gender</dt>\n",
       "\t\t<dd>21.444</dd>\n",
       "\t<dt>relevent_experience</dt>\n",
       "\t\t<dd>0</dd>\n",
       "\t<dt>enrolled_university</dt>\n",
       "\t\t<dd>0</dd>\n",
       "\t<dt>education_level</dt>\n",
       "\t\t<dd>0</dd>\n",
       "\t<dt>major_discipline</dt>\n",
       "\t\t<dd>12.335</dd>\n",
       "\t<dt>experience</dt>\n",
       "\t\t<dd>0</dd>\n",
       "\t<dt>company_size</dt>\n",
       "\t\t<dd>29.477</dd>\n",
       "\t<dt>company_type</dt>\n",
       "\t\t<dd>30.399</dd>\n",
       "\t<dt>last_new_job</dt>\n",
       "\t\t<dd>0</dd>\n",
       "\t<dt>training_hours</dt>\n",
       "\t\t<dd>0</dd>\n",
       "\t<dt>target</dt>\n",
       "\t\t<dd>0</dd>\n",
       "</dl>\n"
      ],
      "text/latex": [
       "\\begin{description*}\n",
       "\\item[city\\textbackslash{}\\_development\\textbackslash{}\\_index] 0\n",
       "\\item[gender] 21.444\n",
       "\\item[relevent\\textbackslash{}\\_experience] 0\n",
       "\\item[enrolled\\textbackslash{}\\_university] 0\n",
       "\\item[education\\textbackslash{}\\_level] 0\n",
       "\\item[major\\textbackslash{}\\_discipline] 12.335\n",
       "\\item[experience] 0\n",
       "\\item[company\\textbackslash{}\\_size] 29.477\n",
       "\\item[company\\textbackslash{}\\_type] 30.399\n",
       "\\item[last\\textbackslash{}\\_new\\textbackslash{}\\_job] 0\n",
       "\\item[training\\textbackslash{}\\_hours] 0\n",
       "\\item[target] 0\n",
       "\\end{description*}\n"
      ],
      "text/markdown": [
       "city_development_index\n",
       ":   0gender\n",
       ":   21.444relevent_experience\n",
       ":   0enrolled_university\n",
       ":   0education_level\n",
       ":   0major_discipline\n",
       ":   12.335experience\n",
       ":   0company_size\n",
       ":   29.477company_type\n",
       ":   30.399last_new_job\n",
       ":   0training_hours\n",
       ":   0target\n",
       ":   0\n",
       "\n"
      ],
      "text/plain": [
       "city_development_index                 gender    relevent_experience \n",
       "                 0.000                 21.444                  0.000 \n",
       "   enrolled_university        education_level       major_discipline \n",
       "                 0.000                  0.000                 12.335 \n",
       "            experience           company_size           company_type \n",
       "                 0.000                 29.477                 30.399 \n",
       "          last_new_job         training_hours                 target \n",
       "                 0.000                  0.000                  0.000 "
      ]
     },
     "metadata": {},
     "output_type": "display_data"
    }
   ],
   "source": [
    "round(colMeans(is.na(HR_data)) * 100,3)\n",
    "\n"
   ]
  },
  {
   "cell_type": "markdown",
   "metadata": {},
   "source": [
    "*Dealing with gender missing data*\n",
    "\n"
   ]
  },
  {
   "cell_type": "code",
   "execution_count": 263,
   "metadata": {},
   "outputs": [
    {
     "data": {
      "text/html": [
       "<ol class=list-inline>\n",
       "\t<li>'Male'</li>\n",
       "\t<li>NA</li>\n",
       "\t<li>'Female'</li>\n",
       "\t<li>'Other'</li>\n",
       "</ol>\n"
      ],
      "text/latex": [
       "\\begin{enumerate*}\n",
       "\\item 'Male'\n",
       "\\item NA\n",
       "\\item 'Female'\n",
       "\\item 'Other'\n",
       "\\end{enumerate*}\n"
      ],
      "text/markdown": [
       "1. 'Male'\n",
       "2. NA\n",
       "3. 'Female'\n",
       "4. 'Other'\n",
       "\n",
       "\n"
      ],
      "text/plain": [
       "[1] \"Male\"   NA       \"Female\" \"Other\" "
      ]
     },
     "metadata": {},
     "output_type": "display_data"
    }
   ],
   "source": [
    "unique(HR_data$gender)\n",
    "\n"
   ]
  },
  {
   "cell_type": "markdown",
   "metadata": {},
   "source": [
    "The count for each gender:\n",
    "\n"
   ]
  },
  {
   "cell_type": "code",
   "execution_count": 264,
   "metadata": {},
   "outputs": [
    {
     "data": {
      "text/html": [
       "<table>\n",
       "<thead><tr><th scope=col>gender</th><th scope=col>count</th></tr></thead>\n",
       "<tbody>\n",
       "\t<tr><td>NA    </td><td> 3863 </td></tr>\n",
       "\t<tr><td>Female</td><td> 1206 </td></tr>\n",
       "\t<tr><td>Male  </td><td>12772 </td></tr>\n",
       "\t<tr><td>Other </td><td>  173 </td></tr>\n",
       "</tbody>\n",
       "</table>\n"
      ],
      "text/latex": [
       "\\begin{tabular}{r|ll}\n",
       " gender & count\\\\\n",
       "\\hline\n",
       "\t NA     &  3863 \\\\\n",
       "\t Female &  1206 \\\\\n",
       "\t Male   & 12772 \\\\\n",
       "\t Other  &   173 \\\\\n",
       "\\end{tabular}\n"
      ],
      "text/markdown": [
       "\n",
       "| gender | count |\n",
       "|---|---|\n",
       "| NA     |  3863  |\n",
       "| Female |  1206  |\n",
       "| Male   | 12772  |\n",
       "| Other  |   173  |\n",
       "\n"
      ],
      "text/plain": [
       "  gender count\n",
       "1 NA      3863\n",
       "2 Female  1206\n",
       "3 Male   12772\n",
       "4 Other    173"
      ]
     },
     "metadata": {},
     "output_type": "display_data"
    }
   ],
   "source": [
    "HR_data %>% \n",
    "  group_by(gender) %>% \n",
    "  summarise(count=n())\n"
   ]
  },
  {
   "cell_type": "markdown",
   "metadata": {},
   "source": [
    "The male gender is densely populated in the group, while the females are much less.\n",
    "\n",
    "\n",
    "Classifying the gender \"Other\" as male for typical purposes\n"
   ]
  },
  {
   "cell_type": "code",
   "execution_count": 265,
   "metadata": {},
   "outputs": [
    {
     "data": {
      "text/html": [
       "<ol class=list-inline>\n",
       "\t<li>'Male'</li>\n",
       "\t<li>NA</li>\n",
       "\t<li>'Female'</li>\n",
       "</ol>\n"
      ],
      "text/latex": [
       "\\begin{enumerate*}\n",
       "\\item 'Male'\n",
       "\\item NA\n",
       "\\item 'Female'\n",
       "\\end{enumerate*}\n"
      ],
      "text/markdown": [
       "1. 'Male'\n",
       "2. NA\n",
       "3. 'Female'\n",
       "\n",
       "\n"
      ],
      "text/plain": [
       "[1] \"Male\"   NA       \"Female\""
      ]
     },
     "metadata": {},
     "output_type": "display_data"
    }
   ],
   "source": [
    "other <- which(HR_data$gender == \"Other\")\n",
    "\n",
    "for (i in other) {\n",
    "  HR_data$gender[i] <- \"Male\"\n",
    "}    \n",
    "\n",
    "unique(HR_data$gender)\n"
   ]
  },
  {
   "cell_type": "markdown",
   "metadata": {},
   "source": [
    "Losing the N/A rows on gender and observing the percentage loss of our dataset\n",
    "\n"
   ]
  },
  {
   "cell_type": "code",
   "execution_count": 266,
   "metadata": {},
   "outputs": [
    {
     "data": {
      "text/html": [
       "21.4444321083602"
      ],
      "text/latex": [
       "21.4444321083602"
      ],
      "text/markdown": [
       "21.4444321083602"
      ],
      "text/plain": [
       "[1] 21.44443"
      ]
     },
     "metadata": {},
     "output_type": "display_data"
    }
   ],
   "source": [
    "complete <- HR_data %>% \n",
    "  filter(complete.cases(gender))\n",
    "\n",
    " 100 - (nrow(complete)/nrow(HR_data) * 100)\n"
   ]
  },
  {
   "cell_type": "markdown",
   "metadata": {},
   "source": [
    "\n",
    "\n"
   ]
  },
  {
   "cell_type": "code",
   "execution_count": 267,
   "metadata": {},
   "outputs": [
    {
     "data": {
      "text/html": [
       "0"
      ],
      "text/latex": [
       "0"
      ],
      "text/markdown": [
       "0"
      ],
      "text/plain": [
       "[1] 0"
      ]
     },
     "metadata": {},
     "output_type": "display_data"
    }
   ],
   "source": [
    "HR_data <- complete\n",
    "sum(is.na(HR_data$gender))\n"
   ]
  },
  {
   "cell_type": "markdown",
   "metadata": {},
   "source": [
    "*Dealing with major_discipline missing values*\n",
    "\n",
    "\n",
    "Observing the count of each discipline \n"
   ]
  },
  {
   "cell_type": "code",
   "execution_count": 268,
   "metadata": {},
   "outputs": [
    {
     "data": {
      "text/html": [
       "<ol class=list-inline>\n",
       "\t<li>'STEM'</li>\n",
       "\t<li>NA</li>\n",
       "\t<li>'Arts'</li>\n",
       "\t<li>'Humanities'</li>\n",
       "\t<li>'Business Degree'</li>\n",
       "\t<li>'No Major'</li>\n",
       "\t<li>'Other'</li>\n",
       "</ol>\n"
      ],
      "text/latex": [
       "\\begin{enumerate*}\n",
       "\\item 'STEM'\n",
       "\\item NA\n",
       "\\item 'Arts'\n",
       "\\item 'Humanities'\n",
       "\\item 'Business Degree'\n",
       "\\item 'No Major'\n",
       "\\item 'Other'\n",
       "\\end{enumerate*}\n"
      ],
      "text/markdown": [
       "1. 'STEM'\n",
       "2. NA\n",
       "3. 'Arts'\n",
       "4. 'Humanities'\n",
       "5. 'Business Degree'\n",
       "6. 'No Major'\n",
       "7. 'Other'\n",
       "\n",
       "\n"
      ],
      "text/plain": [
       "[1] \"STEM\"            NA                \"Arts\"            \"Humanities\"     \n",
       "[5] \"Business Degree\" \"No Major\"        \"Other\"          "
      ]
     },
     "metadata": {},
     "output_type": "display_data"
    },
    {
     "data": {
      "text/html": [
       "<table>\n",
       "<thead><tr><th scope=col>major_discipline</th><th scope=col>count</th></tr></thead>\n",
       "<tbody>\n",
       "\t<tr><td>NA             </td><td> 1674          </td></tr>\n",
       "\t<tr><td>Arts           </td><td>  201          </td></tr>\n",
       "\t<tr><td>Business Degree</td><td>  252          </td></tr>\n",
       "\t<tr><td>Humanities     </td><td>  547          </td></tr>\n",
       "\t<tr><td>No Major       </td><td>  176          </td></tr>\n",
       "\t<tr><td>Other          </td><td>  284          </td></tr>\n",
       "\t<tr><td>STEM           </td><td>11017          </td></tr>\n",
       "</tbody>\n",
       "</table>\n"
      ],
      "text/latex": [
       "\\begin{tabular}{r|ll}\n",
       " major\\_discipline & count\\\\\n",
       "\\hline\n",
       "\t NA              &  1674          \\\\\n",
       "\t Arts            &   201          \\\\\n",
       "\t Business Degree &   252          \\\\\n",
       "\t Humanities      &   547          \\\\\n",
       "\t No Major        &   176          \\\\\n",
       "\t Other           &   284          \\\\\n",
       "\t STEM            & 11017          \\\\\n",
       "\\end{tabular}\n"
      ],
      "text/markdown": [
       "\n",
       "| major_discipline | count |\n",
       "|---|---|\n",
       "| NA              |  1674           |\n",
       "| Arts            |   201           |\n",
       "| Business Degree |   252           |\n",
       "| Humanities      |   547           |\n",
       "| No Major        |   176           |\n",
       "| Other           |   284           |\n",
       "| STEM            | 11017           |\n",
       "\n"
      ],
      "text/plain": [
       "  major_discipline count\n",
       "1 NA                1674\n",
       "2 Arts               201\n",
       "3 Business Degree    252\n",
       "4 Humanities         547\n",
       "5 No Major           176\n",
       "6 Other              284\n",
       "7 STEM             11017"
      ]
     },
     "metadata": {},
     "output_type": "display_data"
    }
   ],
   "source": [
    "unique(HR_data$major_discipline)\n",
    "\n",
    "HR_data %>% \n",
    "  group_by(major_discipline) %>% \n",
    "  summarise(count=n())\n"
   ]
  },
  {
   "cell_type": "markdown",
   "metadata": {},
   "source": [
    "Replacing the fewer N/A values with the overly populated STEM discipline. In this case, an assumption is made that a majority of the N/A values are in the STEM category\n",
    "\n"
   ]
  },
  {
   "cell_type": "code",
   "execution_count": 269,
   "metadata": {},
   "outputs": [],
   "source": [
    "HR_data$major_discipline = replace_na(HR_data$major_discipline,'STEM')\n",
    "\n"
   ]
  },
  {
   "cell_type": "markdown",
   "metadata": {},
   "source": [
    "\n"
   ]
  },
  {
   "cell_type": "code",
   "execution_count": 270,
   "metadata": {},
   "outputs": [
    {
     "data": {
      "text/html": [
       "0"
      ],
      "text/latex": [
       "0"
      ],
      "text/markdown": [
       "0"
      ],
      "text/plain": [
       "[1] 0"
      ]
     },
     "metadata": {},
     "output_type": "display_data"
    }
   ],
   "source": [
    "sum(is.na(HR_data$major_discipline))\n",
    "\n"
   ]
  },
  {
   "cell_type": "markdown",
   "metadata": {},
   "source": [
    "*Dealing with company size missing values*\n",
    "\n"
   ]
  },
  {
   "cell_type": "code",
   "execution_count": 351,
   "metadata": {},
   "outputs": [
    {
     "data": {
      "text/html": [
       "<ol class=list-inline>\n",
       "\t<li>1000-4999</li>\n",
       "\t<li>50-99</li>\n",
       "\t<li>100-500</li>\n",
       "\t<li>&lt;NA&gt;</li>\n",
       "\t<li>Unknown</li>\n",
       "\t<li>10000+</li>\n",
       "\t<li>5000-9999</li>\n",
       "\t<li>500-999</li>\n",
       "\t<li>&lt;10</li>\n",
       "</ol>\n",
       "\n",
       "<details>\n",
       "\t<summary style=display:list-item;cursor:pointer>\n",
       "\t\t<strong>Levels</strong>:\n",
       "\t</summary>\n",
       "\t<ol class=list-inline>\n",
       "\t\t<li>'&lt;10'</li>\n",
       "\t\t<li>'100-500'</li>\n",
       "\t\t<li>'1000-4999'</li>\n",
       "\t\t<li>'10000+'</li>\n",
       "\t\t<li>'50-99'</li>\n",
       "\t\t<li>'500-999'</li>\n",
       "\t\t<li>'5000-9999'</li>\n",
       "\t\t<li>'Unknown'</li>\n",
       "\t</ol>\n",
       "</details>"
      ],
      "text/latex": [
       "\\begin{enumerate*}\n",
       "\\item 1000-4999\n",
       "\\item 50-99\n",
       "\\item 100-500\n",
       "\\item <NA>\n",
       "\\item Unknown\n",
       "\\item 10000+\n",
       "\\item 5000-9999\n",
       "\\item 500-999\n",
       "\\item <10\n",
       "\\end{enumerate*}\n",
       "\n",
       "\\emph{Levels}: \\begin{enumerate*}\n",
       "\\item '<10'\n",
       "\\item '100-500'\n",
       "\\item '1000-4999'\n",
       "\\item '10000+'\n",
       "\\item '50-99'\n",
       "\\item '500-999'\n",
       "\\item '5000-9999'\n",
       "\\item 'Unknown'\n",
       "\\end{enumerate*}\n"
      ],
      "text/markdown": [
       "1. 1000-4999\n",
       "2. 50-99\n",
       "3. 100-500\n",
       "4. &lt;NA&gt;\n",
       "5. Unknown\n",
       "6. 10000+\n",
       "7. 5000-9999\n",
       "8. 500-999\n",
       "9. &lt;10\n",
       "\n",
       "\n",
       "\n",
       "**Levels**: 1. '&lt;10'\n",
       "2. '100-500'\n",
       "3. '1000-4999'\n",
       "4. '10000+'\n",
       "5. '50-99'\n",
       "6. '500-999'\n",
       "7. '5000-9999'\n",
       "8. 'Unknown'\n",
       "\n",
       "\n"
      ],
      "text/plain": [
       "[1] 1000-4999 50-99     100-500   <NA>      Unknown   10000+    5000-9999\n",
       "[8] 500-999   <10      \n",
       "Levels: <10 100-500 1000-4999 10000+ 50-99 500-999 5000-9999 Unknown"
      ]
     },
     "metadata": {},
     "output_type": "display_data"
    }
   ],
   "source": [
    "unique(HR_data$company_size)\n",
    "\n"
   ]
  },
  {
   "cell_type": "code",
   "execution_count": 352,
   "metadata": {},
   "outputs": [],
   "source": [
    "size_na <- which(!complete.cases(HR_data$company_size))\n",
    "\n",
    "for (i in size_na){\n",
    "    HR_data$company_size[i] <- \"Unknown\"\n",
    "}\n"
   ]
  },
  {
   "cell_type": "markdown",
   "metadata": {},
   "source": [
    "\n",
    "\n"
   ]
  },
  {
   "cell_type": "code",
   "execution_count": 353,
   "metadata": {},
   "outputs": [
    {
     "data": {
      "text/html": [
       "0"
      ],
      "text/latex": [
       "0"
      ],
      "text/markdown": [
       "0"
      ],
      "text/plain": [
       "[1] 0"
      ]
     },
     "metadata": {},
     "output_type": "display_data"
    }
   ],
   "source": [
    "sum(is.na(HR_data$company_size))\n",
    "\n"
   ]
  },
  {
   "cell_type": "markdown",
   "metadata": {},
   "source": [
    "*Dealing with company type missing values*\n",
    "\n"
   ]
  },
  {
   "cell_type": "code",
   "execution_count": 354,
   "metadata": {},
   "outputs": [
    {
     "data": {
      "text/html": [
       "<ol class=list-inline>\n",
       "\t<li>Pvt Ltd</li>\n",
       "\t<li>Other</li>\n",
       "\t<li>Funded Startup</li>\n",
       "\t<li>Public Sector</li>\n",
       "\t<li>NGO</li>\n",
       "\t<li>Early Stage Startup</li>\n",
       "</ol>\n",
       "\n",
       "<details>\n",
       "\t<summary style=display:list-item;cursor:pointer>\n",
       "\t\t<strong>Levels</strong>:\n",
       "\t</summary>\n",
       "\t<ol class=list-inline>\n",
       "\t\t<li>'Early Stage Startup'</li>\n",
       "\t\t<li>'Funded Startup'</li>\n",
       "\t\t<li>'NGO'</li>\n",
       "\t\t<li>'Other'</li>\n",
       "\t\t<li>'Public Sector'</li>\n",
       "\t\t<li>'Pvt Ltd'</li>\n",
       "\t</ol>\n",
       "</details>"
      ],
      "text/latex": [
       "\\begin{enumerate*}\n",
       "\\item Pvt Ltd\n",
       "\\item Other\n",
       "\\item Funded Startup\n",
       "\\item Public Sector\n",
       "\\item NGO\n",
       "\\item Early Stage Startup\n",
       "\\end{enumerate*}\n",
       "\n",
       "\\emph{Levels}: \\begin{enumerate*}\n",
       "\\item 'Early Stage Startup'\n",
       "\\item 'Funded Startup'\n",
       "\\item 'NGO'\n",
       "\\item 'Other'\n",
       "\\item 'Public Sector'\n",
       "\\item 'Pvt Ltd'\n",
       "\\end{enumerate*}\n"
      ],
      "text/markdown": [
       "1. Pvt Ltd\n",
       "2. Other\n",
       "3. Funded Startup\n",
       "4. Public Sector\n",
       "5. NGO\n",
       "6. Early Stage Startup\n",
       "\n",
       "\n",
       "\n",
       "**Levels**: 1. 'Early Stage Startup'\n",
       "2. 'Funded Startup'\n",
       "3. 'NGO'\n",
       "4. 'Other'\n",
       "5. 'Public Sector'\n",
       "6. 'Pvt Ltd'\n",
       "\n",
       "\n"
      ],
      "text/plain": [
       "[1] Pvt Ltd             Other               Funded Startup     \n",
       "[4] Public Sector       NGO                 Early Stage Startup\n",
       "6 Levels: Early Stage Startup Funded Startup NGO Other ... Pvt Ltd"
      ]
     },
     "metadata": {},
     "output_type": "display_data"
    }
   ],
   "source": [
    "unique(HR_data$company_type)\n",
    "\n"
   ]
  },
  {
   "cell_type": "markdown",
   "metadata": {},
   "source": [
    "An other column exists, so we input the missing values to it\n",
    "\n"
   ]
  },
  {
   "cell_type": "code",
   "execution_count": 355,
   "metadata": {},
   "outputs": [],
   "source": [
    "HR_data$company_type = replace_na(HR_data$company_type,'Other')\n",
    "\n"
   ]
  },
  {
   "cell_type": "markdown",
   "metadata": {},
   "source": [
    "\n",
    "\n"
   ]
  },
  {
   "cell_type": "code",
   "execution_count": 356,
   "metadata": {},
   "outputs": [
    {
     "data": {
      "text/html": [
       "0"
      ],
      "text/latex": [
       "0"
      ],
      "text/markdown": [
       "0"
      ],
      "text/plain": [
       "[1] 0"
      ]
     },
     "metadata": {},
     "output_type": "display_data"
    }
   ],
   "source": [
    "sum(is.na(HR_data$company_type))\n",
    "\n"
   ]
  },
  {
   "cell_type": "markdown",
   "metadata": {},
   "source": [
    "Looking at the final result:\n",
    "\n"
   ]
  },
  {
   "cell_type": "code",
   "execution_count": 357,
   "metadata": {},
   "outputs": [
    {
     "data": {
      "text/html": [
       "<dl class=dl-horizontal>\n",
       "\t<dt>city_development_index</dt>\n",
       "\t\t<dd>0</dd>\n",
       "\t<dt>gender</dt>\n",
       "\t\t<dd>0</dd>\n",
       "\t<dt>relevant_experience</dt>\n",
       "\t\t<dd>0</dd>\n",
       "\t<dt>enrolled_university</dt>\n",
       "\t\t<dd>0</dd>\n",
       "\t<dt>education_level</dt>\n",
       "\t\t<dd>0</dd>\n",
       "\t<dt>major_discipline</dt>\n",
       "\t\t<dd>0</dd>\n",
       "\t<dt>experience</dt>\n",
       "\t\t<dd>0</dd>\n",
       "\t<dt>company_size</dt>\n",
       "\t\t<dd>0</dd>\n",
       "\t<dt>company_type</dt>\n",
       "\t\t<dd>0</dd>\n",
       "\t<dt>last_new_job</dt>\n",
       "\t\t<dd>0</dd>\n",
       "\t<dt>training_hours</dt>\n",
       "\t\t<dd>0</dd>\n",
       "\t<dt>target</dt>\n",
       "\t\t<dd>0</dd>\n",
       "</dl>\n"
      ],
      "text/latex": [
       "\\begin{description*}\n",
       "\\item[city\\textbackslash{}\\_development\\textbackslash{}\\_index] 0\n",
       "\\item[gender] 0\n",
       "\\item[relevant\\textbackslash{}\\_experience] 0\n",
       "\\item[enrolled\\textbackslash{}\\_university] 0\n",
       "\\item[education\\textbackslash{}\\_level] 0\n",
       "\\item[major\\textbackslash{}\\_discipline] 0\n",
       "\\item[experience] 0\n",
       "\\item[company\\textbackslash{}\\_size] 0\n",
       "\\item[company\\textbackslash{}\\_type] 0\n",
       "\\item[last\\textbackslash{}\\_new\\textbackslash{}\\_job] 0\n",
       "\\item[training\\textbackslash{}\\_hours] 0\n",
       "\\item[target] 0\n",
       "\\end{description*}\n"
      ],
      "text/markdown": [
       "city_development_index\n",
       ":   0gender\n",
       ":   0relevant_experience\n",
       ":   0enrolled_university\n",
       ":   0education_level\n",
       ":   0major_discipline\n",
       ":   0experience\n",
       ":   0company_size\n",
       ":   0company_type\n",
       ":   0last_new_job\n",
       ":   0training_hours\n",
       ":   0target\n",
       ":   0\n",
       "\n"
      ],
      "text/plain": [
       "city_development_index                 gender    relevant_experience \n",
       "                     0                      0                      0 \n",
       "   enrolled_university        education_level       major_discipline \n",
       "                     0                      0                      0 \n",
       "            experience           company_size           company_type \n",
       "                     0                      0                      0 \n",
       "          last_new_job         training_hours                 target \n",
       "                     0                      0                      0 "
      ]
     },
     "metadata": {},
     "output_type": "display_data"
    }
   ],
   "source": [
    "colSums(is.na(HR_data))\n",
    "\n"
   ]
  },
  {
   "cell_type": "markdown",
   "metadata": {},
   "source": [
    "No missing values are present in the dataset\n",
    "\n",
    "\n",
    "\n",
    "\n",
    "\n",
    "\n",
    "**Data types**\n"
   ]
  },
  {
   "cell_type": "code",
   "execution_count": 358,
   "metadata": {},
   "outputs": [
    {
     "name": "stdout",
     "output_type": "stream",
     "text": [
      "Observations: 14,151\n",
      "Variables: 12\n",
      "$ city_development_index <dbl> 0.624, 0.550, 0.893, 0.624, 0.897, 0.895, 0....\n",
      "$ gender                 <fct> Male, Male, Male, Male, Male, Male, Male, Ma...\n",
      "$ relevant_experience    <fct> Has relevent experience, Has relevent experi...\n",
      "$ enrolled_university    <fct> no enrollment, no enrollment, no enrollment,...\n",
      "$ education_level        <fct> Masters, Graduate, Graduate, Graduate, Maste...\n",
      "$ major_discipline       <fct> STEM, STEM, STEM, STEM, STEM, STEM, STEM, ST...\n",
      "$ experience             <fct> >20, 5, 6, 17, 8, 9, 4, 10, >20, 9, 5, >20, ...\n",
      "$ company_size           <fct> 1000-4999, 50-99, 100-500, 100-500, 100-500,...\n",
      "$ company_type           <fct> Pvt Ltd, Pvt Ltd, Pvt Ltd, Pvt Ltd, Pvt Ltd,...\n",
      "$ last_new_job           <fct> 2, 1, never, 3, 4, 1, 2, 2, 2, 4, 1, 1, 1, 1...\n",
      "$ training_hours         <int> 56, 74, 88, 42, 33, 89, 92, 43, 51, 31, 31, ...\n",
      "$ target                 <dbl> 1, 1, 0, 0, 0, 0, 0, 0, 1, 0, 0, 0, 0, 0, 0,...\n"
     ]
    }
   ],
   "source": [
    "glimpse(HR_data)\n",
    "\n"
   ]
  },
  {
   "cell_type": "markdown",
   "metadata": {},
   "source": [
    "Changing all the character columns in the dataset to factor since they are categories with levels:\n",
    "\n"
   ]
  },
  {
   "cell_type": "code",
   "execution_count": 359,
   "metadata": {},
   "outputs": [
    {
     "data": {
      "text/html": [
       "<ol class=list-inline>\n",
       "\t<li>Male</li>\n",
       "\t<li>Female</li>\n",
       "</ol>\n",
       "\n",
       "<details>\n",
       "\t<summary style=display:list-item;cursor:pointer>\n",
       "\t\t<strong>Levels</strong>:\n",
       "\t</summary>\n",
       "\t<ol class=list-inline>\n",
       "\t\t<li>'Female'</li>\n",
       "\t\t<li>'Male'</li>\n",
       "\t</ol>\n",
       "</details>"
      ],
      "text/latex": [
       "\\begin{enumerate*}\n",
       "\\item Male\n",
       "\\item Female\n",
       "\\end{enumerate*}\n",
       "\n",
       "\\emph{Levels}: \\begin{enumerate*}\n",
       "\\item 'Female'\n",
       "\\item 'Male'\n",
       "\\end{enumerate*}\n"
      ],
      "text/markdown": [
       "1. Male\n",
       "2. Female\n",
       "\n",
       "\n",
       "\n",
       "**Levels**: 1. 'Female'\n",
       "2. 'Male'\n",
       "\n",
       "\n"
      ],
      "text/plain": [
       "[1] Male   Female\n",
       "Levels: Female Male"
      ]
     },
     "metadata": {},
     "output_type": "display_data"
    },
    {
     "data": {
      "text/plain": [
       "NULL"
      ]
     },
     "metadata": {},
     "output_type": "display_data"
    },
    {
     "ename": "ERROR",
     "evalue": "Error in `$<-.data.frame`(`*tmp*`, relevent_experience, value = structure(integer(0), .Label = character(0), class = \"factor\")): replacement has 0 rows, data has 14151\n",
     "output_type": "error",
     "traceback": [
      "Error in `$<-.data.frame`(`*tmp*`, relevent_experience, value = structure(integer(0), .Label = character(0), class = \"factor\")): replacement has 0 rows, data has 14151\nTraceback:\n",
      "1. `$<-`(`*tmp*`, relevent_experience, value = structure(integer(0), .Label = character(0), class = \"factor\"))",
      "2. `$<-.data.frame`(`*tmp*`, relevent_experience, value = structure(integer(0), .Label = character(0), class = \"factor\"))",
      "3. stop(sprintf(ngettext(N, \"replacement has %d row, data has %d\", \n .     \"replacement has %d rows, data has %d\"), N, nrows), domain = NA)"
     ]
    }
   ],
   "source": [
    "# gender\n",
    "unique(HR_data$gender)\n",
    "HR_data$gender <- factor(HR_data$gender)\n",
    "\n",
    "# relevant experience\n",
    "unique(HR_data$relevent_experience)\n",
    "HR_data$relevent_experience <- factor(HR_data$relevent_experience)\n",
    "\n",
    "# enrolled university\n",
    "unique(HR_data$enrolled_university)\n",
    "HR_data$enrolled_university <- factor(HR_data$enrolled_university, levels = c(\"Full time course\", \"Part time course\", \"no_enrollment\"))\n",
    "\n",
    "# education level\n",
    "unique(HR_data$education_level)\n",
    "HR_data$education_level <- factor(HR_data$education_level, levels = c(\"Primary School\", \"High School\", \"Graduate\", \"Masters\", \"Phd\"))\n",
    "\n",
    "# major discipline\n",
    "unique(HR_data$major_discipline)\n",
    "HR_data$major_discipline <- factor(HR_data$major_discipline)\n",
    "\n",
    "# experience\n",
    "unique(HR_data$experience)\n",
    "HR_data$experience <- factor(HR_data$experience)\n",
    "\n",
    "# company size\n",
    "unique(HR_data$company_size)\n",
    "HR_data$company_size<- factor(HR_data$company_size, levels = c(\"<10\",\"10-49\",\"50-99\",\"100-500\",\"500-999\",\"1000-4999\",\"5000-9999\",\"10000+\",\"Unknown\"))\n",
    "\n",
    "# company type\n",
    "unique(HR_data$company_type)\n",
    "HR_data$company_type<- factor(HR_data$company_type)\n",
    "\n",
    "# last new job\n",
    "unique(HR_data$last_new_job)\n",
    "HR_data$last_new_job<- factor(HR_data$last_new_job, levels = c(\"never\", \"1\", \"2\", \"3\", \"4\", \">4\"))\n",
    "\n",
    "# target\n",
    "unique(HR_data$target)\n",
    "HR_data$target<- factor(HR_data$target)\n"
   ]
  },
  {
   "cell_type": "markdown",
   "metadata": {},
   "source": [
    "Another look at the result:\n",
    "\n"
   ]
  },
  {
   "cell_type": "code",
   "execution_count": 360,
   "metadata": {},
   "outputs": [
    {
     "name": "stdout",
     "output_type": "stream",
     "text": [
      "Observations: 14,151\n",
      "Variables: 12\n",
      "$ city_development_index <dbl> 0.624, 0.550, 0.893, 0.624, 0.897, 0.895, 0....\n",
      "$ gender                 <fct> Male, Male, Male, Male, Male, Male, Male, Ma...\n",
      "$ relevant_experience    <fct> Has relevent experience, Has relevent experi...\n",
      "$ enrolled_university    <fct> no enrollment, no enrollment, no enrollment,...\n",
      "$ education_level        <fct> Masters, Graduate, Graduate, Graduate, Maste...\n",
      "$ major_discipline       <fct> STEM, STEM, STEM, STEM, STEM, STEM, STEM, ST...\n",
      "$ experience             <fct> >20, 5, 6, 17, 8, 9, 4, 10, >20, 9, 5, >20, ...\n",
      "$ company_size           <fct> 1000-4999, 50-99, 100-500, 100-500, 100-500,...\n",
      "$ company_type           <fct> Pvt Ltd, Pvt Ltd, Pvt Ltd, Pvt Ltd, Pvt Ltd,...\n",
      "$ last_new_job           <fct> 2, 1, never, 3, 4, 1, 2, 2, 2, 4, 1, 1, 1, 1...\n",
      "$ training_hours         <int> 56, 74, 88, 42, 33, 89, 92, 43, 51, 31, 31, ...\n",
      "$ target                 <dbl> 1, 1, 0, 0, 0, 0, 0, 0, 1, 0, 0, 0, 0, 0, 0,...\n"
     ]
    }
   ],
   "source": [
    "glimpse(HR_data)\n",
    "\n"
   ]
  },
  {
   "cell_type": "markdown",
   "metadata": {},
   "source": [
    "**Other pre-processing**\n",
    "\n",
    "\n",
    "\n",
    "*relevant experience*\n",
    "\n",
    "Renaming the column name to remove a spell error\n"
   ]
  },
  {
   "cell_type": "code",
   "execution_count": 361,
   "metadata": {},
   "outputs": [
    {
     "ename": "ERROR",
     "evalue": "Unknown column `relevent_experience` ",
     "output_type": "error",
     "traceback": [
      "Unknown column `relevent_experience` Traceback:\n",
      "1. HR_data %>% rename(relevant_experience = \"relevent_experience\")",
      "2. withVisible(eval(quote(`_fseq`(`_lhs`)), env, env))",
      "3. eval(quote(`_fseq`(`_lhs`)), env, env)",
      "4. eval(quote(`_fseq`(`_lhs`)), env, env)",
      "5. `_fseq`(`_lhs`)",
      "6. freduce(value, `_function_list`)",
      "7. withVisible(function_list[[k]](value))",
      "8. function_list[[k]](value)",
      "9. rename(., relevant_experience = \"relevent_experience\")",
      "10. rename.data.frame(., relevant_experience = \"relevent_experience\")",
      "11. tidyselect::vars_rename(names(.data), !!!quos(...))",
      "12. bad_unknown_vars(.vars, unknown)",
      "13. abort(glue(\"Unknown { thing } { fmt_args(unknown) } \"))"
     ]
    }
   ],
   "source": [
    "HR_data <- HR_data %>% \n",
    "        rename(\n",
    "          relevant_experience = \"relevent_experience\"\n",
    "        )\n"
   ]
  },
  {
   "cell_type": "markdown",
   "metadata": {},
   "source": [
    "*enrolled university*\n",
    "\n"
   ]
  },
  {
   "cell_type": "code",
   "execution_count": 362,
   "metadata": {},
   "outputs": [],
   "source": [
    "HR_data$enrolled_university <- as.character(HR_data$enrolled_university)\n",
    "\n",
    "enrolled <- which(HR_data$enrolled_university == \"no_enrollment\")\n",
    "\n",
    "for (i in enrolled) {\n",
    "  HR_data$enrolled_university[i] <- \"no enrollment\"\n",
    "}\n",
    "\n",
    "HR_data$enrolled_university <- as.factor(HR_data$enrolled_university)\n"
   ]
  },
  {
   "cell_type": "markdown",
   "metadata": {},
   "source": [
    "*company type*\n",
    "\n"
   ]
  },
  {
   "cell_type": "code",
   "execution_count": 363,
   "metadata": {},
   "outputs": [
    {
     "data": {
      "text/html": [
       "<ol class=list-inline>\n",
       "\t<li>Pvt Ltd</li>\n",
       "\t<li>Other</li>\n",
       "\t<li>Funded Startup</li>\n",
       "\t<li>Public Sector</li>\n",
       "\t<li>NGO</li>\n",
       "\t<li>Early Stage Startup</li>\n",
       "</ol>\n",
       "\n",
       "<details>\n",
       "\t<summary style=display:list-item;cursor:pointer>\n",
       "\t\t<strong>Levels</strong>:\n",
       "\t</summary>\n",
       "\t<ol class=list-inline>\n",
       "\t\t<li>'Early Stage Startup'</li>\n",
       "\t\t<li>'Funded Startup'</li>\n",
       "\t\t<li>'NGO'</li>\n",
       "\t\t<li>'Other'</li>\n",
       "\t\t<li>'Public Sector'</li>\n",
       "\t\t<li>'Pvt Ltd'</li>\n",
       "\t</ol>\n",
       "</details>"
      ],
      "text/latex": [
       "\\begin{enumerate*}\n",
       "\\item Pvt Ltd\n",
       "\\item Other\n",
       "\\item Funded Startup\n",
       "\\item Public Sector\n",
       "\\item NGO\n",
       "\\item Early Stage Startup\n",
       "\\end{enumerate*}\n",
       "\n",
       "\\emph{Levels}: \\begin{enumerate*}\n",
       "\\item 'Early Stage Startup'\n",
       "\\item 'Funded Startup'\n",
       "\\item 'NGO'\n",
       "\\item 'Other'\n",
       "\\item 'Public Sector'\n",
       "\\item 'Pvt Ltd'\n",
       "\\end{enumerate*}\n"
      ],
      "text/markdown": [
       "1. Pvt Ltd\n",
       "2. Other\n",
       "3. Funded Startup\n",
       "4. Public Sector\n",
       "5. NGO\n",
       "6. Early Stage Startup\n",
       "\n",
       "\n",
       "\n",
       "**Levels**: 1. 'Early Stage Startup'\n",
       "2. 'Funded Startup'\n",
       "3. 'NGO'\n",
       "4. 'Other'\n",
       "5. 'Public Sector'\n",
       "6. 'Pvt Ltd'\n",
       "\n",
       "\n"
      ],
      "text/plain": [
       "[1] Pvt Ltd             Other               Funded Startup     \n",
       "[4] Public Sector       NGO                 Early Stage Startup\n",
       "6 Levels: Early Stage Startup Funded Startup NGO Other ... Pvt Ltd"
      ]
     },
     "metadata": {},
     "output_type": "display_data"
    },
    {
     "data": {
      "text/html": [
       "0"
      ],
      "text/latex": [
       "0"
      ],
      "text/markdown": [
       "0"
      ],
      "text/plain": [
       "[1] 0"
      ]
     },
     "metadata": {},
     "output_type": "display_data"
    },
    {
     "data": {
      "text/html": [
       "<dl class=dl-horizontal>\n",
       "\t<dt>city_development_index</dt>\n",
       "\t\t<dd>0</dd>\n",
       "\t<dt>gender</dt>\n",
       "\t\t<dd>0</dd>\n",
       "\t<dt>relevant_experience</dt>\n",
       "\t\t<dd>0</dd>\n",
       "\t<dt>enrolled_university</dt>\n",
       "\t\t<dd>0</dd>\n",
       "\t<dt>education_level</dt>\n",
       "\t\t<dd>0</dd>\n",
       "\t<dt>major_discipline</dt>\n",
       "\t\t<dd>0</dd>\n",
       "\t<dt>experience</dt>\n",
       "\t\t<dd>0</dd>\n",
       "\t<dt>company_size</dt>\n",
       "\t\t<dd>0</dd>\n",
       "\t<dt>company_type</dt>\n",
       "\t\t<dd>0</dd>\n",
       "\t<dt>last_new_job</dt>\n",
       "\t\t<dd>0</dd>\n",
       "\t<dt>training_hours</dt>\n",
       "\t\t<dd>0</dd>\n",
       "\t<dt>target</dt>\n",
       "\t\t<dd>0</dd>\n",
       "</dl>\n"
      ],
      "text/latex": [
       "\\begin{description*}\n",
       "\\item[city\\textbackslash{}\\_development\\textbackslash{}\\_index] 0\n",
       "\\item[gender] 0\n",
       "\\item[relevant\\textbackslash{}\\_experience] 0\n",
       "\\item[enrolled\\textbackslash{}\\_university] 0\n",
       "\\item[education\\textbackslash{}\\_level] 0\n",
       "\\item[major\\textbackslash{}\\_discipline] 0\n",
       "\\item[experience] 0\n",
       "\\item[company\\textbackslash{}\\_size] 0\n",
       "\\item[company\\textbackslash{}\\_type] 0\n",
       "\\item[last\\textbackslash{}\\_new\\textbackslash{}\\_job] 0\n",
       "\\item[training\\textbackslash{}\\_hours] 0\n",
       "\\item[target] 0\n",
       "\\end{description*}\n"
      ],
      "text/markdown": [
       "city_development_index\n",
       ":   0gender\n",
       ":   0relevant_experience\n",
       ":   0enrolled_university\n",
       ":   0education_level\n",
       ":   0major_discipline\n",
       ":   0experience\n",
       ":   0company_size\n",
       ":   0company_type\n",
       ":   0last_new_job\n",
       ":   0training_hours\n",
       ":   0target\n",
       ":   0\n",
       "\n"
      ],
      "text/plain": [
       "city_development_index                 gender    relevant_experience \n",
       "                     0                      0                      0 \n",
       "   enrolled_university        education_level       major_discipline \n",
       "                     0                      0                      0 \n",
       "            experience           company_size           company_type \n",
       "                     0                      0                      0 \n",
       "          last_new_job         training_hours                 target \n",
       "                     0                      0                      0 "
      ]
     },
     "metadata": {},
     "output_type": "display_data"
    }
   ],
   "source": [
    "# dealing with company type missing values\n",
    "unique(HR_data$company_type)\n",
    "\n",
    "HR_data$company_type = replace_na(HR_data$company_type,'Other')\n",
    "\n",
    "sum(is.na(HR_data$company_type))\n",
    "\n",
    "colSums(is.na(HR_data))\n"
   ]
  },
  {
   "cell_type": "markdown",
   "metadata": {},
   "source": [
    "**Dependent variable analysis**\n",
    "\n",
    "Changing the 1 and 0 factors to their clear meanings:\n"
   ]
  },
  {
   "cell_type": "code",
   "execution_count": 364,
   "metadata": {},
   "outputs": [],
   "source": [
    "HR_data$target <- ifelse(HR_data$target == 1, \"Job change\", \"No job change\")\n",
    "\n"
   ]
  },
  {
   "cell_type": "markdown",
   "metadata": {},
   "source": [
    "\n",
    "\n"
   ]
  },
  {
   "cell_type": "code",
   "execution_count": 365,
   "metadata": {},
   "outputs": [
    {
     "data": {
      "text/html": [
       "<table>\n",
       "<thead><tr><th scope=col>target</th><th scope=col>count</th></tr></thead>\n",
       "<tbody>\n",
       "\t<tr><td>Job change   </td><td> 3259        </td></tr>\n",
       "\t<tr><td>No job change</td><td>10892        </td></tr>\n",
       "</tbody>\n",
       "</table>\n"
      ],
      "text/latex": [
       "\\begin{tabular}{r|ll}\n",
       " target & count\\\\\n",
       "\\hline\n",
       "\t Job change    &  3259        \\\\\n",
       "\t No job change & 10892        \\\\\n",
       "\\end{tabular}\n"
      ],
      "text/markdown": [
       "\n",
       "| target | count |\n",
       "|---|---|\n",
       "| Job change    |  3259         |\n",
       "| No job change | 10892         |\n",
       "\n"
      ],
      "text/plain": [
       "  target        count\n",
       "1 Job change     3259\n",
       "2 No job change 10892"
      ]
     },
     "metadata": {},
     "output_type": "display_data"
    }
   ],
   "source": [
    "count_targ <- HR_data %>% \n",
    "  group_by(target) %>% \n",
    "     summarise(count=n())\n",
    "\n",
    "count_targ\n"
   ]
  },
  {
   "cell_type": "markdown",
   "metadata": {},
   "source": [
    "Percentage of each:\n",
    "\n"
   ]
  },
  {
   "cell_type": "code",
   "execution_count": 366,
   "metadata": {},
   "outputs": [
    {
     "data": {
      "text/html": [
       "23.0301745459685"
      ],
      "text/latex": [
       "23.0301745459685"
      ],
      "text/markdown": [
       "23.0301745459685"
      ],
      "text/plain": [
       "[1] 23.03017"
      ]
     },
     "metadata": {},
     "output_type": "display_data"
    },
    {
     "data": {
      "text/html": [
       "76.9698254540315"
      ],
      "text/latex": [
       "76.9698254540315"
      ],
      "text/markdown": [
       "76.9698254540315"
      ],
      "text/plain": [
       "[1] 76.96983"
      ]
     },
     "metadata": {},
     "output_type": "display_data"
    }
   ],
   "source": [
    "# looking for a job change\n",
    "(3259/(3259+10892)) * 100\n",
    "\n",
    "# not looking for a job change\n",
    "(10892/(3259+10892)) * 100\n"
   ]
  },
  {
   "cell_type": "markdown",
   "metadata": {},
   "source": [
    "Visualization of the target count variable:\n",
    "\n"
   ]
  },
  {
   "cell_type": "code",
   "execution_count": 367,
   "metadata": {},
   "outputs": [
    {
     "data": {
      "image/png": "[encoded data removed]",
      "text/plain": [
       "plot without title"
      ]
     },
     "metadata": {},
     "output_type": "display_data"
    }
   ],
   "source": [
    "ggplot(count_targ, aes(x=target, y=count, fill=target))+\n",
    "  geom_col(alpha=0.5)+\n",
    "    scale_fill_brewer(palette = \"PuOr\")+\n",
    "    labs(title = \"A BAR PLOT SHOWING THE NUMBER OF PEOPLE LIKELY \\nTO CHANGE JOBS AGAINST THOSE NOT LIKELY TO CHANGE\")+\n",
    "  theme_dark()\n"
   ]
  },
  {
   "cell_type": "markdown",
   "metadata": {},
   "source": [
    "**Independent variable analysis**\n",
    "\n",
    "\n",
    "\n",
    "**City development index**\n",
    "\n",
    "\n",
    "\n",
    "Descriptive statistics(Maximum, Minimum, Median):\n"
   ]
  },
  {
   "cell_type": "code",
   "execution_count": 368,
   "metadata": {},
   "outputs": [
    {
     "data": {
      "text/html": [
       "<table>\n",
       "<thead><tr><th scope=col>max</th><th scope=col>min</th><th scope=col>median</th></tr></thead>\n",
       "<tbody>\n",
       "\t<tr><td>0.949</td><td>0.448</td><td>0.91 </td></tr>\n",
       "</tbody>\n",
       "</table>\n"
      ],
      "text/latex": [
       "\\begin{tabular}{r|lll}\n",
       " max & min & median\\\\\n",
       "\\hline\n",
       "\t 0.949 & 0.448 & 0.91 \\\\\n",
       "\\end{tabular}\n"
      ],
      "text/markdown": [
       "\n",
       "| max | min | median |\n",
       "|---|---|---|\n",
       "| 0.949 | 0.448 | 0.91  |\n",
       "\n"
      ],
      "text/plain": [
       "  max   min   median\n",
       "1 0.949 0.448 0.91  "
      ]
     },
     "metadata": {},
     "output_type": "display_data"
    }
   ],
   "source": [
    "HR_data %>% \n",
    "   summarise(max=max(city_development_index), min=min(city_development_index), median=median(city_development_index))\n"
   ]
  },
  {
   "cell_type": "markdown",
   "metadata": {},
   "source": [
    "A high median(0.91) indicates that most cities that the employees work in are highly developed, as per their index\n",
    "\n",
    "\n",
    "A visual showing the distribution of this variable:\n"
   ]
  },
  {
   "cell_type": "code",
   "execution_count": 369,
   "metadata": {},
   "outputs": [
    {
     "data": {
      "image/png": "[encoded data removed]",
      "text/plain": [
       "plot without title"
      ]
     },
     "metadata": {},
     "output_type": "display_data"
    }
   ],
   "source": [
    "ggplot(HR_data, aes(x=city_development_index, fill=target))+\n",
    "           geom_density(alpha=0.5)+\n",
    "           scale_fill_brewer(palette = \"PuOr\")+\n",
    "           labs(title = \"A DENSITY PLOT SHOWING THE CITY DEVELOPMENT \\nINDEXES OF THE VARIOUS EMPLOYEES\")+\n",
    "           theme_dark()\n"
   ]
  },
  {
   "cell_type": "markdown",
   "metadata": {},
   "source": [
    "As seen above, majority of the people working for companies in lower developed cities seek a change in jobs, while those at more developed cities are content with their current job positions\n",
    "\n",
    "A boxplot summarises this further:\n"
   ]
  },
  {
   "cell_type": "code",
   "execution_count": 370,
   "metadata": {},
   "outputs": [
    {
     "data": {
      "image/png": "[encoded data removed]",
      "text/plain": [
       "plot without title"
      ]
     },
     "metadata": {},
     "output_type": "display_data"
    }
   ],
   "source": [
    "ggplot(HR_data, aes(x=target, y=city_development_index, fill=target))+\n",
    "           geom_boxplot(alpha=0.5)+\n",
    "           scale_fill_brewer(palette = \"PuOr\")+\n",
    "           labs(title = \"A BOX PLOT SHOWING THE CITY DEVELOPMENT \\nINDEX LEVELS OF THE VARIOUS EMPLOYEES\")+\n",
    "           theme_dark()\n",
    "           \n"
   ]
  },
  {
   "cell_type": "markdown",
   "metadata": {},
   "source": [
    "**Gender**\n",
    "\n",
    "\n",
    "Count of each: \n"
   ]
  },
  {
   "cell_type": "code",
   "execution_count": 371,
   "metadata": {},
   "outputs": [
    {
     "data": {
      "text/html": [
       "<table>\n",
       "<thead><tr><th scope=col>gender</th><th scope=col>count</th></tr></thead>\n",
       "<tbody>\n",
       "\t<tr><td>Female</td><td> 1206 </td></tr>\n",
       "\t<tr><td>Male  </td><td>12945 </td></tr>\n",
       "</tbody>\n",
       "</table>\n"
      ],
      "text/latex": [
       "\\begin{tabular}{r|ll}\n",
       " gender & count\\\\\n",
       "\\hline\n",
       "\t Female &  1206 \\\\\n",
       "\t Male   & 12945 \\\\\n",
       "\\end{tabular}\n"
      ],
      "text/markdown": [
       "\n",
       "| gender | count |\n",
       "|---|---|\n",
       "| Female |  1206  |\n",
       "| Male   | 12945  |\n",
       "\n"
      ],
      "text/plain": [
       "  gender count\n",
       "1 Female  1206\n",
       "2 Male   12945"
      ]
     },
     "metadata": {},
     "output_type": "display_data"
    }
   ],
   "source": [
    "HR_data %>% \n",
    "  group_by(gender) %>% \n",
    "   summarise(count=n())\n"
   ]
  },
  {
   "cell_type": "markdown",
   "metadata": {},
   "source": [
    "Count of those likely to change jobs:\n",
    "\n"
   ]
  },
  {
   "cell_type": "code",
   "execution_count": 372,
   "metadata": {},
   "outputs": [
    {
     "data": {
      "text/html": [
       "<table>\n",
       "<thead><tr><th scope=col>gender</th><th scope=col>count</th></tr></thead>\n",
       "<tbody>\n",
       "\t<tr><td>Female</td><td> 313  </td></tr>\n",
       "\t<tr><td>Male  </td><td>2946  </td></tr>\n",
       "</tbody>\n",
       "</table>\n"
      ],
      "text/latex": [
       "\\begin{tabular}{r|ll}\n",
       " gender & count\\\\\n",
       "\\hline\n",
       "\t Female &  313  \\\\\n",
       "\t Male   & 2946  \\\\\n",
       "\\end{tabular}\n"
      ],
      "text/markdown": [
       "\n",
       "| gender | count |\n",
       "|---|---|\n",
       "| Female |  313   |\n",
       "| Male   | 2946   |\n",
       "\n"
      ],
      "text/plain": [
       "  gender count\n",
       "1 Female  313 \n",
       "2 Male   2946 "
      ]
     },
     "metadata": {},
     "output_type": "display_data"
    }
   ],
   "source": [
    " HR_data %>%\n",
    "  filter(target==\"Job change\") %>% \n",
    "  group_by(gender) %>%\n",
    "  summarise(count=n())\n"
   ]
  },
  {
   "cell_type": "markdown",
   "metadata": {},
   "source": [
    "Job change percentage of each gender:\n",
    "\n"
   ]
  },
  {
   "cell_type": "code",
   "execution_count": 373,
   "metadata": {},
   "outputs": [
    {
     "data": {
      "text/html": [
       "25.9535655058043"
      ],
      "text/latex": [
       "25.9535655058043"
      ],
      "text/markdown": [
       "25.9535655058043"
      ],
      "text/plain": [
       "[1] 25.95357"
      ]
     },
     "metadata": {},
     "output_type": "display_data"
    },
    {
     "data": {
      "text/html": [
       "22.7578215527231"
      ],
      "text/latex": [
       "22.7578215527231"
      ],
      "text/markdown": [
       "22.7578215527231"
      ],
      "text/plain": [
       "[1] 22.75782"
      ]
     },
     "metadata": {},
     "output_type": "display_data"
    }
   ],
   "source": [
    "# females looking for a job change\n",
    " (313/1206) * 100\n",
    "\n",
    "# males looking for a job change\n",
    " (2946/12945) * 100\n"
   ]
  },
  {
   "cell_type": "markdown",
   "metadata": {},
   "source": [
    "Females(at 25.95%) are more inclined to change jobs than males(at 22.75%)\n",
    "\n"
   ]
  },
  {
   "cell_type": "code",
   "execution_count": 374,
   "metadata": {},
   "outputs": [
    {
     "data": {
      "image/png": "[encoded data removed]",
      "text/plain": [
       "plot without title"
      ]
     },
     "metadata": {},
     "output_type": "display_data"
    }
   ],
   "source": [
    " ggplot(HR_data, aes(x=gender, fill=target))+\n",
    "   geom_bar(position = \"stack\")+\n",
    "     scale_fill_brewer(palette = \"PuOr\")+\n",
    "    labs(title=\"A BAR PLOT SHOWING THE RELATIONSHIP \\nBETWEEN GENDER AND JOB CHANGE\")+\n",
    "     theme_dark()\n"
   ]
  },
  {
   "cell_type": "markdown",
   "metadata": {},
   "source": [
    "**Relevant experience**\n",
    "\n",
    "\n",
    "The number of people in the each experience level:\n",
    " \n",
    " \n"
   ]
  },
  {
   "cell_type": "code",
   "execution_count": 375,
   "metadata": {},
   "outputs": [
    {
     "data": {
      "text/html": [
       "<table>\n",
       "<thead><tr><th scope=col>relevant_experience</th><th scope=col>count</th></tr></thead>\n",
       "<tbody>\n",
       "\t<tr><td>Has relevent experience</td><td>10664                  </td></tr>\n",
       "\t<tr><td>No relevent experience </td><td> 3487                  </td></tr>\n",
       "</tbody>\n",
       "</table>\n"
      ],
      "text/latex": [
       "\\begin{tabular}{r|ll}\n",
       " relevant\\_experience & count\\\\\n",
       "\\hline\n",
       "\t Has relevent experience & 10664                  \\\\\n",
       "\t No relevent experience  &  3487                  \\\\\n",
       "\\end{tabular}\n"
      ],
      "text/markdown": [
       "\n",
       "| relevant_experience | count |\n",
       "|---|---|\n",
       "| Has relevent experience | 10664                   |\n",
       "| No relevent experience  |  3487                   |\n",
       "\n"
      ],
      "text/plain": [
       "  relevant_experience     count\n",
       "1 Has relevent experience 10664\n",
       "2 No relevent experience   3487"
      ]
     },
     "metadata": {},
     "output_type": "display_data"
    }
   ],
   "source": [
    " HR_data %>% \n",
    "   group_by(relevant_experience) %>% \n",
    "   summarise(count=n())\n"
   ]
  },
  {
   "cell_type": "markdown",
   "metadata": {},
   "source": [
    "Most people have relevant experience in the field required, as shown above\n",
    "\n",
    "\n",
    "\n",
    "Looking at the relevant experience of the group seeking a job change:\n"
   ]
  },
  {
   "cell_type": "code",
   "execution_count": 376,
   "metadata": {},
   "outputs": [
    {
     "data": {
      "text/html": [
       "<table>\n",
       "<thead><tr><th scope=col>relevant_experience</th><th scope=col>count</th></tr></thead>\n",
       "<tbody>\n",
       "\t<tr><td>Has relevent experience</td><td>2110                   </td></tr>\n",
       "\t<tr><td>No relevent experience </td><td>1149                   </td></tr>\n",
       "</tbody>\n",
       "</table>\n"
      ],
      "text/latex": [
       "\\begin{tabular}{r|ll}\n",
       " relevant\\_experience & count\\\\\n",
       "\\hline\n",
       "\t Has relevent experience & 2110                   \\\\\n",
       "\t No relevent experience  & 1149                   \\\\\n",
       "\\end{tabular}\n"
      ],
      "text/markdown": [
       "\n",
       "| relevant_experience | count |\n",
       "|---|---|\n",
       "| Has relevent experience | 2110                    |\n",
       "| No relevent experience  | 1149                    |\n",
       "\n"
      ],
      "text/plain": [
       "  relevant_experience     count\n",
       "1 Has relevent experience 2110 \n",
       "2 No relevent experience  1149 "
      ]
     },
     "metadata": {},
     "output_type": "display_data"
    }
   ],
   "source": [
    " HR_data %>% \n",
    "   filter(target==\"Job change\") %>% \n",
    "   group_by(relevant_experience) %>%\n",
    "   summarise(count=n())\n"
   ]
  },
  {
   "cell_type": "markdown",
   "metadata": {},
   "source": [
    "The ratios of those looking for a job change as per their relevant experience:\n",
    "\n"
   ]
  },
  {
   "cell_type": "code",
   "execution_count": 377,
   "metadata": {},
   "outputs": [
    {
     "data": {
      "text/html": [
       "20.7239309827457"
      ],
      "text/latex": [
       "20.7239309827457"
      ],
      "text/markdown": [
       "20.7239309827457"
      ],
      "text/plain": [
       "[1] 20.72393"
      ]
     },
     "metadata": {},
     "output_type": "display_data"
    },
    {
     "data": {
      "text/html": [
       "32.9509607112131"
      ],
      "text/latex": [
       "32.9509607112131"
      ],
      "text/markdown": [
       "32.9509607112131"
      ],
      "text/plain": [
       "[1] 32.95096"
      ]
     },
     "metadata": {},
     "output_type": "display_data"
    }
   ],
   "source": [
    " # those with relevant experience looking for a job change\n",
    " (2210/10664) * 100\n",
    "\n",
    " # those with no relevant experience looking for a job change\n",
    " (1149/3487) * 100\n"
   ]
  },
  {
   "cell_type": "markdown",
   "metadata": {},
   "source": [
    "\n"
   ]
  },
  {
   "cell_type": "code",
   "execution_count": 378,
   "metadata": {},
   "outputs": [
    {
     "data": {
      "image/png": "[encoded data removed]",
      "text/plain": [
       "plot without title"
      ]
     },
     "metadata": {},
     "output_type": "display_data"
    }
   ],
   "source": [
    " ggplot(HR_data, aes(x=relevant_experience, fill=relevant_experience))+\n",
    "   geom_bar()+\n",
    "            scale_fill_brewer(palette = \"PuOr\")+\n",
    "            labs(title=\" A BAR PLOT SHOWING THE RELATIONSHIP \\nBETWEEN RELEVANT EXPERIENCE AND JOB CHANGE\")+\n",
    "            theme_dark()\n"
   ]
  },
  {
   "cell_type": "markdown",
   "metadata": {},
   "source": [
    " \n",
    " \n",
    " \n"
   ]
  },
  {
   "cell_type": "code",
   "execution_count": 379,
   "metadata": {},
   "outputs": [
    {
     "data": {
      "image/png": "[encoded data removed]",
      "text/plain": [
       "plot without title"
      ]
     },
     "metadata": {},
     "output_type": "display_data"
    }
   ],
   "source": [
    " ggplot(HR_data, aes(x=relevant_experience, fill=target))+\n",
    "            geom_bar(position = \"stack\")+\n",
    "            scale_fill_brewer(palette = \"PuOr\")+\n",
    "            labs(title=\" A BAR PLOT SHOWING THE RELATIONSHIP \\nBETWEEN RELEVANT EXPERIENCE AND JOB CHANGE\")+\n",
    "            theme_dark()\n"
   ]
  },
  {
   "cell_type": "markdown",
   "metadata": {},
   "source": [
    " \n",
    "\n",
    "Those with no relevant experience(32.95%) are more likely to change jobs, than those with relevant experience(20.72%)\n",
    "\n",
    " \n",
    " **Enrolled University**\n",
    " \n",
    " The number of people in each university course category, or in no university:\n",
    " \n"
   ]
  },
  {
   "cell_type": "code",
   "execution_count": 380,
   "metadata": {},
   "outputs": [
    {
     "data": {
      "text/html": [
       "<table>\n",
       "<thead><tr><th scope=col>enrolled_university</th><th scope=col>count</th></tr></thead>\n",
       "<tbody>\n",
       "\t<tr><td>Full time course</td><td> 2516           </td></tr>\n",
       "\t<tr><td>no enrollment   </td><td>10773           </td></tr>\n",
       "\t<tr><td>Part time course</td><td>  862           </td></tr>\n",
       "</tbody>\n",
       "</table>\n"
      ],
      "text/latex": [
       "\\begin{tabular}{r|ll}\n",
       " enrolled\\_university & count\\\\\n",
       "\\hline\n",
       "\t Full time course &  2516           \\\\\n",
       "\t no enrollment    & 10773           \\\\\n",
       "\t Part time course &   862           \\\\\n",
       "\\end{tabular}\n"
      ],
      "text/markdown": [
       "\n",
       "| enrolled_university | count |\n",
       "|---|---|\n",
       "| Full time course |  2516            |\n",
       "| no enrollment    | 10773            |\n",
       "| Part time course |   862            |\n",
       "\n"
      ],
      "text/plain": [
       "  enrolled_university count\n",
       "1 Full time course     2516\n",
       "2 no enrollment       10773\n",
       "3 Part time course      862"
      ]
     },
     "metadata": {},
     "output_type": "display_data"
    }
   ],
   "source": [
    " HR_data %>% \n",
    "   group_by(enrolled_university) %>% \n",
    "   summarise(count=n())\n"
   ]
  },
  {
   "cell_type": "markdown",
   "metadata": {},
   "source": [
    "The number of people likely to change jobs, in relation to their university enrollment status:\n",
    " \n"
   ]
  },
  {
   "cell_type": "code",
   "execution_count": 381,
   "metadata": {},
   "outputs": [
    {
     "data": {
      "text/html": [
       "<table>\n",
       "<thead><tr><th scope=col>enrolled_university</th><th scope=col>count</th></tr></thead>\n",
       "<tbody>\n",
       "\t<tr><td>Full time course</td><td> 928            </td></tr>\n",
       "\t<tr><td>no enrollment   </td><td>2142            </td></tr>\n",
       "\t<tr><td>Part time course</td><td> 189            </td></tr>\n",
       "</tbody>\n",
       "</table>\n"
      ],
      "text/latex": [
       "\\begin{tabular}{r|ll}\n",
       " enrolled\\_university & count\\\\\n",
       "\\hline\n",
       "\t Full time course &  928            \\\\\n",
       "\t no enrollment    & 2142            \\\\\n",
       "\t Part time course &  189            \\\\\n",
       "\\end{tabular}\n"
      ],
      "text/markdown": [
       "\n",
       "| enrolled_university | count |\n",
       "|---|---|\n",
       "| Full time course |  928             |\n",
       "| no enrollment    | 2142             |\n",
       "| Part time course |  189             |\n",
       "\n"
      ],
      "text/plain": [
       "  enrolled_university count\n",
       "1 Full time course     928 \n",
       "2 no enrollment       2142 \n",
       "3 Part time course     189 "
      ]
     },
     "metadata": {},
     "output_type": "display_data"
    }
   ],
   "source": [
    " HR_data %>% \n",
    "   filter(target==\"Job change\") %>% \n",
    "   group_by(enrolled_university) %>%\n",
    "   summarise(count=n())\n"
   ]
  },
  {
   "cell_type": "markdown",
   "metadata": {},
   "source": [
    "The ratios:\n",
    "\n"
   ]
  },
  {
   "cell_type": "code",
   "execution_count": 382,
   "metadata": {},
   "outputs": [
    {
     "data": {
      "text/html": [
       "36.8839427662957"
      ],
      "text/latex": [
       "36.8839427662957"
      ],
      "text/markdown": [
       "36.8839427662957"
      ],
      "text/plain": [
       "[1] 36.88394"
      ]
     },
     "metadata": {},
     "output_type": "display_data"
    },
    {
     "data": {
      "text/html": [
       "21.9257540603248"
      ],
      "text/latex": [
       "21.9257540603248"
      ],
      "text/markdown": [
       "21.9257540603248"
      ],
      "text/plain": [
       "[1] 21.92575"
      ]
     },
     "metadata": {},
     "output_type": "display_data"
    },
    {
     "data": {
      "text/html": [
       "19.8830409356725"
      ],
      "text/latex": [
       "19.8830409356725"
      ],
      "text/markdown": [
       "19.8830409356725"
      ],
      "text/plain": [
       "[1] 19.88304"
      ]
     },
     "metadata": {},
     "output_type": "display_data"
    }
   ],
   "source": [
    " # full time course looking for a job change\n",
    " (928/2516) * 100\n",
    " \n",
    " # part time course looking for a job change\n",
    " (189/862) * 100\n",
    " \n",
    " #  no enrollment looking for a job change\n",
    " (2142/10773) * 100\n"
   ]
  },
  {
   "cell_type": "markdown",
   "metadata": {},
   "source": [
    " \n",
    " \n"
   ]
  },
  {
   "cell_type": "code",
   "execution_count": 383,
   "metadata": {},
   "outputs": [
    {
     "data": {
      "image/png": "[encoded data removed]",
      "text/plain": [
       "plot without title"
      ]
     },
     "metadata": {},
     "output_type": "display_data"
    }
   ],
   "source": [
    " ggplot(HR_data, aes(x=enrolled_university, fill=target))+\n",
    "            geom_bar(position = \"stack\")+\n",
    "            scale_fill_brewer(palette = \"PuOr\")+\n",
    "            theme_dark()\n"
   ]
  },
  {
   "cell_type": "markdown",
   "metadata": {},
   "source": [
    "Those enrolled full time are the likeliest to change jobs, whereas those not enrolled in any university are the least likely to change jobs\n",
    " \n",
    " \n",
    " **Education Level**\n",
    " \n",
    " \n",
    " The count of each level of education:\n",
    " \n",
    " \n"
   ]
  },
  {
   "cell_type": "code",
   "execution_count": 384,
   "metadata": {},
   "outputs": [
    {
     "data": {
      "text/html": [
       "<table>\n",
       "<thead><tr><th scope=col>education_level</th><th scope=col>count</th></tr></thead>\n",
       "<tbody>\n",
       "\t<tr><td>Primary School</td><td> 206          </td></tr>\n",
       "\t<tr><td>High School   </td><td>1459          </td></tr>\n",
       "\t<tr><td>Graduate      </td><td>8889          </td></tr>\n",
       "\t<tr><td>Masters       </td><td>3272          </td></tr>\n",
       "\t<tr><td>Phd           </td><td> 325          </td></tr>\n",
       "</tbody>\n",
       "</table>\n"
      ],
      "text/latex": [
       "\\begin{tabular}{r|ll}\n",
       " education\\_level & count\\\\\n",
       "\\hline\n",
       "\t Primary School &  206          \\\\\n",
       "\t High School    & 1459          \\\\\n",
       "\t Graduate       & 8889          \\\\\n",
       "\t Masters        & 3272          \\\\\n",
       "\t Phd            &  325          \\\\\n",
       "\\end{tabular}\n"
      ],
      "text/markdown": [
       "\n",
       "| education_level | count |\n",
       "|---|---|\n",
       "| Primary School |  206           |\n",
       "| High School    | 1459           |\n",
       "| Graduate       | 8889           |\n",
       "| Masters        | 3272           |\n",
       "| Phd            |  325           |\n",
       "\n"
      ],
      "text/plain": [
       "  education_level count\n",
       "1 Primary School   206 \n",
       "2 High School     1459 \n",
       "3 Graduate        8889 \n",
       "4 Masters         3272 \n",
       "5 Phd              325 "
      ]
     },
     "metadata": {},
     "output_type": "display_data"
    }
   ],
   "source": [
    " HR_data %>% \n",
    "   group_by(education_level) %>% \n",
    "   summarise(count=n())\n"
   ]
  },
  {
   "cell_type": "markdown",
   "metadata": {},
   "source": [
    "Most of the people are university graduates, as per the data above\n",
    " \n",
    " \n",
    "The number of each education level for the ones looking for a job change\n",
    "\n",
    " \n"
   ]
  },
  {
   "cell_type": "code",
   "execution_count": 385,
   "metadata": {},
   "outputs": [
    {
     "data": {
      "text/html": [
       "<table>\n",
       "<thead><tr><th scope=col>education_level</th><th scope=col>count</th></tr></thead>\n",
       "<tbody>\n",
       "\t<tr><td>Primary School</td><td>  21          </td></tr>\n",
       "\t<tr><td>High School   </td><td> 271          </td></tr>\n",
       "\t<tr><td>Graduate      </td><td>2297          </td></tr>\n",
       "\t<tr><td>Masters       </td><td> 627          </td></tr>\n",
       "\t<tr><td>Phd           </td><td>  43          </td></tr>\n",
       "</tbody>\n",
       "</table>\n"
      ],
      "text/latex": [
       "\\begin{tabular}{r|ll}\n",
       " education\\_level & count\\\\\n",
       "\\hline\n",
       "\t Primary School &   21          \\\\\n",
       "\t High School    &  271          \\\\\n",
       "\t Graduate       & 2297          \\\\\n",
       "\t Masters        &  627          \\\\\n",
       "\t Phd            &   43          \\\\\n",
       "\\end{tabular}\n"
      ],
      "text/markdown": [
       "\n",
       "| education_level | count |\n",
       "|---|---|\n",
       "| Primary School |   21           |\n",
       "| High School    |  271           |\n",
       "| Graduate       | 2297           |\n",
       "| Masters        |  627           |\n",
       "| Phd            |   43           |\n",
       "\n"
      ],
      "text/plain": [
       "  education_level count\n",
       "1 Primary School    21 \n",
       "2 High School      271 \n",
       "3 Graduate        2297 \n",
       "4 Masters          627 \n",
       "5 Phd               43 "
      ]
     },
     "metadata": {},
     "output_type": "display_data"
    }
   ],
   "source": [
    " HR_data %>% \n",
    "   filter(target==\"Job change\") %>% \n",
    "   group_by(education_level) %>%\n",
    "   summarise(count=n())\n"
   ]
  },
  {
   "cell_type": "markdown",
   "metadata": {},
   "source": [
    " \n",
    "\n",
    "Looking at the ratios and the visual of the above descriptive statistics: \n",
    "\n",
    "\n",
    "\n",
    " #\n"
   ]
  },
  {
   "cell_type": "code",
   "execution_count": 386,
   "metadata": {},
   "outputs": [
    {
     "data": {
      "text/html": [
       "10.1941747572816"
      ],
      "text/latex": [
       "10.1941747572816"
      ],
      "text/markdown": [
       "10.1941747572816"
      ],
      "text/plain": [
       "[1] 10.19417"
      ]
     },
     "metadata": {},
     "output_type": "display_data"
    },
    {
     "data": {
      "text/html": [
       "18.5743660041124"
      ],
      "text/latex": [
       "18.5743660041124"
      ],
      "text/markdown": [
       "18.5743660041124"
      ],
      "text/plain": [
       "[1] 18.57437"
      ]
     },
     "metadata": {},
     "output_type": "display_data"
    },
    {
     "data": {
      "text/html": [
       "25.8409269884126"
      ],
      "text/latex": [
       "25.8409269884126"
      ],
      "text/markdown": [
       "25.8409269884126"
      ],
      "text/plain": [
       "[1] 25.84093"
      ]
     },
     "metadata": {},
     "output_type": "display_data"
    },
    {
     "data": {
      "text/html": [
       "19.1625916870416"
      ],
      "text/latex": [
       "19.1625916870416"
      ],
      "text/markdown": [
       "19.1625916870416"
      ],
      "text/plain": [
       "[1] 19.16259"
      ]
     },
     "metadata": {},
     "output_type": "display_data"
    },
    {
     "data": {
      "text/html": [
       "12.9230769230769"
      ],
      "text/latex": [
       "12.9230769230769"
      ],
      "text/markdown": [
       "12.9230769230769"
      ],
      "text/plain": [
       "[1] 12.92308"
      ]
     },
     "metadata": {},
     "output_type": "display_data"
    }
   ],
   "source": [
    "# primary level looking for a job change\n",
    " (21/206) * 100\n",
    "\n",
    " # High school level looking for a job change\n",
    " (271/1459) * 100\n",
    " \n",
    " # Graduates looking for a job change\n",
    " (2297/8889) * 100\n",
    "\n",
    " # masters level looking for a job change\n",
    " (627/3272) * 100\n",
    "\n",
    " # phd level looking for a job change\n",
    " (42/325) * 100\n"
   ]
  },
  {
   "cell_type": "markdown",
   "metadata": {},
   "source": [
    " Graduates have the highest job change ratio while primary level have the least\n",
    " \n",
    " \n"
   ]
  },
  {
   "cell_type": "code",
   "execution_count": 387,
   "metadata": {},
   "outputs": [
    {
     "data": {
      "image/png": "[encoded data removed]",
      "text/plain": [
       "plot without title"
      ]
     },
     "metadata": {},
     "output_type": "display_data"
    }
   ],
   "source": [
    " ggplot(HR_data, aes(x=education_level, fill=target))+\n",
    "            geom_bar(position = \"stack\")+\n",
    "            scale_fill_brewer(palette = \"PuOr\")+\n",
    "   labs(title = \"A BAR PLOT SHOWING THE DIFFERENT \\nEDUCATION LEVELS WITH RESPECT TO JOB CHANGE\")+\n",
    "            theme_dark()\n"
   ]
  },
  {
   "cell_type": "markdown",
   "metadata": {},
   "source": [
    " \n",
    " **Major discipline**\n",
    " \n",
    " \n",
    " Computing the ratios of each discipline in relation to the different levels of education:\n",
    " \n",
    " \n"
   ]
  },
  {
   "cell_type": "code",
   "execution_count": 388,
   "metadata": {},
   "outputs": [
    {
     "data": {
      "text/html": [
       "<ol class=list-inline>\n",
       "\t<li>21.3930348258706</li>\n",
       "\t<li>25</li>\n",
       "\t<li>20.4753199268739</li>\n",
       "\t<li>25</li>\n",
       "\t<li>23.2394366197183</li>\n",
       "\t<li>23.0951067685762</li>\n",
       "</ol>\n"
      ],
      "text/latex": [
       "\\begin{enumerate*}\n",
       "\\item 21.3930348258706\n",
       "\\item 25\n",
       "\\item 20.4753199268739\n",
       "\\item 25\n",
       "\\item 23.2394366197183\n",
       "\\item 23.0951067685762\n",
       "\\end{enumerate*}\n"
      ],
      "text/markdown": [
       "1. 21.3930348258706\n",
       "2. 25\n",
       "3. 20.4753199268739\n",
       "4. 25\n",
       "5. 23.2394366197183\n",
       "6. 23.0951067685762\n",
       "\n",
       "\n"
      ],
      "text/plain": [
       "[1] 21.39303 25.00000 20.47532 25.00000 23.23944 23.09511"
      ]
     },
     "metadata": {},
     "output_type": "display_data"
    }
   ],
   "source": [
    "mjd_count <- HR_data %>% \n",
    "   group_by(major_discipline) %>% \n",
    "   summarise(count=n())\n",
    " \n",
    " mjd_change <- HR_data %>% \n",
    "   filter(target==\"Job change\") %>% \n",
    "   group_by(major_discipline) %>%\n",
    "   summarise(count=n())\n",
    "\n",
    " (mjd_change$count/mjd_count$count) * 100 \n"
   ]
  },
  {
   "cell_type": "markdown",
   "metadata": {},
   "source": [
    " \n",
    "\n"
   ]
  },
  {
   "cell_type": "code",
   "execution_count": 389,
   "metadata": {},
   "outputs": [
    {
     "data": {
      "text/html": [
       "<ol class=list-inline>\n",
       "\t<li>'Arts'</li>\n",
       "\t<li>'Business Degree'</li>\n",
       "\t<li>'Humanities'</li>\n",
       "\t<li>'No Major'</li>\n",
       "\t<li>'Other'</li>\n",
       "\t<li>'STEM'</li>\n",
       "</ol>\n"
      ],
      "text/latex": [
       "\\begin{enumerate*}\n",
       "\\item 'Arts'\n",
       "\\item 'Business Degree'\n",
       "\\item 'Humanities'\n",
       "\\item 'No Major'\n",
       "\\item 'Other'\n",
       "\\item 'STEM'\n",
       "\\end{enumerate*}\n"
      ],
      "text/markdown": [
       "1. 'Arts'\n",
       "2. 'Business Degree'\n",
       "3. 'Humanities'\n",
       "4. 'No Major'\n",
       "5. 'Other'\n",
       "6. 'STEM'\n",
       "\n",
       "\n"
      ],
      "text/plain": [
       "[1] \"Arts\"            \"Business Degree\" \"Humanities\"      \"No Major\"       \n",
       "[5] \"Other\"           \"STEM\"           "
      ]
     },
     "metadata": {},
     "output_type": "display_data"
    }
   ],
   "source": [
    "levels(mjd_change$major_discipline)\n",
    "\n"
   ]
  },
  {
   "cell_type": "markdown",
   "metadata": {},
   "source": [
    "**Experience**\n",
    "\n",
    "\n",
    "Number of people in each experience level:\n"
   ]
  },
  {
   "cell_type": "code",
   "execution_count": 390,
   "metadata": {},
   "outputs": [],
   "source": [
    " exper_count <- HR_data %>% \n",
    "   group_by(experience) %>% \n",
    "   summarise(count=n())\n",
    " \n",
    " exper_count<- arrange(exper_count, desc(count))\n",
    " \n"
   ]
  },
  {
   "cell_type": "markdown",
   "metadata": {},
   "source": [
    " Filtering out the extremes and observing their count:\n",
    " \n",
    " \n"
   ]
  },
  {
   "cell_type": "code",
   "execution_count": 391,
   "metadata": {},
   "outputs": [
    {
     "data": {
      "text/html": [
       "<table>\n",
       "<thead><tr><th scope=col>experience</th><th scope=col>count</th></tr></thead>\n",
       "<tbody>\n",
       "\t<tr><td>&lt;1 </td><td> 258  </td></tr>\n",
       "\t<tr><td>&gt;20</td><td>2747  </td></tr>\n",
       "</tbody>\n",
       "</table>\n"
      ],
      "text/latex": [
       "\\begin{tabular}{r|ll}\n",
       " experience & count\\\\\n",
       "\\hline\n",
       "\t <1   &  258\\\\\n",
       "\t >20  & 2747\\\\\n",
       "\\end{tabular}\n"
      ],
      "text/markdown": [
       "\n",
       "| experience | count |\n",
       "|---|---|\n",
       "| <1   |  258 |\n",
       "| >20  | 2747 |\n",
       "\n"
      ],
      "text/plain": [
       "  experience count\n",
       "1 <1          258 \n",
       "2 >20        2747 "
      ]
     },
     "metadata": {},
     "output_type": "display_data"
    }
   ],
   "source": [
    " HR_data %>% \n",
    "   group_by(experience) %>% \n",
    "   filter(experience == \"<1\" | experience ==\">20\") %>% \n",
    "   summarise(count=n())\n"
   ]
  },
  {
   "cell_type": "markdown",
   "metadata": {},
   "source": [
    "The people with higher experience(over 20 years) are many more than those with little experience(less than a year)\n",
    "\n",
    "\n",
    "Looking at the trend between 1 year and 20 years experience\n"
   ]
  },
  {
   "cell_type": "code",
   "execution_count": 392,
   "metadata": {},
   "outputs": [
    {
     "data": {
      "image/png": "[encoded data removed]",
      "text/plain": [
       "plot without title"
      ]
     },
     "metadata": {},
     "output_type": "display_data"
    }
   ],
   "source": [
    " exper <-  HR_data %>% \n",
    "   filter(experience != \"<1\" & experience !=\">20\") \n",
    " \n",
    "\n",
    " ggplot(exper, aes(x=as.numeric(experience), fill=target))+\n",
    "           geom_density(alpha=0.5)+\n",
    "            labs(title = \"A DENSITY PLOT SHOWING THE \\nRELATIONSHIP BETWEEN EXPERIENCE \\nAND JOB CHANGE\", x=\"Experience\")+\n",
    "            scale_fill_brewer(palette = \"PuOr\")+\n",
    "            theme_dark()\n"
   ]
  },
  {
   "cell_type": "markdown",
   "metadata": {},
   "source": [
    "Those with **high experience** have a **higher likely hood of changing jobs**, as visualized above, while those with **lower experiences**(from 10 and below), have a **higher likely hood of not changing their current job**\n",
    "\n",
    " \n",
    " \n",
    " \n",
    " **Company size**\n",
    " \n",
    " The count of each company type:\n",
    " \n",
    " \n"
   ]
  },
  {
   "cell_type": "code",
   "execution_count": 393,
   "metadata": {},
   "outputs": [
    {
     "data": {
      "text/html": [
       "<table>\n",
       "<thead><tr><th scope=col>company_size</th><th scope=col>count</th></tr></thead>\n",
       "<tbody>\n",
       "\t<tr><td><span style=white-space:pre-wrap>&lt;10      </span></td><td> 981                                                </td></tr>\n",
       "\t<tr><td>100-500  </td><td>2033     </td></tr>\n",
       "\t<tr><td>1000-4999</td><td>1035     </td></tr>\n",
       "\t<tr><td>10000+   </td><td>1564     </td></tr>\n",
       "\t<tr><td>50-99    </td><td>2300     </td></tr>\n",
       "\t<tr><td>500-999  </td><td> 664     </td></tr>\n",
       "\t<tr><td>5000-9999</td><td> 443     </td></tr>\n",
       "\t<tr><td>Unknown  </td><td>5131     </td></tr>\n",
       "</tbody>\n",
       "</table>\n"
      ],
      "text/latex": [
       "\\begin{tabular}{r|ll}\n",
       " company\\_size & count\\\\\n",
       "\\hline\n",
       "\t <10       &  981     \\\\\n",
       "\t 100-500   & 2033     \\\\\n",
       "\t 1000-4999 & 1035     \\\\\n",
       "\t 10000+    & 1564     \\\\\n",
       "\t 50-99     & 2300     \\\\\n",
       "\t 500-999   &  664     \\\\\n",
       "\t 5000-9999 &  443     \\\\\n",
       "\t Unknown   & 5131     \\\\\n",
       "\\end{tabular}\n"
      ],
      "text/markdown": [
       "\n",
       "| company_size | count |\n",
       "|---|---|\n",
       "| <10       |  981      |\n",
       "| 100-500   | 2033      |\n",
       "| 1000-4999 | 1035      |\n",
       "| 10000+    | 1564      |\n",
       "| 50-99     | 2300      |\n",
       "| 500-999   |  664      |\n",
       "| 5000-9999 |  443      |\n",
       "| Unknown   | 5131      |\n",
       "\n"
      ],
      "text/plain": [
       "  company_size count\n",
       "1 <10           981 \n",
       "2 100-500      2033 \n",
       "3 1000-4999    1035 \n",
       "4 10000+       1564 \n",
       "5 50-99        2300 \n",
       "6 500-999       664 \n",
       "7 5000-9999     443 \n",
       "8 Unknown      5131 "
      ]
     },
     "metadata": {},
     "output_type": "display_data"
    }
   ],
   "source": [
    " comp_count <- HR_data %>% \n",
    "   group_by(company_size) %>% \n",
    "   summarise(count=n()) \n",
    " \n",
    " comp_count\n"
   ]
  },
  {
   "cell_type": "markdown",
   "metadata": {},
   "source": [
    " \n",
    "\n"
   ]
  },
  {
   "cell_type": "code",
   "execution_count": 394,
   "metadata": {},
   "outputs": [
    {
     "data": {
      "image/png": "[encoded data removed]",
      "text/plain": [
       "plot without title"
      ]
     },
     "metadata": {},
     "output_type": "display_data"
    }
   ],
   "source": [
    " ggplot(HR_data, aes(x=company_size, fill=company_size))+\n",
    "            geom_bar(alpha=0.5)+\n",
    "            scale_fill_brewer(palette = \"PuOr\")+\n",
    "            labs(title=\"BAR PLOTS SHOWING THE NUMBER OF \\nDIFFERENT SIZES OF COMPANIES\")+\n",
    "            theme_dark()\n",
    " \n"
   ]
  },
  {
   "cell_type": "markdown",
   "metadata": {},
   "source": [
    "Looking at the job change:\n",
    "\n"
   ]
  },
  {
   "cell_type": "code",
   "execution_count": 395,
   "metadata": {},
   "outputs": [
    {
     "data": {
      "text/html": [
       "<table>\n",
       "<thead><tr><th scope=col>company_size</th><th scope=col>count</th><th scope=col>change</th></tr></thead>\n",
       "<tbody>\n",
       "\t<tr><td><span style=white-space:pre-wrap>&lt;10      </span></td><td> 144                                                </td><td>14.67890                                            </td></tr>\n",
       "\t<tr><td>100-500  </td><td> 306     </td><td>15.05165 </td></tr>\n",
       "\t<tr><td>1000-4999</td><td> 147     </td><td>14.20290 </td></tr>\n",
       "\t<tr><td>10000+   </td><td> 271     </td><td>17.32737 </td></tr>\n",
       "\t<tr><td>50-99    </td><td> 361     </td><td>15.69565 </td></tr>\n",
       "\t<tr><td>500-999  </td><td> 102     </td><td>15.36145 </td></tr>\n",
       "\t<tr><td>5000-9999</td><td>  71     </td><td>16.02709 </td></tr>\n",
       "\t<tr><td>Unknown  </td><td>1857     </td><td>36.19178 </td></tr>\n",
       "</tbody>\n",
       "</table>\n"
      ],
      "text/latex": [
       "\\begin{tabular}{r|lll}\n",
       " company\\_size & count & change\\\\\n",
       "\\hline\n",
       "\t <10       &  144      & 14.67890 \\\\\n",
       "\t 100-500   &  306      & 15.05165 \\\\\n",
       "\t 1000-4999 &  147      & 14.20290 \\\\\n",
       "\t 10000+    &  271      & 17.32737 \\\\\n",
       "\t 50-99     &  361      & 15.69565 \\\\\n",
       "\t 500-999   &  102      & 15.36145 \\\\\n",
       "\t 5000-9999 &   71      & 16.02709 \\\\\n",
       "\t Unknown   & 1857      & 36.19178 \\\\\n",
       "\\end{tabular}\n"
      ],
      "text/markdown": [
       "\n",
       "| company_size | count | change |\n",
       "|---|---|---|\n",
       "| <10       |  144      | 14.67890  |\n",
       "| 100-500   |  306      | 15.05165  |\n",
       "| 1000-4999 |  147      | 14.20290  |\n",
       "| 10000+    |  271      | 17.32737  |\n",
       "| 50-99     |  361      | 15.69565  |\n",
       "| 500-999   |  102      | 15.36145  |\n",
       "| 5000-9999 |   71      | 16.02709  |\n",
       "| Unknown   | 1857      | 36.19178  |\n",
       "\n"
      ],
      "text/plain": [
       "  company_size count change  \n",
       "1 <10           144  14.67890\n",
       "2 100-500       306  15.05165\n",
       "3 1000-4999     147  14.20290\n",
       "4 10000+        271  17.32737\n",
       "5 50-99         361  15.69565\n",
       "6 500-999       102  15.36145\n",
       "7 5000-9999      71  16.02709\n",
       "8 Unknown      1857  36.19178"
      ]
     },
     "metadata": {},
     "output_type": "display_data"
    }
   ],
   "source": [
    " comp_change <- HR_data %>% \n",
    "   filter(target==\"Job change\") %>% \n",
    "   group_by(company_size) %>%\n",
    "   summarise(count=n())\n",
    " \n",
    " comp_change$change <- \"\"\n",
    " comp_change$change  <- (comp_change$count/comp_count$count) * 100 \n",
    "\n",
    " comp_change\n"
   ]
  },
  {
   "cell_type": "markdown",
   "metadata": {},
   "source": [
    "Those from companies that have unidentified or unknown size(at 36.191%) have the heighest percentage of job change likely hood\n",
    "\n",
    "\n",
    "A visual showing the same:\n"
   ]
  },
  {
   "cell_type": "code",
   "execution_count": 396,
   "metadata": {},
   "outputs": [
    {
     "data": {
      "image/png": "[encoded data removed]",
      "text/plain": [
       "plot without title"
      ]
     },
     "metadata": {},
     "output_type": "display_data"
    }
   ],
   "source": [
    " ggplot(comp_change, aes(x=company_size, y = change, fill=company_size))+\n",
    "             geom_col(alpha=0.5)+\n",
    "             scale_fill_brewer(palette = \"PuOr\")+\n",
    "             labs(title = \"BAR PLOTS SHOWING THE DIFFERENT \\nCOMPANY SIZES AND THE PERCENTAGE OF\\n PEOPLE IN THEM WHO ARE LIKELY TO \\nCHANGE THEIR JOB\")+\n",
    "             theme_dark()\n"
   ]
  },
  {
   "cell_type": "markdown",
   "metadata": {},
   "source": [
    " \n",
    " **Company Type** \n",
    " \n",
    " Count:\n",
    " \n"
   ]
  },
  {
   "cell_type": "code",
   "execution_count": 397,
   "metadata": {},
   "outputs": [
    {
     "data": {
      "text/html": [
       "<table>\n",
       "<thead><tr><th scope=col>company_type</th><th scope=col>count</th></tr></thead>\n",
       "<tbody>\n",
       "\t<tr><td>Early Stage Startup</td><td> 420               </td></tr>\n",
       "\t<tr><td>Funded Startup     </td><td> 833               </td></tr>\n",
       "\t<tr><td>NGO                </td><td> 396               </td></tr>\n",
       "\t<tr><td>Other              </td><td>4226               </td></tr>\n",
       "\t<tr><td>Public Sector      </td><td> 702               </td></tr>\n",
       "\t<tr><td>Pvt Ltd            </td><td>7574               </td></tr>\n",
       "</tbody>\n",
       "</table>\n"
      ],
      "text/latex": [
       "\\begin{tabular}{r|ll}\n",
       " company\\_type & count\\\\\n",
       "\\hline\n",
       "\t Early Stage Startup &  420               \\\\\n",
       "\t Funded Startup      &  833               \\\\\n",
       "\t NGO                 &  396               \\\\\n",
       "\t Other               & 4226               \\\\\n",
       "\t Public Sector       &  702               \\\\\n",
       "\t Pvt Ltd             & 7574               \\\\\n",
       "\\end{tabular}\n"
      ],
      "text/markdown": [
       "\n",
       "| company_type | count |\n",
       "|---|---|\n",
       "| Early Stage Startup |  420                |\n",
       "| Funded Startup      |  833                |\n",
       "| NGO                 |  396                |\n",
       "| Other               | 4226                |\n",
       "| Public Sector       |  702                |\n",
       "| Pvt Ltd             | 7574                |\n",
       "\n"
      ],
      "text/plain": [
       "  company_type        count\n",
       "1 Early Stage Startup  420 \n",
       "2 Funded Startup       833 \n",
       "3 NGO                  396 \n",
       "4 Other               4226 \n",
       "5 Public Sector        702 \n",
       "6 Pvt Ltd             7574 "
      ]
     },
     "metadata": {},
     "output_type": "display_data"
    }
   ],
   "source": [
    " type_count <- HR_data %>% \n",
    "    group_by(company_type) %>% \n",
    "     summarise(count=n())\n",
    "\n",
    "\n",
    " type_count\n"
   ]
  },
  {
   "cell_type": "markdown",
   "metadata": {},
   "source": [
    "The **most** populated company type is **Pvt Ltd** with **7574** people and the **least** populated is **NGO** with **396** people\n",
    " \n",
    "\n",
    "Visual:\n",
    " \n"
   ]
  },
  {
   "cell_type": "code",
   "execution_count": 398,
   "metadata": {},
   "outputs": [
    {
     "data": {
      "image/png": "[encoded data removed]",
      "text/plain": [
       "plot without title"
      ]
     },
     "metadata": {},
     "output_type": "display_data"
    }
   ],
   "source": [
    "ggplot(HR_data, aes(x=company_type, fill=company_type))+\n",
    "             geom_bar(alpha=0.5)+\n",
    "             scale_fill_brewer(palette = \"PuOr\")+\n",
    "             labs(title = \"A BAR PLOT SHOWING THE NUMBER \\nOF PEOPLE WORKING FOR THE DIFFERENT \\nCOMPANY TYPES LISTED\")+\n",
    "             theme_dark()\n"
   ]
  },
  {
   "cell_type": "markdown",
   "metadata": {},
   "source": [
    "Targeting the people who are likely to change jobs:\n",
    "\n",
    "Looking at the rate of job change likelyhood: \n"
   ]
  },
  {
   "cell_type": "code",
   "execution_count": 399,
   "metadata": {},
   "outputs": [
    {
     "data": {
      "text/html": [
       "<table>\n",
       "<thead><tr><th scope=col>company_type</th><th scope=col>count</th><th scope=col>change</th></tr></thead>\n",
       "<tbody>\n",
       "\t<tr><td>Early Stage Startup</td><td>  88               </td><td>20.95238           </td></tr>\n",
       "\t<tr><td>Funded Startup     </td><td> 113               </td><td>13.56543           </td></tr>\n",
       "\t<tr><td>NGO                </td><td>  64               </td><td>16.16162           </td></tr>\n",
       "\t<tr><td>Other              </td><td>1619               </td><td>38.31046           </td></tr>\n",
       "\t<tr><td>Public Sector      </td><td> 143               </td><td>20.37037           </td></tr>\n",
       "\t<tr><td>Pvt Ltd            </td><td>1232               </td><td>16.26617           </td></tr>\n",
       "</tbody>\n",
       "</table>\n"
      ],
      "text/latex": [
       "\\begin{tabular}{r|lll}\n",
       " company\\_type & count & change\\\\\n",
       "\\hline\n",
       "\t Early Stage Startup &   88                & 20.95238           \\\\\n",
       "\t Funded Startup      &  113                & 13.56543           \\\\\n",
       "\t NGO                 &   64                & 16.16162           \\\\\n",
       "\t Other               & 1619                & 38.31046           \\\\\n",
       "\t Public Sector       &  143                & 20.37037           \\\\\n",
       "\t Pvt Ltd             & 1232                & 16.26617           \\\\\n",
       "\\end{tabular}\n"
      ],
      "text/markdown": [
       "\n",
       "| company_type | count | change |\n",
       "|---|---|---|\n",
       "| Early Stage Startup |   88                | 20.95238            |\n",
       "| Funded Startup      |  113                | 13.56543            |\n",
       "| NGO                 |   64                | 16.16162            |\n",
       "| Other               | 1619                | 38.31046            |\n",
       "| Public Sector       |  143                | 20.37037            |\n",
       "| Pvt Ltd             | 1232                | 16.26617            |\n",
       "\n"
      ],
      "text/plain": [
       "  company_type        count change  \n",
       "1 Early Stage Startup   88  20.95238\n",
       "2 Funded Startup       113  13.56543\n",
       "3 NGO                   64  16.16162\n",
       "4 Other               1619  38.31046\n",
       "5 Public Sector        143  20.37037\n",
       "6 Pvt Ltd             1232  16.26617"
      ]
     },
     "metadata": {},
     "output_type": "display_data"
    }
   ],
   "source": [
    "type_change <-   HR_data %>% \n",
    "    filter(target==\"Job change\") %>% \n",
    "    group_by(company_type) %>%\n",
    "    summarise(count=n())\n",
    " \n",
    " type_change$change <- \"\"\n",
    " type_change$change  <- (type_change$count/type_count$count) * 100 \n",
    "\n",
    " type_change \n"
   ]
  },
  {
   "cell_type": "markdown",
   "metadata": {},
   "source": [
    " \n",
    "\n"
   ]
  },
  {
   "cell_type": "code",
   "execution_count": 400,
   "metadata": {},
   "outputs": [
    {
     "data": {
      "image/png": "[encoded data removed]",
      "text/plain": [
       "plot without title"
      ]
     },
     "metadata": {},
     "output_type": "display_data"
    }
   ],
   "source": [
    " ggplot(type_change, aes(x=company_type, y = change, fill=company_type))+\n",
    "             geom_col(alpha=0.5)+\n",
    "             scale_fill_brewer(palette = \"PuOr\")+\n",
    "             labs(title = \"A BAR PLOT SHOWING THE DIFFERENT \\nCOMPANY TYPES AGAINST THE RATE OF EMPLOYEE \\nJOB CHANGE LIKELYHOOD \")+\n",
    "             theme_dark()\n"
   ]
  },
  {
   "cell_type": "markdown",
   "metadata": {},
   "source": [
    " \n",
    " \n",
    " **Last new job**\n",
    " \n",
    " Count: \n",
    " \n",
    " \n"
   ]
  },
  {
   "cell_type": "code",
   "execution_count": 401,
   "metadata": {},
   "outputs": [],
   "source": [
    " last_job_count <- HR_data %>% \n",
    "    group_by(last_new_job) %>% \n",
    "     summarise(count=n())\n",
    " \n"
   ]
  },
  {
   "cell_type": "markdown",
   "metadata": {},
   "source": [
    "\n",
    "\n"
   ]
  },
  {
   "cell_type": "code",
   "execution_count": 402,
   "metadata": {},
   "outputs": [
    {
     "data": {
      "image/png": "[encoded data removed]",
      "text/plain": [
       "plot without title"
      ]
     },
     "metadata": {},
     "output_type": "display_data"
    }
   ],
   "source": [
    " ggplot(HR_data, aes(x=last_new_job, fill=last_new_job))+\n",
    "             geom_bar(alpha=0.5)+\n",
    "             scale_fill_brewer(palette = \"PuOr\")+\n",
    "             labs(title = \"A BAR PLOT SHOWING THE NUMBER OF VARIOUS \\nPEOPLE WITH REGARDS TO THE NUMBER \\nOF YEARS PAST SINCE THEY HAD A DIFFERENT JOB\")+\n",
    "             theme_dark()\n",
    " \n"
   ]
  },
  {
   "cell_type": "markdown",
   "metadata": {},
   "source": [
    "Most people had changed jobs to work at a different place within one year\n",
    "\n",
    "\n",
    "\n",
    "\n",
    "Targeting those likely to change jobs:\n",
    "\n",
    " \n"
   ]
  },
  {
   "cell_type": "code",
   "execution_count": 403,
   "metadata": {},
   "outputs": [
    {
     "data": {
      "text/html": [
       "<table>\n",
       "<thead><tr><th scope=col>last_new_job</th><th scope=col>count</th><th scope=col>change</th></tr></thead>\n",
       "<tbody>\n",
       "\t<tr><td>never   </td><td> 475    </td><td>30.56628</td></tr>\n",
       "\t<tr><td>1       </td><td>1459    </td><td>24.27621</td></tr>\n",
       "\t<tr><td>2       </td><td> 516    </td><td>22.88248</td></tr>\n",
       "\t<tr><td>3       </td><td> 178    </td><td>21.68088</td></tr>\n",
       "\t<tr><td>4       </td><td> 175    </td><td>21.41983</td></tr>\n",
       "\t<tr><td><span style=white-space:pre-wrap>&gt;4   </span></td><td> 456                                            </td><td>16.92650                                        </td></tr>\n",
       "</tbody>\n",
       "</table>\n"
      ],
      "text/latex": [
       "\\begin{tabular}{r|lll}\n",
       " last\\_new\\_job & count & change\\\\\n",
       "\\hline\n",
       "\t never    &  475     & 30.56628\\\\\n",
       "\t 1        & 1459     & 24.27621\\\\\n",
       "\t 2        &  516     & 22.88248\\\\\n",
       "\t 3        &  178     & 21.68088\\\\\n",
       "\t 4        &  175     & 21.41983\\\\\n",
       "\t >4       &  456     & 16.92650\\\\\n",
       "\\end{tabular}\n"
      ],
      "text/markdown": [
       "\n",
       "| last_new_job | count | change |\n",
       "|---|---|---|\n",
       "| never    |  475     | 30.56628 |\n",
       "| 1        | 1459     | 24.27621 |\n",
       "| 2        |  516     | 22.88248 |\n",
       "| 3        |  178     | 21.68088 |\n",
       "| 4        |  175     | 21.41983 |\n",
       "| >4       |  456     | 16.92650 |\n",
       "\n"
      ],
      "text/plain": [
       "  last_new_job count change  \n",
       "1 never         475  30.56628\n",
       "2 1            1459  24.27621\n",
       "3 2             516  22.88248\n",
       "4 3             178  21.68088\n",
       "5 4             175  21.41983\n",
       "6 >4            456  16.92650"
      ]
     },
     "metadata": {},
     "output_type": "display_data"
    }
   ],
   "source": [
    " last_job_change <- HR_data %>% \n",
    "    filter(target==\"Job change\") %>% \n",
    "    group_by(last_new_job) %>%\n",
    "    summarise(count=n())\n",
    "\n",
    " last_job_change$change <- \"\"\n",
    " last_job_change$change  <- (last_job_change$count/last_job_count$count) * 100 \n",
    "\n",
    " last_job_change \n"
   ]
  },
  {
   "cell_type": "markdown",
   "metadata": {},
   "source": [
    " \n",
    " The likeliest to change jobs**(at 30.566%)** are those who have **never** been at any previous new job - basically people are more likely to turnover at their first jobs.\n",
    " \n",
    " \n",
    " Visual:\n",
    " \n"
   ]
  },
  {
   "cell_type": "code",
   "execution_count": 404,
   "metadata": {},
   "outputs": [
    {
     "data": {
      "image/png": "[encoded data removed]",
      "text/plain": [
       "plot without title"
      ]
     },
     "metadata": {},
     "output_type": "display_data"
    }
   ],
   "source": [
    " ggplot(last_job_change, aes(x=last_new_job, y = change, fill=last_new_job))+\n",
    "             geom_col(alpha=0.5)+\n",
    "             scale_fill_brewer(palette = \"PuOr\")+\n",
    "     labs(title = \"A BAR PLOT SHOWING THE NUMBER OF VARIOUS \\nPEOPLE LIKELY TO CHANGE JOBS WITH REGARDS \\nTO THE NUMBER OF YEARS PAST SINCE THEY \\nHAD A DIFFERENT JOB\")+\n",
    "             theme_dark()\n"
   ]
  },
  {
   "cell_type": "markdown",
   "metadata": {},
   "source": [
    "As the number of years that a person spends in one job increases, the less likelier the person is to change jobs\n",
    "\n",
    " \n",
    " **Training hours**\n",
    " \n",
    " Descriptive measures:\n",
    " \n",
    " \n"
   ]
  },
  {
   "cell_type": "code",
   "execution_count": 405,
   "metadata": {},
   "outputs": [
    {
     "data": {
      "text/html": [
       "<table>\n",
       "<thead><tr><th scope=col>max</th><th scope=col>median</th><th scope=col>min</th></tr></thead>\n",
       "<tbody>\n",
       "\t<tr><td>336</td><td>47 </td><td>1  </td></tr>\n",
       "</tbody>\n",
       "</table>\n"
      ],
      "text/latex": [
       "\\begin{tabular}{r|lll}\n",
       " max & median & min\\\\\n",
       "\\hline\n",
       "\t 336 & 47  & 1  \\\\\n",
       "\\end{tabular}\n"
      ],
      "text/markdown": [
       "\n",
       "| max | median | min |\n",
       "|---|---|---|\n",
       "| 336 | 47  | 1   |\n",
       "\n"
      ],
      "text/plain": [
       "  max median min\n",
       "1 336 47     1  "
      ]
     },
     "metadata": {},
     "output_type": "display_data"
    }
   ],
   "source": [
    " HR_data %>% \n",
    "     summarise(max=max(training_hours),median=median(training_hours),min=min(training_hours))\n"
   ]
  },
  {
   "cell_type": "markdown",
   "metadata": {},
   "source": [
    "A maximum amount of hours of 336 and a minimum of 1 indicates a large deviation and volatility\n",
    "\n",
    "\n",
    "Visual:\n"
   ]
  },
  {
   "cell_type": "code",
   "execution_count": 406,
   "metadata": {},
   "outputs": [
    {
     "data": {
      "image/png": "[encoded data removed]",
      "text/plain": [
       "plot without title"
      ]
     },
     "metadata": {},
     "output_type": "display_data"
    }
   ],
   "source": [
    " ggplot(HR_data, aes(x=training_hours, fill=target))+\n",
    "             geom_density(alpha=0.5)+\n",
    "             scale_fill_brewer(palette = \"PuOr\")+\n",
    "             theme_dark()\n"
   ]
  },
  {
   "cell_type": "markdown",
   "metadata": {},
   "source": [
    " \n",
    "From the visual, it can be seen that the amounts of training hours are almost **similar** between both groups.\n",
    "It is also apparent that the **people who spent less hours** on training are **greater** than those who spent more.\n",
    "\n",
    "\n",
    "\n",
    "\n",
    "**Model Building**\n",
    "\n",
    "\n",
    " \n",
    " **Logistic regression**\n",
    " \n",
    "The model uses numerical values to compute the linear probabilities, so we change the catergories to 1 and 0\n",
    "1 - Job change  0 - No job change\n",
    " \n"
   ]
  },
  {
   "cell_type": "code",
   "execution_count": 407,
   "metadata": {},
   "outputs": [
    {
     "data": {
      "text/html": [
       "<ol class=list-inline>\n",
       "\t<li>'Job change'</li>\n",
       "\t<li>'No job change'</li>\n",
       "</ol>\n"
      ],
      "text/latex": [
       "\\begin{enumerate*}\n",
       "\\item 'Job change'\n",
       "\\item 'No job change'\n",
       "\\end{enumerate*}\n"
      ],
      "text/markdown": [
       "1. 'Job change'\n",
       "2. 'No job change'\n",
       "\n",
       "\n"
      ],
      "text/plain": [
       "[1] \"Job change\"    \"No job change\""
      ]
     },
     "metadata": {},
     "output_type": "display_data"
    },
    {
     "data": {
      "text/html": [
       "<ol class=list-inline>\n",
       "\t<li>1</li>\n",
       "\t<li>0</li>\n",
       "</ol>\n"
      ],
      "text/latex": [
       "\\begin{enumerate*}\n",
       "\\item 1\n",
       "\\item 0\n",
       "\\end{enumerate*}\n"
      ],
      "text/markdown": [
       "1. 1\n",
       "2. 0\n",
       "\n",
       "\n"
      ],
      "text/plain": [
       "[1] 1 0"
      ]
     },
     "metadata": {},
     "output_type": "display_data"
    }
   ],
   "source": [
    " unique(HR_data$target)\n",
    "\n",
    " HR_data$target <- ifelse(HR_data$target == \"Job change\", 1, 0)\n",
    " \n",
    "  unique(HR_data$target)\n"
   ]
  },
  {
   "cell_type": "markdown",
   "metadata": {},
   "source": [
    "Randomizing the data just in case patterns exist: \n",
    "\n"
   ]
  },
  {
   "cell_type": "code",
   "execution_count": 408,
   "metadata": {},
   "outputs": [],
   "source": [
    "random <- sample(1:(nrow(HR_data)))\n",
    "HR_data <- HR_data[random,] \n"
   ]
  },
  {
   "cell_type": "markdown",
   "metadata": {},
   "source": [
    "Splitting into train and test:\n",
    "\n"
   ]
  },
  {
   "cell_type": "code",
   "execution_count": 409,
   "metadata": {},
   "outputs": [],
   "source": [
    "split <- c(1:(nrow(HR_data) * 0.7))\n",
    "\n",
    "hr_train <- HR_data[split,]\n",
    "hr_test <- HR_data[-split,]\n"
   ]
  },
  {
   "cell_type": "markdown",
   "metadata": {},
   "source": [
    "Dropping unused columns in the model to be fit:\n",
    "\n",
    "\n",
    "Drop training hours\n"
   ]
  },
  {
   "cell_type": "code",
   "execution_count": 410,
   "metadata": {},
   "outputs": [],
   "source": [
    "hr_train <- hr_train[,-11]\n",
    "\n"
   ]
  },
  {
   "cell_type": "markdown",
   "metadata": {},
   "source": [
    "Fitting the model: \n",
    "\n"
   ]
  },
  {
   "cell_type": "code",
   "execution_count": 411,
   "metadata": {},
   "outputs": [
    {
     "data": {
      "text/plain": [
       "\n",
       "Call:\n",
       "glm(formula = target ~ ., family = \"binomial\", data = hr_train)\n",
       "\n",
       "Deviance Residuals: \n",
       "    Min       1Q   Median       3Q      Max  \n",
       "-2.0911  -0.6631  -0.4510  -0.3003   2.9494  \n",
       "\n",
       "Coefficients:\n",
       "                                          Estimate Std. Error z value Pr(>|z|)\n",
       "(Intercept)                                1.62716    0.47714   3.410 0.000649\n",
       "city_development_index                    -5.65210    0.22529 -25.089  < 2e-16\n",
       "genderMale                                -0.12768    0.09492  -1.345 0.178586\n",
       "relevant_experienceNo relevent experience  0.27954    0.07348   3.804 0.000142\n",
       "enrolled_universityno enrollment          -0.25746    0.07425  -3.468 0.000525\n",
       "enrolled_universityPart time course       -0.44089    0.12300  -3.584 0.000338\n",
       "education_levelHigh School                 0.75852    0.30176   2.514 0.011949\n",
       "education_levelGraduate                    1.71042    0.29491   5.800 6.64e-09\n",
       "education_levelMasters                     1.46393    0.30004   4.879 1.07e-06\n",
       "education_levelPhd                         1.27457    0.35930   3.547 0.000389\n",
       "major_disciplineBusiness Degree           -0.17095    0.29259  -0.584 0.559049\n",
       "major_disciplineHumanities                -0.20904    0.25729  -0.812 0.416516\n",
       "major_disciplineNo Major                  -0.15464    0.32078  -0.482 0.629744\n",
       "major_disciplineOther                     -0.26621    0.28509  -0.934 0.350427\n",
       "major_disciplineSTEM                      -0.12895    0.21651  -0.596 0.551444\n",
       "experience>20                             -0.60722    0.19420  -3.127 0.001768\n",
       "experience1                                0.14791    0.22856   0.647 0.517542\n",
       "experience10                              -0.63843    0.20961  -3.046 0.002321\n",
       "experience11                              -0.52338    0.22422  -2.334 0.019584\n",
       "experience12                              -0.58030    0.24433  -2.375 0.017545\n",
       "experience13                              -0.49371    0.25347  -1.948 0.051440\n",
       "experience14                              -0.60669    0.23879  -2.541 0.011063\n",
       "experience15                              -0.61580    0.23141  -2.661 0.007789\n",
       "experience16                              -0.83593    0.25343  -3.298 0.000972\n",
       "experience17                              -0.64119    0.26460  -2.423 0.015382\n",
       "experience18                              -1.04643    0.32657  -3.204 0.001354\n",
       "experience19                              -0.83122    0.29616  -2.807 0.005005\n",
       "experience2                               -0.52796    0.20188  -2.615 0.008917\n",
       "experience20                              -0.24634    0.33176  -0.743 0.457766\n",
       "experience3                               -0.22799    0.19422  -1.174 0.240432\n",
       "experience4                               -0.32810    0.19484  -1.684 0.092181\n",
       "experience5                               -0.39187    0.19549  -2.005 0.045014\n",
       "experience6                               -0.48043    0.20105  -2.390 0.016865\n",
       "experience7                               -0.27453    0.20162  -1.362 0.173313\n",
       "experience8                               -0.31445    0.21343  -1.473 0.140662\n",
       "experience9                               -0.40732    0.20870  -1.952 0.050978\n",
       "company_size100-500                        0.07725    0.14046   0.550 0.582311\n",
       "company_size1000-4999                     -0.00660    0.16468  -0.040 0.968031\n",
       "company_size10000+                         0.18953    0.14648   1.294 0.195679\n",
       "company_size50-99                         -0.03905    0.13660  -0.286 0.774958\n",
       "company_size500-999                        0.08206    0.17774   0.462 0.644316\n",
       "company_size5000-9999                      0.15108    0.20196   0.748 0.454421\n",
       "company_sizeUnknown                        0.74590    0.13129   5.681 1.34e-08\n",
       "company_typeFunded Startup                -0.11195    0.21008  -0.533 0.594125\n",
       "company_typeNGO                            0.11754    0.23947   0.491 0.623540\n",
       "company_typeOther                          0.79369    0.17572   4.517 6.28e-06\n",
       "company_typePublic Sector                  0.52693    0.20686   2.547 0.010857\n",
       "company_typePvt Ltd                        0.10771    0.17156   0.628 0.530113\n",
       "last_new_job1                              0.38525    0.09407   4.095 4.21e-05\n",
       "last_new_job2                              0.53095    0.11086   4.789 1.67e-06\n",
       "last_new_job3                              0.68884    0.14136   4.873 1.10e-06\n",
       "last_new_job4                              0.64290    0.14517   4.429 9.49e-06\n",
       "last_new_job>4                             0.42731    0.11817   3.616 0.000299\n",
       "                                             \n",
       "(Intercept)                               ***\n",
       "city_development_index                    ***\n",
       "genderMale                                   \n",
       "relevant_experienceNo relevent experience ***\n",
       "enrolled_universityno enrollment          ***\n",
       "enrolled_universityPart time course       ***\n",
       "education_levelHigh School                *  \n",
       "education_levelGraduate                   ***\n",
       "education_levelMasters                    ***\n",
       "education_levelPhd                        ***\n",
       "major_disciplineBusiness Degree              \n",
       "major_disciplineHumanities                   \n",
       "major_disciplineNo Major                     \n",
       "major_disciplineOther                        \n",
       "major_disciplineSTEM                         \n",
       "experience>20                             ** \n",
       "experience1                                  \n",
       "experience10                              ** \n",
       "experience11                              *  \n",
       "experience12                              *  \n",
       "experience13                              .  \n",
       "experience14                              *  \n",
       "experience15                              ** \n",
       "experience16                              ***\n",
       "experience17                              *  \n",
       "experience18                              ** \n",
       "experience19                              ** \n",
       "experience2                               ** \n",
       "experience20                                 \n",
       "experience3                                  \n",
       "experience4                               .  \n",
       "experience5                               *  \n",
       "experience6                               *  \n",
       "experience7                                  \n",
       "experience8                                  \n",
       "experience9                               .  \n",
       "company_size100-500                          \n",
       "company_size1000-4999                        \n",
       "company_size10000+                           \n",
       "company_size50-99                            \n",
       "company_size500-999                          \n",
       "company_size5000-9999                        \n",
       "company_sizeUnknown                       ***\n",
       "company_typeFunded Startup                   \n",
       "company_typeNGO                              \n",
       "company_typeOther                         ***\n",
       "company_typePublic Sector                 *  \n",
       "company_typePvt Ltd                          \n",
       "last_new_job1                             ***\n",
       "last_new_job2                             ***\n",
       "last_new_job3                             ***\n",
       "last_new_job4                             ***\n",
       "last_new_job>4                            ***\n",
       "---\n",
       "Signif. codes:  0 '***' 0.001 '**' 0.01 '*' 0.05 '.' 0.1 ' ' 1\n",
       "\n",
       "(Dispersion parameter for binomial family taken to be 1)\n",
       "\n",
       "    Null deviance: 10671  on 9904  degrees of freedom\n",
       "Residual deviance:  8939  on 9852  degrees of freedom\n",
       "AIC: 9045\n",
       "\n",
       "Number of Fisher Scoring iterations: 5\n"
      ]
     },
     "metadata": {},
     "output_type": "display_data"
    }
   ],
   "source": [
    "hr_log_fit <- glm(target~., data=hr_train, family=\"binomial\")\n",
    "summary(hr_log_fit)\n"
   ]
  },
  {
   "cell_type": "markdown",
   "metadata": {},
   "source": [
    "Using the model to predict the target variable in our test data:\n",
    "\n"
   ]
  },
  {
   "cell_type": "code",
   "execution_count": 412,
   "metadata": {},
   "outputs": [],
   "source": [
    "hr_test$predict_log <- \"\"\n",
    "hr_test$predict_log <- predict(hr_log_fit, hr_test, type = \"response\")\n",
    "hr_test$predict_log <- ifelse(hr_test$predict_log >= 0.5, \"Job change\", \"No job change\")\n",
    "hr_test$target <- ifelse(hr_test$target == 1, \"Job change\", \"No job change\")\n"
   ]
  },
  {
   "cell_type": "markdown",
   "metadata": {},
   "source": [
    "Observing the predicted results on a confusion matrix:\n",
    "\n"
   ]
  },
  {
   "cell_type": "code",
   "execution_count": 413,
   "metadata": {},
   "outputs": [
    {
     "data": {
      "text/plain": [
       "\n",
       "   Job change No job change \n",
       "          986          3260 "
      ]
     },
     "metadata": {},
     "output_type": "display_data"
    },
    {
     "data": {
      "text/plain": [
       "               predict_log\n",
       "target          Job change No job change\n",
       "  Job change           235           751\n",
       "  No job change        159          3101"
      ]
     },
     "metadata": {},
     "output_type": "display_data"
    }
   ],
   "source": [
    "table(hr_test$target)\n",
    "\n",
    "xtabs(~target+predict_log, data = hr_test)\n"
   ]
  },
  {
   "cell_type": "markdown",
   "metadata": {},
   "source": [
    "From the results above, the model is highly affected by the imbalanced target variable, and since it is a logistic model, its high bias tendancy leads to it mispredicting 724 cases where people were likely to seek a job change, but were classified as opposite.\n",
    "\n",
    "The model is also highly specific and lowly sensitive due to this.\n"
   ]
  },
  {
   "cell_type": "code",
   "execution_count": 414,
   "metadata": {},
   "outputs": [
    {
     "data": {
      "text/html": [
       "95.3644403781641"
      ],
      "text/latex": [
       "95.3644403781641"
      ],
      "text/markdown": [
       "95.3644403781641"
      ],
      "text/plain": [
       "[1] 95.36444"
      ]
     },
     "metadata": {},
     "output_type": "display_data"
    },
    {
     "data": {
      "text/html": [
       "25.129265770424"
      ],
      "text/latex": [
       "25.129265770424"
      ],
      "text/markdown": [
       "25.129265770424"
      ],
      "text/plain": [
       "[1] 25.12927"
      ]
     },
     "metadata": {},
     "output_type": "display_data"
    }
   ],
   "source": [
    "#specificity\n",
    "(3127/(3127+152) * 100)\n",
    "\n",
    "#sensitivity\n",
    "(243/(243+724) * 100)\n"
   ]
  },
  {
   "cell_type": "markdown",
   "metadata": {},
   "source": [
    "The above model would thus not be suitable for making accurate predictions on which employees are likely to change jobs, based on the data input provided.\n",
    "\n",
    "\n",
    "\n",
    "**Decision Tree**\n",
    "\n",
    "Changing the target categories from 1 and 0 to their respective placeholders for clarity when visualizing comparisons and the tree plot itself:\n"
   ]
  },
  {
   "cell_type": "code",
   "execution_count": 415,
   "metadata": {},
   "outputs": [],
   "source": [
    "hr_train_tree <- hr_train\n",
    "\n",
    "hr_train_tree$target <- ifelse(hr_train_tree$target == 1, \"Job change\", \"No job change\")\n"
   ]
  },
  {
   "cell_type": "markdown",
   "metadata": {},
   "source": [
    "Fitting the model:\n",
    "\n"
   ]
  },
  {
   "cell_type": "code",
   "execution_count": 416,
   "metadata": {},
   "outputs": [
    {
     "data": {
      "image/png": "[encoded data removed]",
      "text/plain": [
       "plot without title"
      ]
     },
     "metadata": {},
     "output_type": "display_data"
    }
   ],
   "source": [
    "hr_tree_fit <- rpart(target~. , method = \"class\", data = hr_train_tree)\n",
    "rpart.plot(hr_tree_fit)\n"
   ]
  },
  {
   "cell_type": "markdown",
   "metadata": {},
   "source": [
    "Predictions:\n",
    "\n"
   ]
  },
  {
   "cell_type": "code",
   "execution_count": 417,
   "metadata": {},
   "outputs": [],
   "source": [
    "hr_test$predict_tree <- \"\"\n",
    "hr_test$predict_tree <- predict(hr_tree_fit, hr_test, type = \"class\")\n"
   ]
  },
  {
   "cell_type": "markdown",
   "metadata": {},
   "source": [
    "A confusion matrix to visualise the predictions:\n",
    "\n"
   ]
  },
  {
   "cell_type": "code",
   "execution_count": 418,
   "metadata": {
    "scrolled": true
   },
   "outputs": [
    {
     "data": {
      "text/plain": [
       "\n",
       "   Job change No job change \n",
       "          986          3260 "
      ]
     },
     "metadata": {},
     "output_type": "display_data"
    },
    {
     "data": {
      "text/plain": [
       "               predict_tree\n",
       "target          Job change No job change\n",
       "  Job change           498           488\n",
       "  No job change        339          2921"
      ]
     },
     "metadata": {},
     "output_type": "display_data"
    }
   ],
   "source": [
    "table(hr_test$target)\n",
    "\n",
    "xtabs(~target+predict_tree, data = hr_test)\n"
   ]
  },
  {
   "cell_type": "markdown",
   "metadata": {},
   "source": [
    "\n",
    "\n"
   ]
  },
  {
   "cell_type": "code",
   "execution_count": 419,
   "metadata": {},
   "outputs": [
    {
     "data": {
      "text/html": [
       "81.3235986811116"
      ],
      "text/latex": [
       "81.3235986811116"
      ],
      "text/markdown": [
       "81.3235986811116"
      ],
      "text/plain": [
       "[1] 81.3236"
      ]
     },
     "metadata": {},
     "output_type": "display_data"
    },
    {
     "data": {
      "text/html": [
       "65.4471544715447"
      ],
      "text/latex": [
       "65.4471544715447"
      ],
      "text/markdown": [
       "65.4471544715447"
      ],
      "text/plain": [
       "[1] 65.44715"
      ]
     },
     "metadata": {},
     "output_type": "display_data"
    }
   ],
   "source": [
    "# accuracy\n",
    "((644+2809)/(984+3262)) * 100\n",
    "\n",
    "# sensitivity\n",
    "644/(644+340) * 100\n"
   ]
  },
  {
   "cell_type": "markdown",
   "metadata": {},
   "source": [
    "The low bias nature of decision trees makes it able to obtain better predictions on the imbalanced target variable. Its true positive rate, as calculated in the sensitivity above is . Which is much higher than the logistic one at .\n",
    "\n",
    "It is thus a better fit than the logistic model.\n",
    "\n",
    "\n",
    "The decision tree model however, overfits easily due to their high variance nature - they are strongly influenced by the specifics of the training data - thus a large deviation in predictions when switching from one dataset to another.\n",
    "\n",
    "Pruning the tree, or using parallel ensemble methods, eg: random forest can be used as a workaround against this issue\n",
    "\n",
    "\n",
    "\n",
    "**Random Forest**\n",
    "\n",
    "\n",
    "Decreases the variance of the model by adding more 'randomness'\n"
   ]
  },
  {
   "cell_type": "code",
   "execution_count": 420,
   "metadata": {},
   "outputs": [],
   "source": [
    "hr_train_for <- hr_train\n",
    "\n"
   ]
  },
  {
   "cell_type": "markdown",
   "metadata": {},
   "source": [
    "\n"
   ]
  },
  {
   "cell_type": "code",
   "execution_count": 421,
   "metadata": {},
   "outputs": [
    {
     "data": {
      "text/html": [
       "<table>\n",
       "<thead><tr><th scope=col>target</th><th scope=col>count</th></tr></thead>\n",
       "<tbody>\n",
       "\t<tr><td>0   </td><td>7632</td></tr>\n",
       "\t<tr><td>1   </td><td>2273</td></tr>\n",
       "</tbody>\n",
       "</table>\n"
      ],
      "text/latex": [
       "\\begin{tabular}{r|ll}\n",
       " target & count\\\\\n",
       "\\hline\n",
       "\t 0    & 7632\\\\\n",
       "\t 1    & 2273\\\\\n",
       "\\end{tabular}\n"
      ],
      "text/markdown": [
       "\n",
       "| target | count |\n",
       "|---|---|\n",
       "| 0    | 7632 |\n",
       "| 1    | 2273 |\n",
       "\n"
      ],
      "text/plain": [
       "  target count\n",
       "1 0      7632 \n",
       "2 1      2273 "
      ]
     },
     "metadata": {},
     "output_type": "display_data"
    }
   ],
   "source": [
    "hr_train_for %>% \n",
    "   group_by(target) %>% \n",
    "    summarise(count=n())\n"
   ]
  },
  {
   "cell_type": "markdown",
   "metadata": {},
   "source": [
    "    \n",
    "    \n",
    "The target variable is imbalanced since it exhibits an unequal distribution between its classes.\n",
    "This becomes a problem when building machine learning models since algorithms assume that datasets have balanced classes.\n",
    "\n",
    "This usually causes the performance of existing classifiers to get biased towards majority class.\n",
    "\n",
    "\n",
    "*Oversampling*\n",
    "\n",
    "- This technique replicates the observations from minority class to balance the data\n"
   ]
  },
  {
   "cell_type": "code",
   "execution_count": 422,
   "metadata": {},
   "outputs": [],
   "source": [
    "#ROSE\n",
    "balanced_over_for <- ovun.sample(target ~ ., data = hr_train_for, method = \"over\",N =15260)$data\n"
   ]
  },
  {
   "cell_type": "markdown",
   "metadata": {},
   "source": [
    "The balanced dataset:\n",
    "\n"
   ]
  },
  {
   "cell_type": "code",
   "execution_count": 423,
   "metadata": {},
   "outputs": [
    {
     "data": {
      "text/plain": [
       "\n",
       "   0    1 \n",
       "7632 7628 "
      ]
     },
     "metadata": {},
     "output_type": "display_data"
    }
   ],
   "source": [
    "table(balanced_over_for$target)\n",
    "\n"
   ]
  },
  {
   "cell_type": "markdown",
   "metadata": {},
   "source": [
    "Randomizing - in case the new balanced dataset contains patterns\n",
    "\n"
   ]
  },
  {
   "cell_type": "code",
   "execution_count": 424,
   "metadata": {},
   "outputs": [],
   "source": [
    "random <- sample(1:(nrow(balanced_over_for)))\n",
    "balanced_over_for <- balanced_over_for[random,]\n"
   ]
  },
  {
   "cell_type": "markdown",
   "metadata": {},
   "source": [
    "Changing the labels back to their placeholders for the random forest model building:\n",
    "\n"
   ]
  },
  {
   "cell_type": "code",
   "execution_count": 425,
   "metadata": {},
   "outputs": [],
   "source": [
    "balanced_over_for$target <- ifelse(balanced_over_for$target == 1, \"Job change\", \"No job change\")\n",
    "\n",
    "\n",
    "balanced_over_for$target <- factor(balanced_over_for$target)\n"
   ]
  },
  {
   "cell_type": "markdown",
   "metadata": {},
   "source": [
    "*Tuning the model architecture*\n",
    "\n",
    "Tuning the number of variables randomly sampled as candidates at each split - mtry\n"
   ]
  },
  {
   "cell_type": "code",
   "execution_count": 426,
   "metadata": {},
   "outputs": [
    {
     "name": "stdout",
     "output_type": "stream",
     "text": [
      "mtry = 3  OOB error = 10.77% \n",
      "Searching left ...\n",
      "mtry = 2 \tOOB error = 14.72% \n",
      "-0.36618 0.01 \n",
      "Searching right ...\n",
      "mtry = 4 \tOOB error = 9.78% \n",
      "0.09245742 0.01 \n",
      "mtry = 6 \tOOB error = 9.13% \n",
      "0.06635389 0.01 \n",
      "mtry = 9 \tOOB error = 9.2% \n",
      "-0.007896626 0.01 \n"
     ]
    },
    {
     "data": {
      "image/png": "[encoded data removed]",
      "text/plain": [
       "plot without title"
      ]
     },
     "metadata": {},
     "output_type": "display_data"
    }
   ],
   "source": [
    "mtry <- tuneRF(balanced_over_for[-11],balanced_over_for$target, ntreeTry=800, stepFactor=1.5,improve=0.01, trace=TRUE, plot=TRUE)\n",
    "\n"
   ]
  },
  {
   "cell_type": "markdown",
   "metadata": {},
   "source": [
    "The OOB error is decreasing with an increase in the randomly sampled values at each split\n",
    "The lowest being at %.\n",
    "\n",
    "\n",
    "\n",
    "\n",
    "The best value:\n"
   ]
  },
  {
   "cell_type": "code",
   "execution_count": 427,
   "metadata": {},
   "outputs": [
    {
     "name": "stdout",
     "output_type": "stream",
     "text": [
      "      mtry   OOBError\n",
      "2.OOB    2 0.14718218\n",
      "3.OOB    3 0.10773263\n",
      "4.OOB    4 0.09777195\n",
      "6.OOB    6 0.09128440\n",
      "9.OOB    9 0.09200524\n",
      "[1] 6\n"
     ]
    }
   ],
   "source": [
    "best.m <- mtry[mtry[, 2] == min(mtry[, 2]), 1]\n",
    "print(mtry)\n",
    "print(best.m)\n"
   ]
  },
  {
   "cell_type": "markdown",
   "metadata": {},
   "source": [
    "We use mtry as 6 in the model building - yields the lowest error\n",
    "\n",
    "Some other specifics that can be used to tune the model are specifying the number of trees, indicating the size and number of the different terminal nodes in the model or even limiting how deep the trees should be.\n",
    "\n",
    "The model:\n"
   ]
  },
  {
   "cell_type": "code",
   "execution_count": 428,
   "metadata": {},
   "outputs": [
    {
     "data": {
      "text/plain": [
       "\n",
       "Call:\n",
       " randomForest(formula = target ~ ., data = balanced_over_for,      ntree = 800, mtry = 6, importance = TRUE, replace = TRUE) \n",
       "               Type of random forest: classification\n",
       "                     Number of trees: 800\n",
       "No. of variables tried at each split: 6\n",
       "\n",
       "        OOB estimate of  error rate: 9.17%\n",
       "Confusion matrix:\n",
       "              Job change No job change class.error\n",
       "Job change          7365           263  0.03447824\n",
       "No job change       1136          6496  0.14884696"
      ]
     },
     "metadata": {},
     "output_type": "display_data"
    }
   ],
   "source": [
    "hr_for_fit <- randomForest(target~., data = balanced_over_for, ntree = 800, mtry = 6, importance = TRUE, replace = TRUE)\n",
    "\n",
    "\n",
    "\n",
    "hr_for_fit\n"
   ]
  },
  {
   "cell_type": "markdown",
   "metadata": {},
   "source": [
    "The model is now able to provide classifications for both variable classes in a more accurate fashion\n",
    "\n",
    "The sensitivity before - %\n",
    "The sensitivity after - %\n",
    "\n",
    "The accuracy before - %\n",
    "The accuracy after - %\n",
    "\n",
    "\n",
    "A disadvantage of the sampling technique used is that since oversampling simply adds replicated observations in original data set, it ends up adding multiple observations of several types, thus leading to overfitting. \n",
    "\n",
    "We thus expect these values to reduce when performing the test with the original test dataset - which acts as our unseen data.\n",
    "\n",
    "\n",
    "Testing the model on our test dataset:\n"
   ]
  },
  {
   "cell_type": "code",
   "execution_count": 429,
   "metadata": {},
   "outputs": [
    {
     "data": {
      "text/plain": [
       "               predict_for\n",
       "target          Job change No job change\n",
       "  Job change           559           427\n",
       "  No job change        479          2781"
      ]
     },
     "metadata": {},
     "output_type": "display_data"
    }
   ],
   "source": [
    "hr_test$predict_for <- \"\"\n",
    "hr_test$predict_for <- predict(hr_for_fit, hr_test, type = \"class\")\n",
    "\n",
    "xtabs(~target+predict_for, data = hr_test)\n"
   ]
  },
  {
   "cell_type": "markdown",
   "metadata": {},
   "source": [
    "Accuracy - \n",
    "Sensitivity - \n",
    "\n",
    "A better technique instead of replicating and adding the observations from the minority class, is overcoming the imbalances by generating artificial data through synthetic data generation.\n",
    "\n",
    "It is more powerful, and overcomes the overfitting problem since it generates a random set of minority class observations to shift the classifier learning bias towards minority class by using bootstrapping and k-nearest neighbors.\n",
    "\n",
    "Its implementation via SMOTE (synthetic minority oversampling technique) however, is only actionable on numerical data and not categorical.\n",
    "\n",
    "For categorical features, the SMOTE-NC(synthetic minority oversampling technique - nominal continous) algorithm is used, but as of now there is no implementation of it in R - unless created using a custom function.\n"
   ]
  },
  {
   "cell_type": "code",
   "execution_count": null,
   "metadata": {},
   "outputs": [],
   "source": []
  }
 ],
 "metadata": {
  "anaconda-cloud": "",
  "kernelspec": {
   "display_name": "R",
   "language": "R",
   "name": "ir"
  },
  "language_info": {
   "codemirror_mode": "r",
   "file_extension": ".r",
   "mimetype": "text/x-r-source",
   "name": "R",
   "pygments_lexer": "r",
   "version": "3.6.1"
  }
 },
 "nbformat": 4,
 "nbformat_minor": 1
}
