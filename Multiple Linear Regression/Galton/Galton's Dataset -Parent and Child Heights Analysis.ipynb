{
 "cells": [
  {
   "cell_type": "markdown",
   "metadata": {},
   "source": [
    "GALTON'S DATASET - PARENT AND CHILD HEIGHTS - GENETIC VARIATION\n",
    "\n"
   ]
  },
  {
   "cell_type": "code",
   "execution_count": 2,
   "metadata": {},
   "outputs": [],
   "source": [
    "knitr::opts_chunk$set(\n",
    "  warning = TRUE, # show warnings\n",
    "  message = TRUE, # show messages\n",
    "  error = TRUE, # do not interrupt generation in case of errors,\n",
    "  echo = TRUE  # show R code\n",
    ")\n"
   ]
  },
  {
   "cell_type": "markdown",
   "metadata": {},
   "source": [
    "A comparison between the heights of adult children against the heights of both parents; in an attempt to infer any apparent relationship between the two.\n",
    "The comparison also focuses on which parent gene is stronger, or generally has more influence on the child's height,\n",
    "and ideally where each gender of the child inherits more from.\n",
    "The heritability of traits, in this case height, from parent to child, is tested with 898 observations, mostly with regards to the gender of each parent and each child\n",
    "\n",
    "Loading the needed packages\n"
   ]
  },
  {
   "cell_type": "code",
   "execution_count": 3,
   "metadata": {},
   "outputs": [
    {
     "name": "stderr",
     "output_type": "stream",
     "text": [
      "\n",
      "Attaching package: 'dplyr'\n",
      "\n",
      "The following objects are masked from 'package:stats':\n",
      "\n",
      "    filter, lag\n",
      "\n",
      "The following objects are masked from 'package:base':\n",
      "\n",
      "    intersect, setdiff, setequal, union\n",
      "\n",
      "Registered S3 methods overwritten by 'ggplot2':\n",
      "  method         from \n",
      "  [.quosures     rlang\n",
      "  c.quosures     rlang\n",
      "  print.quosures rlang\n"
     ]
    },
    {
     "ename": "ERROR",
     "evalue": "Error in library(datarium): there is no package called 'datarium'\n",
     "output_type": "error",
     "traceback": [
      "Error in library(datarium): there is no package called 'datarium'\nTraceback:\n",
      "1. library(datarium)"
     ]
    }
   ],
   "source": [
    "library(dplyr)\n",
    "library(ggplot2)\n",
    "library(datarium)\n",
    "library(plotly)\n"
   ]
  },
  {
   "cell_type": "markdown",
   "metadata": {},
   "source": [
    "The test data\n",
    "\n"
   ]
  },
  {
   "cell_type": "code",
   "execution_count": 22,
   "metadata": {},
   "outputs": [],
   "source": [
    "\n",
    "Galton <- read.csv(\"Downloads/Galtons Height Data.csv\")\n"
   ]
  },
  {
   "cell_type": "markdown",
   "metadata": {},
   "source": [
    "Observations, details, variables and checking for any missing entries on our test data\n",
    "\n"
   ]
  },
  {
   "cell_type": "code",
   "execution_count": 5,
   "metadata": {},
   "outputs": [
    {
     "name": "stdout",
     "output_type": "stream",
     "text": [
      "'data.frame':\t898 obs. of  6 variables:\n",
      " $ Family: int  1 1 1 1 2 2 2 2 3 3 ...\n",
      " $ Father: num  78.5 78.5 78.5 78.5 75.5 75.5 75.5 75.5 75 75 ...\n",
      " $ Mother: num  67 67 67 67 66.5 66.5 66.5 66.5 64 64 ...\n",
      " $ Gender: Factor w/ 2 levels \"F\",\"M\": 2 1 1 1 2 2 1 1 2 1 ...\n",
      " $ Height: num  73.2 69.2 69 69 73.5 72.5 65.5 65.5 71 68 ...\n",
      " $ Kids  : int  4 4 4 4 4 4 4 4 2 2 ...\n"
     ]
    }
   ],
   "source": [
    "str(Galton)\n",
    "\n"
   ]
  },
  {
   "cell_type": "markdown",
   "metadata": {},
   "source": [
    "\n"
   ]
  },
  {
   "cell_type": "code",
   "execution_count": 6,
   "metadata": {},
   "outputs": [
    {
     "data": {
      "text/html": [
       "<dl class=dl-horizontal>\n",
       "\t<dt>Family</dt>\n",
       "\t\t<dd>0</dd>\n",
       "\t<dt>Father</dt>\n",
       "\t\t<dd>0</dd>\n",
       "\t<dt>Mother</dt>\n",
       "\t\t<dd>0</dd>\n",
       "\t<dt>Gender</dt>\n",
       "\t\t<dd>0</dd>\n",
       "\t<dt>Height</dt>\n",
       "\t\t<dd>0</dd>\n",
       "\t<dt>Kids</dt>\n",
       "\t\t<dd>0</dd>\n",
       "</dl>\n"
      ],
      "text/latex": [
       "\\begin{description*}\n",
       "\\item[Family] 0\n",
       "\\item[Father] 0\n",
       "\\item[Mother] 0\n",
       "\\item[Gender] 0\n",
       "\\item[Height] 0\n",
       "\\item[Kids] 0\n",
       "\\end{description*}\n"
      ],
      "text/markdown": [
       "Family\n",
       ":   0Father\n",
       ":   0Mother\n",
       ":   0Gender\n",
       ":   0Height\n",
       ":   0Kids\n",
       ":   0\n",
       "\n"
      ],
      "text/plain": [
       "Family Father Mother Gender Height   Kids \n",
       "     0      0      0      0      0      0 "
      ]
     },
     "metadata": {},
     "output_type": "display_data"
    }
   ],
   "source": [
    "colSums(is.na(Galton))\n",
    "\n"
   ]
  },
  {
   "cell_type": "code",
   "execution_count": 7,
   "metadata": {},
   "outputs": [],
   "source": [
    "Galton$avg_parents=\"\"\n",
    "\n",
    "avg_h <- (Galton[,2] + Galton[,3])/2\n",
    "\n",
    "Galton$avg_parents <- avg_h\n",
    "\n",
    "\n",
    "Galton <- Galton[,c(1,2,3,7,4,5,6)]\n",
    "\n",
    "\n"
   ]
  },
  {
   "cell_type": "markdown",
   "metadata": {},
   "source": [
    "Data visualization\n",
    "\n"
   ]
  },
  {
   "cell_type": "code",
   "execution_count": 8,
   "metadata": {},
   "outputs": [
    {
     "data": {
      "image/png": "[encoded data removed]",
      "text/plain": [
       "plot without title"
      ]
     },
     "metadata": {},
     "output_type": "display_data"
    }
   ],
   "source": [
    "ggplot(Galton, aes(x=avg_parents, y=Height))+\n",
    "  geom_point()+\n",
    "  labs(title = \"A SCATTERPLOT SHOWING THE AVERAGE HEIGHTS OF PARENTS,\\n AGAINST THE HEIGHTS OF ADULT CHILDREN FROM THE SAME \\n FAMILIES\", subtitle = \"In the 1880s\", x=\"Average Parent Height \\n(Inches)\", y=\"Child Height\\n(Inches)\", caption = \"R INBUILT DATASET - MosaicData\")+\n",
    "  theme_bw()\n"
   ]
  },
  {
   "cell_type": "markdown",
   "metadata": {},
   "source": [
    "As per the plot above, a positive relationship is visualized between the heights of the parents and the heights of the children. Taller parents generally have taller children, and the vice versa stands.\n",
    "\n",
    "However, for parents with similar average height, the variation between the child heights observed is quite large.\n"
   ]
  },
  {
   "cell_type": "code",
   "execution_count": 9,
   "metadata": {},
   "outputs": [
    {
     "data": {
      "text/html": [
       "<table>\n",
       "<thead><tr><th scope=col>max</th><th scope=col>min</th></tr></thead>\n",
       "<tbody>\n",
       "\t<tr><td>79</td><td>60</td></tr>\n",
       "</tbody>\n",
       "</table>\n"
      ],
      "text/latex": [
       "\\begin{tabular}{r|ll}\n",
       " max & min\\\\\n",
       "\\hline\n",
       "\t 79 & 60\\\\\n",
       "\\end{tabular}\n"
      ],
      "text/markdown": [
       "\n",
       "| max | min |\n",
       "|---|---|\n",
       "| 79 | 60 |\n",
       "\n"
      ],
      "text/plain": [
       "  max min\n",
       "1 79  60 "
      ]
     },
     "metadata": {},
     "output_type": "display_data"
    }
   ],
   "source": [
    "Galton %>% \n",
    "   filter(avg_parents==67.5) %>% \n",
    "    summarise(max=max(Height), min=min(Height))\n"
   ]
  },
  {
   "cell_type": "markdown",
   "metadata": {},
   "source": [
    "For example, the above average parent height, of 67.5 inches, has a comparatively large range in the case of the child heights; where the tallest is at a height of 79 inches, and the shortest is at 60 inches.\n",
    "\n",
    "This huge variation indicates that several other factors, excluding the height of both parents strongly determine the height of the child\n",
    "\n",
    "The other case could be that the children have parents with heights that vary greatly, and the child inherits strongly from one parental side than the other\n",
    "\n",
    "Breaking it down to gender, however, clearly explains part of this huge variation in child heights, as below.\n"
   ]
  },
  {
   "cell_type": "code",
   "execution_count": 10,
   "metadata": {},
   "outputs": [
    {
     "data": {
      "image/png": "[encoded data removed]",
      "text/plain": [
       "plot without title"
      ]
     },
     "metadata": {},
     "output_type": "display_data"
    }
   ],
   "source": [
    "ggplot(Galton, aes(x=avg_parents, y=Height))+\n",
    "  geom_point(aes(color=Gender))+\n",
    "  labs(title = \"A SCATTERPLOT SHOWING THE AVERAGE HEIGHTS OF PARENTS,\\n AGAINST THE HEIGHTS OF ADULT CHILDREN FROM THE SAME \\n FAMILIES WITH REGARDS TO THE SPECIFIC GENDER\", subtitle = \"In the 1880s\", x=\"Average Parent Height \\n(Inches)\", y=\"Child Height\\n(Inches)\", caption = \"R INBUILT DATASET - MosaicData\")+\n",
    "  theme_bw()\n"
   ]
  },
  {
   "cell_type": "markdown",
   "metadata": {},
   "source": [
    "As seen, a very large influence of the child's height is determined by the gender.\n",
    "Male children, as seen above, have higher heights than female children, and this causes the heights of children to vary greatly, despite being from the same family with the same parents\n"
   ]
  },
  {
   "cell_type": "code",
   "execution_count": 11,
   "metadata": {},
   "outputs": [
    {
     "data": {
      "text/html": [
       "<table>\n",
       "<thead><tr><th scope=col>Gender</th><th scope=col>Average_Height</th><th scope=col>Median_Height</th></tr></thead>\n",
       "<tbody>\n",
       "\t<tr><td>F       </td><td>64.11016</td><td>64.0    </td></tr>\n",
       "\t<tr><td>M       </td><td>69.22882</td><td>69.2    </td></tr>\n",
       "</tbody>\n",
       "</table>\n"
      ],
      "text/latex": [
       "\\begin{tabular}{r|lll}\n",
       " Gender & Average\\_Height & Median\\_Height\\\\\n",
       "\\hline\n",
       "\t F        & 64.11016 & 64.0    \\\\\n",
       "\t M        & 69.22882 & 69.2    \\\\\n",
       "\\end{tabular}\n"
      ],
      "text/markdown": [
       "\n",
       "| Gender | Average_Height | Median_Height |\n",
       "|---|---|---|\n",
       "| F        | 64.11016 | 64.0     |\n",
       "| M        | 69.22882 | 69.2     |\n",
       "\n"
      ],
      "text/plain": [
       "  Gender Average_Height Median_Height\n",
       "1 F      64.11016       64.0         \n",
       "2 M      69.22882       69.2         "
      ]
     },
     "metadata": {},
     "output_type": "display_data"
    }
   ],
   "source": [
    "Galton %>% \n",
    "  group_by(Gender) %>% \n",
    "   summarise(Average_Height=mean(Height), Median_Height=median(Height))\n"
   ]
  },
  {
   "cell_type": "markdown",
   "metadata": {},
   "source": [
    "The height summary above shows the same. Male children tend to have a higher height level than female children\n",
    "\n",
    "On separate plots\n"
   ]
  },
  {
   "cell_type": "code",
   "execution_count": 12,
   "metadata": {},
   "outputs": [
    {
     "data": {
      "image/png": "[encoded data removed]",
      "text/plain": [
       "plot without title"
      ]
     },
     "metadata": {},
     "output_type": "display_data"
    }
   ],
   "source": [
    "ggplot(Galton, aes(x=avg_parents, y=Height))+\n",
    "  geom_point()+\n",
    "  facet_wrap(~Gender)+\n",
    "  labs(title = \"A SCATTERPLOT SHOWING THE AVERAGE HEIGHTS OF PARENTS,\\n AGAINST THE HEIGHTS OF ADULT CHILDREN FROM THE SAME \\n FAMILIES WITH REGARDS TO THE SPECIFIC GENDER\", subtitle = \"In the 1880s\", x=\"Average Parent Height \\n(Inches)\", y=\"Child Height\\n(Inches)\", caption = \"R INBUILT DATASET - MosaicData\")+\n",
    "  theme_bw()\n"
   ]
  },
  {
   "cell_type": "markdown",
   "metadata": {},
   "source": [
    "Observing the plots, we expect a positive correlation between the child height and the average parents height, and because of the high variation in child heights for similar average parent heights, the correlation is anticipated to be a weak one\n",
    "\n"
   ]
  },
  {
   "cell_type": "code",
   "execution_count": 13,
   "metadata": {},
   "outputs": [
    {
     "data": {
      "text/html": [
       "0.327073949872597"
      ],
      "text/latex": [
       "0.327073949872597"
      ],
      "text/markdown": [
       "0.327073949872597"
      ],
      "text/plain": [
       "[1] 0.3270739"
      ]
     },
     "metadata": {},
     "output_type": "display_data"
    }
   ],
   "source": [
    "cor(Galton$avg_parents, Galton$Height)\n",
    "\n"
   ]
  },
  {
   "cell_type": "markdown",
   "metadata": {},
   "source": [
    "The value is less than the 0.5 mark, hence is classified as a weak correlation.\n",
    "\n",
    "A linear model thus, would have a low score, if it were to be used to predict various child heights, with regards to the average height of both parents\n"
   ]
  },
  {
   "cell_type": "code",
   "execution_count": 23,
   "metadata": {},
   "outputs": [
    {
     "ename": "ERROR",
     "evalue": "Error in eval(predvars, data, env): object 'avg_parents' not found\n",
     "output_type": "error",
     "traceback": [
      "Error in eval(predvars, data, env): object 'avg_parents' not found\nTraceback:\n",
      "1. lm(Height ~ avg_parents, data = Galton)",
      "2. eval(mf, parent.frame())",
      "3. eval(mf, parent.frame())",
      "4. stats::model.frame(formula = Height ~ avg_parents, data = Galton, \n .     drop.unused.levels = TRUE)",
      "5. model.frame.default(formula = Height ~ avg_parents, data = Galton, \n .     drop.unused.levels = TRUE)",
      "6. eval(predvars, data, env)",
      "7. eval(predvars, data, env)"
     ]
    }
   ],
   "source": [
    "Galton_parents_lm <- lm(Height~avg_parents, data = Galton) \n",
    "\n",
    "summary(Galton_parents_lm)\n"
   ]
  },
  {
   "cell_type": "markdown",
   "metadata": {},
   "source": [
    "Similar to..\n",
    "\n"
   ]
  },
  {
   "cell_type": "code",
   "execution_count": 24,
   "metadata": {},
   "outputs": [
    {
     "data": {
      "text/plain": [
       "\n",
       "Call:\n",
       "lm(formula = Height ~ Mother + Father, data = Galton)\n",
       "\n",
       "Residuals:\n",
       "   Min     1Q Median     3Q    Max \n",
       "-9.136 -2.700 -0.181  2.768 11.689 \n",
       "\n",
       "Coefficients:\n",
       "            Estimate Std. Error t value Pr(>|t|)    \n",
       "(Intercept) 22.30971    4.30690   5.180 2.74e-07 ***\n",
       "Mother       0.28321    0.04914   5.764 1.13e-08 ***\n",
       "Father       0.37990    0.04589   8.278 4.52e-16 ***\n",
       "---\n",
       "Signif. codes:  0 '***' 0.001 '**' 0.01 '*' 0.05 '.' 0.1 ' ' 1\n",
       "\n",
       "Residual standard error: 3.386 on 895 degrees of freedom\n",
       "Multiple R-squared:  0.1089,\tAdjusted R-squared:  0.1069 \n",
       "F-statistic: 54.69 on 2 and 895 DF,  p-value: < 2.2e-16\n"
      ]
     },
     "metadata": {},
     "output_type": "display_data"
    }
   ],
   "source": [
    "Galton_lm <- lm(Height~Mother+Father, data= Galton)\n",
    "\n",
    "summary(Galton_lm)\n"
   ]
  },
  {
   "cell_type": "markdown",
   "metadata": {},
   "source": [
    "Multiple R squared values of 0.1 are very low. The regression models above would be ineffective if they were to be used to try and achieve accurate predictive child height results, from just the heights of both parents\n",
    "\n",
    "As mentioned, genes are not the sole predictor of child heights. Lots of other variants, known and unknown come into play\n",
    "\n",
    "\n",
    "\n",
    "\n",
    "\n",
    "Trying to establish which parent has more influence on the child heights\n",
    "\n",
    "Studies and research show that the father's gene is stronger, and children tend to inherit more from the side of the father than the mother\n",
    "\n",
    "\n",
    "2. Father's height on the height both child genders vs Mother's height on both child genders\n",
    "\n",
    "Creating the needed dataset, with the needed columns\n"
   ]
  },
  {
   "cell_type": "code",
   "execution_count": 27,
   "metadata": {},
   "outputs": [
    {
     "name": "stdout",
     "output_type": "stream",
     "text": [
      "'data.frame':\t898 obs. of  6 variables:\n",
      " $ Family: int  1 1 1 1 2 2 2 2 3 3 ...\n",
      " $ Father: num  78.5 78.5 78.5 78.5 75.5 75.5 75.5 75.5 75 75 ...\n",
      " $ Mother: num  67 67 67 67 66.5 66.5 66.5 66.5 64 64 ...\n",
      " $ Gender: Factor w/ 2 levels \"F\",\"M\": 2 1 1 1 2 2 1 1 2 1 ...\n",
      " $ Height: num  73.2 69.2 69 69 73.5 72.5 65.5 65.5 71 68 ...\n",
      " $ Kids  : int  4 4 4 4 4 4 4 4 2 2 ...\n"
     ]
    }
   ],
   "source": [
    "str(Galton)\n",
    "\n",
    "Galton_father <- Galton[,-c(3,7)]\n",
    "\n",
    "\n"
   ]
  },
  {
   "cell_type": "markdown",
   "metadata": {},
   "source": [
    "Visualization\n",
    "\n"
   ]
  },
  {
   "cell_type": "code",
   "execution_count": 28,
   "metadata": {},
   "outputs": [
    {
     "data": {
      "image/png": "[encoded data removed]",
      "text/plain": [
       "plot without title"
      ]
     },
     "metadata": {},
     "output_type": "display_data"
    }
   ],
   "source": [
    "ggplot(Galton_father, aes(x=Father, y=Height))+\n",
    "  geom_point(aes(color=Gender))+\n",
    "   labs(title = \"A SCATTERPLOT SHOWING THE HEIGHTS OF FATHERS,\\n AGAINST THE HEIGHTS OF ADULT CHILDREN FROM THE SAME \\n FAMILIES WITH REGARDS TO THE SPECIFIC GENDER\", subtitle = \"In the 1880s\", x=\"Father's Height \\n(Inches)\", y=\"Child Height\\n(Inches)\", caption = \"R INBUILT DATASET - MosaicData\")+\n",
    "   geom_smooth(method=\"lm\")+\n",
    "  theme_bw()\n"
   ]
  },
  {
   "cell_type": "markdown",
   "metadata": {},
   "source": [
    "On the mother's side..\n",
    "\n"
   ]
  },
  {
   "cell_type": "code",
   "execution_count": 29,
   "metadata": {},
   "outputs": [],
   "source": [
    "Galton_mother <- Galton[,-c(2,7)]\n",
    "\n",
    "\n"
   ]
  },
  {
   "cell_type": "markdown",
   "metadata": {},
   "source": [
    "\n"
   ]
  },
  {
   "cell_type": "code",
   "execution_count": 30,
   "metadata": {},
   "outputs": [
    {
     "data": {
      "image/png": "[encoded data removed]",
      "text/plain": [
       "plot without title"
      ]
     },
     "metadata": {},
     "output_type": "display_data"
    }
   ],
   "source": [
    "ggplot(Galton_mother, aes(x=Mother, y=Height))+\n",
    "  geom_point(aes(color=Gender))+\n",
    "    labs(title = \"A SCATTERPLOT SHOWING THE HEIGHTS OF MOTHERS,\\n AGAINST THE HEIGHTS OF ADULT CHILDREN FROM THE SAME \\n FAMILIES WITH REGARDS TO THE SPECIFIC GENDER\", subtitle = \"In the 1880s\", x=\"Mother's Height \\n(Inches)\", y=\"Child Height\\n(Inches)\", caption = \"R INBUILT DATASET - MosaicData\")+\n",
    "  geom_smooth(method=\"lm\")+\n",
    "  theme_bw()\n"
   ]
  },
  {
   "cell_type": "markdown",
   "metadata": {},
   "source": [
    "An apparent difference in correlation is hard to visualize from the plots, however its is clear that an increase in height, for the father, results in a greater increase in child height than for the mother\n",
    "Especially for the female child, which, as observed from the mother's plot seems to be relatively similar across the different mother's heights.\n",
    "\n",
    "Looking at the correlation values..\n",
    "\n",
    "The father's\n"
   ]
  },
  {
   "cell_type": "code",
   "execution_count": 33,
   "metadata": {},
   "outputs": [
    {
     "data": {
      "text/html": [
       "0.275354826252148"
      ],
      "text/latex": [
       "0.275354826252148"
      ],
      "text/markdown": [
       "0.275354826252148"
      ],
      "text/plain": [
       "[1] 0.2753548"
      ]
     },
     "metadata": {},
     "output_type": "display_data"
    }
   ],
   "source": [
    "cor(Galton_father$Father, Galton_father$Height)\n",
    "\n"
   ]
  },
  {
   "cell_type": "markdown",
   "metadata": {},
   "source": [
    "\n",
    "The mother's\n"
   ]
  },
  {
   "cell_type": "code",
   "execution_count": 35,
   "metadata": {},
   "outputs": [
    {
     "data": {
      "text/html": [
       "0.201654893904863"
      ],
      "text/latex": [
       "0.201654893904863"
      ],
      "text/markdown": [
       "0.201654893904863"
      ],
      "text/plain": [
       "[1] 0.2016549"
      ]
     },
     "metadata": {},
     "output_type": "display_data"
    }
   ],
   "source": [
    "cor(Galton_mother$Mother, Galton_mother$Height)\n",
    "\n"
   ]
  },
  {
   "cell_type": "markdown",
   "metadata": {},
   "source": [
    "The father's height has a better, but still weak relationship, with the child height, compared to the mother's height.\n",
    "\n"
   ]
  },
  {
   "cell_type": "code",
   "execution_count": 41,
   "metadata": {},
   "outputs": [
    {
     "data": {
      "text/plain": [
       "\n",
       "Call:\n",
       "lm(formula = Height ~ Father, data = Galton_father)\n",
       "\n",
       "Residuals:\n",
       "     Min       1Q   Median       3Q      Max \n",
       "-10.2683  -2.6689  -0.2092   2.6342  11.9329 \n",
       "\n",
       "Coefficients:\n",
       "            Estimate Std. Error t value Pr(>|t|)    \n",
       "(Intercept) 39.11039    3.22706  12.120   <2e-16 ***\n",
       "Father       0.39938    0.04658   8.574   <2e-16 ***\n",
       "---\n",
       "Signif. codes:  0 '***' 0.001 '**' 0.01 '*' 0.05 '.' 0.1 ' ' 1\n",
       "\n",
       "Residual standard error: 3.446 on 896 degrees of freedom\n",
       "Multiple R-squared:  0.07582,\tAdjusted R-squared:  0.07479 \n",
       "F-statistic: 73.51 on 1 and 896 DF,  p-value: < 2.2e-16\n"
      ]
     },
     "metadata": {},
     "output_type": "display_data"
    }
   ],
   "source": [
    "Galton_father_lm <- lm(eight~Father, data= Galton_father)\n",
    "\n",
    "summary(Galton_father_lm)\n"
   ]
  },
  {
   "cell_type": "markdown",
   "metadata": {},
   "source": [
    "As seen from the estimate, a one unit, in this case inch, increase on the father's height, increases the child height by an additional 0.39938\n",
    "\n",
    "The accuracy of the linear model however is still very low, and the father's height alone is not substantial enough to predict child heights.\n"
   ]
  },
  {
   "cell_type": "code",
   "execution_count": 39,
   "metadata": {
    "scrolled": true
   },
   "outputs": [
    {
     "data": {
      "text/plain": [
       "\n",
       "Call:\n",
       "lm(formula = Height ~ Mother, data = Galton_mother)\n",
       "\n",
       "Residuals:\n",
       "    Min      1Q  Median      3Q     Max \n",
       "-9.5474 -2.6346 -0.1079  2.8688 11.9526 \n",
       "\n",
       "Coefficients:\n",
       "            Estimate Std. Error t value Pr(>|t|)    \n",
       "(Intercept) 46.69077    3.25874  14.328  < 2e-16 ***\n",
       "Mother       0.31318    0.05082   6.163 1.08e-09 ***\n",
       "---\n",
       "Signif. codes:  0 '***' 0.001 '**' 0.01 '*' 0.05 '.' 0.1 ' ' 1\n",
       "\n",
       "Residual standard error: 3.511 on 896 degrees of freedom\n",
       "Multiple R-squared:  0.04066,\tAdjusted R-squared:  0.03959 \n",
       "F-statistic: 37.98 on 1 and 896 DF,  p-value: 1.079e-09\n"
      ]
     },
     "metadata": {},
     "output_type": "display_data"
    }
   ],
   "source": [
    "Galton_mother_lm <- lm(Height~Mother, data= Galton_mother)\n",
    "\n",
    "summary(Galton_mother_lm)\n"
   ]
  },
  {
   "cell_type": "markdown",
   "metadata": {},
   "source": [
    "From the estimate, the increase in height of the mother has less of an influence to the child's height than the father's. Here, a one inch increase in the mother's height shows an additional 0.31318 on the child's height\n",
    "\n",
    "The predictive model of the mother(at 0.04), is less accurate than the father's(at 0.075), although both models are sufficiently incapable of providing accurate predictive results\n",
    "\n",
    "\n",
    "\n",
    "Observing the parents' height in relation to each child gender..\n",
    "\n",
    "3. Father's vs Mother's height influence on the male child's height\n",
    "\n",
    "Looking at the father\n",
    "\n",
    "Filtering the dataset to only the male children, dropping the unneeded columns\n"
   ]
  },
  {
   "cell_type": "code",
   "execution_count": 42,
   "metadata": {},
   "outputs": [],
   "source": [
    "Galton_father_male <- Galton %>% \n",
    "                        filter(Gender==\"M\")\n",
    "\n",
    "Galton_father_male <- Galton_father_male[,-c(3,7)]\n",
    "  \n",
    "\n"
   ]
  },
  {
   "cell_type": "markdown",
   "metadata": {},
   "source": [
    "Visualization\n",
    "\n"
   ]
  },
  {
   "cell_type": "code",
   "execution_count": 43,
   "metadata": {},
   "outputs": [
    {
     "data": {
      "image/png": "[encoded data removed]",
      "text/plain": [
       "plot without title"
      ]
     },
     "metadata": {},
     "output_type": "display_data"
    }
   ],
   "source": [
    "ggplot(Galton_father_male, aes(x=Father, y=Height))+\n",
    "  geom_point()+\n",
    " labs(title = \"A SCATTERPLOT SHOWING THE HEIGHTS OF FATHERS,\\n AGAINST THE HEIGHTS OF ADULT MALE CHILDREN FROM THE SAME\\n FAMILIES\", subtitle = \"In the 1880s\", x=\"Father's Height \\n(Inches)\", y=\"Male Child Height\\n(Inches)\", caption = \"R INBUILT DATASET - MosaicData\")+\n",
    "  theme_bw()\n"
   ]
  },
  {
   "cell_type": "markdown",
   "metadata": {},
   "source": [
    "High variations in child height still exist, between father's of relatively similar heights\n",
    "\n",
    "Outlier analysis\n",
    "\n",
    "\n",
    "Observing the child with the highest height at 79..\n",
    "The height of the father was at 70 inches, showing a high variation between the father's height and the child's height\n",
    "\n",
    "A brief look at the child's mother's height - to find out if the high child height could be as a result of a high mother's height\n"
   ]
  },
  {
   "cell_type": "code",
   "execution_count": 44,
   "metadata": {},
   "outputs": [
    {
     "data": {
      "text/html": [
       "<table>\n",
       "<thead><tr><th scope=col>Family</th><th scope=col>Father</th><th scope=col>Mother</th><th scope=col>Gender</th><th scope=col>Height</th><th scope=col>Kids</th></tr></thead>\n",
       "<tbody>\n",
       "\t<tr><td>72</td><td>70</td><td>65</td><td>M </td><td>79</td><td>7 </td></tr>\n",
       "</tbody>\n",
       "</table>\n"
      ],
      "text/latex": [
       "\\begin{tabular}{r|llllll}\n",
       " Family & Father & Mother & Gender & Height & Kids\\\\\n",
       "\\hline\n",
       "\t 72 & 70 & 65 & M  & 79 & 7 \\\\\n",
       "\\end{tabular}\n"
      ],
      "text/markdown": [
       "\n",
       "| Family | Father | Mother | Gender | Height | Kids |\n",
       "|---|---|---|---|---|---|\n",
       "| 72 | 70 | 65 | M  | 79 | 7  |\n",
       "\n"
      ],
      "text/plain": [
       "  Family Father Mother Gender Height Kids\n",
       "1 72     70     65     M      79     7   "
      ]
     },
     "metadata": {},
     "output_type": "display_data"
    }
   ],
   "source": [
    "Galton %>% \n",
    "  filter(Height==79.0 & Father==70.0 & Gender==\"M\")\n"
   ]
  },
  {
   "cell_type": "markdown",
   "metadata": {},
   "source": [
    "The mother's height is 5 inches lower than the father's and 14 inches lower than the child height, showing an even greater variation\n",
    "\n",
    "Comparing the child height to the height of his other siblings\n"
   ]
  },
  {
   "cell_type": "code",
   "execution_count": 45,
   "metadata": {},
   "outputs": [
    {
     "data": {
      "text/html": [
       "<table>\n",
       "<thead><tr><th scope=col>Family</th><th scope=col>Father</th><th scope=col>Mother</th><th scope=col>Gender</th><th scope=col>Height</th><th scope=col>Kids</th></tr></thead>\n",
       "<tbody>\n",
       "\t<tr><td>72  </td><td>70  </td><td>65  </td><td>M   </td><td>79.0</td><td>7   </td></tr>\n",
       "\t<tr><td>72  </td><td>70  </td><td>65  </td><td>M   </td><td>75.0</td><td>7   </td></tr>\n",
       "\t<tr><td>72  </td><td>70  </td><td>65  </td><td>M   </td><td>71.0</td><td>7   </td></tr>\n",
       "\t<tr><td>72  </td><td>70  </td><td>65  </td><td>F   </td><td>69.0</td><td>7   </td></tr>\n",
       "\t<tr><td>72  </td><td>70  </td><td>65  </td><td>F   </td><td>67.0</td><td>7   </td></tr>\n",
       "\t<tr><td>72  </td><td>70  </td><td>65  </td><td>F   </td><td>65.7</td><td>7   </td></tr>\n",
       "\t<tr><td>72  </td><td>70  </td><td>65  </td><td>F   </td><td>62.0</td><td>7   </td></tr>\n",
       "</tbody>\n",
       "</table>\n"
      ],
      "text/latex": [
       "\\begin{tabular}{r|llllll}\n",
       " Family & Father & Mother & Gender & Height & Kids\\\\\n",
       "\\hline\n",
       "\t 72   & 70   & 65   & M    & 79.0 & 7   \\\\\n",
       "\t 72   & 70   & 65   & M    & 75.0 & 7   \\\\\n",
       "\t 72   & 70   & 65   & M    & 71.0 & 7   \\\\\n",
       "\t 72   & 70   & 65   & F    & 69.0 & 7   \\\\\n",
       "\t 72   & 70   & 65   & F    & 67.0 & 7   \\\\\n",
       "\t 72   & 70   & 65   & F    & 65.7 & 7   \\\\\n",
       "\t 72   & 70   & 65   & F    & 62.0 & 7   \\\\\n",
       "\\end{tabular}\n"
      ],
      "text/markdown": [
       "\n",
       "| Family | Father | Mother | Gender | Height | Kids |\n",
       "|---|---|---|---|---|---|\n",
       "| 72   | 70   | 65   | M    | 79.0 | 7    |\n",
       "| 72   | 70   | 65   | M    | 75.0 | 7    |\n",
       "| 72   | 70   | 65   | M    | 71.0 | 7    |\n",
       "| 72   | 70   | 65   | F    | 69.0 | 7    |\n",
       "| 72   | 70   | 65   | F    | 67.0 | 7    |\n",
       "| 72   | 70   | 65   | F    | 65.7 | 7    |\n",
       "| 72   | 70   | 65   | F    | 62.0 | 7    |\n",
       "\n"
      ],
      "text/plain": [
       "  Family Father Mother Gender Height Kids\n",
       "1 72     70     65     M      79.0   7   \n",
       "2 72     70     65     M      75.0   7   \n",
       "3 72     70     65     M      71.0   7   \n",
       "4 72     70     65     F      69.0   7   \n",
       "5 72     70     65     F      67.0   7   \n",
       "6 72     70     65     F      65.7   7   \n",
       "7 72     70     65     F      62.0   7   "
      ]
     },
     "metadata": {},
     "output_type": "display_data"
    }
   ],
   "source": [
    "Galton %>% \n",
    "  filter(Family==72)\n"
   ]
  },
  {
   "cell_type": "markdown",
   "metadata": {},
   "source": [
    "The heights of the children vary greatly, mostly due to the gender, but even amongst the male children there is still a range of 8 inches between the highest and lowest\n",
    "\n",
    "Here, the father and mother's height cannot explain the child height, and this shows that other factors other than parental genes are signifcant in determining the child height.\n",
    "\n",
    "It could still be genetic, but possibly from generations before the parents.\n",
    "\n",
    "\n",
    "Aside from the outliers, looking at the correlation between the father's height and the male child's height\n"
   ]
  },
  {
   "cell_type": "code",
   "execution_count": 46,
   "metadata": {},
   "outputs": [
    {
     "data": {
      "text/html": [
       "0.39131735814179"
      ],
      "text/latex": [
       "0.39131735814179"
      ],
      "text/markdown": [
       "0.39131735814179"
      ],
      "text/plain": [
       "[1] 0.3913174"
      ]
     },
     "metadata": {},
     "output_type": "display_data"
    }
   ],
   "source": [
    "cor(Galton_father_male$Father, Galton_father_male$Height)\n",
    "\n"
   ]
  },
  {
   "cell_type": "markdown",
   "metadata": {},
   "source": [
    "Positive, weak.\n",
    "But so far the strongest correlation to child height seen. A comparison will be made with the mother's relationship on the male child later\n"
   ]
  },
  {
   "cell_type": "code",
   "execution_count": 47,
   "metadata": {},
   "outputs": [
    {
     "data": {
      "text/plain": [
       "\n",
       "Call:\n",
       "lm(formula = Height ~ Father, data = Galton_father_male)\n",
       "\n",
       "Residuals:\n",
       "    Min      1Q  Median      3Q     Max \n",
       "-9.3774 -1.4968  0.0181  1.6375  9.3987 \n",
       "\n",
       "Coefficients:\n",
       "            Estimate Std. Error t value Pr(>|t|)    \n",
       "(Intercept) 38.25891    3.38663   11.30   <2e-16 ***\n",
       "Father       0.44775    0.04894    9.15   <2e-16 ***\n",
       "---\n",
       "Signif. codes:  0 '***' 0.001 '**' 0.01 '*' 0.05 '.' 0.1 ' ' 1\n",
       "\n",
       "Residual standard error: 2.424 on 463 degrees of freedom\n",
       "Multiple R-squared:  0.1531,\tAdjusted R-squared:  0.1513 \n",
       "F-statistic: 83.72 on 1 and 463 DF,  p-value: < 2.2e-16\n"
      ]
     },
     "metadata": {},
     "output_type": "display_data"
    }
   ],
   "source": [
    "Galton_father_male_lm <- lm(Height~Father, data= Galton_father_male)\n",
    "\n",
    "summary(Galton_father_male_lm)\n"
   ]
  },
  {
   "cell_type": "markdown",
   "metadata": {},
   "source": [
    "A rapid male child increase in height is observed too from the coefficients estimate, with an increase in father's height. A one inch increase on the father's height relatively accounts for a 0.44775 increase in the male child's height\n",
    "\n",
    "\n",
    "Looking at the mother\n",
    "\n",
    "Filtering the dataset, dropping unneeded columns..\n"
   ]
  },
  {
   "cell_type": "code",
   "execution_count": 49,
   "metadata": {},
   "outputs": [],
   "source": [
    "Galton_mother_male <- Galton[,-c(2,7)]\n",
    "\n",
    "Galton_mother_male <- Galton_mother_male %>% \n",
    "  filter(Gender==\"M\")\n",
    "\n"
   ]
  },
  {
   "cell_type": "markdown",
   "metadata": {},
   "source": [
    "Visualization\n",
    "\n"
   ]
  },
  {
   "cell_type": "code",
   "execution_count": 50,
   "metadata": {},
   "outputs": [
    {
     "data": {
      "image/png": "[encoded data removed]",
      "text/plain": [
       "plot without title"
      ]
     },
     "metadata": {},
     "output_type": "display_data"
    }
   ],
   "source": [
    "ggplot(Galton_mother_male, aes(x=Mother, y=Height))+\n",
    "           geom_point()+\n",
    "           labs(title = \"A SCATTERPLOT SHOWING THE HEIGHTS OF MOTHERS,\\nAGAINST THE HEIGHTS OF ADULT MALE CHILDREN FROM THE SAME \\n FAMILIES \", subtitle = \"In the 1880s\", x=\"Mother's Height \\n(Inches)\", y=\"Male Child Height\\n(Inches)\", caption = \"R INBUILT DATASET - MosaicData\")+\n",
    "           theme_bw()\n"
   ]
  },
  {
   "cell_type": "markdown",
   "metadata": {},
   "source": [
    "Outlier Analysis\n",
    "\n",
    "Looking at the plot, an outlier is observed at the lowest male child height, despite having an average height mother\n",
    "\n",
    "Looking at the child's father's height\n"
   ]
  },
  {
   "cell_type": "code",
   "execution_count": 51,
   "metadata": {},
   "outputs": [
    {
     "data": {
      "text/html": [
       "<table>\n",
       "<thead><tr><th scope=col>Family</th><th scope=col>Father</th><th scope=col>Mother</th><th scope=col>Gender</th><th scope=col>Height</th><th scope=col>Kids</th></tr></thead>\n",
       "<tbody>\n",
       "\t<tr><td>109 </td><td>69.5</td><td>64.5</td><td>M   </td><td>60  </td><td>7   </td></tr>\n",
       "</tbody>\n",
       "</table>\n"
      ],
      "text/latex": [
       "\\begin{tabular}{r|llllll}\n",
       " Family & Father & Mother & Gender & Height & Kids\\\\\n",
       "\\hline\n",
       "\t 109  & 69.5 & 64.5 & M    & 60   & 7   \\\\\n",
       "\\end{tabular}\n"
      ],
      "text/markdown": [
       "\n",
       "| Family | Father | Mother | Gender | Height | Kids |\n",
       "|---|---|---|---|---|---|\n",
       "| 109  | 69.5 | 64.5 | M    | 60   | 7    |\n",
       "\n"
      ],
      "text/plain": [
       "  Family Father Mother Gender Height Kids\n",
       "1 109    69.5   64.5   M      60     7   "
      ]
     },
     "metadata": {},
     "output_type": "display_data"
    }
   ],
   "source": [
    "Galton %>% \n",
    "  filter(Height==60.0 & Mother==64.5 & Gender==\"M\")\n"
   ]
  },
  {
   "cell_type": "markdown",
   "metadata": {},
   "source": [
    "The father's height is at 69.5, relatively tall. A 9.5 inches difference from the male child's height. The parents' heights both cannot establish a relationship with the child height in this case.\n",
    "Other factors have to be considered\n",
    "\n",
    "Looking at the child's siblings, if any\n"
   ]
  },
  {
   "cell_type": "code",
   "execution_count": 52,
   "metadata": {},
   "outputs": [
    {
     "data": {
      "text/html": [
       "<table>\n",
       "<thead><tr><th scope=col>Family</th><th scope=col>Father</th><th scope=col>Mother</th><th scope=col>Gender</th><th scope=col>Height</th><th scope=col>Kids</th></tr></thead>\n",
       "<tbody>\n",
       "\t<tr><td>109 </td><td>69.5</td><td>64.5</td><td>M   </td><td>69.7</td><td>7   </td></tr>\n",
       "\t<tr><td>109 </td><td>69.5</td><td>64.5</td><td>M   </td><td>68.0</td><td>7   </td></tr>\n",
       "\t<tr><td>109 </td><td>69.5</td><td>64.5</td><td>M   </td><td>60.0</td><td>7   </td></tr>\n",
       "\t<tr><td>109 </td><td>69.5</td><td>64.5</td><td>F   </td><td>65.2</td><td>7   </td></tr>\n",
       "\t<tr><td>109 </td><td>69.5</td><td>64.5</td><td>F   </td><td>64.5</td><td>7   </td></tr>\n",
       "\t<tr><td>109 </td><td>69.5</td><td>64.5</td><td>F   </td><td>63.7</td><td>7   </td></tr>\n",
       "\t<tr><td>109 </td><td>69.5</td><td>64.5</td><td>F   </td><td>60.0</td><td>7   </td></tr>\n",
       "</tbody>\n",
       "</table>\n"
      ],
      "text/latex": [
       "\\begin{tabular}{r|llllll}\n",
       " Family & Father & Mother & Gender & Height & Kids\\\\\n",
       "\\hline\n",
       "\t 109  & 69.5 & 64.5 & M    & 69.7 & 7   \\\\\n",
       "\t 109  & 69.5 & 64.5 & M    & 68.0 & 7   \\\\\n",
       "\t 109  & 69.5 & 64.5 & M    & 60.0 & 7   \\\\\n",
       "\t 109  & 69.5 & 64.5 & F    & 65.2 & 7   \\\\\n",
       "\t 109  & 69.5 & 64.5 & F    & 64.5 & 7   \\\\\n",
       "\t 109  & 69.5 & 64.5 & F    & 63.7 & 7   \\\\\n",
       "\t 109  & 69.5 & 64.5 & F    & 60.0 & 7   \\\\\n",
       "\\end{tabular}\n"
      ],
      "text/markdown": [
       "\n",
       "| Family | Father | Mother | Gender | Height | Kids |\n",
       "|---|---|---|---|---|---|\n",
       "| 109  | 69.5 | 64.5 | M    | 69.7 | 7    |\n",
       "| 109  | 69.5 | 64.5 | M    | 68.0 | 7    |\n",
       "| 109  | 69.5 | 64.5 | M    | 60.0 | 7    |\n",
       "| 109  | 69.5 | 64.5 | F    | 65.2 | 7    |\n",
       "| 109  | 69.5 | 64.5 | F    | 64.5 | 7    |\n",
       "| 109  | 69.5 | 64.5 | F    | 63.7 | 7    |\n",
       "| 109  | 69.5 | 64.5 | F    | 60.0 | 7    |\n",
       "\n"
      ],
      "text/plain": [
       "  Family Father Mother Gender Height Kids\n",
       "1 109    69.5   64.5   M      69.7   7   \n",
       "2 109    69.5   64.5   M      68.0   7   \n",
       "3 109    69.5   64.5   M      60.0   7   \n",
       "4 109    69.5   64.5   F      65.2   7   \n",
       "5 109    69.5   64.5   F      64.5   7   \n",
       "6 109    69.5   64.5   F      63.7   7   \n",
       "7 109    69.5   64.5   F      60.0   7   "
      ]
     },
     "metadata": {},
     "output_type": "display_data"
    }
   ],
   "source": [
    "Galton %>% \n",
    "  filter(Family==109)\n"
   ]
  },
  {
   "cell_type": "markdown",
   "metadata": {},
   "source": [
    "Compared to his male counterparts, the child's height is significantly lower and even lower than two of his female siblings.\n",
    "\n",
    "Another factor had to be in play here other than genes, - illness, injury etc\n",
    "\n",
    "\n",
    "Now observing the mother's correlation on the male child's height, and comparing it to the father's as seen before\n"
   ]
  },
  {
   "cell_type": "code",
   "execution_count": 53,
   "metadata": {},
   "outputs": [
    {
     "data": {
      "text/html": [
       "0.334130902552861"
      ],
      "text/latex": [
       "0.334130902552861"
      ],
      "text/markdown": [
       "0.334130902552861"
      ],
      "text/plain": [
       "[1] 0.3341309"
      ]
     },
     "metadata": {},
     "output_type": "display_data"
    }
   ],
   "source": [
    "cor(Galton_mother_male$Mother, Galton_mother_male$Height)\n",
    "\n"
   ]
  },
  {
   "cell_type": "markdown",
   "metadata": {},
   "source": [
    "Positive, weak.\n",
    "\n",
    "The correlation between the mother's height and the male child's is lower than that of the father's (0.391).\n",
    "The trends are similar, however, the male child heights can be explained better by the father's height than the mother's, just as in the case of both male and female child heights as seen before\n"
   ]
  },
  {
   "cell_type": "code",
   "execution_count": 54,
   "metadata": {},
   "outputs": [
    {
     "data": {
      "text/plain": [
       "\n",
       "Call:\n",
       "lm(formula = Height ~ Mother, data = Galton_mother_male)\n",
       "\n",
       "Residuals:\n",
       "    Min      1Q  Median      3Q     Max \n",
       "-9.4152 -1.6686  0.2081  1.7081  9.3964 \n",
       "\n",
       "Coefficients:\n",
       "            Estimate Std. Error t value Pr(>|t|)    \n",
       "(Intercept) 45.11877    3.16281  14.265  < 2e-16 ***\n",
       "Mother       0.37669    0.04938   7.628 1.37e-13 ***\n",
       "---\n",
       "Signif. codes:  0 '***' 0.001 '**' 0.01 '*' 0.05 '.' 0.1 ' ' 1\n",
       "\n",
       "Residual standard error: 2.483 on 463 degrees of freedom\n",
       "Multiple R-squared:  0.1116,\tAdjusted R-squared:  0.1097 \n",
       "F-statistic: 58.19 on 1 and 463 DF,  p-value: 1.367e-13\n"
      ]
     },
     "metadata": {},
     "output_type": "display_data"
    }
   ],
   "source": [
    "Galton_mother_male_lm <- lm(Height~Mother, data= Galton_mother_male)\n",
    "\n",
    "summary(Galton_mother_male_lm)\n"
   ]
  },
  {
   "cell_type": "markdown",
   "metadata": {},
   "source": [
    "The impact of the mother's height on the male child is also lower than that of the father's\n",
    "\n",
    "A one inch increase in the mother's height adds 0.37669 inches to the male child, compared to the 0.4475 inches in the case of the father\n",
    "\n",
    "This shows that the more dominant parental genes in a child, with regards to height are the father's\n",
    "\n",
    "\n",
    "4. Father's vs Mother's Height on the Female child Height\n",
    "\n",
    "Looking at the father\n",
    "\n",
    "Filtering the dataset, dropping the unneeded columns\n"
   ]
  },
  {
   "cell_type": "code",
   "execution_count": 55,
   "metadata": {},
   "outputs": [],
   "source": [
    "Galton_father_female <- Galton[,-c(3,7)]\n",
    "\n",
    "Galton_father_female <- Galton_father_female %>% \n",
    "  filter(Gender==\"F\")\n",
    "\n"
   ]
  },
  {
   "cell_type": "markdown",
   "metadata": {},
   "source": [
    "Visualization\n",
    "\n"
   ]
  },
  {
   "cell_type": "code",
   "execution_count": 56,
   "metadata": {},
   "outputs": [
    {
     "data": {
      "image/png": "[encoded data removed]",
      "text/plain": [
       "plot without title"
      ]
     },
     "metadata": {},
     "output_type": "display_data"
    }
   ],
   "source": [
    "ggplot(Galton_father_female, aes(x=Father, y=Height))+\n",
    "  geom_point()+\n",
    "   labs(title = \"A SCATTERPLOT SHOWING THE HEIGHTS OF FATHERS,\\nAGAINST THE HEIGHTS OF ADULT FEMALE CHILDREN FROM THE SAME \\n FAMILIES\", subtitle = \"In the 1880s\", x=\"Father's Height \\n(Inches)\", y=\"Female Child Height\\n(Inches)\", caption = \"R INBUILT DATASET - MosaicData\")+\n",
    "  theme_bw()\n"
   ]
  },
  {
   "cell_type": "markdown",
   "metadata": {},
   "source": [
    "Outlier Analysis\n",
    "\n",
    "Observing the female child with the lowest height\n",
    "\n",
    "Her mother's height:\n"
   ]
  },
  {
   "cell_type": "code",
   "execution_count": 57,
   "metadata": {},
   "outputs": [
    {
     "data": {
      "text/html": [
       "<table>\n",
       "<thead><tr><th scope=col>Family</th><th scope=col>Father</th><th scope=col>Mother</th><th scope=col>Gender</th><th scope=col>Height</th><th scope=col>Kids</th></tr></thead>\n",
       "<tbody>\n",
       "\t<tr><td>155</td><td>68 </td><td>60 </td><td>F  </td><td>56 </td><td>7  </td></tr>\n",
       "</tbody>\n",
       "</table>\n"
      ],
      "text/latex": [
       "\\begin{tabular}{r|llllll}\n",
       " Family & Father & Mother & Gender & Height & Kids\\\\\n",
       "\\hline\n",
       "\t 155 & 68  & 60  & F   & 56  & 7  \\\\\n",
       "\\end{tabular}\n"
      ],
      "text/markdown": [
       "\n",
       "| Family | Father | Mother | Gender | Height | Kids |\n",
       "|---|---|---|---|---|---|\n",
       "| 155 | 68  | 60  | F   | 56  | 7   |\n",
       "\n"
      ],
      "text/plain": [
       "  Family Father Mother Gender Height Kids\n",
       "1 155    68     60     F      56     7   "
      ]
     },
     "metadata": {},
     "output_type": "display_data"
    }
   ],
   "source": [
    "Galton %>% \n",
    "  filter(Height==56.0 & Father==68.0)\n"
   ]
  },
  {
   "cell_type": "markdown",
   "metadata": {},
   "source": [
    "The height of the child's mother is 4 inches taller. This child's height hence is not influenced by the parents' height\n",
    "\n",
    "Comparison with siblings, if any: \n"
   ]
  },
  {
   "cell_type": "code",
   "execution_count": 58,
   "metadata": {},
   "outputs": [
    {
     "data": {
      "text/html": [
       "<table>\n",
       "<thead><tr><th scope=col>Family</th><th scope=col>Father</th><th scope=col>Mother</th><th scope=col>Gender</th><th scope=col>Height</th><th scope=col>Kids</th></tr></thead>\n",
       "<tbody>\n",
       "\t<tr><td>155</td><td>68 </td><td>60 </td><td>M  </td><td>64 </td><td>7  </td></tr>\n",
       "\t<tr><td>155</td><td>68 </td><td>60 </td><td>F  </td><td>61 </td><td>7  </td></tr>\n",
       "\t<tr><td>155</td><td>68 </td><td>60 </td><td>F  </td><td>61 </td><td>7  </td></tr>\n",
       "\t<tr><td>155</td><td>68 </td><td>60 </td><td>F  </td><td>60 </td><td>7  </td></tr>\n",
       "\t<tr><td>155</td><td>68 </td><td>60 </td><td>F  </td><td>60 </td><td>7  </td></tr>\n",
       "\t<tr><td>155</td><td>68 </td><td>60 </td><td>F  </td><td>60 </td><td>7  </td></tr>\n",
       "\t<tr><td>155</td><td>68 </td><td>60 </td><td>F  </td><td>56 </td><td>7  </td></tr>\n",
       "</tbody>\n",
       "</table>\n"
      ],
      "text/latex": [
       "\\begin{tabular}{r|llllll}\n",
       " Family & Father & Mother & Gender & Height & Kids\\\\\n",
       "\\hline\n",
       "\t 155 & 68  & 60  & M   & 64  & 7  \\\\\n",
       "\t 155 & 68  & 60  & F   & 61  & 7  \\\\\n",
       "\t 155 & 68  & 60  & F   & 61  & 7  \\\\\n",
       "\t 155 & 68  & 60  & F   & 60  & 7  \\\\\n",
       "\t 155 & 68  & 60  & F   & 60  & 7  \\\\\n",
       "\t 155 & 68  & 60  & F   & 60  & 7  \\\\\n",
       "\t 155 & 68  & 60  & F   & 56  & 7  \\\\\n",
       "\\end{tabular}\n"
      ],
      "text/markdown": [
       "\n",
       "| Family | Father | Mother | Gender | Height | Kids |\n",
       "|---|---|---|---|---|---|\n",
       "| 155 | 68  | 60  | M   | 64  | 7   |\n",
       "| 155 | 68  | 60  | F   | 61  | 7   |\n",
       "| 155 | 68  | 60  | F   | 61  | 7   |\n",
       "| 155 | 68  | 60  | F   | 60  | 7   |\n",
       "| 155 | 68  | 60  | F   | 60  | 7   |\n",
       "| 155 | 68  | 60  | F   | 60  | 7   |\n",
       "| 155 | 68  | 60  | F   | 56  | 7   |\n",
       "\n"
      ],
      "text/plain": [
       "  Family Father Mother Gender Height Kids\n",
       "1 155    68     60     M      64     7   \n",
       "2 155    68     60     F      61     7   \n",
       "3 155    68     60     F      61     7   \n",
       "4 155    68     60     F      60     7   \n",
       "5 155    68     60     F      60     7   \n",
       "6 155    68     60     F      60     7   \n",
       "7 155    68     60     F      56     7   "
      ]
     },
     "metadata": {},
     "output_type": "display_data"
    }
   ],
   "source": [
    "Galton %>% \n",
    "  filter(Family==155)\n"
   ]
  },
  {
   "cell_type": "markdown",
   "metadata": {},
   "source": [
    "As for this child's 5 female siblings, the trend of their heights is fairly similar, and strongly related to the heights of their parents\n",
    "The child observed is thus a special case where other variants come into play to determine the height of the child\n",
    "\n",
    "Further comparison can be made on the child's height at the same height level of the father, to the corresponding child with the highest height\n"
   ]
  },
  {
   "cell_type": "code",
   "execution_count": 59,
   "metadata": {},
   "outputs": [
    {
     "data": {
      "text/html": [
       "<table>\n",
       "<thead><tr><th scope=col>Family</th><th scope=col>Father</th><th scope=col>Mother</th><th scope=col>Gender</th><th scope=col>Height</th><th scope=col>Kids</th></tr></thead>\n",
       "<tbody>\n",
       "\t<tr><td>134</td><td>68 </td><td>65 </td><td>F  </td><td>68 </td><td>4  </td></tr>\n",
       "</tbody>\n",
       "</table>\n"
      ],
      "text/latex": [
       "\\begin{tabular}{r|llllll}\n",
       " Family & Father & Mother & Gender & Height & Kids\\\\\n",
       "\\hline\n",
       "\t 134 & 68  & 65  & F   & 68  & 4  \\\\\n",
       "\\end{tabular}\n"
      ],
      "text/markdown": [
       "\n",
       "| Family | Father | Mother | Gender | Height | Kids |\n",
       "|---|---|---|---|---|---|\n",
       "| 134 | 68  | 65  | F   | 68  | 4   |\n",
       "\n"
      ],
      "text/plain": [
       "  Family Father Mother Gender Height Kids\n",
       "1 134    68     65     F      68     4   "
      ]
     },
     "metadata": {},
     "output_type": "display_data"
    }
   ],
   "source": [
    "Galton %>% \n",
    "  filter(Height==68.0 & Father==68.0 & Gender==\"F\")\n"
   ]
  },
  {
   "cell_type": "markdown",
   "metadata": {},
   "source": [
    "A rare case too on this, where the child height is equal to the father's height(at 68 inches), despite being of female sex and having a shorter mother(at 65 inches)\n",
    "\n"
   ]
  },
  {
   "cell_type": "code",
   "execution_count": 60,
   "metadata": {},
   "outputs": [
    {
     "data": {
      "text/html": [
       "<table>\n",
       "<thead><tr><th scope=col>Family</th><th scope=col>Father</th><th scope=col>Mother</th><th scope=col>Gender</th><th scope=col>Height</th><th scope=col>Kids</th></tr></thead>\n",
       "<tbody>\n",
       "\t<tr><td>134</td><td>68 </td><td>65 </td><td>M  </td><td>72 </td><td>4  </td></tr>\n",
       "\t<tr><td>134</td><td>68 </td><td>65 </td><td>M  </td><td>72 </td><td>4  </td></tr>\n",
       "\t<tr><td>134</td><td>68 </td><td>65 </td><td>F  </td><td>68 </td><td>4  </td></tr>\n",
       "\t<tr><td>134</td><td>68 </td><td>65 </td><td>F  </td><td>66 </td><td>4  </td></tr>\n",
       "</tbody>\n",
       "</table>\n"
      ],
      "text/latex": [
       "\\begin{tabular}{r|llllll}\n",
       " Family & Father & Mother & Gender & Height & Kids\\\\\n",
       "\\hline\n",
       "\t 134 & 68  & 65  & M   & 72  & 4  \\\\\n",
       "\t 134 & 68  & 65  & M   & 72  & 4  \\\\\n",
       "\t 134 & 68  & 65  & F   & 68  & 4  \\\\\n",
       "\t 134 & 68  & 65  & F   & 66  & 4  \\\\\n",
       "\\end{tabular}\n"
      ],
      "text/markdown": [
       "\n",
       "| Family | Father | Mother | Gender | Height | Kids |\n",
       "|---|---|---|---|---|---|\n",
       "| 134 | 68  | 65  | M   | 72  | 4   |\n",
       "| 134 | 68  | 65  | M   | 72  | 4   |\n",
       "| 134 | 68  | 65  | F   | 68  | 4   |\n",
       "| 134 | 68  | 65  | F   | 66  | 4   |\n",
       "\n"
      ],
      "text/plain": [
       "  Family Father Mother Gender Height Kids\n",
       "1 134    68     65     M      72     4   \n",
       "2 134    68     65     M      72     4   \n",
       "3 134    68     65     F      68     4   \n",
       "4 134    68     65     F      66     4   "
      ]
     },
     "metadata": {},
     "output_type": "display_data"
    }
   ],
   "source": [
    "Galton %>% \n",
    "  filter(Family==134 & Father==68.0)\n"
   ]
  },
  {
   "cell_type": "markdown",
   "metadata": {},
   "source": [
    "Observing the correlation between the father's height and the female child's height, and later comparing it to the mother's on the same child gender\n",
    "\n"
   ]
  },
  {
   "cell_type": "code",
   "execution_count": 62,
   "metadata": {},
   "outputs": [
    {
     "data": {
      "text/html": [
       "0.458760528317889"
      ],
      "text/latex": [
       "0.458760528317889"
      ],
      "text/markdown": [
       "0.458760528317889"
      ],
      "text/plain": [
       "[1] 0.4587605"
      ]
     },
     "metadata": {},
     "output_type": "display_data"
    }
   ],
   "source": [
    "cor(Galton_father_female$Father, Galton_father_female$Height)\n",
    "\n"
   ]
  },
  {
   "cell_type": "markdown",
   "metadata": {},
   "source": [
    "A weak to medium, positive correlation - the highest observed\n",
    "\n",
    "The father's height in this case seems to have a stronger relationship with the female child's height(at a co-effiecient of 0.4587605), compared to the relationship with the male child, observed previously, (at 0.3913174)\n"
   ]
  },
  {
   "cell_type": "code",
   "execution_count": 63,
   "metadata": {},
   "outputs": [
    {
     "data": {
      "text/plain": [
       "\n",
       "Call:\n",
       "lm(formula = Height ~ Father, data = Galton_father_female)\n",
       "\n",
       "Residuals:\n",
       "    Min      1Q  Median      3Q     Max \n",
       "-7.5741 -1.4857 -0.0437  1.5143  5.2795 \n",
       "\n",
       "Coefficients:\n",
       "            Estimate Std. Error t value Pr(>|t|)    \n",
       "(Intercept)  35.5852     2.6632   13.36   <2e-16 ***\n",
       "Father        0.4116     0.0384   10.72   <2e-16 ***\n",
       "---\n",
       "Signif. codes:  0 '***' 0.001 '**' 0.01 '*' 0.05 '.' 0.1 ' ' 1\n",
       "\n",
       "Residual standard error: 2.109 on 431 degrees of freedom\n",
       "Multiple R-squared:  0.2105,\tAdjusted R-squared:  0.2086 \n",
       "F-statistic: 114.9 on 1 and 431 DF,  p-value: < 2.2e-16\n"
      ]
     },
     "metadata": {},
     "output_type": "display_data"
    }
   ],
   "source": [
    "Galton_father_female_lm <- lm(Height~Father, data= Galton_father_female)\n",
    "\n",
    "summary(Galton_father_female_lm)\n"
   ]
  },
  {
   "cell_type": "markdown",
   "metadata": {},
   "source": [
    "The R squared value at 0.21 is the highest observed, however still low to generate accuracy in predictions of female child heights.\n",
    "\n",
    "The father's height hence plays a bigger role hence in determining the height of the female child than of the male\n",
    "\n",
    "\n",
    "Looking at the mother\n",
    "\n",
    "Filtering, dropping unneeded columns..\n"
   ]
  },
  {
   "cell_type": "code",
   "execution_count": 64,
   "metadata": {},
   "outputs": [],
   "source": [
    "Galton_mother_female <- Galton %>% \n",
    "  filter(Gender==\"F\")\n",
    "\n",
    "Galton_mother_female <- Galton_mother_female[,-c(2,7)]\n",
    "\n"
   ]
  },
  {
   "cell_type": "markdown",
   "metadata": {},
   "source": [
    "Visualization\n",
    "\n"
   ]
  },
  {
   "cell_type": "code",
   "execution_count": 65,
   "metadata": {},
   "outputs": [
    {
     "data": {
      "image/png": "[encoded data removed]",
      "text/plain": [
       "plot without title"
      ]
     },
     "metadata": {},
     "output_type": "display_data"
    }
   ],
   "source": [
    "ggplot(Galton_mother_female, aes(x=Mother, y=Height))+\n",
    "           geom_point()+\n",
    "  labs(title = \"A SCATTERPLOT SHOWING THE HEIGHTS OF FATHERS,\\nAGAINST THE HEIGHTS OF ADULT FEMALE CHILDREN FROM THE SAME\\nFAMILIES\", subtitle = \"In the 1880s\", x=\"Father's Height \\n(Inches)\", y=\"Female Child Height\\n(Inches)\", caption = \"R INBUILT DATASET - MosaicData\")+\n",
    "           theme_bw()\n"
   ]
  },
  {
   "cell_type": "markdown",
   "metadata": {},
   "source": [
    "Outlier Analysis\n",
    "\n",
    "Observing the mother with the highest height..\n"
   ]
  },
  {
   "cell_type": "code",
   "execution_count": 66,
   "metadata": {},
   "outputs": [
    {
     "data": {
      "text/html": [
       "<table>\n",
       "<thead><tr><th scope=col>Family</th><th scope=col>Father</th><th scope=col>Mother</th><th scope=col>Gender</th><th scope=col>Height</th><th scope=col>Kids</th></tr></thead>\n",
       "<tbody>\n",
       "\t<tr><td>128 </td><td>68.7</td><td>70.5</td><td>F   </td><td>61.7</td><td>2   </td></tr>\n",
       "</tbody>\n",
       "</table>\n"
      ],
      "text/latex": [
       "\\begin{tabular}{r|llllll}\n",
       " Family & Father & Mother & Gender & Height & Kids\\\\\n",
       "\\hline\n",
       "\t 128  & 68.7 & 70.5 & F    & 61.7 & 2   \\\\\n",
       "\\end{tabular}\n"
      ],
      "text/markdown": [
       "\n",
       "| Family | Father | Mother | Gender | Height | Kids |\n",
       "|---|---|---|---|---|---|\n",
       "| 128  | 68.7 | 70.5 | F    | 61.7 | 2    |\n",
       "\n"
      ],
      "text/plain": [
       "  Family Father Mother Gender Height Kids\n",
       "1 128    68.7   70.5   F      61.7   2   "
      ]
     },
     "metadata": {},
     "output_type": "display_data"
    }
   ],
   "source": [
    "Galton %>% \n",
    "  filter(Mother==70.5, Height==61.7)\n"
   ]
  },
  {
   "cell_type": "markdown",
   "metadata": {},
   "source": [
    "Comaparison with siblings:\n",
    "\n"
   ]
  },
  {
   "cell_type": "code",
   "execution_count": 67,
   "metadata": {},
   "outputs": [
    {
     "data": {
      "text/html": [
       "<table>\n",
       "<thead><tr><th scope=col>Family</th><th scope=col>Father</th><th scope=col>Mother</th><th scope=col>Gender</th><th scope=col>Height</th><th scope=col>Kids</th></tr></thead>\n",
       "<tbody>\n",
       "\t<tr><td>128 </td><td>68.7</td><td>70.5</td><td>M   </td><td>71.0</td><td>2   </td></tr>\n",
       "\t<tr><td>128 </td><td>68.7</td><td>70.5</td><td>F   </td><td>61.7</td><td>2   </td></tr>\n",
       "</tbody>\n",
       "</table>\n"
      ],
      "text/latex": [
       "\\begin{tabular}{r|llllll}\n",
       " Family & Father & Mother & Gender & Height & Kids\\\\\n",
       "\\hline\n",
       "\t 128  & 68.7 & 70.5 & M    & 71.0 & 2   \\\\\n",
       "\t 128  & 68.7 & 70.5 & F    & 61.7 & 2   \\\\\n",
       "\\end{tabular}\n"
      ],
      "text/markdown": [
       "\n",
       "| Family | Father | Mother | Gender | Height | Kids |\n",
       "|---|---|---|---|---|---|\n",
       "| 128  | 68.7 | 70.5 | M    | 71.0 | 2    |\n",
       "| 128  | 68.7 | 70.5 | F    | 61.7 | 2    |\n",
       "\n"
      ],
      "text/plain": [
       "  Family Father Mother Gender Height Kids\n",
       "1 128    68.7   70.5   M      71.0   2   \n",
       "2 128    68.7   70.5   F      61.7   2   "
      ]
     },
     "metadata": {},
     "output_type": "display_data"
    }
   ],
   "source": [
    "Galton %>% \n",
    "  filter(Family==128)\n"
   ]
  },
  {
   "cell_type": "markdown",
   "metadata": {},
   "source": [
    "The child's height is 8 inches shorter than the average parents height, and 11 whole inches shorter than her male sibling, a range that cannot only be attributed to gender alone\n",
    "\n",
    "Again, outlier analysis shows that other variants are necessary in determining the child's height, hence regression models that only factor in the parents' heights cannot fully establish accurate predictive results on child heights\n",
    "\n",
    "Observing the correlation of the mother's height and the female child's height, and equating it to the (as-seen high) correlation of the father's on the same child gender\n"
   ]
  },
  {
   "cell_type": "code",
   "execution_count": 68,
   "metadata": {},
   "outputs": [
    {
     "data": {
      "text/html": [
       "0.313698353531347"
      ],
      "text/latex": [
       "0.313698353531347"
      ],
      "text/markdown": [
       "0.313698353531347"
      ],
      "text/plain": [
       "[1] 0.3136984"
      ]
     },
     "metadata": {},
     "output_type": "display_data"
    }
   ],
   "source": [
    "cor(Galton_mother_female$Mother, Galton_mother_female$Height)\n",
    "\n"
   ]
  },
  {
   "cell_type": "markdown",
   "metadata": {},
   "source": [
    "The correlation is much lower than the father's on the female child height(at 0.4587605)\n",
    "It is also lower that the mother's correlation on the male child\n",
    "\n",
    "A model thus, would be less ineffective than that of the father and the female child height alone\n"
   ]
  },
  {
   "cell_type": "code",
   "execution_count": 69,
   "metadata": {},
   "outputs": [
    {
     "data": {
      "text/plain": [
       "\n",
       "Call:\n",
       "lm(formula = Height ~ Mother, data = Galton_mother_female)\n",
       "\n",
       "Residuals:\n",
       "    Min      1Q  Median      3Q     Max \n",
       "-6.8814 -1.5446  0.0983  1.4452  6.7717 \n",
       "\n",
       "Coefficients:\n",
       "            Estimate Std. Error t value Pr(>|t|)    \n",
       "(Intercept) 43.15546    3.05709  14.117  < 2e-16 ***\n",
       "Mother       0.32655    0.04761   6.859 2.42e-11 ***\n",
       "---\n",
       "Signif. codes:  0 '***' 0.001 '**' 0.01 '*' 0.05 '.' 0.1 ' ' 1\n",
       "\n",
       "Residual standard error: 2.253 on 431 degrees of freedom\n",
       "Multiple R-squared:  0.09841,\tAdjusted R-squared:  0.09631 \n",
       "F-statistic: 47.04 on 1 and 431 DF,  p-value: 2.421e-11\n"
      ]
     },
     "metadata": {},
     "output_type": "display_data"
    }
   ],
   "source": [
    "Galton_mother_female_lm <- lm(Height~Mother, data= Galton_mother_female)\n",
    "\n",
    "summary(Galton_mother_female_lm)\n"
   ]
  },
  {
   "cell_type": "markdown",
   "metadata": {},
   "source": [
    "As per the co-efficient estimates, the father's at (0.41) compared to the mother's at (0.32) shows that an increase in the father's height has a larger increase in the female child height than that of the mother\n",
    "\n",
    "\n",
    "SUMMARY\n",
    "\n",
    "The analysis shows that:\n",
    "\n",
    "1) The father's genetics are more dominant in determining both the male child heights and the female child heights,\n",
    "\n",
    "\n",
    "2) The father's height thus becomes a better indicator of the child heights than the mother's height, however both are still significant child-height determiners on their own,\n",
    "\n",
    "\n",
    "3) The father's height has a better relationship with the female child heights than the males. Male children heights have high volatility, which could be a probable cause of this\n",
    "\n",
    "\n",
    "4) The whole analysis showed great variations among child heights, and some outlier analysis confirmed that the parent heights alone is not enough to fully/ accurately determine the child heights. Other external factors come into play,\n",
    "and so accurate linear regression models cannot be fit without significant research on other variants on the subject matter at hand.\n"
   ]
  }
 ],
 "metadata": {
  "anaconda-cloud": "",
  "kernelspec": {
   "display_name": "R",
   "language": "R",
   "name": "ir"
  },
  "language_info": {
   "codemirror_mode": "r",
   "file_extension": ".r",
   "mimetype": "text/x-r-source",
   "name": "R",
   "pygments_lexer": "r",
   "version": "3.6.1"
  }
 },
 "nbformat": 4,
 "nbformat_minor": 1
}
